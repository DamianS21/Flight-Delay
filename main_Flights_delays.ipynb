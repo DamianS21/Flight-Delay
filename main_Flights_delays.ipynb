{
 "cells": [
  {
   "cell_type": "markdown",
   "metadata": {},
   "source": [
    "<a id='head_selection_1'></a>\n",
    "# Predicting flight delation\n",
    "## Description\n",
    "This project is made to analyse, understand and make model of Flight Delays Data from 2015. This data set is part of kaggle datasets: https://www.kaggle.com/usdot/flight-delays\n",
    "## Project assumptions:\n",
    "1. Feature engeneering and data manipluation will be done in seperate notebook: [Flights_data_transformation notebook](Flight_data_transformation.ipynb#head_selection_3)\n",
    "2. Data visualization will be done in seprate notebook: [Flights_data_visualization notebook](Flights_data_visualization.ipynb#head_selection_2)\n",
    "3. Model will only have variables that are avaiable before plane airborn\n",
    "4. Flight is delayed when delation is at least 15 minutes at arrival\n",
    "5. Model will be predicted as classification problem, where 0 - not delayed, 1 - delayed\n",
    "6. Cancelled and diverted flights will be skipped in that project"
   ]
  },
  {
   "cell_type": "markdown",
   "metadata": {},
   "source": [
    "### Steps\n",
    "- Improting data ✅\n",
    "- Understanding data ✅\n",
    "- Feature engineering ✅\n",
    "- Analysing data ✅\n",
    "-  Plotting data in depend of:\n",
    "    - airport ✅\n",
    "    - airline ✅\n",
    "- Modeling data ✅\n",
    "- Finding best algorithm ✅"
   ]
  },
  {
   "cell_type": "markdown",
   "metadata": {},
   "source": [
    "## Imports"
   ]
  },
  {
   "cell_type": "code",
   "execution_count": 1,
   "metadata": {
    "id": "ZzW0oKOJWk_p"
   },
   "outputs": [],
   "source": [
    "import random\n",
    "import pandas as pd\n",
    "import numpy as np\n",
    "import matplotlib\n",
    "import matplotlib.pyplot as plt\n",
    "import seaborn as sns\n",
    "import datetime\n",
    "from datetime import date \n",
    "from sklearn.model_selection import train_test_split, GridSearchCV\n",
    "from sklearn.model_selection import RandomizedSearchCV\n",
    "from sklearn.linear_model import LogisticRegression\n",
    "from sklearn.pipeline import FeatureUnion, Pipeline\n",
    "from sklearn.preprocessing import MinMaxScaler, StandardScaler\n",
    "from sklearn.preprocessing import OneHotEncoder\n",
    "from sklearn.compose import ColumnTransformer\n",
    "from sklearn.model_selection import GridSearchCV\n",
    "from sklearn.preprocessing import StandardScaler\n",
    "from sklearn.pipeline import Pipeline\n",
    "from sklearn.svm import SVC\n",
    "from sklearn.svm import LinearSVC\n",
    "from sklearn.ensemble import RandomForestClassifier\n",
    "from sklearn import  metrics\n",
    "from sklearn.model_selection import StratifiedKFold\n",
    "from sklearn.pipeline import FeatureUnion\n",
    "from sklearn.datasets import make_classification\n",
    "from sklearn.metrics import roc_curve\n",
    "from sklearn.metrics import roc_auc_score\n",
    "from matplotlib import pyplot"
   ]
  },
  {
   "cell_type": "markdown",
   "metadata": {},
   "source": [
    "# Data import"
   ]
  },
  {
   "cell_type": "code",
   "execution_count": 2,
   "metadata": {
    "colab": {
     "base_uri": "https://localhost:8080/"
    },
    "id": "zu9r6D8Oc3ln",
    "outputId": "004550a2-a0f4-41fa-a6e2-040a2bcf4866"
   },
   "outputs": [
    {
     "name": "stderr",
     "output_type": "stream",
     "text": [
      "C:\\Users\\damix\\AppData\\Local\\Packages\\PythonSoftwareFoundation.Python.3.8_qbz5n2kfra8p0\\LocalCache\\local-packages\\Python38\\site-packages\\IPython\\core\\interactiveshell.py:3062: DtypeWarning: Columns (7,8) have mixed types.Specify dtype option on import or set low_memory=False.\n",
      "  has_raised = await self.run_ast_nodes(code_ast.body, cell_name,\n"
     ]
    }
   ],
   "source": [
    "data = pd.read_csv('DATA/flights.csv')"
   ]
  },
  {
   "cell_type": "markdown",
   "metadata": {},
   "source": [
    "####  Warning informs that columns 7 and 8 have data types mixed. This is a very important point for the future. (ref. 1)"
   ]
  },
  {
   "cell_type": "code",
   "execution_count": 3,
   "metadata": {
    "colab": {
     "base_uri": "https://localhost:8080/"
    },
    "id": "UWdq_jW4dlBN",
    "outputId": "7e02c622-2c1c-4e64-f833-5d2fc61abc21"
   },
   "outputs": [
    {
     "name": "stdout",
     "output_type": "stream",
     "text": [
      "(5819079, 31)\n"
     ]
    }
   ],
   "source": [
    "print(data.shape)"
   ]
  },
  {
   "cell_type": "markdown",
   "metadata": {},
   "source": [
    "Data table containst 5819079 rows, and 31 columns."
   ]
  },
  {
   "cell_type": "code",
   "execution_count": 4,
   "metadata": {
    "colab": {
     "base_uri": "https://localhost:8080/",
     "height": 226
    },
    "id": "shaK2Q35eU45",
    "outputId": "8d60ecad-0615-4c5c-b801-0f9d10823e7b"
   },
   "outputs": [
    {
     "data": {
      "text/html": [
       "<div>\n",
       "<style scoped>\n",
       "    .dataframe tbody tr th:only-of-type {\n",
       "        vertical-align: middle;\n",
       "    }\n",
       "\n",
       "    .dataframe tbody tr th {\n",
       "        vertical-align: top;\n",
       "    }\n",
       "\n",
       "    .dataframe thead th {\n",
       "        text-align: right;\n",
       "    }\n",
       "</style>\n",
       "<table border=\"1\" class=\"dataframe\">\n",
       "  <thead>\n",
       "    <tr style=\"text-align: right;\">\n",
       "      <th></th>\n",
       "      <th>YEAR</th>\n",
       "      <th>MONTH</th>\n",
       "      <th>DAY</th>\n",
       "      <th>DAY_OF_WEEK</th>\n",
       "      <th>AIRLINE</th>\n",
       "      <th>FLIGHT_NUMBER</th>\n",
       "      <th>TAIL_NUMBER</th>\n",
       "      <th>ORIGIN_AIRPORT</th>\n",
       "      <th>DESTINATION_AIRPORT</th>\n",
       "      <th>SCHEDULED_DEPARTURE</th>\n",
       "      <th>...</th>\n",
       "      <th>ARRIVAL_TIME</th>\n",
       "      <th>ARRIVAL_DELAY</th>\n",
       "      <th>DIVERTED</th>\n",
       "      <th>CANCELLED</th>\n",
       "      <th>CANCELLATION_REASON</th>\n",
       "      <th>AIR_SYSTEM_DELAY</th>\n",
       "      <th>SECURITY_DELAY</th>\n",
       "      <th>AIRLINE_DELAY</th>\n",
       "      <th>LATE_AIRCRAFT_DELAY</th>\n",
       "      <th>WEATHER_DELAY</th>\n",
       "    </tr>\n",
       "  </thead>\n",
       "  <tbody>\n",
       "    <tr>\n",
       "      <th>0</th>\n",
       "      <td>2015</td>\n",
       "      <td>1</td>\n",
       "      <td>1</td>\n",
       "      <td>4</td>\n",
       "      <td>AS</td>\n",
       "      <td>98</td>\n",
       "      <td>N407AS</td>\n",
       "      <td>ANC</td>\n",
       "      <td>SEA</td>\n",
       "      <td>5</td>\n",
       "      <td>...</td>\n",
       "      <td>408.0</td>\n",
       "      <td>-22.0</td>\n",
       "      <td>0</td>\n",
       "      <td>0</td>\n",
       "      <td>NaN</td>\n",
       "      <td>NaN</td>\n",
       "      <td>NaN</td>\n",
       "      <td>NaN</td>\n",
       "      <td>NaN</td>\n",
       "      <td>NaN</td>\n",
       "    </tr>\n",
       "    <tr>\n",
       "      <th>1</th>\n",
       "      <td>2015</td>\n",
       "      <td>1</td>\n",
       "      <td>1</td>\n",
       "      <td>4</td>\n",
       "      <td>AA</td>\n",
       "      <td>2336</td>\n",
       "      <td>N3KUAA</td>\n",
       "      <td>LAX</td>\n",
       "      <td>PBI</td>\n",
       "      <td>10</td>\n",
       "      <td>...</td>\n",
       "      <td>741.0</td>\n",
       "      <td>-9.0</td>\n",
       "      <td>0</td>\n",
       "      <td>0</td>\n",
       "      <td>NaN</td>\n",
       "      <td>NaN</td>\n",
       "      <td>NaN</td>\n",
       "      <td>NaN</td>\n",
       "      <td>NaN</td>\n",
       "      <td>NaN</td>\n",
       "    </tr>\n",
       "    <tr>\n",
       "      <th>2</th>\n",
       "      <td>2015</td>\n",
       "      <td>1</td>\n",
       "      <td>1</td>\n",
       "      <td>4</td>\n",
       "      <td>US</td>\n",
       "      <td>840</td>\n",
       "      <td>N171US</td>\n",
       "      <td>SFO</td>\n",
       "      <td>CLT</td>\n",
       "      <td>20</td>\n",
       "      <td>...</td>\n",
       "      <td>811.0</td>\n",
       "      <td>5.0</td>\n",
       "      <td>0</td>\n",
       "      <td>0</td>\n",
       "      <td>NaN</td>\n",
       "      <td>NaN</td>\n",
       "      <td>NaN</td>\n",
       "      <td>NaN</td>\n",
       "      <td>NaN</td>\n",
       "      <td>NaN</td>\n",
       "    </tr>\n",
       "    <tr>\n",
       "      <th>3</th>\n",
       "      <td>2015</td>\n",
       "      <td>1</td>\n",
       "      <td>1</td>\n",
       "      <td>4</td>\n",
       "      <td>AA</td>\n",
       "      <td>258</td>\n",
       "      <td>N3HYAA</td>\n",
       "      <td>LAX</td>\n",
       "      <td>MIA</td>\n",
       "      <td>20</td>\n",
       "      <td>...</td>\n",
       "      <td>756.0</td>\n",
       "      <td>-9.0</td>\n",
       "      <td>0</td>\n",
       "      <td>0</td>\n",
       "      <td>NaN</td>\n",
       "      <td>NaN</td>\n",
       "      <td>NaN</td>\n",
       "      <td>NaN</td>\n",
       "      <td>NaN</td>\n",
       "      <td>NaN</td>\n",
       "    </tr>\n",
       "    <tr>\n",
       "      <th>4</th>\n",
       "      <td>2015</td>\n",
       "      <td>1</td>\n",
       "      <td>1</td>\n",
       "      <td>4</td>\n",
       "      <td>AS</td>\n",
       "      <td>135</td>\n",
       "      <td>N527AS</td>\n",
       "      <td>SEA</td>\n",
       "      <td>ANC</td>\n",
       "      <td>25</td>\n",
       "      <td>...</td>\n",
       "      <td>259.0</td>\n",
       "      <td>-21.0</td>\n",
       "      <td>0</td>\n",
       "      <td>0</td>\n",
       "      <td>NaN</td>\n",
       "      <td>NaN</td>\n",
       "      <td>NaN</td>\n",
       "      <td>NaN</td>\n",
       "      <td>NaN</td>\n",
       "      <td>NaN</td>\n",
       "    </tr>\n",
       "  </tbody>\n",
       "</table>\n",
       "<p>5 rows × 31 columns</p>\n",
       "</div>"
      ],
      "text/plain": [
       "   YEAR  MONTH  DAY  DAY_OF_WEEK AIRLINE  FLIGHT_NUMBER TAIL_NUMBER  \\\n",
       "0  2015      1    1            4      AS             98      N407AS   \n",
       "1  2015      1    1            4      AA           2336      N3KUAA   \n",
       "2  2015      1    1            4      US            840      N171US   \n",
       "3  2015      1    1            4      AA            258      N3HYAA   \n",
       "4  2015      1    1            4      AS            135      N527AS   \n",
       "\n",
       "  ORIGIN_AIRPORT DESTINATION_AIRPORT  SCHEDULED_DEPARTURE  ...  ARRIVAL_TIME  \\\n",
       "0            ANC                 SEA                    5  ...         408.0   \n",
       "1            LAX                 PBI                   10  ...         741.0   \n",
       "2            SFO                 CLT                   20  ...         811.0   \n",
       "3            LAX                 MIA                   20  ...         756.0   \n",
       "4            SEA                 ANC                   25  ...         259.0   \n",
       "\n",
       "   ARRIVAL_DELAY  DIVERTED  CANCELLED  CANCELLATION_REASON  AIR_SYSTEM_DELAY  \\\n",
       "0          -22.0         0          0                  NaN               NaN   \n",
       "1           -9.0         0          0                  NaN               NaN   \n",
       "2            5.0         0          0                  NaN               NaN   \n",
       "3           -9.0         0          0                  NaN               NaN   \n",
       "4          -21.0         0          0                  NaN               NaN   \n",
       "\n",
       "   SECURITY_DELAY  AIRLINE_DELAY  LATE_AIRCRAFT_DELAY  WEATHER_DELAY  \n",
       "0             NaN            NaN                  NaN            NaN  \n",
       "1             NaN            NaN                  NaN            NaN  \n",
       "2             NaN            NaN                  NaN            NaN  \n",
       "3             NaN            NaN                  NaN            NaN  \n",
       "4             NaN            NaN                  NaN            NaN  \n",
       "\n",
       "[5 rows x 31 columns]"
      ]
     },
     "execution_count": 4,
     "metadata": {},
     "output_type": "execute_result"
    }
   ],
   "source": [
    "data.head()"
   ]
  },
  {
   "cell_type": "markdown",
   "metadata": {},
   "source": [
    "# Understanding variables"
   ]
  },
  {
   "cell_type": "markdown",
   "metadata": {},
   "source": [
    "* *YEAR*, *MONTH*, *DAY*, *DAY_OF_WEEK* - dates of the flight\n",
    "* AIRLINE  -An identification number assigned by US GOV to identify a unique airline\n",
    "* FLIGHT_NUMBER -The common unique flight number of the flight.\n",
    "* TAIL_NUMBER -  The unique aircraft number.\n",
    "* ORIGIN_AIRPORT, DESTINATION_AIRPORT - code attributed by IATA to identify the airports\n",
    "* SCHEDULED_DEPARTURE - scheduled time of departure\n",
    "* SCHEDULED_ARRIVAL - scheduled time of arrival\n",
    "* DEPARTURE_TIME, ARRIVAL_TIME - real times at which take-off and landing took place\n",
    "* DEPARTURE_DELAY, ARRIVAL_DELAY - difference (in minutes) between planned and real times\n",
    "* TAXI_OUT - elapsed time from gate to take-off\n",
    "* WHEELS_OFF - time of take off\n",
    "* SCHEDULED_TIME - scheduled duration of flight\n",
    "* ELAPSED_TIME - time elapsed from taxi out to taxi in\n",
    "* AIR_TIME - air time of flight\n",
    "* DISTANCE - distance of flight (in miles),\n",
    "* WHEELS_ON -  time of landing\n",
    "* TAXI_IN - time that elapsed from landing and docking in gate\n",
    "* DIVERTED - 1 if flight have been diverted and landed on another airport that scheduled\n",
    "* CANCELLED - 1 if flight have been canceleed\n",
    "* CANCELLATION_REASON - reson of flight cancellation\n",
    "* AIR_SYSTEM_DELAY, SECURITY_DELAY, AIRLINE_DELAY, LATE_AIRCRAFT_DELAY, WEATHER_DELAY - reasons of delay"
   ]
  },
  {
   "cell_type": "markdown",
   "metadata": {},
   "source": [
    "***\n",
    "# Feature engineering"
   ]
  },
  {
   "cell_type": "markdown",
   "metadata": {},
   "source": [
    "Whole process of data transformation is shown in [Flights_data_transformation notebook](Flight_data_transformation.ipynb#head_selection_3) and implemented in flight_data_transformer function in flight_data_transformation.py file."
   ]
  },
  {
   "cell_type": "code",
   "execution_count": 5,
   "metadata": {},
   "outputs": [
    {
     "name": "stderr",
     "output_type": "stream",
     "text": [
      "C:\\Users\\damix\\AppData\\Local\\Packages\\PythonSoftwareFoundation.Python.3.8_qbz5n2kfra8p0\\LocalCache\\local-packages\\Python38\\site-packages\\requests\\__init__.py:89: RequestsDependencyWarning: urllib3 (1.26.2) or chardet (3.0.4) doesn't match a supported version!\n",
      "  warnings.warn(\"urllib3 ({}) or chardet ({}) doesn't match a supported \"\n"
     ]
    }
   ],
   "source": [
    "import flight_data_transformation as fdf"
   ]
  },
  {
   "cell_type": "code",
   "execution_count": 6,
   "metadata": {},
   "outputs": [],
   "source": [
    "Flights_Delays_Combined = fdf.flight_data_transformer(data)"
   ]
  },
  {
   "cell_type": "code",
   "execution_count": 7,
   "metadata": {},
   "outputs": [
    {
     "data": {
      "text/html": [
       "<div>\n",
       "<style scoped>\n",
       "    .dataframe tbody tr th:only-of-type {\n",
       "        vertical-align: middle;\n",
       "    }\n",
       "\n",
       "    .dataframe tbody tr th {\n",
       "        vertical-align: top;\n",
       "    }\n",
       "\n",
       "    .dataframe thead th {\n",
       "        text-align: right;\n",
       "    }\n",
       "</style>\n",
       "<table border=\"1\" class=\"dataframe\">\n",
       "  <thead>\n",
       "    <tr style=\"text-align: right;\">\n",
       "      <th></th>\n",
       "      <th>AIRLINE</th>\n",
       "      <th>FLIGHT_NUMBER</th>\n",
       "      <th>TAIL_NUMBER</th>\n",
       "      <th>ORIGIN_AIRPORT</th>\n",
       "      <th>DESTINATION_AIRPORT</th>\n",
       "      <th>DEPARTURE_DELAY</th>\n",
       "      <th>TAXI_OUT</th>\n",
       "      <th>WHEELS_OFF</th>\n",
       "      <th>SCHEDULED_TIME</th>\n",
       "      <th>ELAPSED_TIME</th>\n",
       "      <th>...</th>\n",
       "      <th>WHEELS_ON</th>\n",
       "      <th>TAXI_IN</th>\n",
       "      <th>ARRIVAL_DELAY</th>\n",
       "      <th>DEP_TIME</th>\n",
       "      <th>SCH_ARR_TIME</th>\n",
       "      <th>SCH_DEP_TIME</th>\n",
       "      <th>ARR_TIME</th>\n",
       "      <th>DATE</th>\n",
       "      <th>DayOfWeek</th>\n",
       "      <th>Holidays</th>\n",
       "    </tr>\n",
       "  </thead>\n",
       "  <tbody>\n",
       "    <tr>\n",
       "      <th>0</th>\n",
       "      <td>AS</td>\n",
       "      <td>98</td>\n",
       "      <td>N407AS</td>\n",
       "      <td>ANC</td>\n",
       "      <td>SEA</td>\n",
       "      <td>-11.0</td>\n",
       "      <td>21.0</td>\n",
       "      <td>00:15:00</td>\n",
       "      <td>205.0</td>\n",
       "      <td>194.0</td>\n",
       "      <td>...</td>\n",
       "      <td>04:04:00</td>\n",
       "      <td>4.0</td>\n",
       "      <td>-22.0</td>\n",
       "      <td>23:54:00</td>\n",
       "      <td>04:30:00</td>\n",
       "      <td>00:05:00</td>\n",
       "      <td>04:08:00</td>\n",
       "      <td>2015-01-01</td>\n",
       "      <td>3</td>\n",
       "      <td>0</td>\n",
       "    </tr>\n",
       "    <tr>\n",
       "      <th>1</th>\n",
       "      <td>AA</td>\n",
       "      <td>2336</td>\n",
       "      <td>N3KUAA</td>\n",
       "      <td>LAX</td>\n",
       "      <td>PBI</td>\n",
       "      <td>-8.0</td>\n",
       "      <td>12.0</td>\n",
       "      <td>00:14:00</td>\n",
       "      <td>280.0</td>\n",
       "      <td>279.0</td>\n",
       "      <td>...</td>\n",
       "      <td>07:37:00</td>\n",
       "      <td>4.0</td>\n",
       "      <td>-9.0</td>\n",
       "      <td>00:02:00</td>\n",
       "      <td>07:50:00</td>\n",
       "      <td>00:10:00</td>\n",
       "      <td>07:41:00</td>\n",
       "      <td>2015-01-01</td>\n",
       "      <td>3</td>\n",
       "      <td>0</td>\n",
       "    </tr>\n",
       "    <tr>\n",
       "      <th>2</th>\n",
       "      <td>US</td>\n",
       "      <td>840</td>\n",
       "      <td>N171US</td>\n",
       "      <td>SFO</td>\n",
       "      <td>CLT</td>\n",
       "      <td>-2.0</td>\n",
       "      <td>16.0</td>\n",
       "      <td>00:34:00</td>\n",
       "      <td>286.0</td>\n",
       "      <td>293.0</td>\n",
       "      <td>...</td>\n",
       "      <td>08:00:00</td>\n",
       "      <td>11.0</td>\n",
       "      <td>5.0</td>\n",
       "      <td>00:18:00</td>\n",
       "      <td>08:06:00</td>\n",
       "      <td>00:20:00</td>\n",
       "      <td>08:11:00</td>\n",
       "      <td>2015-01-01</td>\n",
       "      <td>3</td>\n",
       "      <td>0</td>\n",
       "    </tr>\n",
       "    <tr>\n",
       "      <th>3</th>\n",
       "      <td>AA</td>\n",
       "      <td>258</td>\n",
       "      <td>N3HYAA</td>\n",
       "      <td>LAX</td>\n",
       "      <td>MIA</td>\n",
       "      <td>-5.0</td>\n",
       "      <td>15.0</td>\n",
       "      <td>00:30:00</td>\n",
       "      <td>285.0</td>\n",
       "      <td>281.0</td>\n",
       "      <td>...</td>\n",
       "      <td>07:48:00</td>\n",
       "      <td>8.0</td>\n",
       "      <td>-9.0</td>\n",
       "      <td>00:15:00</td>\n",
       "      <td>08:05:00</td>\n",
       "      <td>00:20:00</td>\n",
       "      <td>07:56:00</td>\n",
       "      <td>2015-01-01</td>\n",
       "      <td>3</td>\n",
       "      <td>0</td>\n",
       "    </tr>\n",
       "    <tr>\n",
       "      <th>4</th>\n",
       "      <td>AS</td>\n",
       "      <td>135</td>\n",
       "      <td>N527AS</td>\n",
       "      <td>SEA</td>\n",
       "      <td>ANC</td>\n",
       "      <td>-1.0</td>\n",
       "      <td>11.0</td>\n",
       "      <td>00:35:00</td>\n",
       "      <td>235.0</td>\n",
       "      <td>215.0</td>\n",
       "      <td>...</td>\n",
       "      <td>02:54:00</td>\n",
       "      <td>5.0</td>\n",
       "      <td>-21.0</td>\n",
       "      <td>00:24:00</td>\n",
       "      <td>03:20:00</td>\n",
       "      <td>00:25:00</td>\n",
       "      <td>02:59:00</td>\n",
       "      <td>2015-01-01</td>\n",
       "      <td>3</td>\n",
       "      <td>0</td>\n",
       "    </tr>\n",
       "  </tbody>\n",
       "</table>\n",
       "<p>5 rows × 22 columns</p>\n",
       "</div>"
      ],
      "text/plain": [
       "  AIRLINE  FLIGHT_NUMBER TAIL_NUMBER ORIGIN_AIRPORT DESTINATION_AIRPORT  \\\n",
       "0      AS             98      N407AS            ANC                 SEA   \n",
       "1      AA           2336      N3KUAA            LAX                 PBI   \n",
       "2      US            840      N171US            SFO                 CLT   \n",
       "3      AA            258      N3HYAA            LAX                 MIA   \n",
       "4      AS            135      N527AS            SEA                 ANC   \n",
       "\n",
       "   DEPARTURE_DELAY  TAXI_OUT WHEELS_OFF  SCHEDULED_TIME  ELAPSED_TIME  ...  \\\n",
       "0            -11.0      21.0   00:15:00           205.0         194.0  ...   \n",
       "1             -8.0      12.0   00:14:00           280.0         279.0  ...   \n",
       "2             -2.0      16.0   00:34:00           286.0         293.0  ...   \n",
       "3             -5.0      15.0   00:30:00           285.0         281.0  ...   \n",
       "4             -1.0      11.0   00:35:00           235.0         215.0  ...   \n",
       "\n",
       "   WHEELS_ON  TAXI_IN ARRIVAL_DELAY  DEP_TIME  SCH_ARR_TIME SCH_DEP_TIME  \\\n",
       "0   04:04:00      4.0         -22.0  23:54:00      04:30:00     00:05:00   \n",
       "1   07:37:00      4.0          -9.0  00:02:00      07:50:00     00:10:00   \n",
       "2   08:00:00     11.0           5.0  00:18:00      08:06:00     00:20:00   \n",
       "3   07:48:00      8.0          -9.0  00:15:00      08:05:00     00:20:00   \n",
       "4   02:54:00      5.0         -21.0  00:24:00      03:20:00     00:25:00   \n",
       "\n",
       "   ARR_TIME       DATE DayOfWeek Holidays  \n",
       "0  04:08:00 2015-01-01         3        0  \n",
       "1  07:41:00 2015-01-01         3        0  \n",
       "2  08:11:00 2015-01-01         3        0  \n",
       "3  07:56:00 2015-01-01         3        0  \n",
       "4  02:59:00 2015-01-01         3        0  \n",
       "\n",
       "[5 rows x 22 columns]"
      ]
     },
     "execution_count": 7,
     "metadata": {},
     "output_type": "execute_result"
    }
   ],
   "source": [
    "Flights_Delays_Combined.head()"
   ]
  },
  {
   "cell_type": "code",
   "execution_count": 8,
   "metadata": {},
   "outputs": [
    {
     "data": {
      "text/plain": [
       "(5231130, 22)"
      ]
     },
     "execution_count": 8,
     "metadata": {},
     "output_type": "execute_result"
    }
   ],
   "source": [
    "Flights_Delays_Combined.shape"
   ]
  },
  {
   "cell_type": "markdown",
   "metadata": {},
   "source": [
    "***"
   ]
  },
  {
   "cell_type": "code",
   "execution_count": 9,
   "metadata": {},
   "outputs": [
    {
     "data": {
      "text/plain": [
       "Index(['FLIGHT_NUMBER', 'DEPARTURE_DELAY', 'TAXI_OUT', 'SCHEDULED_TIME',\n",
       "       'ELAPSED_TIME', 'AIR_TIME', 'DISTANCE', 'TAXI_IN', 'ARRIVAL_DELAY',\n",
       "       'DayOfWeek', 'Holidays'],\n",
       "      dtype='object')"
      ]
     },
     "execution_count": 9,
     "metadata": {},
     "output_type": "execute_result"
    }
   ],
   "source": [
    "numeric_columns = Flights_Delays_Combined.select_dtypes(include=np.number).columns\n",
    "numeric_columns"
   ]
  },
  {
   "cell_type": "code",
   "execution_count": 10,
   "metadata": {},
   "outputs": [
    {
     "data": {
      "text/plain": [
       "Index(['AIRLINE', 'TAIL_NUMBER', 'ORIGIN_AIRPORT', 'DESTINATION_AIRPORT',\n",
       "       'WHEELS_OFF', 'WHEELS_ON', 'DEP_TIME', 'SCH_ARR_TIME', 'SCH_DEP_TIME',\n",
       "       'ARR_TIME', 'DATE'],\n",
       "      dtype='object')"
      ]
     },
     "execution_count": 10,
     "metadata": {},
     "output_type": "execute_result"
    }
   ],
   "source": [
    "non_numeric_columns = Flights_Delays_Combined.select_dtypes(exclude=np.number).columns\n",
    "non_numeric_columns"
   ]
  },
  {
   "cell_type": "markdown",
   "metadata": {},
   "source": [
    "## Correlation between numeric variables"
   ]
  },
  {
   "cell_type": "code",
   "execution_count": 11,
   "metadata": {},
   "outputs": [],
   "source": [
    "del_corr = Flights_Delays_Combined.corr()"
   ]
  },
  {
   "cell_type": "code",
   "execution_count": 12,
   "metadata": {},
   "outputs": [
    {
     "data": {
      "text/plain": [
       "<AxesSubplot:>"
      ]
     },
     "execution_count": 12,
     "metadata": {},
     "output_type": "execute_result"
    },
    {
     "data": {
      "image/png": "[encoded data removed]",
      "text/plain": [
       "<Figure size 1080x648 with 2 Axes>"
      ]
     },
     "metadata": {
      "needs_background": "light"
     },
     "output_type": "display_data"
    }
   ],
   "source": [
    "del_corr = Flights_Delays_Combined.corr()\n",
    "f, ax = plt.subplots(figsize=(15, 9))\n",
    "sns.heatmap(del_corr,annot=True,cmap='inferno')"
   ]
  },
  {
   "cell_type": "markdown",
   "metadata": {},
   "source": [
    "Correlation matrix shows, that Holidays have no significat numeric correlation between other variables."
   ]
  },
  {
   "cell_type": "markdown",
   "metadata": {},
   "source": [
    "Strongest correlation between ARRIVAL DELAY have:\n",
    "- SCHEDULED_DEPARTURE\n",
    "- DEPARTURE_TIME\n",
    "- DEPARTURE_DELAY\n",
    "- TAXI_OUT\n",
    "- WHEELS_OFF\n",
    "- TAXI_IN"
   ]
  },
  {
   "cell_type": "markdown",
   "metadata": {},
   "source": [
    "# Transforming delays to binary values"
   ]
  },
  {
   "cell_type": "markdown",
   "metadata": {},
   "source": [
    "Acording to project assumption (4) I convert delay values to a binary value. The threshold I choose for the delay, according to FAA regulations, is 15 minutes"
   ]
  },
  {
   "cell_type": "code",
   "execution_count": 13,
   "metadata": {
    "id": "PbharWa7-mDI"
   },
   "outputs": [],
   "source": [
    "DELAY_TRESHOLD = 15"
   ]
  },
  {
   "cell_type": "code",
   "execution_count": 14,
   "metadata": {
    "colab": {
     "base_uri": "https://localhost:8080/",
     "height": 226
    },
    "id": "8nyti8Ve2HYX",
    "outputId": "391adbb1-8e96-4bd3-c523-84adc809559a"
   },
   "outputs": [
    {
     "data": {
      "text/html": [
       "<div>\n",
       "<style scoped>\n",
       "    .dataframe tbody tr th:only-of-type {\n",
       "        vertical-align: middle;\n",
       "    }\n",
       "\n",
       "    .dataframe tbody tr th {\n",
       "        vertical-align: top;\n",
       "    }\n",
       "\n",
       "    .dataframe thead th {\n",
       "        text-align: right;\n",
       "    }\n",
       "</style>\n",
       "<table border=\"1\" class=\"dataframe\">\n",
       "  <thead>\n",
       "    <tr style=\"text-align: right;\">\n",
       "      <th></th>\n",
       "      <th>AIRLINE</th>\n",
       "      <th>FLIGHT_NUMBER</th>\n",
       "      <th>TAIL_NUMBER</th>\n",
       "      <th>ORIGIN_AIRPORT</th>\n",
       "      <th>DESTINATION_AIRPORT</th>\n",
       "      <th>DEPARTURE_DELAY</th>\n",
       "      <th>TAXI_OUT</th>\n",
       "      <th>WHEELS_OFF</th>\n",
       "      <th>SCHEDULED_TIME</th>\n",
       "      <th>ELAPSED_TIME</th>\n",
       "      <th>...</th>\n",
       "      <th>WHEELS_ON</th>\n",
       "      <th>TAXI_IN</th>\n",
       "      <th>ARRIVAL_DELAY</th>\n",
       "      <th>DEP_TIME</th>\n",
       "      <th>SCH_ARR_TIME</th>\n",
       "      <th>SCH_DEP_TIME</th>\n",
       "      <th>ARR_TIME</th>\n",
       "      <th>DATE</th>\n",
       "      <th>DayOfWeek</th>\n",
       "      <th>Holidays</th>\n",
       "    </tr>\n",
       "  </thead>\n",
       "  <tbody>\n",
       "    <tr>\n",
       "      <th>0</th>\n",
       "      <td>AS</td>\n",
       "      <td>98</td>\n",
       "      <td>N407AS</td>\n",
       "      <td>ANC</td>\n",
       "      <td>SEA</td>\n",
       "      <td>-11.0</td>\n",
       "      <td>21.0</td>\n",
       "      <td>00:15:00</td>\n",
       "      <td>205.0</td>\n",
       "      <td>194.0</td>\n",
       "      <td>...</td>\n",
       "      <td>04:04:00</td>\n",
       "      <td>4.0</td>\n",
       "      <td>-22.0</td>\n",
       "      <td>23:54:00</td>\n",
       "      <td>04:30:00</td>\n",
       "      <td>00:05:00</td>\n",
       "      <td>04:08:00</td>\n",
       "      <td>2015-01-01</td>\n",
       "      <td>3</td>\n",
       "      <td>0</td>\n",
       "    </tr>\n",
       "    <tr>\n",
       "      <th>1</th>\n",
       "      <td>AA</td>\n",
       "      <td>2336</td>\n",
       "      <td>N3KUAA</td>\n",
       "      <td>LAX</td>\n",
       "      <td>PBI</td>\n",
       "      <td>-8.0</td>\n",
       "      <td>12.0</td>\n",
       "      <td>00:14:00</td>\n",
       "      <td>280.0</td>\n",
       "      <td>279.0</td>\n",
       "      <td>...</td>\n",
       "      <td>07:37:00</td>\n",
       "      <td>4.0</td>\n",
       "      <td>-9.0</td>\n",
       "      <td>00:02:00</td>\n",
       "      <td>07:50:00</td>\n",
       "      <td>00:10:00</td>\n",
       "      <td>07:41:00</td>\n",
       "      <td>2015-01-01</td>\n",
       "      <td>3</td>\n",
       "      <td>0</td>\n",
       "    </tr>\n",
       "    <tr>\n",
       "      <th>2</th>\n",
       "      <td>US</td>\n",
       "      <td>840</td>\n",
       "      <td>N171US</td>\n",
       "      <td>SFO</td>\n",
       "      <td>CLT</td>\n",
       "      <td>-2.0</td>\n",
       "      <td>16.0</td>\n",
       "      <td>00:34:00</td>\n",
       "      <td>286.0</td>\n",
       "      <td>293.0</td>\n",
       "      <td>...</td>\n",
       "      <td>08:00:00</td>\n",
       "      <td>11.0</td>\n",
       "      <td>5.0</td>\n",
       "      <td>00:18:00</td>\n",
       "      <td>08:06:00</td>\n",
       "      <td>00:20:00</td>\n",
       "      <td>08:11:00</td>\n",
       "      <td>2015-01-01</td>\n",
       "      <td>3</td>\n",
       "      <td>0</td>\n",
       "    </tr>\n",
       "    <tr>\n",
       "      <th>3</th>\n",
       "      <td>AA</td>\n",
       "      <td>258</td>\n",
       "      <td>N3HYAA</td>\n",
       "      <td>LAX</td>\n",
       "      <td>MIA</td>\n",
       "      <td>-5.0</td>\n",
       "      <td>15.0</td>\n",
       "      <td>00:30:00</td>\n",
       "      <td>285.0</td>\n",
       "      <td>281.0</td>\n",
       "      <td>...</td>\n",
       "      <td>07:48:00</td>\n",
       "      <td>8.0</td>\n",
       "      <td>-9.0</td>\n",
       "      <td>00:15:00</td>\n",
       "      <td>08:05:00</td>\n",
       "      <td>00:20:00</td>\n",
       "      <td>07:56:00</td>\n",
       "      <td>2015-01-01</td>\n",
       "      <td>3</td>\n",
       "      <td>0</td>\n",
       "    </tr>\n",
       "    <tr>\n",
       "      <th>4</th>\n",
       "      <td>AS</td>\n",
       "      <td>135</td>\n",
       "      <td>N527AS</td>\n",
       "      <td>SEA</td>\n",
       "      <td>ANC</td>\n",
       "      <td>-1.0</td>\n",
       "      <td>11.0</td>\n",
       "      <td>00:35:00</td>\n",
       "      <td>235.0</td>\n",
       "      <td>215.0</td>\n",
       "      <td>...</td>\n",
       "      <td>02:54:00</td>\n",
       "      <td>5.0</td>\n",
       "      <td>-21.0</td>\n",
       "      <td>00:24:00</td>\n",
       "      <td>03:20:00</td>\n",
       "      <td>00:25:00</td>\n",
       "      <td>02:59:00</td>\n",
       "      <td>2015-01-01</td>\n",
       "      <td>3</td>\n",
       "      <td>0</td>\n",
       "    </tr>\n",
       "  </tbody>\n",
       "</table>\n",
       "<p>5 rows × 22 columns</p>\n",
       "</div>"
      ],
      "text/plain": [
       "  AIRLINE  FLIGHT_NUMBER TAIL_NUMBER ORIGIN_AIRPORT DESTINATION_AIRPORT  \\\n",
       "0      AS             98      N407AS            ANC                 SEA   \n",
       "1      AA           2336      N3KUAA            LAX                 PBI   \n",
       "2      US            840      N171US            SFO                 CLT   \n",
       "3      AA            258      N3HYAA            LAX                 MIA   \n",
       "4      AS            135      N527AS            SEA                 ANC   \n",
       "\n",
       "   DEPARTURE_DELAY  TAXI_OUT WHEELS_OFF  SCHEDULED_TIME  ELAPSED_TIME  ...  \\\n",
       "0            -11.0      21.0   00:15:00           205.0         194.0  ...   \n",
       "1             -8.0      12.0   00:14:00           280.0         279.0  ...   \n",
       "2             -2.0      16.0   00:34:00           286.0         293.0  ...   \n",
       "3             -5.0      15.0   00:30:00           285.0         281.0  ...   \n",
       "4             -1.0      11.0   00:35:00           235.0         215.0  ...   \n",
       "\n",
       "   WHEELS_ON  TAXI_IN ARRIVAL_DELAY  DEP_TIME  SCH_ARR_TIME SCH_DEP_TIME  \\\n",
       "0   04:04:00      4.0         -22.0  23:54:00      04:30:00     00:05:00   \n",
       "1   07:37:00      4.0          -9.0  00:02:00      07:50:00     00:10:00   \n",
       "2   08:00:00     11.0           5.0  00:18:00      08:06:00     00:20:00   \n",
       "3   07:48:00      8.0          -9.0  00:15:00      08:05:00     00:20:00   \n",
       "4   02:54:00      5.0         -21.0  00:24:00      03:20:00     00:25:00   \n",
       "\n",
       "   ARR_TIME       DATE DayOfWeek Holidays  \n",
       "0  04:08:00 2015-01-01         3        0  \n",
       "1  07:41:00 2015-01-01         3        0  \n",
       "2  08:11:00 2015-01-01         3        0  \n",
       "3  07:56:00 2015-01-01         3        0  \n",
       "4  02:59:00 2015-01-01         3        0  \n",
       "\n",
       "[5 rows x 22 columns]"
      ]
     },
     "execution_count": 14,
     "metadata": {},
     "output_type": "execute_result"
    }
   ],
   "source": [
    "Flights_Delays_Combined.head()"
   ]
  },
  {
   "cell_type": "code",
   "execution_count": 15,
   "metadata": {
    "id": "tFNnXehY1CQs"
   },
   "outputs": [],
   "source": [
    "def delation_transformation(delay):\n",
    "    return 1 if delay >= DELAY_TRESHOLD else 0"
   ]
  },
  {
   "cell_type": "code",
   "execution_count": 16,
   "metadata": {
    "id": "8s8PSQxH2FkC"
   },
   "outputs": [],
   "source": [
    "Flights_Delays_Combined['Delayed'] = Flights_Delays_Combined['ARRIVAL_DELAY'].apply(delation_transformation)"
   ]
  },
  {
   "cell_type": "code",
   "execution_count": 17,
   "metadata": {
    "id": "c5ZcK4s73QYu"
   },
   "outputs": [],
   "source": [
    "Flights_Delays_Binary = Flights_Delays_Combined.drop(['ARRIVAL_DELAY'], axis=1)"
   ]
  },
  {
   "cell_type": "code",
   "execution_count": 18,
   "metadata": {
    "colab": {
     "base_uri": "https://localhost:8080/",
     "height": 226
    },
    "id": "Wva5_aLuAmOA",
    "outputId": "f49b7fec-c9ab-482a-b9f2-4db193fd18b9"
   },
   "outputs": [
    {
     "data": {
      "text/html": [
       "<div>\n",
       "<style scoped>\n",
       "    .dataframe tbody tr th:only-of-type {\n",
       "        vertical-align: middle;\n",
       "    }\n",
       "\n",
       "    .dataframe tbody tr th {\n",
       "        vertical-align: top;\n",
       "    }\n",
       "\n",
       "    .dataframe thead th {\n",
       "        text-align: right;\n",
       "    }\n",
       "</style>\n",
       "<table border=\"1\" class=\"dataframe\">\n",
       "  <thead>\n",
       "    <tr style=\"text-align: right;\">\n",
       "      <th></th>\n",
       "      <th>AIRLINE</th>\n",
       "      <th>FLIGHT_NUMBER</th>\n",
       "      <th>TAIL_NUMBER</th>\n",
       "      <th>ORIGIN_AIRPORT</th>\n",
       "      <th>DESTINATION_AIRPORT</th>\n",
       "      <th>DEPARTURE_DELAY</th>\n",
       "      <th>TAXI_OUT</th>\n",
       "      <th>WHEELS_OFF</th>\n",
       "      <th>SCHEDULED_TIME</th>\n",
       "      <th>ELAPSED_TIME</th>\n",
       "      <th>...</th>\n",
       "      <th>WHEELS_ON</th>\n",
       "      <th>TAXI_IN</th>\n",
       "      <th>DEP_TIME</th>\n",
       "      <th>SCH_ARR_TIME</th>\n",
       "      <th>SCH_DEP_TIME</th>\n",
       "      <th>ARR_TIME</th>\n",
       "      <th>DATE</th>\n",
       "      <th>DayOfWeek</th>\n",
       "      <th>Holidays</th>\n",
       "      <th>Delayed</th>\n",
       "    </tr>\n",
       "  </thead>\n",
       "  <tbody>\n",
       "    <tr>\n",
       "      <th>0</th>\n",
       "      <td>AS</td>\n",
       "      <td>98</td>\n",
       "      <td>N407AS</td>\n",
       "      <td>ANC</td>\n",
       "      <td>SEA</td>\n",
       "      <td>-11.0</td>\n",
       "      <td>21.0</td>\n",
       "      <td>00:15:00</td>\n",
       "      <td>205.0</td>\n",
       "      <td>194.0</td>\n",
       "      <td>...</td>\n",
       "      <td>04:04:00</td>\n",
       "      <td>4.0</td>\n",
       "      <td>23:54:00</td>\n",
       "      <td>04:30:00</td>\n",
       "      <td>00:05:00</td>\n",
       "      <td>04:08:00</td>\n",
       "      <td>2015-01-01</td>\n",
       "      <td>3</td>\n",
       "      <td>0</td>\n",
       "      <td>0</td>\n",
       "    </tr>\n",
       "    <tr>\n",
       "      <th>1</th>\n",
       "      <td>AA</td>\n",
       "      <td>2336</td>\n",
       "      <td>N3KUAA</td>\n",
       "      <td>LAX</td>\n",
       "      <td>PBI</td>\n",
       "      <td>-8.0</td>\n",
       "      <td>12.0</td>\n",
       "      <td>00:14:00</td>\n",
       "      <td>280.0</td>\n",
       "      <td>279.0</td>\n",
       "      <td>...</td>\n",
       "      <td>07:37:00</td>\n",
       "      <td>4.0</td>\n",
       "      <td>00:02:00</td>\n",
       "      <td>07:50:00</td>\n",
       "      <td>00:10:00</td>\n",
       "      <td>07:41:00</td>\n",
       "      <td>2015-01-01</td>\n",
       "      <td>3</td>\n",
       "      <td>0</td>\n",
       "      <td>0</td>\n",
       "    </tr>\n",
       "    <tr>\n",
       "      <th>2</th>\n",
       "      <td>US</td>\n",
       "      <td>840</td>\n",
       "      <td>N171US</td>\n",
       "      <td>SFO</td>\n",
       "      <td>CLT</td>\n",
       "      <td>-2.0</td>\n",
       "      <td>16.0</td>\n",
       "      <td>00:34:00</td>\n",
       "      <td>286.0</td>\n",
       "      <td>293.0</td>\n",
       "      <td>...</td>\n",
       "      <td>08:00:00</td>\n",
       "      <td>11.0</td>\n",
       "      <td>00:18:00</td>\n",
       "      <td>08:06:00</td>\n",
       "      <td>00:20:00</td>\n",
       "      <td>08:11:00</td>\n",
       "      <td>2015-01-01</td>\n",
       "      <td>3</td>\n",
       "      <td>0</td>\n",
       "      <td>0</td>\n",
       "    </tr>\n",
       "    <tr>\n",
       "      <th>3</th>\n",
       "      <td>AA</td>\n",
       "      <td>258</td>\n",
       "      <td>N3HYAA</td>\n",
       "      <td>LAX</td>\n",
       "      <td>MIA</td>\n",
       "      <td>-5.0</td>\n",
       "      <td>15.0</td>\n",
       "      <td>00:30:00</td>\n",
       "      <td>285.0</td>\n",
       "      <td>281.0</td>\n",
       "      <td>...</td>\n",
       "      <td>07:48:00</td>\n",
       "      <td>8.0</td>\n",
       "      <td>00:15:00</td>\n",
       "      <td>08:05:00</td>\n",
       "      <td>00:20:00</td>\n",
       "      <td>07:56:00</td>\n",
       "      <td>2015-01-01</td>\n",
       "      <td>3</td>\n",
       "      <td>0</td>\n",
       "      <td>0</td>\n",
       "    </tr>\n",
       "    <tr>\n",
       "      <th>4</th>\n",
       "      <td>AS</td>\n",
       "      <td>135</td>\n",
       "      <td>N527AS</td>\n",
       "      <td>SEA</td>\n",
       "      <td>ANC</td>\n",
       "      <td>-1.0</td>\n",
       "      <td>11.0</td>\n",
       "      <td>00:35:00</td>\n",
       "      <td>235.0</td>\n",
       "      <td>215.0</td>\n",
       "      <td>...</td>\n",
       "      <td>02:54:00</td>\n",
       "      <td>5.0</td>\n",
       "      <td>00:24:00</td>\n",
       "      <td>03:20:00</td>\n",
       "      <td>00:25:00</td>\n",
       "      <td>02:59:00</td>\n",
       "      <td>2015-01-01</td>\n",
       "      <td>3</td>\n",
       "      <td>0</td>\n",
       "      <td>0</td>\n",
       "    </tr>\n",
       "    <tr>\n",
       "      <th>...</th>\n",
       "      <td>...</td>\n",
       "      <td>...</td>\n",
       "      <td>...</td>\n",
       "      <td>...</td>\n",
       "      <td>...</td>\n",
       "      <td>...</td>\n",
       "      <td>...</td>\n",
       "      <td>...</td>\n",
       "      <td>...</td>\n",
       "      <td>...</td>\n",
       "      <td>...</td>\n",
       "      <td>...</td>\n",
       "      <td>...</td>\n",
       "      <td>...</td>\n",
       "      <td>...</td>\n",
       "      <td>...</td>\n",
       "      <td>...</td>\n",
       "      <td>...</td>\n",
       "      <td>...</td>\n",
       "      <td>...</td>\n",
       "      <td>...</td>\n",
       "    </tr>\n",
       "    <tr>\n",
       "      <th>5819074</th>\n",
       "      <td>B6</td>\n",
       "      <td>688</td>\n",
       "      <td>N657JB</td>\n",
       "      <td>LAX</td>\n",
       "      <td>BOS</td>\n",
       "      <td>-4.0</td>\n",
       "      <td>22.0</td>\n",
       "      <td>00:17:00</td>\n",
       "      <td>320.0</td>\n",
       "      <td>298.0</td>\n",
       "      <td>...</td>\n",
       "      <td>07:49:00</td>\n",
       "      <td>4.0</td>\n",
       "      <td>23:55:00</td>\n",
       "      <td>08:19:00</td>\n",
       "      <td>23:59:00</td>\n",
       "      <td>07:53:00</td>\n",
       "      <td>2015-12-31</td>\n",
       "      <td>3</td>\n",
       "      <td>0</td>\n",
       "      <td>0</td>\n",
       "    </tr>\n",
       "    <tr>\n",
       "      <th>5819075</th>\n",
       "      <td>B6</td>\n",
       "      <td>745</td>\n",
       "      <td>N828JB</td>\n",
       "      <td>JFK</td>\n",
       "      <td>PSE</td>\n",
       "      <td>-4.0</td>\n",
       "      <td>17.0</td>\n",
       "      <td>00:12:00</td>\n",
       "      <td>227.0</td>\n",
       "      <td>215.0</td>\n",
       "      <td>...</td>\n",
       "      <td>04:27:00</td>\n",
       "      <td>3.0</td>\n",
       "      <td>23:55:00</td>\n",
       "      <td>04:46:00</td>\n",
       "      <td>23:59:00</td>\n",
       "      <td>04:30:00</td>\n",
       "      <td>2015-12-31</td>\n",
       "      <td>3</td>\n",
       "      <td>0</td>\n",
       "      <td>0</td>\n",
       "    </tr>\n",
       "    <tr>\n",
       "      <th>5819076</th>\n",
       "      <td>B6</td>\n",
       "      <td>1503</td>\n",
       "      <td>N913JB</td>\n",
       "      <td>JFK</td>\n",
       "      <td>SJU</td>\n",
       "      <td>-9.0</td>\n",
       "      <td>17.0</td>\n",
       "      <td>00:07:00</td>\n",
       "      <td>221.0</td>\n",
       "      <td>222.0</td>\n",
       "      <td>...</td>\n",
       "      <td>04:24:00</td>\n",
       "      <td>8.0</td>\n",
       "      <td>23:50:00</td>\n",
       "      <td>04:40:00</td>\n",
       "      <td>23:59:00</td>\n",
       "      <td>04:32:00</td>\n",
       "      <td>2015-12-31</td>\n",
       "      <td>3</td>\n",
       "      <td>0</td>\n",
       "      <td>0</td>\n",
       "    </tr>\n",
       "    <tr>\n",
       "      <th>5819077</th>\n",
       "      <td>B6</td>\n",
       "      <td>333</td>\n",
       "      <td>N527JB</td>\n",
       "      <td>MCO</td>\n",
       "      <td>SJU</td>\n",
       "      <td>-6.0</td>\n",
       "      <td>10.0</td>\n",
       "      <td>00:03:00</td>\n",
       "      <td>161.0</td>\n",
       "      <td>157.0</td>\n",
       "      <td>...</td>\n",
       "      <td>03:27:00</td>\n",
       "      <td>3.0</td>\n",
       "      <td>23:53:00</td>\n",
       "      <td>03:40:00</td>\n",
       "      <td>23:59:00</td>\n",
       "      <td>03:30:00</td>\n",
       "      <td>2015-12-31</td>\n",
       "      <td>3</td>\n",
       "      <td>0</td>\n",
       "      <td>0</td>\n",
       "    </tr>\n",
       "    <tr>\n",
       "      <th>5819078</th>\n",
       "      <td>B6</td>\n",
       "      <td>839</td>\n",
       "      <td>N534JB</td>\n",
       "      <td>JFK</td>\n",
       "      <td>BQN</td>\n",
       "      <td>15.0</td>\n",
       "      <td>14.0</td>\n",
       "      <td>00:28:00</td>\n",
       "      <td>221.0</td>\n",
       "      <td>208.0</td>\n",
       "      <td>...</td>\n",
       "      <td>04:37:00</td>\n",
       "      <td>5.0</td>\n",
       "      <td>00:14:00</td>\n",
       "      <td>04:40:00</td>\n",
       "      <td>23:59:00</td>\n",
       "      <td>04:42:00</td>\n",
       "      <td>2015-12-31</td>\n",
       "      <td>3</td>\n",
       "      <td>0</td>\n",
       "      <td>0</td>\n",
       "    </tr>\n",
       "  </tbody>\n",
       "</table>\n",
       "<p>5231130 rows × 22 columns</p>\n",
       "</div>"
      ],
      "text/plain": [
       "        AIRLINE  FLIGHT_NUMBER TAIL_NUMBER ORIGIN_AIRPORT DESTINATION_AIRPORT  \\\n",
       "0            AS             98      N407AS            ANC                 SEA   \n",
       "1            AA           2336      N3KUAA            LAX                 PBI   \n",
       "2            US            840      N171US            SFO                 CLT   \n",
       "3            AA            258      N3HYAA            LAX                 MIA   \n",
       "4            AS            135      N527AS            SEA                 ANC   \n",
       "...         ...            ...         ...            ...                 ...   \n",
       "5819074      B6            688      N657JB            LAX                 BOS   \n",
       "5819075      B6            745      N828JB            JFK                 PSE   \n",
       "5819076      B6           1503      N913JB            JFK                 SJU   \n",
       "5819077      B6            333      N527JB            MCO                 SJU   \n",
       "5819078      B6            839      N534JB            JFK                 BQN   \n",
       "\n",
       "         DEPARTURE_DELAY  TAXI_OUT WHEELS_OFF  SCHEDULED_TIME  ELAPSED_TIME  \\\n",
       "0                  -11.0      21.0   00:15:00           205.0         194.0   \n",
       "1                   -8.0      12.0   00:14:00           280.0         279.0   \n",
       "2                   -2.0      16.0   00:34:00           286.0         293.0   \n",
       "3                   -5.0      15.0   00:30:00           285.0         281.0   \n",
       "4                   -1.0      11.0   00:35:00           235.0         215.0   \n",
       "...                  ...       ...        ...             ...           ...   \n",
       "5819074             -4.0      22.0   00:17:00           320.0         298.0   \n",
       "5819075             -4.0      17.0   00:12:00           227.0         215.0   \n",
       "5819076             -9.0      17.0   00:07:00           221.0         222.0   \n",
       "5819077             -6.0      10.0   00:03:00           161.0         157.0   \n",
       "5819078             15.0      14.0   00:28:00           221.0         208.0   \n",
       "\n",
       "         ...  WHEELS_ON  TAXI_IN  DEP_TIME  SCH_ARR_TIME SCH_DEP_TIME  \\\n",
       "0        ...   04:04:00      4.0  23:54:00      04:30:00     00:05:00   \n",
       "1        ...   07:37:00      4.0  00:02:00      07:50:00     00:10:00   \n",
       "2        ...   08:00:00     11.0  00:18:00      08:06:00     00:20:00   \n",
       "3        ...   07:48:00      8.0  00:15:00      08:05:00     00:20:00   \n",
       "4        ...   02:54:00      5.0  00:24:00      03:20:00     00:25:00   \n",
       "...      ...        ...      ...       ...           ...          ...   \n",
       "5819074  ...   07:49:00      4.0  23:55:00      08:19:00     23:59:00   \n",
       "5819075  ...   04:27:00      3.0  23:55:00      04:46:00     23:59:00   \n",
       "5819076  ...   04:24:00      8.0  23:50:00      04:40:00     23:59:00   \n",
       "5819077  ...   03:27:00      3.0  23:53:00      03:40:00     23:59:00   \n",
       "5819078  ...   04:37:00      5.0  00:14:00      04:40:00     23:59:00   \n",
       "\n",
       "         ARR_TIME       DATE DayOfWeek Holidays  Delayed  \n",
       "0        04:08:00 2015-01-01         3        0        0  \n",
       "1        07:41:00 2015-01-01         3        0        0  \n",
       "2        08:11:00 2015-01-01         3        0        0  \n",
       "3        07:56:00 2015-01-01         3        0        0  \n",
       "4        02:59:00 2015-01-01         3        0        0  \n",
       "...           ...        ...       ...      ...      ...  \n",
       "5819074  07:53:00 2015-12-31         3        0        0  \n",
       "5819075  04:30:00 2015-12-31         3        0        0  \n",
       "5819076  04:32:00 2015-12-31         3        0        0  \n",
       "5819077  03:30:00 2015-12-31         3        0        0  \n",
       "5819078  04:42:00 2015-12-31         3        0        0  \n",
       "\n",
       "[5231130 rows x 22 columns]"
      ]
     },
     "execution_count": 18,
     "metadata": {},
     "output_type": "execute_result"
    }
   ],
   "source": [
    "Flights_Delays_Binary"
   ]
  },
  {
   "cell_type": "code",
   "execution_count": 19,
   "metadata": {},
   "outputs": [
    {
     "data": {
      "text/plain": [
       "AIRLINE                0\n",
       "FLIGHT_NUMBER          0\n",
       "TAIL_NUMBER            0\n",
       "ORIGIN_AIRPORT         0\n",
       "DESTINATION_AIRPORT    0\n",
       "DEPARTURE_DELAY        0\n",
       "TAXI_OUT               0\n",
       "WHEELS_OFF             0\n",
       "SCHEDULED_TIME         0\n",
       "ELAPSED_TIME           0\n",
       "AIR_TIME               0\n",
       "DISTANCE               0\n",
       "WHEELS_ON              0\n",
       "TAXI_IN                0\n",
       "DEP_TIME               0\n",
       "SCH_ARR_TIME           0\n",
       "SCH_DEP_TIME           0\n",
       "ARR_TIME               0\n",
       "DATE                   0\n",
       "DayOfWeek              0\n",
       "Holidays               0\n",
       "Delayed                0\n",
       "dtype: int64"
      ]
     },
     "execution_count": 19,
     "metadata": {},
     "output_type": "execute_result"
    }
   ],
   "source": [
    "Flights_Delays_Binary.isnull().sum()"
   ]
  },
  {
   "cell_type": "markdown",
   "metadata": {},
   "source": [
    "From above result it follows that the are no missing data in final DataFrame."
   ]
  },
  {
   "cell_type": "markdown",
   "metadata": {},
   "source": [
    "## Data reduction\n",
    "Because this dataset is large model will be trained only on sample. The sample is chosed by df.sample with 1% of random data."
   ]
  },
  {
   "cell_type": "code",
   "execution_count": 20,
   "metadata": {},
   "outputs": [
    {
     "data": {
      "text/plain": [
       "(52311, 22)"
      ]
     },
     "execution_count": 20,
     "metadata": {},
     "output_type": "execute_result"
    }
   ],
   "source": [
    "random.seed(0)\n",
    "Flights_Delays_Binary_small = Flights_Delays_Binary.sample(frac=0.01)\n",
    "Flights_Delays_Binary_small.shape"
   ]
  },
  {
   "cell_type": "markdown",
   "metadata": {},
   "source": [
    "***"
   ]
  },
  {
   "cell_type": "markdown",
   "metadata": {},
   "source": [
    "# Making model of flight delation"
   ]
  },
  {
   "cell_type": "markdown",
   "metadata": {},
   "source": [
    "According to project assumtion (3) there will be only used variables that are avaiable before start:\n",
    "\n",
    "'AIRLINE', 'FLIGHT_NUMBER', 'TAIL_NUMBER', ,'ORIGIN_AIRPORT','DESTINATION_AIRPORT', 'DEPARTURE_DELAY','TAXI_OUT', 'WHEELS_OFF', 'SCHEDULED_TIME','DISTANCE', 'DEP_TIME', 'SCH_ARR_TIME', 'SCH_DEP_TIME', 'DATE', 'DayOfWeek', 'Holidays', 'Delayed'\n",
    "\n",
    "In this project there are two models:\n",
    "\n",
    "* **Model 1** is making predictions of flight delation based on most correlated variables that are avaiable in moment of plane take-off,\n",
    "*  **Model 2** is making predictions of flight delation based on general information variables that are aviable long time before planned departure."
   ]
  },
  {
   "cell_type": "markdown",
   "metadata": {},
   "source": [
    "## Model 1"
   ]
  },
  {
   "cell_type": "markdown",
   "metadata": {},
   "source": [
    "For model I use variables that have strongest correlation between variables:\n",
    "* TAXI_IN,\n",
    "* DayOfWeek,\n",
    "* WHEELS_OFF,\n",
    "* AIRLINE,\n",
    "* ORIGIN_AIRPORT,\n",
    "* DESTINATION_AIRPORT,\n",
    "* DEP_TIME,\n",
    "* SCH_DEP_TIME,\n",
    "* SCH_ARR_TIME,\n",
    "* DEPARTURE_DELAY,\n",
    "* Delayed"
   ]
  },
  {
   "cell_type": "markdown",
   "metadata": {},
   "source": [
    "### Preparing data for modeling"
   ]
  },
  {
   "cell_type": "code",
   "execution_count": 21,
   "metadata": {},
   "outputs": [
    {
     "data": {
      "text/plain": [
       "Index(['AIRLINE', 'FLIGHT_NUMBER', 'TAIL_NUMBER', 'ORIGIN_AIRPORT',\n",
       "       'DESTINATION_AIRPORT', 'DEPARTURE_DELAY', 'TAXI_OUT', 'WHEELS_OFF',\n",
       "       'SCHEDULED_TIME', 'ELAPSED_TIME', 'AIR_TIME', 'DISTANCE', 'WHEELS_ON',\n",
       "       'TAXI_IN', 'DEP_TIME', 'SCH_ARR_TIME', 'SCH_DEP_TIME', 'ARR_TIME',\n",
       "       'DATE', 'DayOfWeek', 'Holidays', 'Delayed'],\n",
       "      dtype='object')"
      ]
     },
     "execution_count": 21,
     "metadata": {},
     "output_type": "execute_result"
    }
   ],
   "source": [
    "Flights_Delays_Binary_small.columns"
   ]
  },
  {
   "cell_type": "code",
   "execution_count": 22,
   "metadata": {},
   "outputs": [],
   "source": [
    "model_1_cols = ['TAXI_IN', 'DayOfWeek', 'WHEELS_OFF','AIRLINE', 'ORIGIN_AIRPORT', 'DESTINATION_AIRPORT','DEP_TIME','SCH_DEP_TIME','SCH_ARR_TIME','DEPARTURE_DELAY','Delayed']\n",
    "Flights_Delays_Binary_model_1 = Flights_Delays_Binary_small[model_1_cols]"
   ]
  },
  {
   "cell_type": "code",
   "execution_count": 23,
   "metadata": {},
   "outputs": [
    {
     "data": {
      "text/html": [
       "<div>\n",
       "<style scoped>\n",
       "    .dataframe tbody tr th:only-of-type {\n",
       "        vertical-align: middle;\n",
       "    }\n",
       "\n",
       "    .dataframe tbody tr th {\n",
       "        vertical-align: top;\n",
       "    }\n",
       "\n",
       "    .dataframe thead th {\n",
       "        text-align: right;\n",
       "    }\n",
       "</style>\n",
       "<table border=\"1\" class=\"dataframe\">\n",
       "  <thead>\n",
       "    <tr style=\"text-align: right;\">\n",
       "      <th></th>\n",
       "      <th>TAXI_IN</th>\n",
       "      <th>DayOfWeek</th>\n",
       "      <th>WHEELS_OFF</th>\n",
       "      <th>AIRLINE</th>\n",
       "      <th>ORIGIN_AIRPORT</th>\n",
       "      <th>DESTINATION_AIRPORT</th>\n",
       "      <th>DEP_TIME</th>\n",
       "      <th>SCH_DEP_TIME</th>\n",
       "      <th>SCH_ARR_TIME</th>\n",
       "      <th>DEPARTURE_DELAY</th>\n",
       "      <th>Delayed</th>\n",
       "    </tr>\n",
       "  </thead>\n",
       "  <tbody>\n",
       "    <tr>\n",
       "      <th>5458736</th>\n",
       "      <td>4.0</td>\n",
       "      <td>1</td>\n",
       "      <td>17:29:00</td>\n",
       "      <td>WN</td>\n",
       "      <td>LAX</td>\n",
       "      <td>SJC</td>\n",
       "      <td>17:19:00</td>\n",
       "      <td>17:05:00</td>\n",
       "      <td>18:10:00</td>\n",
       "      <td>14.0</td>\n",
       "      <td>0</td>\n",
       "    </tr>\n",
       "    <tr>\n",
       "      <th>607853</th>\n",
       "      <td>7.0</td>\n",
       "      <td>1</td>\n",
       "      <td>08:40:00</td>\n",
       "      <td>UA</td>\n",
       "      <td>PHX</td>\n",
       "      <td>IAH</td>\n",
       "      <td>08:29:00</td>\n",
       "      <td>08:25:00</td>\n",
       "      <td>12:00:00</td>\n",
       "      <td>4.0</td>\n",
       "      <td>0</td>\n",
       "    </tr>\n",
       "    <tr>\n",
       "      <th>3249303</th>\n",
       "      <td>4.0</td>\n",
       "      <td>2</td>\n",
       "      <td>16:36:00</td>\n",
       "      <td>OO</td>\n",
       "      <td>MSP</td>\n",
       "      <td>ISN</td>\n",
       "      <td>16:10:00</td>\n",
       "      <td>14:33:00</td>\n",
       "      <td>16:26:00</td>\n",
       "      <td>97.0</td>\n",
       "      <td>1</td>\n",
       "    </tr>\n",
       "    <tr>\n",
       "      <th>173719</th>\n",
       "      <td>5.0</td>\n",
       "      <td>0</td>\n",
       "      <td>10:39:00</td>\n",
       "      <td>DL</td>\n",
       "      <td>ATL</td>\n",
       "      <td>BOS</td>\n",
       "      <td>10:12:00</td>\n",
       "      <td>10:00:00</td>\n",
       "      <td>12:34:00</td>\n",
       "      <td>12.0</td>\n",
       "      <td>0</td>\n",
       "    </tr>\n",
       "    <tr>\n",
       "      <th>4383836</th>\n",
       "      <td>19.0</td>\n",
       "      <td>2</td>\n",
       "      <td>19:46:00</td>\n",
       "      <td>NK</td>\n",
       "      <td>CLE</td>\n",
       "      <td>ATL</td>\n",
       "      <td>19:34:00</td>\n",
       "      <td>19:40:00</td>\n",
       "      <td>21:24:00</td>\n",
       "      <td>-6.0</td>\n",
       "      <td>0</td>\n",
       "    </tr>\n",
       "    <tr>\n",
       "      <th>...</th>\n",
       "      <td>...</td>\n",
       "      <td>...</td>\n",
       "      <td>...</td>\n",
       "      <td>...</td>\n",
       "      <td>...</td>\n",
       "      <td>...</td>\n",
       "      <td>...</td>\n",
       "      <td>...</td>\n",
       "      <td>...</td>\n",
       "      <td>...</td>\n",
       "      <td>...</td>\n",
       "    </tr>\n",
       "    <tr>\n",
       "      <th>3887339</th>\n",
       "      <td>2.0</td>\n",
       "      <td>5</td>\n",
       "      <td>20:30:00</td>\n",
       "      <td>NK</td>\n",
       "      <td>FLL</td>\n",
       "      <td>ACY</td>\n",
       "      <td>20:20:00</td>\n",
       "      <td>20:28:00</td>\n",
       "      <td>22:58:00</td>\n",
       "      <td>-8.0</td>\n",
       "      <td>0</td>\n",
       "    </tr>\n",
       "    <tr>\n",
       "      <th>2185161</th>\n",
       "      <td>3.0</td>\n",
       "      <td>1</td>\n",
       "      <td>11:52:00</td>\n",
       "      <td>EV</td>\n",
       "      <td>ATL</td>\n",
       "      <td>AGS</td>\n",
       "      <td>11:40:00</td>\n",
       "      <td>11:45:00</td>\n",
       "      <td>12:33:00</td>\n",
       "      <td>-5.0</td>\n",
       "      <td>0</td>\n",
       "    </tr>\n",
       "    <tr>\n",
       "      <th>3527126</th>\n",
       "      <td>5.0</td>\n",
       "      <td>4</td>\n",
       "      <td>20:16:00</td>\n",
       "      <td>OO</td>\n",
       "      <td>SLC</td>\n",
       "      <td>CPR</td>\n",
       "      <td>20:01:00</td>\n",
       "      <td>20:05:00</td>\n",
       "      <td>21:14:00</td>\n",
       "      <td>-4.0</td>\n",
       "      <td>0</td>\n",
       "    </tr>\n",
       "    <tr>\n",
       "      <th>2925234</th>\n",
       "      <td>4.0</td>\n",
       "      <td>4</td>\n",
       "      <td>06:33:00</td>\n",
       "      <td>F9</td>\n",
       "      <td>TTN</td>\n",
       "      <td>FLL</td>\n",
       "      <td>06:23:00</td>\n",
       "      <td>06:30:00</td>\n",
       "      <td>09:14:00</td>\n",
       "      <td>-7.0</td>\n",
       "      <td>0</td>\n",
       "    </tr>\n",
       "    <tr>\n",
       "      <th>1365208</th>\n",
       "      <td>10.0</td>\n",
       "      <td>6</td>\n",
       "      <td>17:22:00</td>\n",
       "      <td>UA</td>\n",
       "      <td>ORD</td>\n",
       "      <td>LGA</td>\n",
       "      <td>17:08:00</td>\n",
       "      <td>17:06:00</td>\n",
       "      <td>20:14:00</td>\n",
       "      <td>2.0</td>\n",
       "      <td>0</td>\n",
       "    </tr>\n",
       "  </tbody>\n",
       "</table>\n",
       "<p>52311 rows × 11 columns</p>\n",
       "</div>"
      ],
      "text/plain": [
       "         TAXI_IN  DayOfWeek WHEELS_OFF AIRLINE ORIGIN_AIRPORT  \\\n",
       "5458736      4.0          1   17:29:00      WN            LAX   \n",
       "607853       7.0          1   08:40:00      UA            PHX   \n",
       "3249303      4.0          2   16:36:00      OO            MSP   \n",
       "173719       5.0          0   10:39:00      DL            ATL   \n",
       "4383836     19.0          2   19:46:00      NK            CLE   \n",
       "...          ...        ...        ...     ...            ...   \n",
       "3887339      2.0          5   20:30:00      NK            FLL   \n",
       "2185161      3.0          1   11:52:00      EV            ATL   \n",
       "3527126      5.0          4   20:16:00      OO            SLC   \n",
       "2925234      4.0          4   06:33:00      F9            TTN   \n",
       "1365208     10.0          6   17:22:00      UA            ORD   \n",
       "\n",
       "        DESTINATION_AIRPORT  DEP_TIME SCH_DEP_TIME SCH_ARR_TIME  \\\n",
       "5458736                 SJC  17:19:00     17:05:00     18:10:00   \n",
       "607853                  IAH  08:29:00     08:25:00     12:00:00   \n",
       "3249303                 ISN  16:10:00     14:33:00     16:26:00   \n",
       "173719                  BOS  10:12:00     10:00:00     12:34:00   \n",
       "4383836                 ATL  19:34:00     19:40:00     21:24:00   \n",
       "...                     ...       ...          ...          ...   \n",
       "3887339                 ACY  20:20:00     20:28:00     22:58:00   \n",
       "2185161                 AGS  11:40:00     11:45:00     12:33:00   \n",
       "3527126                 CPR  20:01:00     20:05:00     21:14:00   \n",
       "2925234                 FLL  06:23:00     06:30:00     09:14:00   \n",
       "1365208                 LGA  17:08:00     17:06:00     20:14:00   \n",
       "\n",
       "         DEPARTURE_DELAY  Delayed  \n",
       "5458736             14.0        0  \n",
       "607853               4.0        0  \n",
       "3249303             97.0        1  \n",
       "173719              12.0        0  \n",
       "4383836             -6.0        0  \n",
       "...                  ...      ...  \n",
       "3887339             -8.0        0  \n",
       "2185161             -5.0        0  \n",
       "3527126             -4.0        0  \n",
       "2925234             -7.0        0  \n",
       "1365208              2.0        0  \n",
       "\n",
       "[52311 rows x 11 columns]"
      ]
     },
     "execution_count": 23,
     "metadata": {},
     "output_type": "execute_result"
    }
   ],
   "source": [
    "Flights_Delays_Binary_model_1"
   ]
  },
  {
   "cell_type": "code",
   "execution_count": 24,
   "metadata": {},
   "outputs": [
    {
     "data": {
      "text/html": [
       "<div>\n",
       "<style scoped>\n",
       "    .dataframe tbody tr th:only-of-type {\n",
       "        vertical-align: middle;\n",
       "    }\n",
       "\n",
       "    .dataframe tbody tr th {\n",
       "        vertical-align: top;\n",
       "    }\n",
       "\n",
       "    .dataframe thead th {\n",
       "        text-align: right;\n",
       "    }\n",
       "</style>\n",
       "<table border=\"1\" class=\"dataframe\">\n",
       "  <thead>\n",
       "    <tr style=\"text-align: right;\">\n",
       "      <th></th>\n",
       "      <th>TAXI_IN</th>\n",
       "      <th>DayOfWeek</th>\n",
       "      <th>WHEELS_OFF</th>\n",
       "      <th>AIRLINE</th>\n",
       "      <th>ORIGIN_AIRPORT</th>\n",
       "      <th>DESTINATION_AIRPORT</th>\n",
       "      <th>DEP_TIME</th>\n",
       "      <th>SCH_DEP_TIME</th>\n",
       "      <th>SCH_ARR_TIME</th>\n",
       "      <th>DEPARTURE_DELAY</th>\n",
       "      <th>Delayed</th>\n",
       "    </tr>\n",
       "  </thead>\n",
       "  <tbody>\n",
       "    <tr>\n",
       "      <th>5458736</th>\n",
       "      <td>4.0</td>\n",
       "      <td>1</td>\n",
       "      <td>17:29:00</td>\n",
       "      <td>WN</td>\n",
       "      <td>LAX</td>\n",
       "      <td>SJC</td>\n",
       "      <td>17:19:00</td>\n",
       "      <td>17:05:00</td>\n",
       "      <td>18:10:00</td>\n",
       "      <td>14.0</td>\n",
       "      <td>0</td>\n",
       "    </tr>\n",
       "    <tr>\n",
       "      <th>607853</th>\n",
       "      <td>7.0</td>\n",
       "      <td>1</td>\n",
       "      <td>08:40:00</td>\n",
       "      <td>UA</td>\n",
       "      <td>PHX</td>\n",
       "      <td>IAH</td>\n",
       "      <td>08:29:00</td>\n",
       "      <td>08:25:00</td>\n",
       "      <td>12:00:00</td>\n",
       "      <td>4.0</td>\n",
       "      <td>0</td>\n",
       "    </tr>\n",
       "    <tr>\n",
       "      <th>3249303</th>\n",
       "      <td>4.0</td>\n",
       "      <td>2</td>\n",
       "      <td>16:36:00</td>\n",
       "      <td>OO</td>\n",
       "      <td>MSP</td>\n",
       "      <td>ISN</td>\n",
       "      <td>16:10:00</td>\n",
       "      <td>14:33:00</td>\n",
       "      <td>16:26:00</td>\n",
       "      <td>97.0</td>\n",
       "      <td>1</td>\n",
       "    </tr>\n",
       "    <tr>\n",
       "      <th>173719</th>\n",
       "      <td>5.0</td>\n",
       "      <td>0</td>\n",
       "      <td>10:39:00</td>\n",
       "      <td>DL</td>\n",
       "      <td>ATL</td>\n",
       "      <td>BOS</td>\n",
       "      <td>10:12:00</td>\n",
       "      <td>10:00:00</td>\n",
       "      <td>12:34:00</td>\n",
       "      <td>12.0</td>\n",
       "      <td>0</td>\n",
       "    </tr>\n",
       "    <tr>\n",
       "      <th>4383836</th>\n",
       "      <td>19.0</td>\n",
       "      <td>2</td>\n",
       "      <td>19:46:00</td>\n",
       "      <td>NK</td>\n",
       "      <td>CLE</td>\n",
       "      <td>ATL</td>\n",
       "      <td>19:34:00</td>\n",
       "      <td>19:40:00</td>\n",
       "      <td>21:24:00</td>\n",
       "      <td>-6.0</td>\n",
       "      <td>0</td>\n",
       "    </tr>\n",
       "  </tbody>\n",
       "</table>\n",
       "</div>"
      ],
      "text/plain": [
       "         TAXI_IN  DayOfWeek WHEELS_OFF AIRLINE ORIGIN_AIRPORT  \\\n",
       "5458736      4.0          1   17:29:00      WN            LAX   \n",
       "607853       7.0          1   08:40:00      UA            PHX   \n",
       "3249303      4.0          2   16:36:00      OO            MSP   \n",
       "173719       5.0          0   10:39:00      DL            ATL   \n",
       "4383836     19.0          2   19:46:00      NK            CLE   \n",
       "\n",
       "        DESTINATION_AIRPORT  DEP_TIME SCH_DEP_TIME SCH_ARR_TIME  \\\n",
       "5458736                 SJC  17:19:00     17:05:00     18:10:00   \n",
       "607853                  IAH  08:29:00     08:25:00     12:00:00   \n",
       "3249303                 ISN  16:10:00     14:33:00     16:26:00   \n",
       "173719                  BOS  10:12:00     10:00:00     12:34:00   \n",
       "4383836                 ATL  19:34:00     19:40:00     21:24:00   \n",
       "\n",
       "         DEPARTURE_DELAY  Delayed  \n",
       "5458736             14.0        0  \n",
       "607853               4.0        0  \n",
       "3249303             97.0        1  \n",
       "173719              12.0        0  \n",
       "4383836             -6.0        0  "
      ]
     },
     "execution_count": 24,
     "metadata": {},
     "output_type": "execute_result"
    }
   ],
   "source": [
    "Flights_Delays_Binary_model_1.head()"
   ]
  },
  {
   "cell_type": "code",
   "execution_count": 25,
   "metadata": {},
   "outputs": [
    {
     "data": {
      "text/html": [
       "<div>\n",
       "<style scoped>\n",
       "    .dataframe tbody tr th:only-of-type {\n",
       "        vertical-align: middle;\n",
       "    }\n",
       "\n",
       "    .dataframe tbody tr th {\n",
       "        vertical-align: top;\n",
       "    }\n",
       "\n",
       "    .dataframe thead th {\n",
       "        text-align: right;\n",
       "    }\n",
       "</style>\n",
       "<table border=\"1\" class=\"dataframe\">\n",
       "  <thead>\n",
       "    <tr style=\"text-align: right;\">\n",
       "      <th></th>\n",
       "      <th>TAXI_IN</th>\n",
       "      <th>DayOfWeek</th>\n",
       "      <th>DEPARTURE_DELAY</th>\n",
       "      <th>Delayed</th>\n",
       "    </tr>\n",
       "  </thead>\n",
       "  <tbody>\n",
       "    <tr>\n",
       "      <th>5458736</th>\n",
       "      <td>4.0</td>\n",
       "      <td>1</td>\n",
       "      <td>14.0</td>\n",
       "      <td>0</td>\n",
       "    </tr>\n",
       "    <tr>\n",
       "      <th>607853</th>\n",
       "      <td>7.0</td>\n",
       "      <td>1</td>\n",
       "      <td>4.0</td>\n",
       "      <td>0</td>\n",
       "    </tr>\n",
       "    <tr>\n",
       "      <th>3249303</th>\n",
       "      <td>4.0</td>\n",
       "      <td>2</td>\n",
       "      <td>97.0</td>\n",
       "      <td>1</td>\n",
       "    </tr>\n",
       "    <tr>\n",
       "      <th>173719</th>\n",
       "      <td>5.0</td>\n",
       "      <td>0</td>\n",
       "      <td>12.0</td>\n",
       "      <td>0</td>\n",
       "    </tr>\n",
       "    <tr>\n",
       "      <th>4383836</th>\n",
       "      <td>19.0</td>\n",
       "      <td>2</td>\n",
       "      <td>-6.0</td>\n",
       "      <td>0</td>\n",
       "    </tr>\n",
       "    <tr>\n",
       "      <th>...</th>\n",
       "      <td>...</td>\n",
       "      <td>...</td>\n",
       "      <td>...</td>\n",
       "      <td>...</td>\n",
       "    </tr>\n",
       "    <tr>\n",
       "      <th>3887339</th>\n",
       "      <td>2.0</td>\n",
       "      <td>5</td>\n",
       "      <td>-8.0</td>\n",
       "      <td>0</td>\n",
       "    </tr>\n",
       "    <tr>\n",
       "      <th>2185161</th>\n",
       "      <td>3.0</td>\n",
       "      <td>1</td>\n",
       "      <td>-5.0</td>\n",
       "      <td>0</td>\n",
       "    </tr>\n",
       "    <tr>\n",
       "      <th>3527126</th>\n",
       "      <td>5.0</td>\n",
       "      <td>4</td>\n",
       "      <td>-4.0</td>\n",
       "      <td>0</td>\n",
       "    </tr>\n",
       "    <tr>\n",
       "      <th>2925234</th>\n",
       "      <td>4.0</td>\n",
       "      <td>4</td>\n",
       "      <td>-7.0</td>\n",
       "      <td>0</td>\n",
       "    </tr>\n",
       "    <tr>\n",
       "      <th>1365208</th>\n",
       "      <td>10.0</td>\n",
       "      <td>6</td>\n",
       "      <td>2.0</td>\n",
       "      <td>0</td>\n",
       "    </tr>\n",
       "  </tbody>\n",
       "</table>\n",
       "<p>52311 rows × 4 columns</p>\n",
       "</div>"
      ],
      "text/plain": [
       "         TAXI_IN  DayOfWeek  DEPARTURE_DELAY  Delayed\n",
       "5458736      4.0          1             14.0        0\n",
       "607853       7.0          1              4.0        0\n",
       "3249303      4.0          2             97.0        1\n",
       "173719       5.0          0             12.0        0\n",
       "4383836     19.0          2             -6.0        0\n",
       "...          ...        ...              ...      ...\n",
       "3887339      2.0          5             -8.0        0\n",
       "2185161      3.0          1             -5.0        0\n",
       "3527126      5.0          4             -4.0        0\n",
       "2925234      4.0          4             -7.0        0\n",
       "1365208     10.0          6              2.0        0\n",
       "\n",
       "[52311 rows x 4 columns]"
      ]
     },
     "execution_count": 25,
     "metadata": {},
     "output_type": "execute_result"
    }
   ],
   "source": [
    "Flights_Delays_Binary_model_1._get_numeric_data()"
   ]
  },
  {
   "cell_type": "markdown",
   "metadata": {},
   "source": [
    "#### Separating numeric and categorical columns"
   ]
  },
  {
   "cell_type": "code",
   "execution_count": 26,
   "metadata": {},
   "outputs": [
    {
     "name": "stdout",
     "output_type": "stream",
     "text": [
      "Index(['TAXI_IN', 'DayOfWeek', 'DEPARTURE_DELAY'], dtype='object')\n",
      "Index(['WHEELS_OFF', 'AIRLINE', 'ORIGIN_AIRPORT', 'DESTINATION_AIRPORT',\n",
      "       'DEP_TIME', 'SCH_DEP_TIME', 'SCH_ARR_TIME'],\n",
      "      dtype='object')\n"
     ]
    }
   ],
   "source": [
    "numeric_columns_model_1 = Flights_Delays_Binary_model_1._get_numeric_data().select_dtypes(include=np.number).columns.drop(['Delayed'])\n",
    "cat_columns_model_1 = Flights_Delays_Binary_model_1.select_dtypes(exclude=np.number).columns\n",
    "print(numeric_columns_model_1)\n",
    "print(cat_columns_model_1)"
   ]
  },
  {
   "cell_type": "markdown",
   "metadata": {},
   "source": [
    "***"
   ]
  },
  {
   "cell_type": "markdown",
   "metadata": {},
   "source": [
    "#### Spliting to train and test"
   ]
  },
  {
   "cell_type": "markdown",
   "metadata": {},
   "source": [
    "To split data to train and test tables I use *train_test_split*. I set test_size for 20% of data."
   ]
  },
  {
   "cell_type": "code",
   "execution_count": 27,
   "metadata": {
    "id": "SfZEgu0K02TY"
   },
   "outputs": [],
   "source": [
    "X_train, X_test, y_train, y_test = train_test_split(Flights_Delays_Binary_model_1.drop('Delayed', axis=1),\n",
    "                                                   Flights_Delays_Binary_model_1['Delayed'],\n",
    "                                                   test_size=0.2,\n",
    "                                                   stratify=Flights_Delays_Binary_model_1['Delayed'])"
   ]
  },
  {
   "cell_type": "code",
   "execution_count": 28,
   "metadata": {},
   "outputs": [
    {
     "data": {
      "text/html": [
       "<div>\n",
       "<style scoped>\n",
       "    .dataframe tbody tr th:only-of-type {\n",
       "        vertical-align: middle;\n",
       "    }\n",
       "\n",
       "    .dataframe tbody tr th {\n",
       "        vertical-align: top;\n",
       "    }\n",
       "\n",
       "    .dataframe thead th {\n",
       "        text-align: right;\n",
       "    }\n",
       "</style>\n",
       "<table border=\"1\" class=\"dataframe\">\n",
       "  <thead>\n",
       "    <tr style=\"text-align: right;\">\n",
       "      <th></th>\n",
       "      <th>TAXI_IN</th>\n",
       "      <th>DayOfWeek</th>\n",
       "      <th>WHEELS_OFF</th>\n",
       "      <th>AIRLINE</th>\n",
       "      <th>ORIGIN_AIRPORT</th>\n",
       "      <th>DESTINATION_AIRPORT</th>\n",
       "      <th>DEP_TIME</th>\n",
       "      <th>SCH_DEP_TIME</th>\n",
       "      <th>SCH_ARR_TIME</th>\n",
       "      <th>DEPARTURE_DELAY</th>\n",
       "    </tr>\n",
       "  </thead>\n",
       "  <tbody>\n",
       "    <tr>\n",
       "      <th>1049019</th>\n",
       "      <td>9.0</td>\n",
       "      <td>1</td>\n",
       "      <td>11:00:00</td>\n",
       "      <td>OO</td>\n",
       "      <td>ORD</td>\n",
       "      <td>SDF</td>\n",
       "      <td>10:37:00</td>\n",
       "      <td>10:38:00</td>\n",
       "      <td>12:58:00</td>\n",
       "      <td>-1.0</td>\n",
       "    </tr>\n",
       "    <tr>\n",
       "      <th>3642191</th>\n",
       "      <td>6.0</td>\n",
       "      <td>4</td>\n",
       "      <td>17:58:00</td>\n",
       "      <td>AA</td>\n",
       "      <td>HNL</td>\n",
       "      <td>DFW</td>\n",
       "      <td>17:35:00</td>\n",
       "      <td>17:40:00</td>\n",
       "      <td>06:19:00</td>\n",
       "      <td>-5.0</td>\n",
       "    </tr>\n",
       "    <tr>\n",
       "      <th>1522623</th>\n",
       "      <td>12.0</td>\n",
       "      <td>2</td>\n",
       "      <td>11:07:00</td>\n",
       "      <td>MQ</td>\n",
       "      <td>DRO</td>\n",
       "      <td>DFW</td>\n",
       "      <td>11:01:00</td>\n",
       "      <td>11:10:00</td>\n",
       "      <td>14:08:00</td>\n",
       "      <td>-9.0</td>\n",
       "    </tr>\n",
       "    <tr>\n",
       "      <th>4383550</th>\n",
       "      <td>7.0</td>\n",
       "      <td>2</td>\n",
       "      <td>19:23:00</td>\n",
       "      <td>AA</td>\n",
       "      <td>JAX</td>\n",
       "      <td>DFW</td>\n",
       "      <td>19:11:00</td>\n",
       "      <td>19:22:00</td>\n",
       "      <td>21:10:00</td>\n",
       "      <td>-11.0</td>\n",
       "    </tr>\n",
       "    <tr>\n",
       "      <th>3867360</th>\n",
       "      <td>6.0</td>\n",
       "      <td>4</td>\n",
       "      <td>14:44:00</td>\n",
       "      <td>WN</td>\n",
       "      <td>HOU</td>\n",
       "      <td>AUS</td>\n",
       "      <td>14:36:00</td>\n",
       "      <td>14:20:00</td>\n",
       "      <td>15:05:00</td>\n",
       "      <td>16.0</td>\n",
       "    </tr>\n",
       "    <tr>\n",
       "      <th>...</th>\n",
       "      <td>...</td>\n",
       "      <td>...</td>\n",
       "      <td>...</td>\n",
       "      <td>...</td>\n",
       "      <td>...</td>\n",
       "      <td>...</td>\n",
       "      <td>...</td>\n",
       "      <td>...</td>\n",
       "      <td>...</td>\n",
       "      <td>...</td>\n",
       "    </tr>\n",
       "    <tr>\n",
       "      <th>5212292</th>\n",
       "      <td>24.0</td>\n",
       "      <td>6</td>\n",
       "      <td>15:31:00</td>\n",
       "      <td>UA</td>\n",
       "      <td>MCI</td>\n",
       "      <td>ORD</td>\n",
       "      <td>15:12:00</td>\n",
       "      <td>14:55:00</td>\n",
       "      <td>16:32:00</td>\n",
       "      <td>17.0</td>\n",
       "    </tr>\n",
       "    <tr>\n",
       "      <th>11178</th>\n",
       "      <td>5.0</td>\n",
       "      <td>3</td>\n",
       "      <td>18:31:00</td>\n",
       "      <td>DL</td>\n",
       "      <td>ATL</td>\n",
       "      <td>PHL</td>\n",
       "      <td>18:14:00</td>\n",
       "      <td>18:22:00</td>\n",
       "      <td>20:26:00</td>\n",
       "      <td>-8.0</td>\n",
       "    </tr>\n",
       "    <tr>\n",
       "      <th>3415728</th>\n",
       "      <td>5.0</td>\n",
       "      <td>5</td>\n",
       "      <td>11:49:00</td>\n",
       "      <td>B6</td>\n",
       "      <td>JFK</td>\n",
       "      <td>ACK</td>\n",
       "      <td>11:29:00</td>\n",
       "      <td>10:58:00</td>\n",
       "      <td>12:09:00</td>\n",
       "      <td>31.0</td>\n",
       "    </tr>\n",
       "    <tr>\n",
       "      <th>5045199</th>\n",
       "      <td>4.0</td>\n",
       "      <td>2</td>\n",
       "      <td>20:15:00</td>\n",
       "      <td>OO</td>\n",
       "      <td>SLC</td>\n",
       "      <td>GTF</td>\n",
       "      <td>19:58:00</td>\n",
       "      <td>19:59:00</td>\n",
       "      <td>21:30:00</td>\n",
       "      <td>-1.0</td>\n",
       "    </tr>\n",
       "    <tr>\n",
       "      <th>1167085</th>\n",
       "      <td>8.0</td>\n",
       "      <td>1</td>\n",
       "      <td>14:32:00</td>\n",
       "      <td>VX</td>\n",
       "      <td>SFO</td>\n",
       "      <td>IAD</td>\n",
       "      <td>14:21:00</td>\n",
       "      <td>14:10:00</td>\n",
       "      <td>22:15:00</td>\n",
       "      <td>11.0</td>\n",
       "    </tr>\n",
       "  </tbody>\n",
       "</table>\n",
       "<p>41848 rows × 10 columns</p>\n",
       "</div>"
      ],
      "text/plain": [
       "         TAXI_IN  DayOfWeek WHEELS_OFF AIRLINE ORIGIN_AIRPORT  \\\n",
       "1049019      9.0          1   11:00:00      OO            ORD   \n",
       "3642191      6.0          4   17:58:00      AA            HNL   \n",
       "1522623     12.0          2   11:07:00      MQ            DRO   \n",
       "4383550      7.0          2   19:23:00      AA            JAX   \n",
       "3867360      6.0          4   14:44:00      WN            HOU   \n",
       "...          ...        ...        ...     ...            ...   \n",
       "5212292     24.0          6   15:31:00      UA            MCI   \n",
       "11178        5.0          3   18:31:00      DL            ATL   \n",
       "3415728      5.0          5   11:49:00      B6            JFK   \n",
       "5045199      4.0          2   20:15:00      OO            SLC   \n",
       "1167085      8.0          1   14:32:00      VX            SFO   \n",
       "\n",
       "        DESTINATION_AIRPORT  DEP_TIME SCH_DEP_TIME SCH_ARR_TIME  \\\n",
       "1049019                 SDF  10:37:00     10:38:00     12:58:00   \n",
       "3642191                 DFW  17:35:00     17:40:00     06:19:00   \n",
       "1522623                 DFW  11:01:00     11:10:00     14:08:00   \n",
       "4383550                 DFW  19:11:00     19:22:00     21:10:00   \n",
       "3867360                 AUS  14:36:00     14:20:00     15:05:00   \n",
       "...                     ...       ...          ...          ...   \n",
       "5212292                 ORD  15:12:00     14:55:00     16:32:00   \n",
       "11178                   PHL  18:14:00     18:22:00     20:26:00   \n",
       "3415728                 ACK  11:29:00     10:58:00     12:09:00   \n",
       "5045199                 GTF  19:58:00     19:59:00     21:30:00   \n",
       "1167085                 IAD  14:21:00     14:10:00     22:15:00   \n",
       "\n",
       "         DEPARTURE_DELAY  \n",
       "1049019             -1.0  \n",
       "3642191             -5.0  \n",
       "1522623             -9.0  \n",
       "4383550            -11.0  \n",
       "3867360             16.0  \n",
       "...                  ...  \n",
       "5212292             17.0  \n",
       "11178               -8.0  \n",
       "3415728             31.0  \n",
       "5045199             -1.0  \n",
       "1167085             11.0  \n",
       "\n",
       "[41848 rows x 10 columns]"
      ]
     },
     "execution_count": 28,
     "metadata": {},
     "output_type": "execute_result"
    }
   ],
   "source": [
    "X_train"
   ]
  },
  {
   "cell_type": "code",
   "execution_count": 29,
   "metadata": {},
   "outputs": [
    {
     "name": "stdout",
     "output_type": "stream",
     "text": [
      "0.18913687631428025\n"
     ]
    }
   ],
   "source": [
    "print(sum(y_train[y_train>0])/y_train.count())"
   ]
  },
  {
   "cell_type": "markdown",
   "metadata": {},
   "source": [
    "Only 19% of flights are delayed. That means that data are not balanced. To handle it in proper way it's necesery to use Stratfied version of KFold."
   ]
  },
  {
   "cell_type": "code",
   "execution_count": 30,
   "metadata": {},
   "outputs": [],
   "source": [
    "kfold = StratifiedKFold(n_splits=5)"
   ]
  },
  {
   "cell_type": "markdown",
   "metadata": {},
   "source": [
    "#### Transformer pipeline"
   ]
  },
  {
   "cell_type": "markdown",
   "metadata": {},
   "source": [
    "Data contains numeric and cathegorical variables. To interpret them properly I set two pipelines.\n",
    "* For numeric transformation there is used MinMaxScaler\n",
    "* For cathegorical varablies there is used OneHotEncoder"
   ]
  },
  {
   "cell_type": "code",
   "execution_count": 31,
   "metadata": {
    "id": "NILFq6nt-dsz"
   },
   "outputs": [],
   "source": [
    "# numeric pipeline\n",
    "numeric_transformer = Pipeline(steps=[\n",
    "    ('scale_data', MinMaxScaler())\n",
    "])\n",
    "# categorical pipeline\n",
    "categorical_transformer = Pipeline(steps=[\n",
    "    ('encoder', OneHotEncoder(handle_unknown='ignore'))\n",
    "])\n",
    "# transformer = numerical + categorical\n",
    "transformer = ColumnTransformer([\n",
    "    ('num', numeric_transformer, numeric_columns_model_1),\n",
    "    ('cat', categorical_transformer, cat_columns_model_1)\n",
    "])"
   ]
  },
  {
   "cell_type": "markdown",
   "metadata": {},
   "source": [
    "## Finding best algorithm"
   ]
  },
  {
   "cell_type": "markdown",
   "metadata": {},
   "source": [
    "### LogisticRegression"
   ]
  },
  {
   "cell_type": "code",
   "execution_count": 32,
   "metadata": {},
   "outputs": [],
   "source": [
    "param_grid = {\n",
    "            'classifier__C': [1, 10,25,30,35,45,50,100],\n",
    "}\n",
    "\n",
    "pipeline = Pipeline(steps=[('preprocessor', transformer),\n",
    "                      ('classifier', LogisticRegression(max_iter=10000, solver='saga'))])\n",
    "\n",
    "grid_1 = GridSearchCV(pipeline, param_grid, cv=kfold, return_train_score=True, verbose=5, n_jobs=3)\n",
    "\n"
   ]
  },
  {
   "cell_type": "code",
   "execution_count": 33,
   "metadata": {},
   "outputs": [
    {
     "name": "stdout",
     "output_type": "stream",
     "text": [
      "Fitting 5 folds for each of 8 candidates, totalling 40 fits\n"
     ]
    },
    {
     "name": "stderr",
     "output_type": "stream",
     "text": [
      "[Parallel(n_jobs=3)]: Using backend LokyBackend with 3 concurrent workers.\n",
      "[Parallel(n_jobs=3)]: Done  12 tasks      | elapsed:   13.4s\n",
      "[Parallel(n_jobs=3)]: Done  40 out of  40 | elapsed:  1.2min finished\n"
     ]
    },
    {
     "data": {
      "text/plain": [
       "GridSearchCV(cv=StratifiedKFold(n_splits=5, random_state=None, shuffle=False),\n",
       "             estimator=Pipeline(steps=[('preprocessor',\n",
       "                                        ColumnTransformer(transformers=[('num',\n",
       "                                                                         Pipeline(steps=[('scale_data',\n",
       "                                                                                          MinMaxScaler())]),\n",
       "                                                                         Index(['TAXI_IN', 'DayOfWeek', 'DEPARTURE_DELAY'], dtype='object')),\n",
       "                                                                        ('cat',\n",
       "                                                                         Pipeline(steps=[('encoder',\n",
       "                                                                                          OneHotEncoder(handle_unknown='ignore'))]),\n",
       "                                                                         Index(['WHEELS_OFF', 'AIRLINE', 'ORIGIN_AIRPORT', 'DESTINATION_AIRPORT',\n",
       "       'DEP_TIME', 'SCH_DEP_TIME', 'SCH_ARR_TIME'],\n",
       "      dtype='object'))])),\n",
       "                                       ('classifier',\n",
       "                                        LogisticRegression(max_iter=10000,\n",
       "                                                           solver='saga'))]),\n",
       "             n_jobs=3,\n",
       "             param_grid={'classifier__C': [1, 10, 25, 30, 35, 45, 50, 100]},\n",
       "             return_train_score=True, verbose=5)"
      ]
     },
     "execution_count": 33,
     "metadata": {},
     "output_type": "execute_result"
    }
   ],
   "source": [
    "grid_1.fit(X_train, y_train)\n"
   ]
  },
  {
   "cell_type": "code",
   "execution_count": 34,
   "metadata": {},
   "outputs": [
    {
     "data": {
      "text/plain": [
       "{'classifier__C': 10}"
      ]
     },
     "execution_count": 34,
     "metadata": {},
     "output_type": "execute_result"
    }
   ],
   "source": [
    "grid_1.best_params_"
   ]
  },
  {
   "cell_type": "code",
   "execution_count": 35,
   "metadata": {},
   "outputs": [
    {
     "name": "stdout",
     "output_type": "stream",
     "text": [
      "roc_auc_score: 0.9099335455093188\n"
     ]
    }
   ],
   "source": [
    " print(\"roc_auc_score: {}\".format( metrics.roc_auc_score(y_test , grid_1.decision_function(X_test)) ))      "
   ]
  },
  {
   "cell_type": "markdown",
   "metadata": {},
   "source": [
    "### LinearSVC"
   ]
  },
  {
   "cell_type": "code",
   "execution_count": 36,
   "metadata": {},
   "outputs": [],
   "source": [
    "pipe = Pipeline([('preprocessing', transformer), ('classifier', LinearSVC(C=1, max_iter=10000))])\n",
    "\n",
    "param_grid = {\n",
    "            'classifier__C': [0.1, 1, 10, 100,1000]\n",
    "}\n",
    "\n",
    "grid_2 = GridSearchCV(pipe, param_grid, cv=kfold, return_train_score=True, verbose=5, n_jobs=3)\n"
   ]
  },
  {
   "cell_type": "code",
   "execution_count": 37,
   "metadata": {},
   "outputs": [
    {
     "name": "stdout",
     "output_type": "stream",
     "text": [
      "Fitting 5 folds for each of 5 candidates, totalling 25 fits\n"
     ]
    },
    {
     "name": "stderr",
     "output_type": "stream",
     "text": [
      "[Parallel(n_jobs=3)]: Using backend LokyBackend with 3 concurrent workers.\n",
      "[Parallel(n_jobs=3)]: Done  12 tasks      | elapsed:   11.2s\n",
      "[Parallel(n_jobs=3)]: Done  25 out of  25 | elapsed:  1.4min finished\n"
     ]
    },
    {
     "data": {
      "text/plain": [
       "{'classifier__C': 1}"
      ]
     },
     "execution_count": 37,
     "metadata": {},
     "output_type": "execute_result"
    }
   ],
   "source": [
    "grid_2.fit(X_train, y_train)\n",
    "grid_2.best_params_"
   ]
  },
  {
   "cell_type": "code",
   "execution_count": 38,
   "metadata": {},
   "outputs": [
    {
     "name": "stdout",
     "output_type": "stream",
     "text": [
      "roc_auc_score: 0.9151166813064762\n"
     ]
    }
   ],
   "source": [
    " print(\"roc_auc_score: {}\".format( metrics.roc_auc_score(y_test , grid_2.decision_function(X_test)) ))      "
   ]
  },
  {
   "cell_type": "markdown",
   "metadata": {},
   "source": [
    "### RandomForestClassifier"
   ]
  },
  {
   "cell_type": "code",
   "execution_count": 39,
   "metadata": {},
   "outputs": [],
   "source": [
    "pipe = Pipeline([('preprocessing', transformer), ('classifier', RandomForestClassifier())])\n",
    "\n",
    "param_grid = {\n",
    "            'classifier__n_estimators': [20,45],\n",
    "            'classifier__max_features': [45,100],\n",
    "            'classifier__max_depth': [50,100]\n",
    "}\n",
    "\n",
    "grid_3 = GridSearchCV(pipe, param_grid, cv=kfold, return_train_score=True, verbose=5, n_jobs=3)\n",
    "\n"
   ]
  },
  {
   "cell_type": "code",
   "execution_count": 40,
   "metadata": {},
   "outputs": [
    {
     "name": "stdout",
     "output_type": "stream",
     "text": [
      "Fitting 5 folds for each of 8 candidates, totalling 40 fits\n"
     ]
    },
    {
     "name": "stderr",
     "output_type": "stream",
     "text": [
      "[Parallel(n_jobs=3)]: Using backend LokyBackend with 3 concurrent workers.\n",
      "[Parallel(n_jobs=3)]: Done  12 tasks      | elapsed:   10.8s\n",
      "[Parallel(n_jobs=3)]: Done  40 out of  40 | elapsed:   48.1s finished\n"
     ]
    },
    {
     "data": {
      "text/plain": [
       "GridSearchCV(cv=StratifiedKFold(n_splits=5, random_state=None, shuffle=False),\n",
       "             estimator=Pipeline(steps=[('preprocessing',\n",
       "                                        ColumnTransformer(transformers=[('num',\n",
       "                                                                         Pipeline(steps=[('scale_data',\n",
       "                                                                                          MinMaxScaler())]),\n",
       "                                                                         Index(['TAXI_IN', 'DayOfWeek', 'DEPARTURE_DELAY'], dtype='object')),\n",
       "                                                                        ('cat',\n",
       "                                                                         Pipeline(steps=[('encoder',\n",
       "                                                                                          OneHotEncoder(handle_unknown='ignore'))]),\n",
       "                                                                         Index(['WHEELS_OFF', 'AIRLINE', 'ORIGIN_AIRPORT', 'DESTINATION_AIRPORT',\n",
       "       'DEP_TIME', 'SCH_DEP_TIME', 'SCH_ARR_TIME'],\n",
       "      dtype='object'))])),\n",
       "                                       ('classifier',\n",
       "                                        RandomForestClassifier())]),\n",
       "             n_jobs=3,\n",
       "             param_grid={'classifier__max_depth': [50, 100],\n",
       "                         'classifier__max_features': [45, 100],\n",
       "                         'classifier__n_estimators': [20, 45]},\n",
       "             return_train_score=True, verbose=5)"
      ]
     },
     "execution_count": 40,
     "metadata": {},
     "output_type": "execute_result"
    }
   ],
   "source": [
    "grid_3.fit(X_train, y_train)"
   ]
  },
  {
   "cell_type": "code",
   "execution_count": 41,
   "metadata": {},
   "outputs": [
    {
     "data": {
      "text/plain": [
       "{'classifier__max_depth': 100,\n",
       " 'classifier__max_features': 100,\n",
       " 'classifier__n_estimators': 45}"
      ]
     },
     "execution_count": 41,
     "metadata": {},
     "output_type": "execute_result"
    }
   ],
   "source": [
    "grid_3.best_params_"
   ]
  },
  {
   "cell_type": "code",
   "execution_count": 42,
   "metadata": {},
   "outputs": [
    {
     "name": "stdout",
     "output_type": "stream",
     "text": [
      "Fitting 5 folds for each of 8 candidates, totalling 40 fits\n"
     ]
    },
    {
     "name": "stderr",
     "output_type": "stream",
     "text": [
      "[Parallel(n_jobs=3)]: Using backend LokyBackend with 3 concurrent workers.\n",
      "[Parallel(n_jobs=3)]: Done  12 tasks      | elapsed:   10.9s\n",
      "[Parallel(n_jobs=3)]: Done  40 out of  40 | elapsed:   45.7s finished\n"
     ]
    },
    {
     "data": {
      "text/plain": [
       "{'classifier__max_depth': 100,\n",
       " 'classifier__max_features': 100,\n",
       " 'classifier__n_estimators': 20}"
      ]
     },
     "execution_count": 42,
     "metadata": {},
     "output_type": "execute_result"
    }
   ],
   "source": [
    "grid_3.fit(X_train, y_train)\n",
    "grid_3.best_params_"
   ]
  },
  {
   "cell_type": "markdown",
   "metadata": {},
   "source": [
    "### DecisionTreeClassifier"
   ]
  },
  {
   "cell_type": "code",
   "execution_count": 43,
   "metadata": {},
   "outputs": [],
   "source": [
    "from sklearn.tree import DecisionTreeClassifier\n",
    "\n",
    "pipe_4 = Pipeline([('preprocessing', transformer), \n",
    "                   ('classifier', DecisionTreeClassifier())])\n",
    "\n",
    "param_grid_4 = {\n",
    "            'classifier__max_depth': [10,20,25,30],\n",
    "            'classifier__min_samples_split': [60,80,100],\n",
    "            'classifier__max_leaf_nodes': [60,85,100]\n",
    "}\n",
    "\n",
    "\n",
    "grid_4 = GridSearchCV(pipe_4, param_grid_4, cv=kfold, return_train_score=True, verbose=5, n_jobs=3)\n",
    "\n"
   ]
  },
  {
   "cell_type": "code",
   "execution_count": 44,
   "metadata": {},
   "outputs": [
    {
     "name": "stdout",
     "output_type": "stream",
     "text": [
      "Fitting 5 folds for each of 36 candidates, totalling 180 fits\n"
     ]
    },
    {
     "name": "stderr",
     "output_type": "stream",
     "text": [
      "[Parallel(n_jobs=3)]: Using backend LokyBackend with 3 concurrent workers.\n",
      "[Parallel(n_jobs=3)]: Done  12 tasks      | elapsed:    5.1s\n",
      "[Parallel(n_jobs=3)]: Done  66 tasks      | elapsed:   25.1s\n",
      "[Parallel(n_jobs=3)]: Done 156 tasks      | elapsed:   58.7s\n",
      "[Parallel(n_jobs=3)]: Done 180 out of 180 | elapsed:  1.1min finished\n"
     ]
    },
    {
     "data": {
      "text/plain": [
       "{'classifier__max_depth': 10,\n",
       " 'classifier__max_leaf_nodes': 60,\n",
       " 'classifier__min_samples_split': 60}"
      ]
     },
     "execution_count": 44,
     "metadata": {},
     "output_type": "execute_result"
    }
   ],
   "source": [
    "grid_4.fit(X_train, y_train)\n",
    "grid_4.best_params_"
   ]
  },
  {
   "cell_type": "code",
   "execution_count": 45,
   "metadata": {},
   "outputs": [
    {
     "name": "stdout",
     "output_type": "stream",
     "text": [
      "roc_auc_score: 0.9286817334010886\n"
     ]
    }
   ],
   "source": [
    "print(\"roc_auc_score: {}\".format( metrics.roc_auc_score(y_test , grid_4.predict_proba(X_test)[:,1]) ))"
   ]
  },
  {
   "cell_type": "markdown",
   "metadata": {},
   "source": [
    "### BaggingClassifier"
   ]
  },
  {
   "cell_type": "code",
   "execution_count": 46,
   "metadata": {},
   "outputs": [],
   "source": [
    "from sklearn.ensemble import BaggingClassifier\n",
    "from sklearn.tree import DecisionTreeClassifier\n",
    "\n",
    "pipe_5 = Pipeline([('preprocessing', transformer), \n",
    "                   ('classifier', BaggingClassifier(\n",
    "                                    DecisionTreeClassifier(random_state=42), n_estimators=500,\n",
    "                                    max_samples=100, bootstrap=True, random_state=42))\n",
    "                  ])\n",
    "\n",
    "param_grid_5 = {'classifier__n_estimators': [10,50,100],\n",
    "              'classifier__max_samples': [20,40,60,100]\n",
    "             }\n",
    "\n",
    "grid_5 = GridSearchCV(pipe_5, param_grid_5, cv=kfold, return_train_score=True, verbose=5, n_jobs=3)\n",
    "\n",
    "\n"
   ]
  },
  {
   "cell_type": "code",
   "execution_count": 47,
   "metadata": {},
   "outputs": [
    {
     "name": "stdout",
     "output_type": "stream",
     "text": [
      "Fitting 5 folds for each of 12 candidates, totalling 60 fits\n"
     ]
    },
    {
     "name": "stderr",
     "output_type": "stream",
     "text": [
      "[Parallel(n_jobs=3)]: Using backend LokyBackend with 3 concurrent workers.\n",
      "[Parallel(n_jobs=3)]: Done  12 tasks      | elapsed:   12.3s\n",
      "[Parallel(n_jobs=3)]: Done  60 out of  60 | elapsed:   50.0s finished\n"
     ]
    },
    {
     "data": {
      "text/plain": [
       "{'classifier__max_samples': 100, 'classifier__n_estimators': 100}"
      ]
     },
     "execution_count": 47,
     "metadata": {},
     "output_type": "execute_result"
    }
   ],
   "source": [
    "grid_5.fit(X_train, y_train)\n",
    "grid_5.best_params_"
   ]
  },
  {
   "cell_type": "code",
   "execution_count": 48,
   "metadata": {},
   "outputs": [
    {
     "name": "stdout",
     "output_type": "stream",
     "text": [
      "roc_auc_score: 0.9282080837478103\n"
     ]
    }
   ],
   "source": [
    "print(\"roc_auc_score: {}\".format( metrics.roc_auc_score(y_test , grid_5.predict_proba(X_test)[:,1]) ))"
   ]
  },
  {
   "cell_type": "markdown",
   "metadata": {},
   "source": [
    "## Compering algorithms"
   ]
  },
  {
   "cell_type": "code",
   "execution_count": 49,
   "metadata": {},
   "outputs": [
    {
     "name": "stdout",
     "output_type": "stream",
     "text": [
      "roc_auc_score: 0.9099335455093188\n",
      "roc_auc_score: 0.9151166813064762\n",
      "roc_auc_score: 0.9057368696156413\n",
      "roc_auc_score: 0.9286817334010886\n",
      "roc_auc_score: 0.9282080837478103\n"
     ]
    },
    {
     "data": {
      "text/html": [
       "<div>\n",
       "<style scoped>\n",
       "    .dataframe tbody tr th:only-of-type {\n",
       "        vertical-align: middle;\n",
       "    }\n",
       "\n",
       "    .dataframe tbody tr th {\n",
       "        vertical-align: top;\n",
       "    }\n",
       "\n",
       "    .dataframe thead th {\n",
       "        text-align: right;\n",
       "    }\n",
       "</style>\n",
       "<table border=\"1\" class=\"dataframe\">\n",
       "  <thead>\n",
       "    <tr style=\"text-align: right;\">\n",
       "      <th></th>\n",
       "      <th>LR</th>\n",
       "      <th>SVM linear</th>\n",
       "      <th>RandomForestClassifier</th>\n",
       "      <th>DecisionTreeClassifier</th>\n",
       "      <th>BaggingClassifier</th>\n",
       "    </tr>\n",
       "  </thead>\n",
       "  <tbody>\n",
       "    <tr>\n",
       "      <th>precision_score</th>\n",
       "      <td>0.862114</td>\n",
       "      <td>0.868472</td>\n",
       "      <td>0.885482</td>\n",
       "      <td>0.871084</td>\n",
       "      <td>0.862605</td>\n",
       "    </tr>\n",
       "    <tr>\n",
       "      <th>recall_score</th>\n",
       "      <td>0.663466</td>\n",
       "      <td>0.680647</td>\n",
       "      <td>0.715008</td>\n",
       "      <td>0.730672</td>\n",
       "      <td>0.729661</td>\n",
       "    </tr>\n",
       "    <tr>\n",
       "      <th>f1_score</th>\n",
       "      <td>0.749857</td>\n",
       "      <td>0.763173</td>\n",
       "      <td>0.791166</td>\n",
       "      <td>0.794724</td>\n",
       "      <td>0.790583</td>\n",
       "    </tr>\n",
       "    <tr>\n",
       "      <th>accuracy_score</th>\n",
       "      <td>0.916276</td>\n",
       "      <td>0.920099</td>\n",
       "      <td>0.928606</td>\n",
       "      <td>0.928606</td>\n",
       "      <td>0.926885</td>\n",
       "    </tr>\n",
       "    <tr>\n",
       "      <th>roc_auc_score</th>\n",
       "      <td>0.909934</td>\n",
       "      <td>0.915117</td>\n",
       "      <td>0.905737</td>\n",
       "      <td>0.928682</td>\n",
       "      <td>0.928208</td>\n",
       "    </tr>\n",
       "  </tbody>\n",
       "</table>\n",
       "</div>"
      ],
      "text/plain": [
       "                       LR  SVM linear  RandomForestClassifier  \\\n",
       "precision_score  0.862114    0.868472                0.885482   \n",
       "recall_score     0.663466    0.680647                0.715008   \n",
       "f1_score         0.749857    0.763173                0.791166   \n",
       "accuracy_score   0.916276    0.920099                0.928606   \n",
       "roc_auc_score    0.909934    0.915117                0.905737   \n",
       "\n",
       "                 DecisionTreeClassifier  BaggingClassifier  \n",
       "precision_score                0.871084           0.862605  \n",
       "recall_score                   0.730672           0.729661  \n",
       "f1_score                       0.794724           0.790583  \n",
       "accuracy_score                 0.928606           0.926885  \n",
       "roc_auc_score                  0.928682           0.928208  "
      ]
     },
     "execution_count": 49,
     "metadata": {},
     "output_type": "execute_result"
    },
    {
     "data": {
      "image/png": "[encoded data removed]",
      "text/plain": [
       "<Figure size 1080x720 with 1 Axes>"
      ]
     },
     "metadata": {
      "needs_background": "light"
     },
     "output_type": "display_data"
    }
   ],
   "source": [
    "\n",
    "models = []\n",
    "models.append(('LR', grid_1.best_estimator_))\n",
    "models.append(('SVM linear', grid_2.best_estimator_))\n",
    "models.append(('RandomForestClassifier', grid_3.best_estimator_))\n",
    "models.append(('DecisionTreeClassifier', grid_4.best_estimator_))\n",
    "models.append(('BaggingClassifier', grid_5.best_estimator_))\n",
    "\n",
    "\n",
    "model_names = [name for name, *_ in models]\n",
    "parameters_names = ['precision_score', 'recall_score', 'f1_score', 'accuracy_score', 'roc_auc_score']\n",
    "precision_score = []\n",
    "recall_score = []\n",
    "f1_score = []\n",
    "accuracy_score = []\n",
    "roc_auc_score = []\n",
    "pyplot.figure(figsize=(15,10))\n",
    "for name, model in models:\n",
    "    if (name == 'SVM linear'):\n",
    "        print(\"roc_auc_score: {}\".format( metrics.roc_auc_score(y_test , model.decision_function(X_test)) ))            \n",
    "    else:\n",
    "        print(\"roc_auc_score: {}\".format( metrics.roc_auc_score(y_test , model.predict_proba(X_test)[:,1]) ))\n",
    "    \n",
    "    precision_score.append(metrics.precision_score(y_test , model.predict(X_test)))\n",
    "    recall_score.append(metrics.recall_score(y_test , model.predict(X_test)))\n",
    "    f1_score.append( metrics.f1_score(y_test , model.predict(X_test)))\n",
    "    accuracy_score.append(metrics.accuracy_score(y_test , model.predict(X_test)))\n",
    "    if (name == 'SVM linear'):\n",
    "        roc_auc_score.append(metrics.roc_auc_score(y_test , model.decision_function(X_test))) \n",
    "        #lr_probs = model.decision_function(X_test)\n",
    "        model_probs = model.decision_function(X_test)        \n",
    "        model_auc = metrics.roc_auc_score(y_test, model_probs)\n",
    "        model_fpr, model_tpr, _ = roc_curve(y_test, model_probs)\n",
    "        pyplot.plot(model_fpr, model_tpr, marker='.', label=name)\n",
    "    else:    \n",
    "        roc_auc_score.append(metrics.roc_auc_score(y_test , model.predict_proba(X_test)[:,1]))\n",
    "        model_probs = model.predict_proba(X_test)\n",
    "        model_probs = model_probs[:, 1]\n",
    "        model_auc = metrics.roc_auc_score(y_test, model_probs)\n",
    "        model_fpr, model_tpr, _ = roc_curve(y_test, model_probs)\n",
    "        pyplot.plot(model_fpr, model_tpr, marker='.', label=name)\n",
    "pyplot.xlabel('False Positive Rate')\n",
    "pyplot.ylabel('True Positive Rate')\n",
    "ns_probs = [0 for _ in range(len(X_test))]\n",
    "ns_auc = metrics.roc_auc_score(y_test, ns_probs)\n",
    "ns_fpr, ns_tpr, _ = roc_curve(y_test, ns_probs)\n",
    "pyplot.plot(ns_fpr, ns_tpr, linestyle='--', label='No Skill')\n",
    "pyplot.legend()\n",
    "pd.DataFrame([precision_score ,recall_score ,f1_score ,accuracy_score ,roc_auc_score], columns=model_names, index=parameters_names) "
   ]
  },
  {
   "cell_type": "markdown",
   "metadata": {},
   "source": [
    "For Model 1 Decission Tree is best ML algorithm. It has the highest ROC AUC Score."
   ]
  },
  {
   "cell_type": "code",
   "execution_count": 50,
   "metadata": {},
   "outputs": [],
   "source": [
    "model_1 = grid_4"
   ]
  },
  {
   "cell_type": "markdown",
   "metadata": {},
   "source": [
    "## Model 2"
   ]
  },
  {
   "cell_type": "markdown",
   "metadata": {},
   "source": [
    "This model will contain only variables that are avaiable before few hours before plane take-off."
   ]
  },
  {
   "cell_type": "code",
   "execution_count": 51,
   "metadata": {},
   "outputs": [
    {
     "data": {
      "text/plain": [
       "Index(['AIRLINE', 'FLIGHT_NUMBER', 'TAIL_NUMBER', 'ORIGIN_AIRPORT',\n",
       "       'DESTINATION_AIRPORT', 'DEPARTURE_DELAY', 'TAXI_OUT', 'WHEELS_OFF',\n",
       "       'SCHEDULED_TIME', 'ELAPSED_TIME', 'AIR_TIME', 'DISTANCE', 'WHEELS_ON',\n",
       "       'TAXI_IN', 'DEP_TIME', 'SCH_ARR_TIME', 'SCH_DEP_TIME', 'ARR_TIME',\n",
       "       'DATE', 'DayOfWeek', 'Holidays', 'Delayed'],\n",
       "      dtype='object')"
      ]
     },
     "execution_count": 51,
     "metadata": {},
     "output_type": "execute_result"
    }
   ],
   "source": [
    "Flights_Delays_Binary_small.columns"
   ]
  },
  {
   "cell_type": "markdown",
   "metadata": {},
   "source": [
    "Variables that are avaiable before start:\n",
    "\n",
    "'AIRLINE', 'FLIGHT_NUMBER', 'TAIL_NUMBER', ,'ORIGIN_AIRPORT_transformed','DESTINATION_AIRPORT_transformed', 'DEPARTURE_DELAY','TAXI_OUT', 'WHEELS_OFF', 'SCHEDULED_TIME','DISTANCE', 'DEP_TIME', 'SCH_ARR_TIME', 'SCH_DEP_TIME', 'DATE', 'DayOfWeek', 'Holidays', 'Delayed'\n"
   ]
  },
  {
   "cell_type": "code",
   "execution_count": 52,
   "metadata": {},
   "outputs": [],
   "source": [
    "model_2_cols = ['AIRLINE', 'FLIGHT_NUMBER','ORIGIN_AIRPORT','DESTINATION_AIRPORT', 'TAIL_NUMBER', 'SCHEDULED_TIME','DISTANCE', 'SCH_ARR_TIME', 'SCH_DEP_TIME', 'DayOfWeek', 'Holidays', 'Delayed']\n",
    "Flights_Delays_Binary_model_2 = Flights_Delays_Binary_small[model_2_cols]"
   ]
  },
  {
   "cell_type": "code",
   "execution_count": 53,
   "metadata": {},
   "outputs": [
    {
     "data": {
      "text/html": [
       "<div>\n",
       "<style scoped>\n",
       "    .dataframe tbody tr th:only-of-type {\n",
       "        vertical-align: middle;\n",
       "    }\n",
       "\n",
       "    .dataframe tbody tr th {\n",
       "        vertical-align: top;\n",
       "    }\n",
       "\n",
       "    .dataframe thead th {\n",
       "        text-align: right;\n",
       "    }\n",
       "</style>\n",
       "<table border=\"1\" class=\"dataframe\">\n",
       "  <thead>\n",
       "    <tr style=\"text-align: right;\">\n",
       "      <th></th>\n",
       "      <th>FLIGHT_NUMBER</th>\n",
       "      <th>SCHEDULED_TIME</th>\n",
       "      <th>DISTANCE</th>\n",
       "      <th>DayOfWeek</th>\n",
       "      <th>Holidays</th>\n",
       "      <th>Delayed</th>\n",
       "    </tr>\n",
       "  </thead>\n",
       "  <tbody>\n",
       "    <tr>\n",
       "      <th>5458736</th>\n",
       "      <td>2980</td>\n",
       "      <td>65.0</td>\n",
       "      <td>308</td>\n",
       "      <td>1</td>\n",
       "      <td>0</td>\n",
       "      <td>0</td>\n",
       "    </tr>\n",
       "    <tr>\n",
       "      <th>607853</th>\n",
       "      <td>1752</td>\n",
       "      <td>155.0</td>\n",
       "      <td>1009</td>\n",
       "      <td>1</td>\n",
       "      <td>0</td>\n",
       "      <td>0</td>\n",
       "    </tr>\n",
       "    <tr>\n",
       "      <th>3249303</th>\n",
       "      <td>4475</td>\n",
       "      <td>113.0</td>\n",
       "      <td>546</td>\n",
       "      <td>2</td>\n",
       "      <td>0</td>\n",
       "      <td>1</td>\n",
       "    </tr>\n",
       "    <tr>\n",
       "      <th>173719</th>\n",
       "      <td>1100</td>\n",
       "      <td>154.0</td>\n",
       "      <td>946</td>\n",
       "      <td>0</td>\n",
       "      <td>0</td>\n",
       "      <td>0</td>\n",
       "    </tr>\n",
       "    <tr>\n",
       "      <th>4383836</th>\n",
       "      <td>249</td>\n",
       "      <td>104.0</td>\n",
       "      <td>554</td>\n",
       "      <td>2</td>\n",
       "      <td>0</td>\n",
       "      <td>0</td>\n",
       "    </tr>\n",
       "    <tr>\n",
       "      <th>...</th>\n",
       "      <td>...</td>\n",
       "      <td>...</td>\n",
       "      <td>...</td>\n",
       "      <td>...</td>\n",
       "      <td>...</td>\n",
       "      <td>...</td>\n",
       "    </tr>\n",
       "    <tr>\n",
       "      <th>3887339</th>\n",
       "      <td>268</td>\n",
       "      <td>150.0</td>\n",
       "      <td>977</td>\n",
       "      <td>5</td>\n",
       "      <td>0</td>\n",
       "      <td>0</td>\n",
       "    </tr>\n",
       "    <tr>\n",
       "      <th>2185161</th>\n",
       "      <td>5541</td>\n",
       "      <td>48.0</td>\n",
       "      <td>143</td>\n",
       "      <td>1</td>\n",
       "      <td>0</td>\n",
       "      <td>0</td>\n",
       "    </tr>\n",
       "    <tr>\n",
       "      <th>3527126</th>\n",
       "      <td>7384</td>\n",
       "      <td>69.0</td>\n",
       "      <td>320</td>\n",
       "      <td>4</td>\n",
       "      <td>0</td>\n",
       "      <td>0</td>\n",
       "    </tr>\n",
       "    <tr>\n",
       "      <th>2925234</th>\n",
       "      <td>903</td>\n",
       "      <td>164.0</td>\n",
       "      <td>1026</td>\n",
       "      <td>4</td>\n",
       "      <td>0</td>\n",
       "      <td>0</td>\n",
       "    </tr>\n",
       "    <tr>\n",
       "      <th>1365208</th>\n",
       "      <td>1196</td>\n",
       "      <td>128.0</td>\n",
       "      <td>733</td>\n",
       "      <td>6</td>\n",
       "      <td>0</td>\n",
       "      <td>0</td>\n",
       "    </tr>\n",
       "  </tbody>\n",
       "</table>\n",
       "<p>52311 rows × 6 columns</p>\n",
       "</div>"
      ],
      "text/plain": [
       "         FLIGHT_NUMBER  SCHEDULED_TIME  DISTANCE  DayOfWeek  Holidays  Delayed\n",
       "5458736           2980            65.0       308          1         0        0\n",
       "607853            1752           155.0      1009          1         0        0\n",
       "3249303           4475           113.0       546          2         0        1\n",
       "173719            1100           154.0       946          0         0        0\n",
       "4383836            249           104.0       554          2         0        0\n",
       "...                ...             ...       ...        ...       ...      ...\n",
       "3887339            268           150.0       977          5         0        0\n",
       "2185161           5541            48.0       143          1         0        0\n",
       "3527126           7384            69.0       320          4         0        0\n",
       "2925234            903           164.0      1026          4         0        0\n",
       "1365208           1196           128.0       733          6         0        0\n",
       "\n",
       "[52311 rows x 6 columns]"
      ]
     },
     "execution_count": 53,
     "metadata": {},
     "output_type": "execute_result"
    }
   ],
   "source": [
    "Flights_Delays_Binary_model_2._get_numeric_data()"
   ]
  },
  {
   "cell_type": "code",
   "execution_count": 54,
   "metadata": {},
   "outputs": [
    {
     "name": "stdout",
     "output_type": "stream",
     "text": [
      "Index(['FLIGHT_NUMBER', 'SCHEDULED_TIME', 'DISTANCE', 'DayOfWeek', 'Holidays'], dtype='object')\n",
      "Index(['AIRLINE', 'ORIGIN_AIRPORT', 'DESTINATION_AIRPORT', 'TAIL_NUMBER',\n",
      "       'SCH_ARR_TIME', 'SCH_DEP_TIME'],\n",
      "      dtype='object')\n"
     ]
    }
   ],
   "source": [
    "numeric_columns_model_2 = Flights_Delays_Binary_model_2._get_numeric_data().select_dtypes(include=np.number).columns.drop(['Delayed'])\n",
    "cat_columns_model_2 = Flights_Delays_Binary_model_2.select_dtypes(exclude=np.number).columns\n",
    "print(numeric_columns_model_2)\n",
    "print(cat_columns_model_2)"
   ]
  },
  {
   "cell_type": "code",
   "execution_count": 55,
   "metadata": {},
   "outputs": [],
   "source": [
    "X_train, X_test, y_train, y_test = train_test_split(Flights_Delays_Binary_model_2.drop('Delayed', axis=1),\n",
    "                                                   Flights_Delays_Binary_model_2['Delayed'],\n",
    "                                                   test_size=0.2,\n",
    "                                                   stratify=Flights_Delays_Binary_model_2['Delayed'])"
   ]
  },
  {
   "cell_type": "code",
   "execution_count": 56,
   "metadata": {},
   "outputs": [
    {
     "data": {
      "text/html": [
       "<div>\n",
       "<style scoped>\n",
       "    .dataframe tbody tr th:only-of-type {\n",
       "        vertical-align: middle;\n",
       "    }\n",
       "\n",
       "    .dataframe tbody tr th {\n",
       "        vertical-align: top;\n",
       "    }\n",
       "\n",
       "    .dataframe thead th {\n",
       "        text-align: right;\n",
       "    }\n",
       "</style>\n",
       "<table border=\"1\" class=\"dataframe\">\n",
       "  <thead>\n",
       "    <tr style=\"text-align: right;\">\n",
       "      <th></th>\n",
       "      <th>AIRLINE</th>\n",
       "      <th>FLIGHT_NUMBER</th>\n",
       "      <th>ORIGIN_AIRPORT</th>\n",
       "      <th>DESTINATION_AIRPORT</th>\n",
       "      <th>TAIL_NUMBER</th>\n",
       "      <th>SCHEDULED_TIME</th>\n",
       "      <th>DISTANCE</th>\n",
       "      <th>SCH_ARR_TIME</th>\n",
       "      <th>SCH_DEP_TIME</th>\n",
       "      <th>DayOfWeek</th>\n",
       "      <th>Holidays</th>\n",
       "    </tr>\n",
       "  </thead>\n",
       "  <tbody>\n",
       "    <tr>\n",
       "      <th>5529672</th>\n",
       "      <td>HA</td>\n",
       "      <td>24</td>\n",
       "      <td>OGG</td>\n",
       "      <td>OAK</td>\n",
       "      <td>N588HA</td>\n",
       "      <td>305.0</td>\n",
       "      <td>2349</td>\n",
       "      <td>19:30:00</td>\n",
       "      <td>12:25:00</td>\n",
       "      <td>6</td>\n",
       "      <td>0</td>\n",
       "    </tr>\n",
       "    <tr>\n",
       "      <th>3269434</th>\n",
       "      <td>B6</td>\n",
       "      <td>402</td>\n",
       "      <td>FLL</td>\n",
       "      <td>JFK</td>\n",
       "      <td>N507JB</td>\n",
       "      <td>192.0</td>\n",
       "      <td>1069</td>\n",
       "      <td>20:31:00</td>\n",
       "      <td>17:19:00</td>\n",
       "      <td>3</td>\n",
       "      <td>0</td>\n",
       "    </tr>\n",
       "    <tr>\n",
       "      <th>5816843</th>\n",
       "      <td>UA</td>\n",
       "      <td>1439</td>\n",
       "      <td>IAH</td>\n",
       "      <td>DEN</td>\n",
       "      <td>N68834</td>\n",
       "      <td>160.0</td>\n",
       "      <td>862</td>\n",
       "      <td>19:27:00</td>\n",
       "      <td>17:47:00</td>\n",
       "      <td>3</td>\n",
       "      <td>0</td>\n",
       "    </tr>\n",
       "    <tr>\n",
       "      <th>3559312</th>\n",
       "      <td>AA</td>\n",
       "      <td>376</td>\n",
       "      <td>MIA</td>\n",
       "      <td>LGA</td>\n",
       "      <td>N3JKAA</td>\n",
       "      <td>177.0</td>\n",
       "      <td>1096</td>\n",
       "      <td>23:47:00</td>\n",
       "      <td>20:50:00</td>\n",
       "      <td>6</td>\n",
       "      <td>0</td>\n",
       "    </tr>\n",
       "    <tr>\n",
       "      <th>3680272</th>\n",
       "      <td>AA</td>\n",
       "      <td>551</td>\n",
       "      <td>PHL</td>\n",
       "      <td>SFO</td>\n",
       "      <td>N188US</td>\n",
       "      <td>370.0</td>\n",
       "      <td>2521</td>\n",
       "      <td>11:00:00</td>\n",
       "      <td>07:50:00</td>\n",
       "      <td>0</td>\n",
       "      <td>0</td>\n",
       "    </tr>\n",
       "    <tr>\n",
       "      <th>...</th>\n",
       "      <td>...</td>\n",
       "      <td>...</td>\n",
       "      <td>...</td>\n",
       "      <td>...</td>\n",
       "      <td>...</td>\n",
       "      <td>...</td>\n",
       "      <td>...</td>\n",
       "      <td>...</td>\n",
       "      <td>...</td>\n",
       "      <td>...</td>\n",
       "      <td>...</td>\n",
       "    </tr>\n",
       "    <tr>\n",
       "      <th>1232284</th>\n",
       "      <td>WN</td>\n",
       "      <td>2027</td>\n",
       "      <td>SAN</td>\n",
       "      <td>SAT</td>\n",
       "      <td>N715SW</td>\n",
       "      <td>155.0</td>\n",
       "      <td>1129</td>\n",
       "      <td>17:40:00</td>\n",
       "      <td>13:05:00</td>\n",
       "      <td>5</td>\n",
       "      <td>0</td>\n",
       "    </tr>\n",
       "    <tr>\n",
       "      <th>4920070</th>\n",
       "      <td>DL</td>\n",
       "      <td>1646</td>\n",
       "      <td>PHX</td>\n",
       "      <td>ATL</td>\n",
       "      <td>N683DA</td>\n",
       "      <td>202.0</td>\n",
       "      <td>1587</td>\n",
       "      <td>06:17:00</td>\n",
       "      <td>00:55:00</td>\n",
       "      <td>2</td>\n",
       "      <td>0</td>\n",
       "    </tr>\n",
       "    <tr>\n",
       "      <th>5749486</th>\n",
       "      <td>HA</td>\n",
       "      <td>48</td>\n",
       "      <td>HNL</td>\n",
       "      <td>OAK</td>\n",
       "      <td>N370HA</td>\n",
       "      <td>315.0</td>\n",
       "      <td>2409</td>\n",
       "      <td>21:40:00</td>\n",
       "      <td>14:25:00</td>\n",
       "      <td>6</td>\n",
       "      <td>0</td>\n",
       "    </tr>\n",
       "    <tr>\n",
       "      <th>2498098</th>\n",
       "      <td>MQ</td>\n",
       "      <td>3577</td>\n",
       "      <td>MIA</td>\n",
       "      <td>CMH</td>\n",
       "      <td>N636MQ</td>\n",
       "      <td>167.0</td>\n",
       "      <td>990</td>\n",
       "      <td>21:22:00</td>\n",
       "      <td>18:35:00</td>\n",
       "      <td>6</td>\n",
       "      <td>0</td>\n",
       "    </tr>\n",
       "    <tr>\n",
       "      <th>4381050</th>\n",
       "      <td>UA</td>\n",
       "      <td>1749</td>\n",
       "      <td>SFO</td>\n",
       "      <td>OGG</td>\n",
       "      <td>N76508</td>\n",
       "      <td>327.0</td>\n",
       "      <td>2338</td>\n",
       "      <td>19:24:00</td>\n",
       "      <td>16:57:00</td>\n",
       "      <td>2</td>\n",
       "      <td>0</td>\n",
       "    </tr>\n",
       "  </tbody>\n",
       "</table>\n",
       "<p>41848 rows × 11 columns</p>\n",
       "</div>"
      ],
      "text/plain": [
       "        AIRLINE  FLIGHT_NUMBER ORIGIN_AIRPORT DESTINATION_AIRPORT TAIL_NUMBER  \\\n",
       "5529672      HA             24            OGG                 OAK      N588HA   \n",
       "3269434      B6            402            FLL                 JFK      N507JB   \n",
       "5816843      UA           1439            IAH                 DEN      N68834   \n",
       "3559312      AA            376            MIA                 LGA      N3JKAA   \n",
       "3680272      AA            551            PHL                 SFO      N188US   \n",
       "...         ...            ...            ...                 ...         ...   \n",
       "1232284      WN           2027            SAN                 SAT      N715SW   \n",
       "4920070      DL           1646            PHX                 ATL      N683DA   \n",
       "5749486      HA             48            HNL                 OAK      N370HA   \n",
       "2498098      MQ           3577            MIA                 CMH      N636MQ   \n",
       "4381050      UA           1749            SFO                 OGG      N76508   \n",
       "\n",
       "         SCHEDULED_TIME  DISTANCE SCH_ARR_TIME SCH_DEP_TIME  DayOfWeek  \\\n",
       "5529672           305.0      2349     19:30:00     12:25:00          6   \n",
       "3269434           192.0      1069     20:31:00     17:19:00          3   \n",
       "5816843           160.0       862     19:27:00     17:47:00          3   \n",
       "3559312           177.0      1096     23:47:00     20:50:00          6   \n",
       "3680272           370.0      2521     11:00:00     07:50:00          0   \n",
       "...                 ...       ...          ...          ...        ...   \n",
       "1232284           155.0      1129     17:40:00     13:05:00          5   \n",
       "4920070           202.0      1587     06:17:00     00:55:00          2   \n",
       "5749486           315.0      2409     21:40:00     14:25:00          6   \n",
       "2498098           167.0       990     21:22:00     18:35:00          6   \n",
       "4381050           327.0      2338     19:24:00     16:57:00          2   \n",
       "\n",
       "         Holidays  \n",
       "5529672         0  \n",
       "3269434         0  \n",
       "5816843         0  \n",
       "3559312         0  \n",
       "3680272         0  \n",
       "...           ...  \n",
       "1232284         0  \n",
       "4920070         0  \n",
       "5749486         0  \n",
       "2498098         0  \n",
       "4381050         0  \n",
       "\n",
       "[41848 rows x 11 columns]"
      ]
     },
     "execution_count": 56,
     "metadata": {},
     "output_type": "execute_result"
    }
   ],
   "source": [
    "X_train"
   ]
  },
  {
   "cell_type": "code",
   "execution_count": 57,
   "metadata": {},
   "outputs": [],
   "source": [
    "kfold = StratifiedKFold(n_splits=5)"
   ]
  },
  {
   "cell_type": "code",
   "execution_count": 58,
   "metadata": {},
   "outputs": [],
   "source": [
    "# numeric pipeline\n",
    "numeric_transformer = Pipeline(steps=[\n",
    "    ('scale_data', MinMaxScaler())\n",
    "])\n",
    "# categorical pipeline\n",
    "categorical_transformer = Pipeline(steps=[\n",
    "    ('encoder', OneHotEncoder(handle_unknown='ignore'))\n",
    "])\n",
    "# transformer = numerical + categorical\n",
    "transformer = ColumnTransformer([\n",
    "    ('num', numeric_transformer, numeric_columns_model_2),\n",
    "    ('cat', categorical_transformer, cat_columns_model_2)\n",
    "])"
   ]
  },
  {
   "cell_type": "code",
   "execution_count": 59,
   "metadata": {},
   "outputs": [],
   "source": [
    "param_grid = {\n",
    "            'classifier__C': [1, 10, 100,1000],\n",
    "}\n",
    "\n",
    "pipeline = Pipeline(steps=[('preprocessor', transformer),\n",
    "                      ('classifier', LogisticRegression(max_iter=10000))])\n",
    "\n",
    "grid_1 = GridSearchCV(pipeline, param_grid, cv=kfold, return_train_score=True, verbose=5, n_jobs=3)\n",
    "\n"
   ]
  },
  {
   "cell_type": "code",
   "execution_count": 60,
   "metadata": {},
   "outputs": [
    {
     "name": "stdout",
     "output_type": "stream",
     "text": [
      "Fitting 5 folds for each of 4 candidates, totalling 20 fits\n"
     ]
    },
    {
     "name": "stderr",
     "output_type": "stream",
     "text": [
      "[Parallel(n_jobs=3)]: Using backend LokyBackend with 3 concurrent workers.\n",
      "[Parallel(n_jobs=3)]: Done  12 tasks      | elapsed:   11.9s\n",
      "[Parallel(n_jobs=3)]: Done  20 out of  20 | elapsed:   29.4s remaining:    0.0s\n",
      "[Parallel(n_jobs=3)]: Done  20 out of  20 | elapsed:   29.4s finished\n"
     ]
    },
    {
     "data": {
      "text/plain": [
       "GridSearchCV(cv=StratifiedKFold(n_splits=5, random_state=None, shuffle=False),\n",
       "             estimator=Pipeline(steps=[('preprocessor',\n",
       "                                        ColumnTransformer(transformers=[('num',\n",
       "                                                                         Pipeline(steps=[('scale_data',\n",
       "                                                                                          MinMaxScaler())]),\n",
       "                                                                         Index(['FLIGHT_NUMBER', 'SCHEDULED_TIME', 'DISTANCE', 'DayOfWeek', 'Holidays'], dtype='object')),\n",
       "                                                                        ('cat',\n",
       "                                                                         Pipeline(steps=[('encoder',\n",
       "                                                                                          OneHotEncoder(handle_unknown='ignore'))]),\n",
       "                                                                         Index(['AIRLINE', 'ORIGIN_AIRPORT', 'DESTINATION_AIRPORT', 'TAIL_NUMBER',\n",
       "       'SCH_ARR_TIME', 'SCH_DEP_TIME'],\n",
       "      dtype='object'))])),\n",
       "                                       ('classifier',\n",
       "                                        LogisticRegression(max_iter=10000))]),\n",
       "             n_jobs=3, param_grid={'classifier__C': [1, 10, 100, 1000]},\n",
       "             return_train_score=True, verbose=5)"
      ]
     },
     "execution_count": 60,
     "metadata": {},
     "output_type": "execute_result"
    }
   ],
   "source": [
    "grid_1.fit(X_train, y_train)\n"
   ]
  },
  {
   "cell_type": "code",
   "execution_count": 61,
   "metadata": {},
   "outputs": [
    {
     "name": "stdout",
     "output_type": "stream",
     "text": [
      "roc_auc_score: 0.5950748417078047\n"
     ]
    }
   ],
   "source": [
    "from sklearn import  metrics\n",
    "print(\"roc_auc_score: {}\".format( metrics.roc_auc_score(y_test , grid_1.decision_function(X_test)) ))      "
   ]
  },
  {
   "cell_type": "code",
   "execution_count": 62,
   "metadata": {},
   "outputs": [],
   "source": [
    "pipe = Pipeline([('preprocessing', transformer), ('classifier', LinearSVC(C=1, max_iter=10000))])\n",
    "\n",
    "param_grid = {\n",
    "            'classifier__C': [0.001, 0.1, 1, 10, 100,1000]\n",
    "}\n",
    "\n",
    "grid_2 = GridSearchCV(pipe, param_grid, cv=kfold, return_train_score=True, verbose=5, n_jobs=3)\n"
   ]
  },
  {
   "cell_type": "code",
   "execution_count": 63,
   "metadata": {},
   "outputs": [
    {
     "name": "stdout",
     "output_type": "stream",
     "text": [
      "Fitting 5 folds for each of 6 candidates, totalling 30 fits\n"
     ]
    },
    {
     "name": "stderr",
     "output_type": "stream",
     "text": [
      "[Parallel(n_jobs=3)]: Using backend LokyBackend with 3 concurrent workers.\n",
      "[Parallel(n_jobs=3)]: Done  12 tasks      | elapsed:    3.8s\n",
      "[Parallel(n_jobs=3)]: Done  30 out of  30 | elapsed:  4.3min finished\n"
     ]
    },
    {
     "data": {
      "text/plain": [
       "{'classifier__C': 0.001}"
      ]
     },
     "execution_count": 63,
     "metadata": {},
     "output_type": "execute_result"
    }
   ],
   "source": [
    "grid_2.fit(X_train, y_train)\n",
    "grid_2.best_params_"
   ]
  },
  {
   "cell_type": "code",
   "execution_count": 64,
   "metadata": {},
   "outputs": [
    {
     "name": "stdout",
     "output_type": "stream",
     "text": [
      "roc_auc_score: 0.6105908360272251\n"
     ]
    }
   ],
   "source": [
    " print(\"roc_auc_score: {}\".format( metrics.roc_auc_score(y_test , grid_2.decision_function(X_test)) ))      "
   ]
  },
  {
   "cell_type": "code",
   "execution_count": 65,
   "metadata": {},
   "outputs": [],
   "source": [
    "pipe = Pipeline([('preprocessing', transformer), ('classifier', RandomForestClassifier())])\n",
    "\n",
    "param_grid = {\n",
    "            'classifier__n_estimators': [10, 20,45],\n",
    "            'classifier__max_features': [30, 45,100],\n",
    "            'classifier__max_depth': [40, 50,100]\n",
    "}\n",
    "\n",
    "grid_3 = GridSearchCV(pipe, param_grid, cv=kfold, return_train_score=True, verbose=5, n_jobs=3)\n",
    "\n"
   ]
  },
  {
   "cell_type": "code",
   "execution_count": 66,
   "metadata": {},
   "outputs": [
    {
     "name": "stdout",
     "output_type": "stream",
     "text": [
      "Fitting 5 folds for each of 27 candidates, totalling 135 fits\n"
     ]
    },
    {
     "name": "stderr",
     "output_type": "stream",
     "text": [
      "[Parallel(n_jobs=3)]: Using backend LokyBackend with 3 concurrent workers.\n",
      "[Parallel(n_jobs=3)]: Done  12 tasks      | elapsed:    6.1s\n",
      "[Parallel(n_jobs=3)]: Done  66 tasks      | elapsed:   32.6s\n",
      "[Parallel(n_jobs=3)]: Done 135 out of 135 | elapsed:  1.7min finished\n"
     ]
    },
    {
     "data": {
      "text/plain": [
       "GridSearchCV(cv=StratifiedKFold(n_splits=5, random_state=None, shuffle=False),\n",
       "             estimator=Pipeline(steps=[('preprocessing',\n",
       "                                        ColumnTransformer(transformers=[('num',\n",
       "                                                                         Pipeline(steps=[('scale_data',\n",
       "                                                                                          MinMaxScaler())]),\n",
       "                                                                         Index(['FLIGHT_NUMBER', 'SCHEDULED_TIME', 'DISTANCE', 'DayOfWeek', 'Holidays'], dtype='object')),\n",
       "                                                                        ('cat',\n",
       "                                                                         Pipeline(steps=[('encoder',\n",
       "                                                                                          OneHotEncoder(hand...nown='ignore'))]),\n",
       "                                                                         Index(['AIRLINE', 'ORIGIN_AIRPORT', 'DESTINATION_AIRPORT', 'TAIL_NUMBER',\n",
       "       'SCH_ARR_TIME', 'SCH_DEP_TIME'],\n",
       "      dtype='object'))])),\n",
       "                                       ('classifier',\n",
       "                                        RandomForestClassifier())]),\n",
       "             n_jobs=3,\n",
       "             param_grid={'classifier__max_depth': [40, 50, 100],\n",
       "                         'classifier__max_features': [30, 45, 100],\n",
       "                         'classifier__n_estimators': [10, 20, 45]},\n",
       "             return_train_score=True, verbose=5)"
      ]
     },
     "execution_count": 66,
     "metadata": {},
     "output_type": "execute_result"
    }
   ],
   "source": [
    "grid_3.fit(X_train, y_train)"
   ]
  },
  {
   "cell_type": "code",
   "execution_count": 67,
   "metadata": {},
   "outputs": [
    {
     "data": {
      "text/plain": [
       "{'classifier__max_depth': 100,\n",
       " 'classifier__max_features': 30,\n",
       " 'classifier__n_estimators': 20}"
      ]
     },
     "execution_count": 67,
     "metadata": {},
     "output_type": "execute_result"
    }
   ],
   "source": [
    "grid_3.best_params_"
   ]
  },
  {
   "cell_type": "code",
   "execution_count": 68,
   "metadata": {},
   "outputs": [
    {
     "name": "stdout",
     "output_type": "stream",
     "text": [
      "roc_auc_score: 0.5695518705483484\n"
     ]
    }
   ],
   "source": [
    "print(\"roc_auc_score: {}\".format( metrics.roc_auc_score(y_test , grid_3.predict_proba(X_test)[:,1]) ))"
   ]
  },
  {
   "cell_type": "code",
   "execution_count": 69,
   "metadata": {},
   "outputs": [],
   "source": [
    "pipe_4 = Pipeline([('preprocessing', transformer), \n",
    "                   ('classifier', DecisionTreeClassifier())])\n",
    "\n",
    "param_grid_4 = {\n",
    "            'classifier__max_depth': [10,20,25,30],\n",
    "            'classifier__min_samples_split': [60,80,100],\n",
    "            'classifier__max_leaf_nodes': [60,85,100]\n",
    "}\n",
    "\n",
    "\n",
    "grid_4 = GridSearchCV(pipe_4, param_grid_4, cv=kfold, return_train_score=True, verbose=5, n_jobs=3)\n",
    "\n"
   ]
  },
  {
   "cell_type": "code",
   "execution_count": 70,
   "metadata": {},
   "outputs": [
    {
     "name": "stdout",
     "output_type": "stream",
     "text": [
      "Fitting 5 folds for each of 36 candidates, totalling 180 fits\n"
     ]
    },
    {
     "name": "stderr",
     "output_type": "stream",
     "text": [
      "[Parallel(n_jobs=3)]: Using backend LokyBackend with 3 concurrent workers.\n",
      "[Parallel(n_jobs=3)]: Done  12 tasks      | elapsed:    3.1s\n",
      "[Parallel(n_jobs=3)]: Done  66 tasks      | elapsed:   17.8s\n",
      "[Parallel(n_jobs=3)]: Done 156 tasks      | elapsed:   47.8s\n",
      "[Parallel(n_jobs=3)]: Done 180 out of 180 | elapsed:   55.5s finished\n"
     ]
    },
    {
     "data": {
      "text/plain": [
       "{'classifier__max_depth': 10,\n",
       " 'classifier__max_leaf_nodes': 60,\n",
       " 'classifier__min_samples_split': 100}"
      ]
     },
     "execution_count": 70,
     "metadata": {},
     "output_type": "execute_result"
    }
   ],
   "source": [
    "grid_4.fit(X_train, y_train)\n",
    "grid_4.best_params_"
   ]
  },
  {
   "cell_type": "code",
   "execution_count": 71,
   "metadata": {},
   "outputs": [
    {
     "name": "stdout",
     "output_type": "stream",
     "text": [
      "roc_auc_score: 0.5524843423128135\n"
     ]
    }
   ],
   "source": [
    "print(\"roc_auc_score: {}\".format( metrics.roc_auc_score(y_test , grid_4.predict_proba(X_test)[:,1]) ))"
   ]
  },
  {
   "cell_type": "code",
   "execution_count": 72,
   "metadata": {},
   "outputs": [],
   "source": [
    "pipe_5 = Pipeline([('preprocessing', transformer), \n",
    "                   ('classifier', BaggingClassifier(\n",
    "                                    DecisionTreeClassifier(random_state=42), n_estimators=500,\n",
    "                                    max_samples=100, bootstrap=True, random_state=42))\n",
    "                  ])\n",
    "\n",
    "param_grid_5 = {'classifier__n_estimators': [50,100],\n",
    "              'classifier__max_samples': [40,100]\n",
    "             }\n",
    "\n",
    "grid_5 = GridSearchCV(pipe_5, param_grid_5, cv=kfold, return_train_score=True, verbose=5, n_jobs=3)\n",
    "\n",
    "\n"
   ]
  },
  {
   "cell_type": "code",
   "execution_count": 73,
   "metadata": {},
   "outputs": [
    {
     "name": "stdout",
     "output_type": "stream",
     "text": [
      "Fitting 5 folds for each of 4 candidates, totalling 20 fits\n"
     ]
    },
    {
     "name": "stderr",
     "output_type": "stream",
     "text": [
      "[Parallel(n_jobs=3)]: Using backend LokyBackend with 3 concurrent workers.\n",
      "[Parallel(n_jobs=3)]: Done  12 tasks      | elapsed:   13.5s\n",
      "[Parallel(n_jobs=3)]: Done  20 out of  20 | elapsed:   22.9s remaining:    0.0s\n",
      "[Parallel(n_jobs=3)]: Done  20 out of  20 | elapsed:   22.9s finished\n"
     ]
    },
    {
     "data": {
      "text/plain": [
       "{'classifier__max_samples': 40, 'classifier__n_estimators': 50}"
      ]
     },
     "execution_count": 73,
     "metadata": {},
     "output_type": "execute_result"
    }
   ],
   "source": [
    "grid_5.fit(X_train, y_train)\n",
    "grid_5.best_params_"
   ]
  },
  {
   "cell_type": "code",
   "execution_count": 74,
   "metadata": {},
   "outputs": [
    {
     "name": "stdout",
     "output_type": "stream",
     "text": [
      "roc_auc_score: 0.5282709729862757\n"
     ]
    }
   ],
   "source": [
    "print(\"roc_auc_score: {}\".format( metrics.roc_auc_score(y_test , grid_5.predict_proba(X_test)[:,1]) ))"
   ]
  },
  {
   "cell_type": "markdown",
   "metadata": {},
   "source": [
    "## Randomized Search of hyper parameters for Random Forest Classifier"
   ]
  },
  {
   "cell_type": "markdown",
   "metadata": {},
   "source": [
    "Random Forest Classifier has the highest value of ROC AUC score, so in following cell I'm going to find best hyper parameters by random search."
   ]
  },
  {
   "cell_type": "code",
   "execution_count": 75,
   "metadata": {},
   "outputs": [
    {
     "name": "stdout",
     "output_type": "stream",
     "text": [
      "Fitting 5 folds for each of 100 candidates, totalling 500 fits\n"
     ]
    },
    {
     "name": "stderr",
     "output_type": "stream",
     "text": [
      "[Parallel(n_jobs=-1)]: Using backend LokyBackend with 4 concurrent workers.\n",
      "[Parallel(n_jobs=-1)]: Done  10 tasks      | elapsed:   45.3s\n",
      "[Parallel(n_jobs=-1)]: Done  64 tasks      | elapsed:  8.7min\n",
      "[Parallel(n_jobs=-1)]: Done 154 tasks      | elapsed: 43.8min\n",
      "[Parallel(n_jobs=-1)]: Done 280 tasks      | elapsed: 76.2min\n",
      "[Parallel(n_jobs=-1)]: Done 442 tasks      | elapsed: 132.7min\n",
      "[Parallel(n_jobs=-1)]: Done 500 out of 500 | elapsed: 141.2min finished\n"
     ]
    },
    {
     "data": {
      "text/plain": [
       "RandomizedSearchCV(cv=StratifiedKFold(n_splits=5, random_state=None, shuffle=False),\n",
       "                   estimator=Pipeline(steps=[('preprocessing',\n",
       "                                              ColumnTransformer(transformers=[('num',\n",
       "                                                                               Pipeline(steps=[('scale_data',\n",
       "                                                                                                MinMaxScaler())]),\n",
       "                                                                               Index(['FLIGHT_NUMBER', 'SCHEDULED_TIME', 'DISTANCE', 'DayOfWeek', 'Holidays'], dtype='object')),\n",
       "                                                                              ('cat',\n",
       "                                                                               Pipeline(steps=[('encoder',\n",
       "                                                                                                OneHotEncode...\n",
       "                   n_iter=100, n_jobs=-1,\n",
       "                   param_distributions={'classifier__bootstrap': [True, False],\n",
       "                                        'classifier__max_depth': [10, 20, 30,\n",
       "                                                                  40, 50, 60,\n",
       "                                                                  70, 80, 90,\n",
       "                                                                  100, 110,\n",
       "                                                                  None],\n",
       "                                        'classifier__max_features': ['auto',\n",
       "                                                                     'sqrt'],\n",
       "                                        'classifier__min_samples_leaf': [1, 2,\n",
       "                                                                         4],\n",
       "                                        'classifier__min_samples_split': [2, 5,\n",
       "                                                                          10],\n",
       "                                        'classifier__n_estimators': [200, 400,\n",
       "                                                                     600, 800,\n",
       "                                                                     1000, 1200,\n",
       "                                                                     1400, 1600,\n",
       "                                                                     1800,\n",
       "                                                                     2000]},\n",
       "                   random_state=42, verbose=5)"
      ]
     },
     "execution_count": 75,
     "metadata": {},
     "output_type": "execute_result"
    }
   ],
   "source": [
    "\n",
    "n_estimators = [int(x) for x in np.linspace(start = 200, stop = 2000, num = 10)]\n",
    "# Number of features to consider at every split\n",
    "max_features = ['auto', 'sqrt']\n",
    "# Maximum number of levels in tree\n",
    "max_depth = [int(x) for x in np.linspace(10, 110, num = 11)]\n",
    "max_depth.append(None)\n",
    "# Minimum number of samples required to split a node\n",
    "min_samples_split = [2, 5, 10]\n",
    "# Minimum number of samples required at each leaf node\n",
    "min_samples_leaf = [1, 2, 4]\n",
    "# Method of selecting samples for training each tree\n",
    "bootstrap = [True, False]# Create the random grid\n",
    "random_grid = {'classifier__n_estimators': n_estimators,\n",
    "               'classifier__max_features': max_features,\n",
    "               'classifier__max_depth': max_depth,\n",
    "               'classifier__min_samples_split': min_samples_split,\n",
    "               'classifier__min_samples_leaf': min_samples_leaf,\n",
    "               'classifier__bootstrap': bootstrap}\n",
    "\n",
    "\n",
    "pipe = Pipeline([('preprocessing', transformer), ('classifier', RandomForestClassifier())])\n",
    "\n",
    "\n",
    "rnd_clsf = RandomizedSearchCV(pipe, param_distributions=random_grid, n_iter = 100, cv = kfold, verbose=5, random_state=42, n_jobs = -1)\n",
    "rnd_clsf.fit(X_train, y_train)"
   ]
  },
  {
   "cell_type": "code",
   "execution_count": 76,
   "metadata": {},
   "outputs": [
    {
     "name": "stdout",
     "output_type": "stream",
     "text": [
      "roc_auc_score: 0.6061164325845707\n"
     ]
    }
   ],
   "source": [
    "print(\"roc_auc_score: {}\".format( metrics.roc_auc_score(y_test , rnd_clsf.predict_proba(X_test)[:,1]) ))"
   ]
  },
  {
   "cell_type": "code",
   "execution_count": 77,
   "metadata": {},
   "outputs": [
    {
     "data": {
      "text/plain": [
       "['filename.pkl']"
      ]
     },
     "execution_count": 77,
     "metadata": {},
     "output_type": "execute_result"
    }
   ],
   "source": [
    "import joblib\n",
    "joblib.dump(rnd_clsf.best_estimator_, 'model2_rndm.pkl')"
   ]
  },
  {
   "cell_type": "code",
   "execution_count": 82,
   "metadata": {},
   "outputs": [
    {
     "name": "stdout",
     "output_type": "stream",
     "text": [
      "roc_auc_score: 0.5950748417078047\n",
      "roc_auc_score: 0.6105908360272251\n",
      "roc_auc_score: 0.5695518705483484\n",
      "roc_auc_score: 0.6061164325845707\n",
      "roc_auc_score: 0.5524843423128135\n",
      "roc_auc_score: 0.5282709729862757\n"
     ]
    },
    {
     "data": {
      "text/html": [
       "<div>\n",
       "<style scoped>\n",
       "    .dataframe tbody tr th:only-of-type {\n",
       "        vertical-align: middle;\n",
       "    }\n",
       "\n",
       "    .dataframe tbody tr th {\n",
       "        vertical-align: top;\n",
       "    }\n",
       "\n",
       "    .dataframe thead th {\n",
       "        text-align: right;\n",
       "    }\n",
       "</style>\n",
       "<table border=\"1\" class=\"dataframe\">\n",
       "  <thead>\n",
       "    <tr style=\"text-align: right;\">\n",
       "      <th></th>\n",
       "      <th>LR</th>\n",
       "      <th>SVM linear</th>\n",
       "      <th>RandomForestClassifier</th>\n",
       "      <th>RandomForestClassifier_hypertuning</th>\n",
       "      <th>DecisionTreeClassifier</th>\n",
       "      <th>BaggingClassifier</th>\n",
       "    </tr>\n",
       "  </thead>\n",
       "  <tbody>\n",
       "    <tr>\n",
       "      <th>accuracy_score</th>\n",
       "      <td>0.797764</td>\n",
       "      <td>0.810857</td>\n",
       "      <td>0.810953</td>\n",
       "      <td>0.810857</td>\n",
       "      <td>0.809710</td>\n",
       "      <td>0.810857</td>\n",
       "    </tr>\n",
       "    <tr>\n",
       "      <th>roc_auc_score</th>\n",
       "      <td>0.595075</td>\n",
       "      <td>0.610591</td>\n",
       "      <td>0.569552</td>\n",
       "      <td>0.606116</td>\n",
       "      <td>0.552484</td>\n",
       "      <td>0.528271</td>\n",
       "    </tr>\n",
       "  </tbody>\n",
       "</table>\n",
       "</div>"
      ],
      "text/plain": [
       "                      LR  SVM linear  RandomForestClassifier  \\\n",
       "accuracy_score  0.797764    0.810857                0.810953   \n",
       "roc_auc_score   0.595075    0.610591                0.569552   \n",
       "\n",
       "                RandomForestClassifier_hypertuning  DecisionTreeClassifier  \\\n",
       "accuracy_score                            0.810857                0.809710   \n",
       "roc_auc_score                             0.606116                0.552484   \n",
       "\n",
       "                BaggingClassifier  \n",
       "accuracy_score           0.810857  \n",
       "roc_auc_score            0.528271  "
      ]
     },
     "execution_count": 82,
     "metadata": {},
     "output_type": "execute_result"
    },
    {
     "data": {
      "image/png": "[encoded data removed]",
      "text/plain": [
       "<Figure size 1080x720 with 1 Axes>"
      ]
     },
     "metadata": {
      "needs_background": "light"
     },
     "output_type": "display_data"
    }
   ],
   "source": [
    "models = []\n",
    "models.append(('LR', grid_1.best_estimator_))\n",
    "models.append(('SVM linear', grid_2.best_estimator_))\n",
    "models.append(('RandomForestClassifier', grid_3.best_estimator_))\n",
    "models.append(('RandomForestClassifier_hypertuning', rnd_clsf.best_estimator_))\n",
    "models.append(('DecisionTreeClassifier', grid_4.best_estimator_))\n",
    "models.append(('BaggingClassifier', grid_5.best_estimator_))\n",
    "\n",
    "\n",
    "model_names = [name for name, *_ in models]\n",
    "parameters_names = ['accuracy_score', 'roc_auc_score']\n",
    "accuracy_score = []\n",
    "roc_auc_score = []\n",
    "pyplot.figure(figsize=(15,10))\n",
    "for name, model in models:\n",
    "    if (name == 'SVM linear'):\n",
    "        print(\"roc_auc_score: {}\".format( metrics.roc_auc_score(y_test , model.decision_function(X_test)) ))            \n",
    "    else:\n",
    "        print(\"roc_auc_score: {}\".format( metrics.roc_auc_score(y_test , model.predict_proba(X_test)[:,1]) ))\n",
    "    \n",
    "    accuracy_score.append(metrics.accuracy_score(y_test , model.predict(X_test)))\n",
    "    if (name == 'SVM linear'):\n",
    "        roc_auc_score.append(metrics.roc_auc_score(y_test , model.decision_function(X_test))) \n",
    "        #lr_probs = model.decision_function(X_test)\n",
    "        model_probs = model.decision_function(X_test)        \n",
    "        model_auc = metrics.roc_auc_score(y_test, model_probs)\n",
    "        model_fpr, model_tpr, _ = roc_curve(y_test, model_probs)\n",
    "        pyplot.plot(model_fpr, model_tpr, marker='.', label=name)\n",
    "    else:    \n",
    "        roc_auc_score.append(metrics.roc_auc_score(y_test , model.predict_proba(X_test)[:,1]))\n",
    "        model_probs = model.predict_proba(X_test)\n",
    "        model_probs = model_probs[:, 1]\n",
    "        model_auc = metrics.roc_auc_score(y_test, model_probs)\n",
    "        model_fpr, model_tpr, _ = roc_curve(y_test, model_probs)\n",
    "        pyplot.plot(model_fpr, model_tpr, marker='.', label=name)\n",
    "pyplot.xlabel('False Positive Rate')\n",
    "pyplot.ylabel('True Positive Rate')\n",
    "ns_probse = [0 for _ in range(len(X_test))]\n",
    "ns_auc = metrics.roc_auc_score(y_test, ns_probs)\n",
    "ns_fpr, ns_tpr, _ = roc_curve(y_test, ns_probs)\n",
    "pyplot.plot(ns_fpr, ns_tpr, linestyle='--', label='No Skill')\n",
    "pyplot.legend()\n",
    "pd.DataFrame([accuracy_score ,roc_auc_score], columns=model_names, index=parameters_names) "
   ]
  },
  {
   "cell_type": "markdown",
   "metadata": {},
   "source": [
    "Best algorithm for model 2 classificaiton problem is Random Forest with Random HyperParameters Search. Unfortuatly this model is having only 60% score accuracy. It turned out that best model is model 1 with 93% of accuracy of flight delay problem."
   ]
  },
  {
   "cell_type": "markdown",
   "metadata": {},
   "source": [
    "# Conclusions:\n",
    "- Model 1 gives accuracy of 93% accuracy.\n",
    "- The highest correlation between the Arrival delation and variables that are known before take-off is Departure Delay\n",
    "- Model 2 doesn't have Departure Delay taken into concederation. That can give lower results in accuracy"
   ]
  }
 ],
 "metadata": {
  "colab": {
   "collapsed_sections": [],
   "name": "Flights_delays.ipynb",
   "provenance": []
  },
  "kernelspec": {
   "display_name": "Python 3",
   "language": "python",
   "name": "python3"
  },
  "language_info": {
   "codemirror_mode": {
    "name": "ipython",
    "version": 3
   },
   "file_extension": ".py",
   "mimetype": "text/x-python",
   "name": "python",
   "nbconvert_exporter": "python",
   "pygments_lexer": "ipython3",
   "version": "3.8.6"
  }
 },
 "nbformat": 4,
 "nbformat_minor": 4
}
