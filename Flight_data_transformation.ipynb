{
 "cells": [
  {
   "cell_type": "markdown",
   "metadata": {},
   "source": [
    "<a id='head_selection_3'></a>\n",
    "# Data handling"
   ]
  },
  {
   "cell_type": "markdown",
   "metadata": {},
   "source": [
    "In following notebook I'm going to explore data, and transform them to usable version for data visualization (Flight_to_plot table) and Machine Learning (Flight_to_plot_combined). Transformations from this notebook has been implemented in flight_data_transformer function in flight_data_transformation.py file.\n",
    "\n",
    "Transformed data from this notebook are used in:\n",
    "* [Flights_delays mashine learning notebook](Flights_delays.ipynb#head_selection_1)\n",
    "* [Flights_data_visualization notebook](Flights_data_visualization.ipynb#head_selection_2)"
   ]
  },
  {
   "cell_type": "code",
   "execution_count": 1,
   "metadata": {},
   "outputs": [],
   "source": [
    "import random\n",
    "import pandas as pd\n",
    "import numpy as np\n",
    "import matplotlib\n",
    "import matplotlib.pyplot as plt\n",
    "import seaborn as sns\n",
    "import datetime\n",
    "from datetime import date "
   ]
  },
  {
   "cell_type": "code",
   "execution_count": 2,
   "metadata": {
    "colab": {
     "base_uri": "https://localhost:8080/"
    },
    "id": "zu9r6D8Oc3ln",
    "outputId": "004550a2-a0f4-41fa-a6e2-040a2bcf4866"
   },
   "outputs": [
    {
     "name": "stderr",
     "output_type": "stream",
     "text": [
      "C:\\Users\\damix\\AppData\\Local\\Packages\\PythonSoftwareFoundation.Python.3.8_qbz5n2kfra8p0\\LocalCache\\local-packages\\Python38\\site-packages\\IPython\\core\\interactiveshell.py:3062: DtypeWarning: Columns (7,8) have mixed types.Specify dtype option on import or set low_memory=False.\n",
      "  has_raised = await self.run_ast_nodes(code_ast.body, cell_name,\n"
     ]
    }
   ],
   "source": [
    "data = pd.read_csv('DATA/flights.csv')"
   ]
  },
  {
   "cell_type": "markdown",
   "metadata": {},
   "source": [
    "#### Ref 1) Warning informs that columns 7 and 8 have data types mixed. This is a very important point for the future."
   ]
  },
  {
   "cell_type": "code",
   "execution_count": 3,
   "metadata": {
    "colab": {
     "base_uri": "https://localhost:8080/"
    },
    "id": "UWdq_jW4dlBN",
    "outputId": "7e02c622-2c1c-4e64-f833-5d2fc61abc21"
   },
   "outputs": [
    {
     "name": "stdout",
     "output_type": "stream",
     "text": [
      "(5819079, 31)\n"
     ]
    }
   ],
   "source": [
    "print(data.shape)"
   ]
  },
  {
   "cell_type": "code",
   "execution_count": 4,
   "metadata": {
    "colab": {
     "base_uri": "https://localhost:8080/",
     "height": 226
    },
    "id": "shaK2Q35eU45",
    "outputId": "8d60ecad-0615-4c5c-b801-0f9d10823e7b"
   },
   "outputs": [
    {
     "data": {
      "text/html": [
       "<div>\n",
       "<style scoped>\n",
       "    .dataframe tbody tr th:only-of-type {\n",
       "        vertical-align: middle;\n",
       "    }\n",
       "\n",
       "    .dataframe tbody tr th {\n",
       "        vertical-align: top;\n",
       "    }\n",
       "\n",
       "    .dataframe thead th {\n",
       "        text-align: right;\n",
       "    }\n",
       "</style>\n",
       "<table border=\"1\" class=\"dataframe\">\n",
       "  <thead>\n",
       "    <tr style=\"text-align: right;\">\n",
       "      <th></th>\n",
       "      <th>YEAR</th>\n",
       "      <th>MONTH</th>\n",
       "      <th>DAY</th>\n",
       "      <th>DAY_OF_WEEK</th>\n",
       "      <th>AIRLINE</th>\n",
       "      <th>FLIGHT_NUMBER</th>\n",
       "      <th>TAIL_NUMBER</th>\n",
       "      <th>ORIGIN_AIRPORT</th>\n",
       "      <th>DESTINATION_AIRPORT</th>\n",
       "      <th>SCHEDULED_DEPARTURE</th>\n",
       "      <th>...</th>\n",
       "      <th>ARRIVAL_TIME</th>\n",
       "      <th>ARRIVAL_DELAY</th>\n",
       "      <th>DIVERTED</th>\n",
       "      <th>CANCELLED</th>\n",
       "      <th>CANCELLATION_REASON</th>\n",
       "      <th>AIR_SYSTEM_DELAY</th>\n",
       "      <th>SECURITY_DELAY</th>\n",
       "      <th>AIRLINE_DELAY</th>\n",
       "      <th>LATE_AIRCRAFT_DELAY</th>\n",
       "      <th>WEATHER_DELAY</th>\n",
       "    </tr>\n",
       "  </thead>\n",
       "  <tbody>\n",
       "    <tr>\n",
       "      <th>0</th>\n",
       "      <td>2015</td>\n",
       "      <td>1</td>\n",
       "      <td>1</td>\n",
       "      <td>4</td>\n",
       "      <td>AS</td>\n",
       "      <td>98</td>\n",
       "      <td>N407AS</td>\n",
       "      <td>ANC</td>\n",
       "      <td>SEA</td>\n",
       "      <td>5</td>\n",
       "      <td>...</td>\n",
       "      <td>408.0</td>\n",
       "      <td>-22.0</td>\n",
       "      <td>0</td>\n",
       "      <td>0</td>\n",
       "      <td>NaN</td>\n",
       "      <td>NaN</td>\n",
       "      <td>NaN</td>\n",
       "      <td>NaN</td>\n",
       "      <td>NaN</td>\n",
       "      <td>NaN</td>\n",
       "    </tr>\n",
       "    <tr>\n",
       "      <th>1</th>\n",
       "      <td>2015</td>\n",
       "      <td>1</td>\n",
       "      <td>1</td>\n",
       "      <td>4</td>\n",
       "      <td>AA</td>\n",
       "      <td>2336</td>\n",
       "      <td>N3KUAA</td>\n",
       "      <td>LAX</td>\n",
       "      <td>PBI</td>\n",
       "      <td>10</td>\n",
       "      <td>...</td>\n",
       "      <td>741.0</td>\n",
       "      <td>-9.0</td>\n",
       "      <td>0</td>\n",
       "      <td>0</td>\n",
       "      <td>NaN</td>\n",
       "      <td>NaN</td>\n",
       "      <td>NaN</td>\n",
       "      <td>NaN</td>\n",
       "      <td>NaN</td>\n",
       "      <td>NaN</td>\n",
       "    </tr>\n",
       "    <tr>\n",
       "      <th>2</th>\n",
       "      <td>2015</td>\n",
       "      <td>1</td>\n",
       "      <td>1</td>\n",
       "      <td>4</td>\n",
       "      <td>US</td>\n",
       "      <td>840</td>\n",
       "      <td>N171US</td>\n",
       "      <td>SFO</td>\n",
       "      <td>CLT</td>\n",
       "      <td>20</td>\n",
       "      <td>...</td>\n",
       "      <td>811.0</td>\n",
       "      <td>5.0</td>\n",
       "      <td>0</td>\n",
       "      <td>0</td>\n",
       "      <td>NaN</td>\n",
       "      <td>NaN</td>\n",
       "      <td>NaN</td>\n",
       "      <td>NaN</td>\n",
       "      <td>NaN</td>\n",
       "      <td>NaN</td>\n",
       "    </tr>\n",
       "    <tr>\n",
       "      <th>3</th>\n",
       "      <td>2015</td>\n",
       "      <td>1</td>\n",
       "      <td>1</td>\n",
       "      <td>4</td>\n",
       "      <td>AA</td>\n",
       "      <td>258</td>\n",
       "      <td>N3HYAA</td>\n",
       "      <td>LAX</td>\n",
       "      <td>MIA</td>\n",
       "      <td>20</td>\n",
       "      <td>...</td>\n",
       "      <td>756.0</td>\n",
       "      <td>-9.0</td>\n",
       "      <td>0</td>\n",
       "      <td>0</td>\n",
       "      <td>NaN</td>\n",
       "      <td>NaN</td>\n",
       "      <td>NaN</td>\n",
       "      <td>NaN</td>\n",
       "      <td>NaN</td>\n",
       "      <td>NaN</td>\n",
       "    </tr>\n",
       "    <tr>\n",
       "      <th>4</th>\n",
       "      <td>2015</td>\n",
       "      <td>1</td>\n",
       "      <td>1</td>\n",
       "      <td>4</td>\n",
       "      <td>AS</td>\n",
       "      <td>135</td>\n",
       "      <td>N527AS</td>\n",
       "      <td>SEA</td>\n",
       "      <td>ANC</td>\n",
       "      <td>25</td>\n",
       "      <td>...</td>\n",
       "      <td>259.0</td>\n",
       "      <td>-21.0</td>\n",
       "      <td>0</td>\n",
       "      <td>0</td>\n",
       "      <td>NaN</td>\n",
       "      <td>NaN</td>\n",
       "      <td>NaN</td>\n",
       "      <td>NaN</td>\n",
       "      <td>NaN</td>\n",
       "      <td>NaN</td>\n",
       "    </tr>\n",
       "  </tbody>\n",
       "</table>\n",
       "<p>5 rows × 31 columns</p>\n",
       "</div>"
      ],
      "text/plain": [
       "   YEAR  MONTH  DAY  DAY_OF_WEEK AIRLINE  FLIGHT_NUMBER TAIL_NUMBER  \\\n",
       "0  2015      1    1            4      AS             98      N407AS   \n",
       "1  2015      1    1            4      AA           2336      N3KUAA   \n",
       "2  2015      1    1            4      US            840      N171US   \n",
       "3  2015      1    1            4      AA            258      N3HYAA   \n",
       "4  2015      1    1            4      AS            135      N527AS   \n",
       "\n",
       "  ORIGIN_AIRPORT DESTINATION_AIRPORT  SCHEDULED_DEPARTURE  ...  ARRIVAL_TIME  \\\n",
       "0            ANC                 SEA                    5  ...         408.0   \n",
       "1            LAX                 PBI                   10  ...         741.0   \n",
       "2            SFO                 CLT                   20  ...         811.0   \n",
       "3            LAX                 MIA                   20  ...         756.0   \n",
       "4            SEA                 ANC                   25  ...         259.0   \n",
       "\n",
       "   ARRIVAL_DELAY  DIVERTED  CANCELLED  CANCELLATION_REASON  AIR_SYSTEM_DELAY  \\\n",
       "0          -22.0         0          0                  NaN               NaN   \n",
       "1           -9.0         0          0                  NaN               NaN   \n",
       "2            5.0         0          0                  NaN               NaN   \n",
       "3           -9.0         0          0                  NaN               NaN   \n",
       "4          -21.0         0          0                  NaN               NaN   \n",
       "\n",
       "   SECURITY_DELAY  AIRLINE_DELAY  LATE_AIRCRAFT_DELAY  WEATHER_DELAY  \n",
       "0             NaN            NaN                  NaN            NaN  \n",
       "1             NaN            NaN                  NaN            NaN  \n",
       "2             NaN            NaN                  NaN            NaN  \n",
       "3             NaN            NaN                  NaN            NaN  \n",
       "4             NaN            NaN                  NaN            NaN  \n",
       "\n",
       "[5 rows x 31 columns]"
      ]
     },
     "execution_count": 4,
     "metadata": {},
     "output_type": "execute_result"
    }
   ],
   "source": [
    "data.head()"
   ]
  },
  {
   "cell_type": "markdown",
   "metadata": {},
   "source": [
    "# Understanding variables"
   ]
  },
  {
   "cell_type": "markdown",
   "metadata": {},
   "source": [
    "* *YEAR*, *MONTH*, *DAY*, *DAY_OF_WEEK* - dates of the flight\n",
    "* AIRLINE  -An identification number assigned by US GOV to identify a unique airline\n",
    "* FLIGHT_NUMBER -The common unique flight number of the flight.\n",
    "* TAIL_NUMBER -  The unique aircraft number.\n",
    "* ORIGIN_AIRPORT, DESTINATION_AIRPORT - code attributed by IATA to identify the airports\n",
    "* SCHEDULED_DEPARTURE - scheduled time of departure\n",
    "* SCHEDULED_ARRIVAL - scheduled time of arrival\n",
    "* DEPARTURE_TIME, ARRIVAL_TIME - real times at which take-off and landing took place\n",
    "* DEPARTURE_DELAY, ARRIVAL_DELAY - difference (in minutes) between planned and real times\n",
    "* TAXI_OUT - elapsed time from gate to take-off\n",
    "* WHEELS_OFF - time of take off\n",
    "* SCHEDULED_TIME - scheduled duration of flight\n",
    "* ELAPSED_TIME - time elapsed from taxi out to taxi in\n",
    "* AIR_TIME - air time of flight\n",
    "* DISTANCE - distance of flight (in miles),\n",
    "* WHEELS_ON -  time of landing\n",
    "* TAXI_IN - time that elapsed from landing and docking in gate\n",
    "* DIVERTED - 1 if flight have been diverted and landed on another airport that scheduled\n",
    "* CANCELLED - 1 if flight have been canceleed\n",
    "* CANCELLATION_REASON - reson of flight cancellation\n",
    "* AIR_SYSTEM_DELAY, SECURITY_DELAY, AIRLINE_DELAY, LATE_AIRCRAFT_DELAY, WEATHER_DELAY - reasons of delay"
   ]
  },
  {
   "cell_type": "markdown",
   "metadata": {},
   "source": [
    "***\n",
    "# Feature engineering"
   ]
  },
  {
   "cell_type": "markdown",
   "metadata": {},
   "source": [
    "## _na_ handling"
   ]
  },
  {
   "cell_type": "markdown",
   "metadata": {},
   "source": [
    "In this section I'm handling N/A values. In below result there are shown amount of N/A values in percentage representation."
   ]
  },
  {
   "cell_type": "code",
   "execution_count": 5,
   "metadata": {
    "colab": {
     "base_uri": "https://localhost:8080/"
    },
    "id": "Z8bAFzHzeovq",
    "outputId": "a009fc22-77c9-4d55-d48a-0b083abab7d7"
   },
   "outputs": [
    {
     "data": {
      "text/plain": [
       "YEAR                    0.000000\n",
       "MONTH                   0.000000\n",
       "DAY                     0.000000\n",
       "DAY_OF_WEEK             0.000000\n",
       "AIRLINE                 0.000000\n",
       "FLIGHT_NUMBER           0.000000\n",
       "TAIL_NUMBER             0.252978\n",
       "ORIGIN_AIRPORT          0.000000\n",
       "DESTINATION_AIRPORT     0.000000\n",
       "SCHEDULED_DEPARTURE     0.000000\n",
       "DEPARTURE_TIME          1.480526\n",
       "DEPARTURE_DELAY         1.480526\n",
       "TAXI_OUT                1.530259\n",
       "WHEELS_OFF              1.530259\n",
       "SCHEDULED_TIME          0.000103\n",
       "ELAPSED_TIME            1.805629\n",
       "AIR_TIME                1.805629\n",
       "DISTANCE                0.000000\n",
       "WHEELS_ON               1.589822\n",
       "TAXI_IN                 1.589822\n",
       "SCHEDULED_ARRIVAL       0.000000\n",
       "ARRIVAL_TIME            1.589822\n",
       "ARRIVAL_DELAY           1.805629\n",
       "DIVERTED                0.000000\n",
       "CANCELLED               0.000000\n",
       "CANCELLATION_REASON    98.455357\n",
       "AIR_SYSTEM_DELAY       81.724960\n",
       "SECURITY_DELAY         81.724960\n",
       "AIRLINE_DELAY          81.724960\n",
       "LATE_AIRCRAFT_DELAY    81.724960\n",
       "WEATHER_DELAY          81.724960\n",
       "dtype: float64"
      ]
     },
     "execution_count": 5,
     "metadata": {},
     "output_type": "execute_result"
    }
   ],
   "source": [
    "data.isna().sum()*100/data.shape[0]"
   ]
  },
  {
   "cell_type": "markdown",
   "metadata": {},
   "source": [
    "Above result shows that there are a lot (82%) of missing data in reason of flight delation. Also in cancellation reason there are almost 98%."
   ]
  },
  {
   "cell_type": "code",
   "execution_count": 6,
   "metadata": {
    "colab": {
     "base_uri": "https://localhost:8080/"
    },
    "id": "uzwNlqjjh2_y",
    "outputId": "2257c84c-8e67-4194-84b2-45a9b76f26c2",
    "scrolled": true
   },
   "outputs": [
    {
     "data": {
      "text/plain": [
       "Series([], Name: ARRIVAL_DELAY, dtype: float64)"
      ]
     },
     "execution_count": 6,
     "metadata": {},
     "output_type": "execute_result"
    }
   ],
   "source": [
    "data[data['CANCELLED']>0]['ARRIVAL_DELAY'].dropna()"
   ]
  },
  {
   "cell_type": "markdown",
   "metadata": {
    "id": "jMDVz2EOi-E2"
   },
   "source": [
    "From the above result, I conclude that there are no delays in the data when the flight is canceled. For this reason, I remove the **CANCELLED** and **CANCELLATION_REASON** columns from the data because in this project I am dealing with delays."
   ]
  },
  {
   "cell_type": "code",
   "execution_count": 7,
   "metadata": {},
   "outputs": [
    {
     "data": {
      "text/plain": [
       "YEAR                         0\n",
       "MONTH                        0\n",
       "DAY                          0\n",
       "DAY_OF_WEEK                  0\n",
       "AIRLINE                      0\n",
       "FLIGHT_NUMBER                0\n",
       "TAIL_NUMBER              14721\n",
       "ORIGIN_AIRPORT               0\n",
       "DESTINATION_AIRPORT          0\n",
       "SCHEDULED_DEPARTURE          0\n",
       "DEPARTURE_TIME           86153\n",
       "DEPARTURE_DELAY          86153\n",
       "TAXI_OUT                 89047\n",
       "WHEELS_OFF               89047\n",
       "SCHEDULED_TIME               6\n",
       "ELAPSED_TIME            105071\n",
       "AIR_TIME                105071\n",
       "DISTANCE                     0\n",
       "WHEELS_ON                92513\n",
       "TAXI_IN                  92513\n",
       "SCHEDULED_ARRIVAL            0\n",
       "ARRIVAL_TIME             92513\n",
       "ARRIVAL_DELAY           105071\n",
       "DIVERTED                     0\n",
       "CANCELLED                    0\n",
       "CANCELLATION_REASON    5729195\n",
       "AIR_SYSTEM_DELAY       4755640\n",
       "SECURITY_DELAY         4755640\n",
       "AIRLINE_DELAY          4755640\n",
       "LATE_AIRCRAFT_DELAY    4755640\n",
       "WEATHER_DELAY          4755640\n",
       "dtype: int64"
      ]
     },
     "execution_count": 7,
     "metadata": {},
     "output_type": "execute_result"
    }
   ],
   "source": [
    "data.isna().sum()"
   ]
  },
  {
   "cell_type": "markdown",
   "metadata": {},
   "source": [
    "Because of that, there is need to drop rows with Cancelled flights."
   ]
  },
  {
   "cell_type": "code",
   "execution_count": 8,
   "metadata": {},
   "outputs": [],
   "source": [
    "data.drop(data[(data['CANCELLED']>0)].index, inplace=True)"
   ]
  },
  {
   "cell_type": "code",
   "execution_count": 9,
   "metadata": {},
   "outputs": [
    {
     "data": {
      "text/plain": [
       "YEAR                         0\n",
       "MONTH                        0\n",
       "DAY                          0\n",
       "DAY_OF_WEEK                  0\n",
       "AIRLINE                      0\n",
       "FLIGHT_NUMBER                0\n",
       "TAIL_NUMBER                  0\n",
       "ORIGIN_AIRPORT               0\n",
       "DESTINATION_AIRPORT          0\n",
       "SCHEDULED_DEPARTURE          0\n",
       "DEPARTURE_TIME               0\n",
       "DEPARTURE_DELAY              0\n",
       "TAXI_OUT                     0\n",
       "WHEELS_OFF                   0\n",
       "SCHEDULED_TIME               1\n",
       "ELAPSED_TIME             15187\n",
       "AIR_TIME                 15187\n",
       "DISTANCE                     0\n",
       "WHEELS_ON                 2629\n",
       "TAXI_IN                   2629\n",
       "SCHEDULED_ARRIVAL            0\n",
       "ARRIVAL_TIME              2629\n",
       "ARRIVAL_DELAY            15187\n",
       "DIVERTED                     0\n",
       "CANCELLED                    0\n",
       "CANCELLATION_REASON    5729195\n",
       "AIR_SYSTEM_DELAY       4665756\n",
       "SECURITY_DELAY         4665756\n",
       "AIRLINE_DELAY          4665756\n",
       "LATE_AIRCRAFT_DELAY    4665756\n",
       "WEATHER_DELAY          4665756\n",
       "dtype: int64"
      ]
     },
     "execution_count": 9,
     "metadata": {},
     "output_type": "execute_result"
    }
   ],
   "source": [
    "data.isna().sum()"
   ]
  },
  {
   "cell_type": "code",
   "execution_count": 10,
   "metadata": {
    "id": "NmVLLrLre9zh"
   },
   "outputs": [],
   "source": [
    "data = data.drop(['CANCELLED','CANCELLATION_REASON'], axis=1)"
   ]
  },
  {
   "cell_type": "markdown",
   "metadata": {},
   "source": [
    "**Diversion**"
   ]
  },
  {
   "cell_type": "markdown",
   "metadata": {},
   "source": [
    "Flight diversion is a situation when the flight didn't arrived on scheduled arrival airport. Acording to project assumtion (6) I'm not going to handle flight diversion in this project."
   ]
  },
  {
   "cell_type": "markdown",
   "metadata": {},
   "source": [
    "I conclude that if the flight was Diverted there won't be any data"
   ]
  },
  {
   "cell_type": "code",
   "execution_count": 11,
   "metadata": {},
   "outputs": [
    {
     "data": {
      "text/html": [
       "<div>\n",
       "<style scoped>\n",
       "    .dataframe tbody tr th:only-of-type {\n",
       "        vertical-align: middle;\n",
       "    }\n",
       "\n",
       "    .dataframe tbody tr th {\n",
       "        vertical-align: top;\n",
       "    }\n",
       "\n",
       "    .dataframe thead th {\n",
       "        text-align: right;\n",
       "    }\n",
       "</style>\n",
       "<table border=\"1\" class=\"dataframe\">\n",
       "  <thead>\n",
       "    <tr style=\"text-align: right;\">\n",
       "      <th></th>\n",
       "      <th>YEAR</th>\n",
       "      <th>MONTH</th>\n",
       "      <th>DAY</th>\n",
       "      <th>DAY_OF_WEEK</th>\n",
       "      <th>AIRLINE</th>\n",
       "      <th>FLIGHT_NUMBER</th>\n",
       "      <th>TAIL_NUMBER</th>\n",
       "      <th>ORIGIN_AIRPORT</th>\n",
       "      <th>DESTINATION_AIRPORT</th>\n",
       "      <th>SCHEDULED_DEPARTURE</th>\n",
       "      <th>...</th>\n",
       "      <th>TAXI_IN</th>\n",
       "      <th>SCHEDULED_ARRIVAL</th>\n",
       "      <th>ARRIVAL_TIME</th>\n",
       "      <th>ARRIVAL_DELAY</th>\n",
       "      <th>DIVERTED</th>\n",
       "      <th>AIR_SYSTEM_DELAY</th>\n",
       "      <th>SECURITY_DELAY</th>\n",
       "      <th>AIRLINE_DELAY</th>\n",
       "      <th>LATE_AIRCRAFT_DELAY</th>\n",
       "      <th>WEATHER_DELAY</th>\n",
       "    </tr>\n",
       "  </thead>\n",
       "  <tbody>\n",
       "    <tr>\n",
       "      <th>724</th>\n",
       "      <td>2015</td>\n",
       "      <td>1</td>\n",
       "      <td>1</td>\n",
       "      <td>4</td>\n",
       "      <td>DL</td>\n",
       "      <td>716</td>\n",
       "      <td>N944DL</td>\n",
       "      <td>OMA</td>\n",
       "      <td>ATL</td>\n",
       "      <td>645</td>\n",
       "      <td>...</td>\n",
       "      <td>4.0</td>\n",
       "      <td>1009</td>\n",
       "      <td>1451.0</td>\n",
       "      <td>NaN</td>\n",
       "      <td>1</td>\n",
       "      <td>NaN</td>\n",
       "      <td>NaN</td>\n",
       "      <td>NaN</td>\n",
       "      <td>NaN</td>\n",
       "      <td>NaN</td>\n",
       "    </tr>\n",
       "    <tr>\n",
       "      <th>1455</th>\n",
       "      <td>2015</td>\n",
       "      <td>1</td>\n",
       "      <td>1</td>\n",
       "      <td>4</td>\n",
       "      <td>OO</td>\n",
       "      <td>5237</td>\n",
       "      <td>N712SK</td>\n",
       "      <td>MKE</td>\n",
       "      <td>IAH</td>\n",
       "      <td>745</td>\n",
       "      <td>...</td>\n",
       "      <td>9.0</td>\n",
       "      <td>1041</td>\n",
       "      <td>1505.0</td>\n",
       "      <td>NaN</td>\n",
       "      <td>1</td>\n",
       "      <td>NaN</td>\n",
       "      <td>NaN</td>\n",
       "      <td>NaN</td>\n",
       "      <td>NaN</td>\n",
       "      <td>NaN</td>\n",
       "    </tr>\n",
       "    <tr>\n",
       "      <th>2218</th>\n",
       "      <td>2015</td>\n",
       "      <td>1</td>\n",
       "      <td>1</td>\n",
       "      <td>4</td>\n",
       "      <td>WN</td>\n",
       "      <td>1966</td>\n",
       "      <td>N685SW</td>\n",
       "      <td>ATL</td>\n",
       "      <td>JAX</td>\n",
       "      <td>845</td>\n",
       "      <td>...</td>\n",
       "      <td>5.0</td>\n",
       "      <td>1000</td>\n",
       "      <td>1219.0</td>\n",
       "      <td>NaN</td>\n",
       "      <td>1</td>\n",
       "      <td>NaN</td>\n",
       "      <td>NaN</td>\n",
       "      <td>NaN</td>\n",
       "      <td>NaN</td>\n",
       "      <td>NaN</td>\n",
       "    </tr>\n",
       "    <tr>\n",
       "      <th>2526</th>\n",
       "      <td>2015</td>\n",
       "      <td>1</td>\n",
       "      <td>1</td>\n",
       "      <td>4</td>\n",
       "      <td>EV</td>\n",
       "      <td>4555</td>\n",
       "      <td>N12552</td>\n",
       "      <td>IAH</td>\n",
       "      <td>HRL</td>\n",
       "      <td>902</td>\n",
       "      <td>...</td>\n",
       "      <td>5.0</td>\n",
       "      <td>1017</td>\n",
       "      <td>1319.0</td>\n",
       "      <td>NaN</td>\n",
       "      <td>1</td>\n",
       "      <td>NaN</td>\n",
       "      <td>NaN</td>\n",
       "      <td>NaN</td>\n",
       "      <td>NaN</td>\n",
       "      <td>NaN</td>\n",
       "    </tr>\n",
       "    <tr>\n",
       "      <th>2866</th>\n",
       "      <td>2015</td>\n",
       "      <td>1</td>\n",
       "      <td>1</td>\n",
       "      <td>4</td>\n",
       "      <td>WN</td>\n",
       "      <td>1081</td>\n",
       "      <td>N214WN</td>\n",
       "      <td>MDW</td>\n",
       "      <td>OKC</td>\n",
       "      <td>930</td>\n",
       "      <td>...</td>\n",
       "      <td>3.0</td>\n",
       "      <td>1135</td>\n",
       "      <td>1343.0</td>\n",
       "      <td>NaN</td>\n",
       "      <td>1</td>\n",
       "      <td>NaN</td>\n",
       "      <td>NaN</td>\n",
       "      <td>NaN</td>\n",
       "      <td>NaN</td>\n",
       "      <td>NaN</td>\n",
       "    </tr>\n",
       "    <tr>\n",
       "      <th>...</th>\n",
       "      <td>...</td>\n",
       "      <td>...</td>\n",
       "      <td>...</td>\n",
       "      <td>...</td>\n",
       "      <td>...</td>\n",
       "      <td>...</td>\n",
       "      <td>...</td>\n",
       "      <td>...</td>\n",
       "      <td>...</td>\n",
       "      <td>...</td>\n",
       "      <td>...</td>\n",
       "      <td>...</td>\n",
       "      <td>...</td>\n",
       "      <td>...</td>\n",
       "      <td>...</td>\n",
       "      <td>...</td>\n",
       "      <td>...</td>\n",
       "      <td>...</td>\n",
       "      <td>...</td>\n",
       "      <td>...</td>\n",
       "      <td>...</td>\n",
       "    </tr>\n",
       "    <tr>\n",
       "      <th>5813860</th>\n",
       "      <td>2015</td>\n",
       "      <td>12</td>\n",
       "      <td>31</td>\n",
       "      <td>4</td>\n",
       "      <td>UA</td>\n",
       "      <td>1291</td>\n",
       "      <td>N596UA</td>\n",
       "      <td>LIH</td>\n",
       "      <td>LAX</td>\n",
       "      <td>1405</td>\n",
       "      <td>...</td>\n",
       "      <td>NaN</td>\n",
       "      <td>2141</td>\n",
       "      <td>NaN</td>\n",
       "      <td>NaN</td>\n",
       "      <td>1</td>\n",
       "      <td>NaN</td>\n",
       "      <td>NaN</td>\n",
       "      <td>NaN</td>\n",
       "      <td>NaN</td>\n",
       "      <td>NaN</td>\n",
       "    </tr>\n",
       "    <tr>\n",
       "      <th>5815052</th>\n",
       "      <td>2015</td>\n",
       "      <td>12</td>\n",
       "      <td>31</td>\n",
       "      <td>4</td>\n",
       "      <td>EV</td>\n",
       "      <td>2785</td>\n",
       "      <td>N684JW</td>\n",
       "      <td>DFW</td>\n",
       "      <td>BRO</td>\n",
       "      <td>1530</td>\n",
       "      <td>...</td>\n",
       "      <td>NaN</td>\n",
       "      <td>1720</td>\n",
       "      <td>NaN</td>\n",
       "      <td>NaN</td>\n",
       "      <td>1</td>\n",
       "      <td>NaN</td>\n",
       "      <td>NaN</td>\n",
       "      <td>NaN</td>\n",
       "      <td>NaN</td>\n",
       "      <td>NaN</td>\n",
       "    </tr>\n",
       "    <tr>\n",
       "      <th>5816657</th>\n",
       "      <td>2015</td>\n",
       "      <td>12</td>\n",
       "      <td>31</td>\n",
       "      <td>4</td>\n",
       "      <td>UA</td>\n",
       "      <td>291</td>\n",
       "      <td>N76505</td>\n",
       "      <td>IAD</td>\n",
       "      <td>SMF</td>\n",
       "      <td>1735</td>\n",
       "      <td>...</td>\n",
       "      <td>4.0</td>\n",
       "      <td>2026</td>\n",
       "      <td>2216.0</td>\n",
       "      <td>NaN</td>\n",
       "      <td>1</td>\n",
       "      <td>NaN</td>\n",
       "      <td>NaN</td>\n",
       "      <td>NaN</td>\n",
       "      <td>NaN</td>\n",
       "      <td>NaN</td>\n",
       "    </tr>\n",
       "    <tr>\n",
       "      <th>5817342</th>\n",
       "      <td>2015</td>\n",
       "      <td>12</td>\n",
       "      <td>31</td>\n",
       "      <td>4</td>\n",
       "      <td>MQ</td>\n",
       "      <td>3060</td>\n",
       "      <td>N648MQ</td>\n",
       "      <td>DFW</td>\n",
       "      <td>FAR</td>\n",
       "      <td>1830</td>\n",
       "      <td>...</td>\n",
       "      <td>3.0</td>\n",
       "      <td>2113</td>\n",
       "      <td>2250.0</td>\n",
       "      <td>NaN</td>\n",
       "      <td>1</td>\n",
       "      <td>NaN</td>\n",
       "      <td>NaN</td>\n",
       "      <td>NaN</td>\n",
       "      <td>NaN</td>\n",
       "      <td>NaN</td>\n",
       "    </tr>\n",
       "    <tr>\n",
       "      <th>5818160</th>\n",
       "      <td>2015</td>\n",
       "      <td>12</td>\n",
       "      <td>31</td>\n",
       "      <td>4</td>\n",
       "      <td>WN</td>\n",
       "      <td>5296</td>\n",
       "      <td>N419WN</td>\n",
       "      <td>MDW</td>\n",
       "      <td>ABQ</td>\n",
       "      <td>2000</td>\n",
       "      <td>...</td>\n",
       "      <td>6.0</td>\n",
       "      <td>2215</td>\n",
       "      <td>2325.0</td>\n",
       "      <td>NaN</td>\n",
       "      <td>1</td>\n",
       "      <td>NaN</td>\n",
       "      <td>NaN</td>\n",
       "      <td>NaN</td>\n",
       "      <td>NaN</td>\n",
       "      <td>NaN</td>\n",
       "    </tr>\n",
       "  </tbody>\n",
       "</table>\n",
       "<p>15187 rows × 29 columns</p>\n",
       "</div>"
      ],
      "text/plain": [
       "         YEAR  MONTH  DAY  DAY_OF_WEEK AIRLINE  FLIGHT_NUMBER TAIL_NUMBER  \\\n",
       "724      2015      1    1            4      DL            716      N944DL   \n",
       "1455     2015      1    1            4      OO           5237      N712SK   \n",
       "2218     2015      1    1            4      WN           1966      N685SW   \n",
       "2526     2015      1    1            4      EV           4555      N12552   \n",
       "2866     2015      1    1            4      WN           1081      N214WN   \n",
       "...       ...    ...  ...          ...     ...            ...         ...   \n",
       "5813860  2015     12   31            4      UA           1291      N596UA   \n",
       "5815052  2015     12   31            4      EV           2785      N684JW   \n",
       "5816657  2015     12   31            4      UA            291      N76505   \n",
       "5817342  2015     12   31            4      MQ           3060      N648MQ   \n",
       "5818160  2015     12   31            4      WN           5296      N419WN   \n",
       "\n",
       "        ORIGIN_AIRPORT DESTINATION_AIRPORT  SCHEDULED_DEPARTURE  ...  TAXI_IN  \\\n",
       "724                OMA                 ATL                  645  ...      4.0   \n",
       "1455               MKE                 IAH                  745  ...      9.0   \n",
       "2218               ATL                 JAX                  845  ...      5.0   \n",
       "2526               IAH                 HRL                  902  ...      5.0   \n",
       "2866               MDW                 OKC                  930  ...      3.0   \n",
       "...                ...                 ...                  ...  ...      ...   \n",
       "5813860            LIH                 LAX                 1405  ...      NaN   \n",
       "5815052            DFW                 BRO                 1530  ...      NaN   \n",
       "5816657            IAD                 SMF                 1735  ...      4.0   \n",
       "5817342            DFW                 FAR                 1830  ...      3.0   \n",
       "5818160            MDW                 ABQ                 2000  ...      6.0   \n",
       "\n",
       "         SCHEDULED_ARRIVAL  ARRIVAL_TIME  ARRIVAL_DELAY  DIVERTED  \\\n",
       "724                   1009        1451.0            NaN         1   \n",
       "1455                  1041        1505.0            NaN         1   \n",
       "2218                  1000        1219.0            NaN         1   \n",
       "2526                  1017        1319.0            NaN         1   \n",
       "2866                  1135        1343.0            NaN         1   \n",
       "...                    ...           ...            ...       ...   \n",
       "5813860               2141           NaN            NaN         1   \n",
       "5815052               1720           NaN            NaN         1   \n",
       "5816657               2026        2216.0            NaN         1   \n",
       "5817342               2113        2250.0            NaN         1   \n",
       "5818160               2215        2325.0            NaN         1   \n",
       "\n",
       "         AIR_SYSTEM_DELAY  SECURITY_DELAY  AIRLINE_DELAY  LATE_AIRCRAFT_DELAY  \\\n",
       "724                   NaN             NaN            NaN                  NaN   \n",
       "1455                  NaN             NaN            NaN                  NaN   \n",
       "2218                  NaN             NaN            NaN                  NaN   \n",
       "2526                  NaN             NaN            NaN                  NaN   \n",
       "2866                  NaN             NaN            NaN                  NaN   \n",
       "...                   ...             ...            ...                  ...   \n",
       "5813860               NaN             NaN            NaN                  NaN   \n",
       "5815052               NaN             NaN            NaN                  NaN   \n",
       "5816657               NaN             NaN            NaN                  NaN   \n",
       "5817342               NaN             NaN            NaN                  NaN   \n",
       "5818160               NaN             NaN            NaN                  NaN   \n",
       "\n",
       "         WEATHER_DELAY  \n",
       "724                NaN  \n",
       "1455               NaN  \n",
       "2218               NaN  \n",
       "2526               NaN  \n",
       "2866               NaN  \n",
       "...                ...  \n",
       "5813860            NaN  \n",
       "5815052            NaN  \n",
       "5816657            NaN  \n",
       "5817342            NaN  \n",
       "5818160            NaN  \n",
       "\n",
       "[15187 rows x 29 columns]"
      ]
     },
     "execution_count": 11,
     "metadata": {},
     "output_type": "execute_result"
    }
   ],
   "source": [
    "data[data['DIVERTED']>0]"
   ]
  },
  {
   "cell_type": "code",
   "execution_count": 12,
   "metadata": {},
   "outputs": [],
   "source": [
    "data_without_nulls = data.drop(data[(data['DIVERTED']>0)].index)"
   ]
  },
  {
   "cell_type": "code",
   "execution_count": 13,
   "metadata": {},
   "outputs": [],
   "source": [
    "data_without_nulls = data_without_nulls.drop(['DIVERTED'], axis=1)"
   ]
  },
  {
   "cell_type": "code",
   "execution_count": 14,
   "metadata": {
    "colab": {
     "base_uri": "https://localhost:8080/"
    },
    "id": "LOex2RTNnl1V",
    "outputId": "10f47a3f-e427-48c4-88e6-b0d05da18e3b"
   },
   "outputs": [
    {
     "data": {
      "text/plain": [
       "YEAR                         0\n",
       "MONTH                        0\n",
       "DAY                          0\n",
       "DAY_OF_WEEK                  0\n",
       "AIRLINE                      0\n",
       "FLIGHT_NUMBER                0\n",
       "TAIL_NUMBER                  0\n",
       "ORIGIN_AIRPORT               0\n",
       "DESTINATION_AIRPORT          0\n",
       "SCHEDULED_DEPARTURE          0\n",
       "DEPARTURE_TIME               0\n",
       "DEPARTURE_DELAY              0\n",
       "TAXI_OUT                     0\n",
       "WHEELS_OFF                   0\n",
       "SCHEDULED_TIME               0\n",
       "ELAPSED_TIME                 0\n",
       "AIR_TIME                     0\n",
       "DISTANCE                     0\n",
       "WHEELS_ON                    0\n",
       "TAXI_IN                      0\n",
       "SCHEDULED_ARRIVAL            0\n",
       "ARRIVAL_TIME                 0\n",
       "ARRIVAL_DELAY                0\n",
       "AIR_SYSTEM_DELAY       4650569\n",
       "SECURITY_DELAY         4650569\n",
       "AIRLINE_DELAY          4650569\n",
       "LATE_AIRCRAFT_DELAY    4650569\n",
       "WEATHER_DELAY          4650569\n",
       "dtype: int64"
      ]
     },
     "execution_count": 14,
     "metadata": {},
     "output_type": "execute_result"
    }
   ],
   "source": [
    "data_without_nulls.isna().sum()"
   ]
  },
  {
   "cell_type": "markdown",
   "metadata": {},
   "source": [
    "Variables: 'AIR_SYSTEM_DELAY', 'SECURITY_DELAY', 'AIRLINE_DELAY', 'LATE_AIRCRAFT_DELAY', 'WEATHER_DELAY' are indicators of delay reson. \n",
    "Knowing those variables would be too obvious for algorithm to define it with occurrence of a delay. Those columns should be dropped."
   ]
  },
  {
   "cell_type": "code",
   "execution_count": 15,
   "metadata": {
    "id": "PVZirBIwfZbm"
   },
   "outputs": [],
   "source": [
    "Flights_Delays_Combined =  data_without_nulls.drop(['AIR_SYSTEM_DELAY','SECURITY_DELAY','AIRLINE_DELAY',\n",
    "                    'LATE_AIRCRAFT_DELAY','WEATHER_DELAY'],axis = 1)"
   ]
  },
  {
   "cell_type": "code",
   "execution_count": 16,
   "metadata": {
    "colab": {
     "base_uri": "https://localhost:8080/",
     "height": 444
    },
    "id": "6ejpqZbFoa4T",
    "outputId": "16be1279-27a7-47bd-bb02-dfaecad3af98"
   },
   "outputs": [
    {
     "data": {
      "text/html": [
       "<div>\n",
       "<style scoped>\n",
       "    .dataframe tbody tr th:only-of-type {\n",
       "        vertical-align: middle;\n",
       "    }\n",
       "\n",
       "    .dataframe tbody tr th {\n",
       "        vertical-align: top;\n",
       "    }\n",
       "\n",
       "    .dataframe thead th {\n",
       "        text-align: right;\n",
       "    }\n",
       "</style>\n",
       "<table border=\"1\" class=\"dataframe\">\n",
       "  <thead>\n",
       "    <tr style=\"text-align: right;\">\n",
       "      <th></th>\n",
       "      <th>YEAR</th>\n",
       "      <th>MONTH</th>\n",
       "      <th>DAY</th>\n",
       "      <th>DAY_OF_WEEK</th>\n",
       "      <th>AIRLINE</th>\n",
       "      <th>FLIGHT_NUMBER</th>\n",
       "      <th>TAIL_NUMBER</th>\n",
       "      <th>ORIGIN_AIRPORT</th>\n",
       "      <th>DESTINATION_AIRPORT</th>\n",
       "      <th>SCHEDULED_DEPARTURE</th>\n",
       "      <th>...</th>\n",
       "      <th>WHEELS_OFF</th>\n",
       "      <th>SCHEDULED_TIME</th>\n",
       "      <th>ELAPSED_TIME</th>\n",
       "      <th>AIR_TIME</th>\n",
       "      <th>DISTANCE</th>\n",
       "      <th>WHEELS_ON</th>\n",
       "      <th>TAXI_IN</th>\n",
       "      <th>SCHEDULED_ARRIVAL</th>\n",
       "      <th>ARRIVAL_TIME</th>\n",
       "      <th>ARRIVAL_DELAY</th>\n",
       "    </tr>\n",
       "  </thead>\n",
       "  <tbody>\n",
       "    <tr>\n",
       "      <th>0</th>\n",
       "      <td>2015</td>\n",
       "      <td>1</td>\n",
       "      <td>1</td>\n",
       "      <td>4</td>\n",
       "      <td>AS</td>\n",
       "      <td>98</td>\n",
       "      <td>N407AS</td>\n",
       "      <td>ANC</td>\n",
       "      <td>SEA</td>\n",
       "      <td>5</td>\n",
       "      <td>...</td>\n",
       "      <td>15.0</td>\n",
       "      <td>205.0</td>\n",
       "      <td>194.0</td>\n",
       "      <td>169.0</td>\n",
       "      <td>1448</td>\n",
       "      <td>404.0</td>\n",
       "      <td>4.0</td>\n",
       "      <td>430</td>\n",
       "      <td>408.0</td>\n",
       "      <td>-22.0</td>\n",
       "    </tr>\n",
       "    <tr>\n",
       "      <th>1</th>\n",
       "      <td>2015</td>\n",
       "      <td>1</td>\n",
       "      <td>1</td>\n",
       "      <td>4</td>\n",
       "      <td>AA</td>\n",
       "      <td>2336</td>\n",
       "      <td>N3KUAA</td>\n",
       "      <td>LAX</td>\n",
       "      <td>PBI</td>\n",
       "      <td>10</td>\n",
       "      <td>...</td>\n",
       "      <td>14.0</td>\n",
       "      <td>280.0</td>\n",
       "      <td>279.0</td>\n",
       "      <td>263.0</td>\n",
       "      <td>2330</td>\n",
       "      <td>737.0</td>\n",
       "      <td>4.0</td>\n",
       "      <td>750</td>\n",
       "      <td>741.0</td>\n",
       "      <td>-9.0</td>\n",
       "    </tr>\n",
       "    <tr>\n",
       "      <th>2</th>\n",
       "      <td>2015</td>\n",
       "      <td>1</td>\n",
       "      <td>1</td>\n",
       "      <td>4</td>\n",
       "      <td>US</td>\n",
       "      <td>840</td>\n",
       "      <td>N171US</td>\n",
       "      <td>SFO</td>\n",
       "      <td>CLT</td>\n",
       "      <td>20</td>\n",
       "      <td>...</td>\n",
       "      <td>34.0</td>\n",
       "      <td>286.0</td>\n",
       "      <td>293.0</td>\n",
       "      <td>266.0</td>\n",
       "      <td>2296</td>\n",
       "      <td>800.0</td>\n",
       "      <td>11.0</td>\n",
       "      <td>806</td>\n",
       "      <td>811.0</td>\n",
       "      <td>5.0</td>\n",
       "    </tr>\n",
       "    <tr>\n",
       "      <th>3</th>\n",
       "      <td>2015</td>\n",
       "      <td>1</td>\n",
       "      <td>1</td>\n",
       "      <td>4</td>\n",
       "      <td>AA</td>\n",
       "      <td>258</td>\n",
       "      <td>N3HYAA</td>\n",
       "      <td>LAX</td>\n",
       "      <td>MIA</td>\n",
       "      <td>20</td>\n",
       "      <td>...</td>\n",
       "      <td>30.0</td>\n",
       "      <td>285.0</td>\n",
       "      <td>281.0</td>\n",
       "      <td>258.0</td>\n",
       "      <td>2342</td>\n",
       "      <td>748.0</td>\n",
       "      <td>8.0</td>\n",
       "      <td>805</td>\n",
       "      <td>756.0</td>\n",
       "      <td>-9.0</td>\n",
       "    </tr>\n",
       "    <tr>\n",
       "      <th>4</th>\n",
       "      <td>2015</td>\n",
       "      <td>1</td>\n",
       "      <td>1</td>\n",
       "      <td>4</td>\n",
       "      <td>AS</td>\n",
       "      <td>135</td>\n",
       "      <td>N527AS</td>\n",
       "      <td>SEA</td>\n",
       "      <td>ANC</td>\n",
       "      <td>25</td>\n",
       "      <td>...</td>\n",
       "      <td>35.0</td>\n",
       "      <td>235.0</td>\n",
       "      <td>215.0</td>\n",
       "      <td>199.0</td>\n",
       "      <td>1448</td>\n",
       "      <td>254.0</td>\n",
       "      <td>5.0</td>\n",
       "      <td>320</td>\n",
       "      <td>259.0</td>\n",
       "      <td>-21.0</td>\n",
       "    </tr>\n",
       "  </tbody>\n",
       "</table>\n",
       "<p>5 rows × 23 columns</p>\n",
       "</div>"
      ],
      "text/plain": [
       "   YEAR  MONTH  DAY  DAY_OF_WEEK AIRLINE  FLIGHT_NUMBER TAIL_NUMBER  \\\n",
       "0  2015      1    1            4      AS             98      N407AS   \n",
       "1  2015      1    1            4      AA           2336      N3KUAA   \n",
       "2  2015      1    1            4      US            840      N171US   \n",
       "3  2015      1    1            4      AA            258      N3HYAA   \n",
       "4  2015      1    1            4      AS            135      N527AS   \n",
       "\n",
       "  ORIGIN_AIRPORT DESTINATION_AIRPORT  SCHEDULED_DEPARTURE  ...  WHEELS_OFF  \\\n",
       "0            ANC                 SEA                    5  ...        15.0   \n",
       "1            LAX                 PBI                   10  ...        14.0   \n",
       "2            SFO                 CLT                   20  ...        34.0   \n",
       "3            LAX                 MIA                   20  ...        30.0   \n",
       "4            SEA                 ANC                   25  ...        35.0   \n",
       "\n",
       "   SCHEDULED_TIME  ELAPSED_TIME  AIR_TIME  DISTANCE  WHEELS_ON  TAXI_IN  \\\n",
       "0           205.0         194.0     169.0      1448      404.0      4.0   \n",
       "1           280.0         279.0     263.0      2330      737.0      4.0   \n",
       "2           286.0         293.0     266.0      2296      800.0     11.0   \n",
       "3           285.0         281.0     258.0      2342      748.0      8.0   \n",
       "4           235.0         215.0     199.0      1448      254.0      5.0   \n",
       "\n",
       "   SCHEDULED_ARRIVAL  ARRIVAL_TIME  ARRIVAL_DELAY  \n",
       "0                430         408.0          -22.0  \n",
       "1                750         741.0           -9.0  \n",
       "2                806         811.0            5.0  \n",
       "3                805         756.0           -9.0  \n",
       "4                320         259.0          -21.0  \n",
       "\n",
       "[5 rows x 23 columns]"
      ]
     },
     "execution_count": 16,
     "metadata": {},
     "output_type": "execute_result"
    }
   ],
   "source": [
    "Flights_Delays_Combined.head()"
   ]
  },
  {
   "cell_type": "code",
   "execution_count": 17,
   "metadata": {},
   "outputs": [
    {
     "data": {
      "text/plain": [
       "Index(['YEAR', 'MONTH', 'DAY', 'DAY_OF_WEEK', 'AIRLINE', 'FLIGHT_NUMBER',\n",
       "       'TAIL_NUMBER', 'ORIGIN_AIRPORT', 'DESTINATION_AIRPORT',\n",
       "       'SCHEDULED_DEPARTURE', 'DEPARTURE_TIME', 'DEPARTURE_DELAY', 'TAXI_OUT',\n",
       "       'WHEELS_OFF', 'SCHEDULED_TIME', 'ELAPSED_TIME', 'AIR_TIME', 'DISTANCE',\n",
       "       'WHEELS_ON', 'TAXI_IN', 'SCHEDULED_ARRIVAL', 'ARRIVAL_TIME',\n",
       "       'ARRIVAL_DELAY'],\n",
       "      dtype='object')"
      ]
     },
     "execution_count": 17,
     "metadata": {},
     "output_type": "execute_result"
    }
   ],
   "source": [
    "Flights_Delays_Combined.columns"
   ]
  },
  {
   "cell_type": "code",
   "execution_count": 18,
   "metadata": {
    "colab": {
     "base_uri": "https://localhost:8080/"
    },
    "id": "Ic9xRu7kobms",
    "outputId": "096a4111-b9fd-4c47-864d-ecf8b2085c77"
   },
   "outputs": [
    {
     "data": {
      "text/plain": [
       "YEAR                   0\n",
       "MONTH                  0\n",
       "DAY                    0\n",
       "DAY_OF_WEEK            0\n",
       "AIRLINE                0\n",
       "FLIGHT_NUMBER          0\n",
       "TAIL_NUMBER            0\n",
       "ORIGIN_AIRPORT         0\n",
       "DESTINATION_AIRPORT    0\n",
       "SCHEDULED_DEPARTURE    0\n",
       "DEPARTURE_TIME         0\n",
       "DEPARTURE_DELAY        0\n",
       "TAXI_OUT               0\n",
       "WHEELS_OFF             0\n",
       "SCHEDULED_TIME         0\n",
       "ELAPSED_TIME           0\n",
       "AIR_TIME               0\n",
       "DISTANCE               0\n",
       "WHEELS_ON              0\n",
       "TAXI_IN                0\n",
       "SCHEDULED_ARRIVAL      0\n",
       "ARRIVAL_TIME           0\n",
       "ARRIVAL_DELAY          0\n",
       "dtype: int64"
      ]
     },
     "execution_count": 18,
     "metadata": {},
     "output_type": "execute_result"
    }
   ],
   "source": [
    "Flights_Delays_Combined.isnull().sum()"
   ]
  },
  {
   "cell_type": "markdown",
   "metadata": {},
   "source": [
    "There are no missing data left in dataset."
   ]
  },
  {
   "cell_type": "markdown",
   "metadata": {},
   "source": [
    "***"
   ]
  },
  {
   "cell_type": "markdown",
   "metadata": {},
   "source": [
    "## Handling mixed value types"
   ]
  },
  {
   "cell_type": "markdown",
   "metadata": {},
   "source": [
    "Some airports in following data does not have assigned IATA code. That's why they are represented by number. In this project I'm not going to handle data from small airports that don't have that code.\n",
    "In refrence to point **1)** I am handling mixed data types by making function that changes numer airport code to unknown ('unk')"
   ]
  },
  {
   "cell_type": "code",
   "execution_count": 19,
   "metadata": {
    "id": "raJQvMMJ2T_z"
   },
   "outputs": [
    {
     "data": {
      "text/plain": [
       "ATL      343506\n",
       "ORD      276554\n",
       "DFW      232647\n",
       "DEN      193402\n",
       "LAX      192003\n",
       "          ...  \n",
       "12265         1\n",
       "14025         1\n",
       "11097         1\n",
       "13459         1\n",
       "11905         1\n",
       "Name: ORIGIN_AIRPORT, Length: 929, dtype: int64"
      ]
     },
     "execution_count": 19,
     "metadata": {},
     "output_type": "execute_result"
    }
   ],
   "source": [
    "Flights_Delays_Combined['ORIGIN_AIRPORT'].value_counts()"
   ]
  },
  {
   "cell_type": "code",
   "execution_count": 20,
   "metadata": {},
   "outputs": [
    {
     "data": {
      "text/plain": [
       "ATL      343076\n",
       "ORD      275864\n",
       "DFW      231764\n",
       "DEN      193033\n",
       "LAX      192136\n",
       "          ...  \n",
       "13459         1\n",
       "10666         1\n",
       "15497         1\n",
       "12265         1\n",
       "14025         1\n",
       "Name: DESTINATION_AIRPORT, Length: 929, dtype: int64"
      ]
     },
     "execution_count": 20,
     "metadata": {},
     "output_type": "execute_result"
    }
   ],
   "source": [
    "Flights_Delays_Combined['DESTINATION_AIRPORT'].value_counts()"
   ]
  },
  {
   "cell_type": "code",
   "execution_count": 21,
   "metadata": {},
   "outputs": [
    {
     "data": {
      "text/plain": [
       "TestResults(failed=0, attempted=3)"
      ]
     },
     "execution_count": 21,
     "metadata": {},
     "output_type": "execute_result"
    }
   ],
   "source": [
    "def airport_trainsformation(value):\n",
    "    '''\n",
    "    >>> airport_trainsformation('ATL')\n",
    "    'ATL'\n",
    "    >>> airport_trainsformation(11097)\n",
    "    'unk'\n",
    "    >>> airport_trainsformation(15497)\n",
    "    'unk'\n",
    "    '''\n",
    "    if len(str(value))>3:\n",
    "        return 'unk'\n",
    "    else:\n",
    "        return value\n",
    "\n",
    "import doctest\n",
    "doctest.testmod()"
   ]
  },
  {
   "cell_type": "code",
   "execution_count": 22,
   "metadata": {},
   "outputs": [],
   "source": [
    "Flights_Delays_Combined['ORIGIN_AIRPOR'] = Flights_Delays_Combined['ORIGIN_AIRPORT'].apply(airport_trainsformation)\n",
    "Flights_Delays_Combined['DESTINATION_AIRPORT'] = Flights_Delays_Combined['DESTINATION_AIRPORT'].apply(airport_trainsformation)"
   ]
  },
  {
   "cell_type": "code",
   "execution_count": 23,
   "metadata": {},
   "outputs": [
    {
     "data": {
      "text/plain": [
       "unk    482878\n",
       "ATL    343076\n",
       "ORD    275864\n",
       "DFW    231764\n",
       "DEN    193033\n",
       "        ...  \n",
       "DLG        77\n",
       "STC        77\n",
       "GST        74\n",
       "AKN        63\n",
       "ITH        31\n",
       "Name: DESTINATION_AIRPORT, Length: 323, dtype: int64"
      ]
     },
     "execution_count": 23,
     "metadata": {},
     "output_type": "execute_result"
    }
   ],
   "source": [
    "Flights_Delays_Combined['DESTINATION_AIRPORT'].value_counts()"
   ]
  },
  {
   "cell_type": "code",
   "execution_count": 24,
   "metadata": {},
   "outputs": [],
   "source": [
    "Flights_Delays_Combined = Flights_Delays_Combined.drop(Flights_Delays_Combined[(Flights_Delays_Combined['DESTINATION_AIRPORT']=='unk')].index)"
   ]
  },
  {
   "cell_type": "code",
   "execution_count": 25,
   "metadata": {},
   "outputs": [],
   "source": [
    "Flights_Delays_Combined = Flights_Delays_Combined.drop(Flights_Delays_Combined[(Flights_Delays_Combined['ORIGIN_AIRPORT']=='unk')].index)"
   ]
  },
  {
   "cell_type": "code",
   "execution_count": 26,
   "metadata": {},
   "outputs": [
    {
     "data": {
      "text/plain": [
       "ATL    343076\n",
       "ORD    275864\n",
       "DFW    231764\n",
       "DEN    193033\n",
       "LAX    192136\n",
       "        ...  \n",
       "STC        77\n",
       "DLG        77\n",
       "GST        74\n",
       "AKN        63\n",
       "ITH        31\n",
       "Name: DESTINATION_AIRPORT, Length: 322, dtype: int64"
      ]
     },
     "execution_count": 26,
     "metadata": {},
     "output_type": "execute_result"
    }
   ],
   "source": [
    "Flights_Delays_Combined['DESTINATION_AIRPORT'].value_counts()"
   ]
  },
  {
   "cell_type": "code",
   "execution_count": 27,
   "metadata": {},
   "outputs": [],
   "source": [
    "#Flights_Delays_Combined = Flights_Delays_Combined.drop(['ORIGIN_AIRPORT','DESTINATION_AIRPORT'], axis=1)"
   ]
  },
  {
   "cell_type": "markdown",
   "metadata": {},
   "source": [
    "### Not understable data format in time columns\n",
    "In data dates are in float format. Those should be changed for datetime format. I defined *time_transformation* with doctesting function for that."
   ]
  },
  {
   "cell_type": "code",
   "execution_count": 28,
   "metadata": {
    "colab": {
     "base_uri": "https://localhost:8080/"
    },
    "id": "UWz7CR7Noeqf",
    "outputId": "da85a489-2598-4a91-b7e0-669cf6f98c62"
   },
   "outputs": [
    {
     "data": {
      "text/plain": [
       "0          2354.0\n",
       "1             2.0\n",
       "2            18.0\n",
       "3            15.0\n",
       "4            24.0\n",
       "            ...  \n",
       "5819074    2355.0\n",
       "5819075    2355.0\n",
       "5819076    2350.0\n",
       "5819077    2353.0\n",
       "5819078      14.0\n",
       "Name: DEPARTURE_TIME, Length: 5231130, dtype: float64"
      ]
     },
     "execution_count": 28,
     "metadata": {},
     "output_type": "execute_result"
    }
   ],
   "source": [
    "Flights_Delays_Combined['DEPARTURE_TIME']"
   ]
  },
  {
   "cell_type": "code",
   "execution_count": 29,
   "metadata": {
    "colab": {
     "base_uri": "https://localhost:8080/"
    },
    "id": "eG6iE_IFqyVE",
    "outputId": "7a1befc5-6a29-4863-d400-a7d7d96c9d6e"
   },
   "outputs": [
    {
     "data": {
      "text/plain": [
       "2400.0"
      ]
     },
     "execution_count": 29,
     "metadata": {},
     "output_type": "execute_result"
    }
   ],
   "source": [
    "max(Flights_Delays_Combined['DEPARTURE_TIME'])"
   ]
  },
  {
   "cell_type": "markdown",
   "metadata": {
    "id": "zs2hdzgRosCh"
   },
   "source": [
    "Hours are in numerical format. I convert them to datetime"
   ]
  },
  {
   "cell_type": "code",
   "execution_count": 30,
   "metadata": {
    "colab": {
     "base_uri": "https://localhost:8080/"
    },
    "id": "3g7PwEX5okQ9",
    "outputId": "6661929c-f1d2-4ad3-84e9-8e61a50627be"
   },
   "outputs": [
    {
     "data": {
      "text/plain": [
       "TestResults(failed=0, attempted=11)"
      ]
     },
     "execution_count": 30,
     "metadata": {},
     "output_type": "execute_result"
    }
   ],
   "source": [
    "def time_transformation(time):\n",
    "  \"\"\"\n",
    "  >>> time_transformation(0)\n",
    "  datetime.time(0, 0)\n",
    "  >>> time_transformation(2400)\n",
    "  datetime.time(0, 0)\n",
    "  >>> time_transformation(2359)\n",
    "  datetime.time(23, 59)\n",
    "  >>> time_transformation(1200)\n",
    "  datetime.time(12, 0)\n",
    "  >>> time_transformation(0734.00)\n",
    "  datetime.time(7, 34)\n",
    "  >>> time_transformation(734.00)\n",
    "  datetime.time(7, 34)\n",
    "  >>> time_transformation(34.00)\n",
    "  datetime.time(0, 34)\n",
    "  >>> time_transformation(4.00)\n",
    "  datetime.time(0, 4)\n",
    "  \"\"\"\n",
    "  time_string = str(int(time))\n",
    "  time_string = time_string.split('.')[0]\n",
    "  time_string = time_string.zfill(4)\n",
    "  hours = int(time_string[0:2])\n",
    "  minutes = int(time_string[2:4])\n",
    "  if hours == 24:\n",
    "    hours = 0\n",
    "  hours_minutes = datetime.time(hours,minutes)\n",
    "  return hours_minutes\n",
    "  \n",
    "import doctest\n",
    "doctest.testmod()"
   ]
  },
  {
   "cell_type": "code",
   "execution_count": 31,
   "metadata": {
    "id": "DULDdQ4MqlEA"
   },
   "outputs": [
    {
     "data": {
      "text/plain": [
       "0          23:54:00\n",
       "1          00:02:00\n",
       "2          00:18:00\n",
       "3          00:15:00\n",
       "4          00:24:00\n",
       "             ...   \n",
       "5819074    23:55:00\n",
       "5819075    23:55:00\n",
       "5819076    23:50:00\n",
       "5819077    23:53:00\n",
       "5819078    00:14:00\n",
       "Name: DEP_TIME, Length: 5231130, dtype: object"
      ]
     },
     "execution_count": 31,
     "metadata": {},
     "output_type": "execute_result"
    }
   ],
   "source": [
    "Flights_Delays_Combined['DEP_TIME'] = Flights_Delays_Combined['DEPARTURE_TIME'].apply(time_transformation)\n",
    "Flights_Delays_Combined['DEP_TIME']"
   ]
  },
  {
   "cell_type": "code",
   "execution_count": 32,
   "metadata": {
    "id": "skEnerb7tolt"
   },
   "outputs": [],
   "source": [
    "Flights_Delays_Combined['SCH_ARR_TIME'] =Flights_Delays_Combined['SCHEDULED_ARRIVAL'].apply(time_transformation)\n",
    "Flights_Delays_Combined['SCH_DEP_TIME'] =Flights_Delays_Combined['SCHEDULED_DEPARTURE'].apply(time_transformation)\n",
    "Flights_Delays_Combined['ARR_TIME'] =Flights_Delays_Combined['ARRIVAL_TIME'].apply(time_transformation)\n",
    "Flights_Delays_Combined['WHEELS_OFF'] =Flights_Delays_Combined['WHEELS_OFF'].apply(time_transformation)\n",
    "Flights_Delays_Combined['WHEELS_ON'] =Flights_Delays_Combined['WHEELS_ON'].apply(time_transformation)"
   ]
  },
  {
   "cell_type": "markdown",
   "metadata": {
    "id": "tTYT-ZaTuOpg"
   },
   "source": [
    "Combining columns with dates into a single Datetime column"
   ]
  },
  {
   "cell_type": "code",
   "execution_count": 34,
   "metadata": {
    "colab": {
     "base_uri": "https://localhost:8080/"
    },
    "id": "rcyB1fETuSyd",
    "outputId": "fc2cfad0-a46b-405b-aac1-847e57804704"
   },
   "outputs": [
    {
     "data": {
      "text/plain": [
       "0         2015-01-01\n",
       "1         2015-01-01\n",
       "2         2015-01-01\n",
       "3         2015-01-01\n",
       "4         2015-01-01\n",
       "             ...    \n",
       "5819074   2015-12-31\n",
       "5819075   2015-12-31\n",
       "5819076   2015-12-31\n",
       "5819077   2015-12-31\n",
       "5819078   2015-12-31\n",
       "Name: DATE, Length: 5231130, dtype: datetime64[ns]"
      ]
     },
     "execution_count": 34,
     "metadata": {},
     "output_type": "execute_result"
    }
   ],
   "source": [
    "Flights_Delays_Combined['DATE'] = pd.to_datetime(Flights_Delays_Combined[['YEAR','MONTH','DAY']])\n",
    "Flights_Delays_Combined['DATE']"
   ]
  },
  {
   "cell_type": "code",
   "execution_count": 35,
   "metadata": {
    "id": "DTijGuMdvgEA"
   },
   "outputs": [],
   "source": [
    "Flights_Delays_Combined['DayOfWeek'] = Flights_Delays_Combined['DATE'].apply(date.weekday)\n",
    "Flights_Delays_Combined = Flights_Delays_Combined.drop(['YEAR','MONTH','DAY','DAY_OF_WEEK'], axis=1)"
   ]
  },
  {
   "cell_type": "markdown",
   "metadata": {
    "id": "0RULhUiY1SIE"
   },
   "source": [
    " Categorical variables such as AIRLINE, PLANE, DEP_ARP, ARR_ARP should also take into account"
   ]
  },
  {
   "cell_type": "code",
   "execution_count": 36,
   "metadata": {},
   "outputs": [
    {
     "data": {
      "text/html": [
       "<div>\n",
       "<style scoped>\n",
       "    .dataframe tbody tr th:only-of-type {\n",
       "        vertical-align: middle;\n",
       "    }\n",
       "\n",
       "    .dataframe tbody tr th {\n",
       "        vertical-align: top;\n",
       "    }\n",
       "\n",
       "    .dataframe thead th {\n",
       "        text-align: right;\n",
       "    }\n",
       "</style>\n",
       "<table border=\"1\" class=\"dataframe\">\n",
       "  <thead>\n",
       "    <tr style=\"text-align: right;\">\n",
       "      <th></th>\n",
       "      <th>AIRLINE</th>\n",
       "      <th>FLIGHT_NUMBER</th>\n",
       "      <th>TAIL_NUMBER</th>\n",
       "      <th>ORIGIN_AIRPORT</th>\n",
       "      <th>DESTINATION_AIRPORT</th>\n",
       "      <th>SCHEDULED_DEPARTURE</th>\n",
       "      <th>DEPARTURE_TIME</th>\n",
       "      <th>DEPARTURE_DELAY</th>\n",
       "      <th>TAXI_OUT</th>\n",
       "      <th>WHEELS_OFF</th>\n",
       "      <th>...</th>\n",
       "      <th>SCHEDULED_ARRIVAL</th>\n",
       "      <th>ARRIVAL_TIME</th>\n",
       "      <th>ARRIVAL_DELAY</th>\n",
       "      <th>ORIGIN_AIRPOR</th>\n",
       "      <th>DEP_TIME</th>\n",
       "      <th>SCH_ARR_TIME</th>\n",
       "      <th>SCH_DEP_TIME</th>\n",
       "      <th>ARR_TIME</th>\n",
       "      <th>DATE</th>\n",
       "      <th>DayOfWeek</th>\n",
       "    </tr>\n",
       "  </thead>\n",
       "  <tbody>\n",
       "    <tr>\n",
       "      <th>0</th>\n",
       "      <td>AS</td>\n",
       "      <td>98</td>\n",
       "      <td>N407AS</td>\n",
       "      <td>ANC</td>\n",
       "      <td>SEA</td>\n",
       "      <td>5</td>\n",
       "      <td>2354.0</td>\n",
       "      <td>-11.0</td>\n",
       "      <td>21.0</td>\n",
       "      <td>00:15:00</td>\n",
       "      <td>...</td>\n",
       "      <td>430</td>\n",
       "      <td>408.0</td>\n",
       "      <td>-22.0</td>\n",
       "      <td>ANC</td>\n",
       "      <td>23:54:00</td>\n",
       "      <td>04:30:00</td>\n",
       "      <td>00:05:00</td>\n",
       "      <td>04:08:00</td>\n",
       "      <td>2015-01-01</td>\n",
       "      <td>3</td>\n",
       "    </tr>\n",
       "    <tr>\n",
       "      <th>1</th>\n",
       "      <td>AA</td>\n",
       "      <td>2336</td>\n",
       "      <td>N3KUAA</td>\n",
       "      <td>LAX</td>\n",
       "      <td>PBI</td>\n",
       "      <td>10</td>\n",
       "      <td>2.0</td>\n",
       "      <td>-8.0</td>\n",
       "      <td>12.0</td>\n",
       "      <td>00:14:00</td>\n",
       "      <td>...</td>\n",
       "      <td>750</td>\n",
       "      <td>741.0</td>\n",
       "      <td>-9.0</td>\n",
       "      <td>LAX</td>\n",
       "      <td>00:02:00</td>\n",
       "      <td>07:50:00</td>\n",
       "      <td>00:10:00</td>\n",
       "      <td>07:41:00</td>\n",
       "      <td>2015-01-01</td>\n",
       "      <td>3</td>\n",
       "    </tr>\n",
       "    <tr>\n",
       "      <th>2</th>\n",
       "      <td>US</td>\n",
       "      <td>840</td>\n",
       "      <td>N171US</td>\n",
       "      <td>SFO</td>\n",
       "      <td>CLT</td>\n",
       "      <td>20</td>\n",
       "      <td>18.0</td>\n",
       "      <td>-2.0</td>\n",
       "      <td>16.0</td>\n",
       "      <td>00:34:00</td>\n",
       "      <td>...</td>\n",
       "      <td>806</td>\n",
       "      <td>811.0</td>\n",
       "      <td>5.0</td>\n",
       "      <td>SFO</td>\n",
       "      <td>00:18:00</td>\n",
       "      <td>08:06:00</td>\n",
       "      <td>00:20:00</td>\n",
       "      <td>08:11:00</td>\n",
       "      <td>2015-01-01</td>\n",
       "      <td>3</td>\n",
       "    </tr>\n",
       "    <tr>\n",
       "      <th>3</th>\n",
       "      <td>AA</td>\n",
       "      <td>258</td>\n",
       "      <td>N3HYAA</td>\n",
       "      <td>LAX</td>\n",
       "      <td>MIA</td>\n",
       "      <td>20</td>\n",
       "      <td>15.0</td>\n",
       "      <td>-5.0</td>\n",
       "      <td>15.0</td>\n",
       "      <td>00:30:00</td>\n",
       "      <td>...</td>\n",
       "      <td>805</td>\n",
       "      <td>756.0</td>\n",
       "      <td>-9.0</td>\n",
       "      <td>LAX</td>\n",
       "      <td>00:15:00</td>\n",
       "      <td>08:05:00</td>\n",
       "      <td>00:20:00</td>\n",
       "      <td>07:56:00</td>\n",
       "      <td>2015-01-01</td>\n",
       "      <td>3</td>\n",
       "    </tr>\n",
       "    <tr>\n",
       "      <th>4</th>\n",
       "      <td>AS</td>\n",
       "      <td>135</td>\n",
       "      <td>N527AS</td>\n",
       "      <td>SEA</td>\n",
       "      <td>ANC</td>\n",
       "      <td>25</td>\n",
       "      <td>24.0</td>\n",
       "      <td>-1.0</td>\n",
       "      <td>11.0</td>\n",
       "      <td>00:35:00</td>\n",
       "      <td>...</td>\n",
       "      <td>320</td>\n",
       "      <td>259.0</td>\n",
       "      <td>-21.0</td>\n",
       "      <td>SEA</td>\n",
       "      <td>00:24:00</td>\n",
       "      <td>03:20:00</td>\n",
       "      <td>00:25:00</td>\n",
       "      <td>02:59:00</td>\n",
       "      <td>2015-01-01</td>\n",
       "      <td>3</td>\n",
       "    </tr>\n",
       "  </tbody>\n",
       "</table>\n",
       "<p>5 rows × 26 columns</p>\n",
       "</div>"
      ],
      "text/plain": [
       "  AIRLINE  FLIGHT_NUMBER TAIL_NUMBER ORIGIN_AIRPORT DESTINATION_AIRPORT  \\\n",
       "0      AS             98      N407AS            ANC                 SEA   \n",
       "1      AA           2336      N3KUAA            LAX                 PBI   \n",
       "2      US            840      N171US            SFO                 CLT   \n",
       "3      AA            258      N3HYAA            LAX                 MIA   \n",
       "4      AS            135      N527AS            SEA                 ANC   \n",
       "\n",
       "   SCHEDULED_DEPARTURE  DEPARTURE_TIME  DEPARTURE_DELAY  TAXI_OUT WHEELS_OFF  \\\n",
       "0                    5          2354.0            -11.0      21.0   00:15:00   \n",
       "1                   10             2.0             -8.0      12.0   00:14:00   \n",
       "2                   20            18.0             -2.0      16.0   00:34:00   \n",
       "3                   20            15.0             -5.0      15.0   00:30:00   \n",
       "4                   25            24.0             -1.0      11.0   00:35:00   \n",
       "\n",
       "   ...  SCHEDULED_ARRIVAL  ARRIVAL_TIME  ARRIVAL_DELAY  ORIGIN_AIRPOR  \\\n",
       "0  ...                430         408.0          -22.0            ANC   \n",
       "1  ...                750         741.0           -9.0            LAX   \n",
       "2  ...                806         811.0            5.0            SFO   \n",
       "3  ...                805         756.0           -9.0            LAX   \n",
       "4  ...                320         259.0          -21.0            SEA   \n",
       "\n",
       "   DEP_TIME  SCH_ARR_TIME  SCH_DEP_TIME  ARR_TIME       DATE DayOfWeek  \n",
       "0  23:54:00      04:30:00      00:05:00  04:08:00 2015-01-01         3  \n",
       "1  00:02:00      07:50:00      00:10:00  07:41:00 2015-01-01         3  \n",
       "2  00:18:00      08:06:00      00:20:00  08:11:00 2015-01-01         3  \n",
       "3  00:15:00      08:05:00      00:20:00  07:56:00 2015-01-01         3  \n",
       "4  00:24:00      03:20:00      00:25:00  02:59:00 2015-01-01         3  \n",
       "\n",
       "[5 rows x 26 columns]"
      ]
     },
     "execution_count": 36,
     "metadata": {},
     "output_type": "execute_result"
    }
   ],
   "source": [
    "Flights_Delays_Combined.head()"
   ]
  },
  {
   "cell_type": "markdown",
   "metadata": {},
   "source": [
    "### Holidays"
   ]
  },
  {
   "cell_type": "markdown",
   "metadata": {},
   "source": [
    "To get list of holidays I scrapped website www.officeholidays.com which contains dates of official holidays in USA."
   ]
  },
  {
   "cell_type": "code",
   "execution_count": 37,
   "metadata": {},
   "outputs": [],
   "source": [
    "import requests\n",
    "from bs4 import BeautifulSoup\n",
    "from datetime import datetime\n",
    "holidays_dates = list()\n",
    "URL = 'https://www.officeholidays.com/countries/usa/2015'\n",
    "response = requests.get(URL, timeout=20)\n",
    "soup = BeautifulSoup(response.text)\n",
    "for a in soup.find_all('time')[2:]:\n",
    "    holidays_dates.append(datetime.strptime(a.attrs.get(\"datetime\"),'%Y-%m-%d').date())"
   ]
  },
  {
   "cell_type": "code",
   "execution_count": 38,
   "metadata": {},
   "outputs": [
    {
     "data": {
      "text/plain": [
       "[datetime.date(2015, 2, 16),\n",
       " datetime.date(2015, 5, 10),\n",
       " datetime.date(2015, 5, 25),\n",
       " datetime.date(2015, 6, 21),\n",
       " datetime.date(2015, 7, 4),\n",
       " datetime.date(2015, 9, 7),\n",
       " datetime.date(2015, 10, 12),\n",
       " datetime.date(2015, 10, 12),\n",
       " datetime.date(2015, 10, 12),\n",
       " datetime.date(2015, 11, 26),\n",
       " datetime.date(2015, 12, 25)]"
      ]
     },
     "execution_count": 38,
     "metadata": {},
     "output_type": "execute_result"
    }
   ],
   "source": [
    "holidays_dates"
   ]
  },
  {
   "cell_type": "code",
   "execution_count": 39,
   "metadata": {},
   "outputs": [],
   "source": [
    "Flights_Delays_Combined['Holidays'] = np.where(Flights_Delays_Combined['DATE'].isin(holidays_dates), 1, 0)"
   ]
  },
  {
   "cell_type": "code",
   "execution_count": 40,
   "metadata": {},
   "outputs": [
    {
     "data": {
      "text/html": [
       "<div>\n",
       "<style scoped>\n",
       "    .dataframe tbody tr th:only-of-type {\n",
       "        vertical-align: middle;\n",
       "    }\n",
       "\n",
       "    .dataframe tbody tr th {\n",
       "        vertical-align: top;\n",
       "    }\n",
       "\n",
       "    .dataframe thead th {\n",
       "        text-align: right;\n",
       "    }\n",
       "</style>\n",
       "<table border=\"1\" class=\"dataframe\">\n",
       "  <thead>\n",
       "    <tr style=\"text-align: right;\">\n",
       "      <th></th>\n",
       "      <th>AIRLINE</th>\n",
       "      <th>FLIGHT_NUMBER</th>\n",
       "      <th>TAIL_NUMBER</th>\n",
       "      <th>ORIGIN_AIRPORT</th>\n",
       "      <th>DESTINATION_AIRPORT</th>\n",
       "      <th>SCHEDULED_DEPARTURE</th>\n",
       "      <th>DEPARTURE_TIME</th>\n",
       "      <th>DEPARTURE_DELAY</th>\n",
       "      <th>TAXI_OUT</th>\n",
       "      <th>WHEELS_OFF</th>\n",
       "      <th>...</th>\n",
       "      <th>ARRIVAL_TIME</th>\n",
       "      <th>ARRIVAL_DELAY</th>\n",
       "      <th>ORIGIN_AIRPOR</th>\n",
       "      <th>DEP_TIME</th>\n",
       "      <th>SCH_ARR_TIME</th>\n",
       "      <th>SCH_DEP_TIME</th>\n",
       "      <th>ARR_TIME</th>\n",
       "      <th>DATE</th>\n",
       "      <th>DayOfWeek</th>\n",
       "      <th>Holidays</th>\n",
       "    </tr>\n",
       "  </thead>\n",
       "  <tbody>\n",
       "    <tr>\n",
       "      <th>695436</th>\n",
       "      <td>AA</td>\n",
       "      <td>2400</td>\n",
       "      <td>N5ESAA</td>\n",
       "      <td>LAX</td>\n",
       "      <td>DFW</td>\n",
       "      <td>5</td>\n",
       "      <td>3.0</td>\n",
       "      <td>-2.0</td>\n",
       "      <td>13.0</td>\n",
       "      <td>00:16:00</td>\n",
       "      <td>...</td>\n",
       "      <td>449.0</td>\n",
       "      <td>-4.0</td>\n",
       "      <td>LAX</td>\n",
       "      <td>00:03:00</td>\n",
       "      <td>04:53:00</td>\n",
       "      <td>00:05:00</td>\n",
       "      <td>04:49:00</td>\n",
       "      <td>2015-02-16</td>\n",
       "      <td>0</td>\n",
       "      <td>1</td>\n",
       "    </tr>\n",
       "    <tr>\n",
       "      <th>695437</th>\n",
       "      <td>DL</td>\n",
       "      <td>1745</td>\n",
       "      <td>N365NW</td>\n",
       "      <td>SMF</td>\n",
       "      <td>MSP</td>\n",
       "      <td>5</td>\n",
       "      <td>2359.0</td>\n",
       "      <td>-6.0</td>\n",
       "      <td>9.0</td>\n",
       "      <td>00:08:00</td>\n",
       "      <td>...</td>\n",
       "      <td>514.0</td>\n",
       "      <td>-15.0</td>\n",
       "      <td>SMF</td>\n",
       "      <td>23:59:00</td>\n",
       "      <td>05:29:00</td>\n",
       "      <td>00:05:00</td>\n",
       "      <td>05:14:00</td>\n",
       "      <td>2015-02-16</td>\n",
       "      <td>0</td>\n",
       "      <td>1</td>\n",
       "    </tr>\n",
       "    <tr>\n",
       "      <th>695438</th>\n",
       "      <td>DL</td>\n",
       "      <td>2579</td>\n",
       "      <td>N693DL</td>\n",
       "      <td>DEN</td>\n",
       "      <td>ATL</td>\n",
       "      <td>15</td>\n",
       "      <td>20.0</td>\n",
       "      <td>5.0</td>\n",
       "      <td>49.0</td>\n",
       "      <td>01:09:00</td>\n",
       "      <td>...</td>\n",
       "      <td>535.0</td>\n",
       "      <td>24.0</td>\n",
       "      <td>DEN</td>\n",
       "      <td>00:20:00</td>\n",
       "      <td>05:11:00</td>\n",
       "      <td>00:15:00</td>\n",
       "      <td>05:35:00</td>\n",
       "      <td>2015-02-16</td>\n",
       "      <td>0</td>\n",
       "      <td>1</td>\n",
       "    </tr>\n",
       "    <tr>\n",
       "      <th>695439</th>\n",
       "      <td>US</td>\n",
       "      <td>2020</td>\n",
       "      <td>N917US</td>\n",
       "      <td>PHX</td>\n",
       "      <td>CLT</td>\n",
       "      <td>15</td>\n",
       "      <td>13.0</td>\n",
       "      <td>-2.0</td>\n",
       "      <td>12.0</td>\n",
       "      <td>00:25:00</td>\n",
       "      <td>...</td>\n",
       "      <td>541.0</td>\n",
       "      <td>-19.0</td>\n",
       "      <td>PHX</td>\n",
       "      <td>00:13:00</td>\n",
       "      <td>06:00:00</td>\n",
       "      <td>00:15:00</td>\n",
       "      <td>05:41:00</td>\n",
       "      <td>2015-02-16</td>\n",
       "      <td>0</td>\n",
       "      <td>1</td>\n",
       "    </tr>\n",
       "    <tr>\n",
       "      <th>695440</th>\n",
       "      <td>AA</td>\n",
       "      <td>258</td>\n",
       "      <td>N3DEAA</td>\n",
       "      <td>LAX</td>\n",
       "      <td>MIA</td>\n",
       "      <td>20</td>\n",
       "      <td>20.0</td>\n",
       "      <td>0.0</td>\n",
       "      <td>16.0</td>\n",
       "      <td>00:36:00</td>\n",
       "      <td>...</td>\n",
       "      <td>758.0</td>\n",
       "      <td>-6.0</td>\n",
       "      <td>LAX</td>\n",
       "      <td>00:20:00</td>\n",
       "      <td>08:04:00</td>\n",
       "      <td>00:20:00</td>\n",
       "      <td>07:58:00</td>\n",
       "      <td>2015-02-16</td>\n",
       "      <td>0</td>\n",
       "      <td>1</td>\n",
       "    </tr>\n",
       "    <tr>\n",
       "      <th>...</th>\n",
       "      <td>...</td>\n",
       "      <td>...</td>\n",
       "      <td>...</td>\n",
       "      <td>...</td>\n",
       "      <td>...</td>\n",
       "      <td>...</td>\n",
       "      <td>...</td>\n",
       "      <td>...</td>\n",
       "      <td>...</td>\n",
       "      <td>...</td>\n",
       "      <td>...</td>\n",
       "      <td>...</td>\n",
       "      <td>...</td>\n",
       "      <td>...</td>\n",
       "      <td>...</td>\n",
       "      <td>...</td>\n",
       "      <td>...</td>\n",
       "      <td>...</td>\n",
       "      <td>...</td>\n",
       "      <td>...</td>\n",
       "      <td>...</td>\n",
       "    </tr>\n",
       "    <tr>\n",
       "      <th>5725388</th>\n",
       "      <td>B6</td>\n",
       "      <td>333</td>\n",
       "      <td>N703JB</td>\n",
       "      <td>MCO</td>\n",
       "      <td>SJU</td>\n",
       "      <td>2359</td>\n",
       "      <td>12.0</td>\n",
       "      <td>13.0</td>\n",
       "      <td>13.0</td>\n",
       "      <td>00:25:00</td>\n",
       "      <td>...</td>\n",
       "      <td>358.0</td>\n",
       "      <td>18.0</td>\n",
       "      <td>MCO</td>\n",
       "      <td>00:12:00</td>\n",
       "      <td>03:40:00</td>\n",
       "      <td>23:59:00</td>\n",
       "      <td>03:58:00</td>\n",
       "      <td>2015-12-25</td>\n",
       "      <td>4</td>\n",
       "      <td>1</td>\n",
       "    </tr>\n",
       "    <tr>\n",
       "      <th>5725389</th>\n",
       "      <td>B6</td>\n",
       "      <td>839</td>\n",
       "      <td>N712JB</td>\n",
       "      <td>JFK</td>\n",
       "      <td>BQN</td>\n",
       "      <td>2359</td>\n",
       "      <td>2356.0</td>\n",
       "      <td>-3.0</td>\n",
       "      <td>13.0</td>\n",
       "      <td>00:09:00</td>\n",
       "      <td>...</td>\n",
       "      <td>425.0</td>\n",
       "      <td>-15.0</td>\n",
       "      <td>JFK</td>\n",
       "      <td>23:56:00</td>\n",
       "      <td>04:40:00</td>\n",
       "      <td>23:59:00</td>\n",
       "      <td>04:25:00</td>\n",
       "      <td>2015-12-25</td>\n",
       "      <td>4</td>\n",
       "      <td>1</td>\n",
       "    </tr>\n",
       "    <tr>\n",
       "      <th>5725390</th>\n",
       "      <td>B6</td>\n",
       "      <td>1503</td>\n",
       "      <td>N905JB</td>\n",
       "      <td>JFK</td>\n",
       "      <td>SJU</td>\n",
       "      <td>2359</td>\n",
       "      <td>2359.0</td>\n",
       "      <td>0.0</td>\n",
       "      <td>16.0</td>\n",
       "      <td>00:15:00</td>\n",
       "      <td>...</td>\n",
       "      <td>434.0</td>\n",
       "      <td>-6.0</td>\n",
       "      <td>JFK</td>\n",
       "      <td>23:59:00</td>\n",
       "      <td>04:40:00</td>\n",
       "      <td>23:59:00</td>\n",
       "      <td>04:34:00</td>\n",
       "      <td>2015-12-25</td>\n",
       "      <td>4</td>\n",
       "      <td>1</td>\n",
       "    </tr>\n",
       "    <tr>\n",
       "      <th>5725391</th>\n",
       "      <td>B6</td>\n",
       "      <td>1248</td>\n",
       "      <td>N907JB</td>\n",
       "      <td>LAS</td>\n",
       "      <td>JFK</td>\n",
       "      <td>2359</td>\n",
       "      <td>19.0</td>\n",
       "      <td>20.0</td>\n",
       "      <td>18.0</td>\n",
       "      <td>00:37:00</td>\n",
       "      <td>...</td>\n",
       "      <td>742.0</td>\n",
       "      <td>1.0</td>\n",
       "      <td>LAS</td>\n",
       "      <td>00:19:00</td>\n",
       "      <td>07:41:00</td>\n",
       "      <td>23:59:00</td>\n",
       "      <td>07:42:00</td>\n",
       "      <td>2015-12-25</td>\n",
       "      <td>4</td>\n",
       "      <td>1</td>\n",
       "    </tr>\n",
       "    <tr>\n",
       "      <th>5725392</th>\n",
       "      <td>B6</td>\n",
       "      <td>2392</td>\n",
       "      <td>N178JB</td>\n",
       "      <td>TPA</td>\n",
       "      <td>BOS</td>\n",
       "      <td>2359</td>\n",
       "      <td>2344.0</td>\n",
       "      <td>-15.0</td>\n",
       "      <td>11.0</td>\n",
       "      <td>23:55:00</td>\n",
       "      <td>...</td>\n",
       "      <td>217.0</td>\n",
       "      <td>-27.0</td>\n",
       "      <td>TPA</td>\n",
       "      <td>23:44:00</td>\n",
       "      <td>02:44:00</td>\n",
       "      <td>23:59:00</td>\n",
       "      <td>02:17:00</td>\n",
       "      <td>2015-12-25</td>\n",
       "      <td>4</td>\n",
       "      <td>1</td>\n",
       "    </tr>\n",
       "  </tbody>\n",
       "</table>\n",
       "<p>112345 rows × 27 columns</p>\n",
       "</div>"
      ],
      "text/plain": [
       "        AIRLINE  FLIGHT_NUMBER TAIL_NUMBER ORIGIN_AIRPORT DESTINATION_AIRPORT  \\\n",
       "695436       AA           2400      N5ESAA            LAX                 DFW   \n",
       "695437       DL           1745      N365NW            SMF                 MSP   \n",
       "695438       DL           2579      N693DL            DEN                 ATL   \n",
       "695439       US           2020      N917US            PHX                 CLT   \n",
       "695440       AA            258      N3DEAA            LAX                 MIA   \n",
       "...         ...            ...         ...            ...                 ...   \n",
       "5725388      B6            333      N703JB            MCO                 SJU   \n",
       "5725389      B6            839      N712JB            JFK                 BQN   \n",
       "5725390      B6           1503      N905JB            JFK                 SJU   \n",
       "5725391      B6           1248      N907JB            LAS                 JFK   \n",
       "5725392      B6           2392      N178JB            TPA                 BOS   \n",
       "\n",
       "         SCHEDULED_DEPARTURE  DEPARTURE_TIME  DEPARTURE_DELAY  TAXI_OUT  \\\n",
       "695436                     5             3.0             -2.0      13.0   \n",
       "695437                     5          2359.0             -6.0       9.0   \n",
       "695438                    15            20.0              5.0      49.0   \n",
       "695439                    15            13.0             -2.0      12.0   \n",
       "695440                    20            20.0              0.0      16.0   \n",
       "...                      ...             ...              ...       ...   \n",
       "5725388                 2359            12.0             13.0      13.0   \n",
       "5725389                 2359          2356.0             -3.0      13.0   \n",
       "5725390                 2359          2359.0              0.0      16.0   \n",
       "5725391                 2359            19.0             20.0      18.0   \n",
       "5725392                 2359          2344.0            -15.0      11.0   \n",
       "\n",
       "        WHEELS_OFF  ...  ARRIVAL_TIME  ARRIVAL_DELAY  ORIGIN_AIRPOR  DEP_TIME  \\\n",
       "695436    00:16:00  ...         449.0           -4.0            LAX  00:03:00   \n",
       "695437    00:08:00  ...         514.0          -15.0            SMF  23:59:00   \n",
       "695438    01:09:00  ...         535.0           24.0            DEN  00:20:00   \n",
       "695439    00:25:00  ...         541.0          -19.0            PHX  00:13:00   \n",
       "695440    00:36:00  ...         758.0           -6.0            LAX  00:20:00   \n",
       "...            ...  ...           ...            ...            ...       ...   \n",
       "5725388   00:25:00  ...         358.0           18.0            MCO  00:12:00   \n",
       "5725389   00:09:00  ...         425.0          -15.0            JFK  23:56:00   \n",
       "5725390   00:15:00  ...         434.0           -6.0            JFK  23:59:00   \n",
       "5725391   00:37:00  ...         742.0            1.0            LAS  00:19:00   \n",
       "5725392   23:55:00  ...         217.0          -27.0            TPA  23:44:00   \n",
       "\n",
       "        SCH_ARR_TIME  SCH_DEP_TIME  ARR_TIME       DATE  DayOfWeek Holidays  \n",
       "695436      04:53:00      00:05:00  04:49:00 2015-02-16          0        1  \n",
       "695437      05:29:00      00:05:00  05:14:00 2015-02-16          0        1  \n",
       "695438      05:11:00      00:15:00  05:35:00 2015-02-16          0        1  \n",
       "695439      06:00:00      00:15:00  05:41:00 2015-02-16          0        1  \n",
       "695440      08:04:00      00:20:00  07:58:00 2015-02-16          0        1  \n",
       "...              ...           ...       ...        ...        ...      ...  \n",
       "5725388     03:40:00      23:59:00  03:58:00 2015-12-25          4        1  \n",
       "5725389     04:40:00      23:59:00  04:25:00 2015-12-25          4        1  \n",
       "5725390     04:40:00      23:59:00  04:34:00 2015-12-25          4        1  \n",
       "5725391     07:41:00      23:59:00  07:42:00 2015-12-25          4        1  \n",
       "5725392     02:44:00      23:59:00  02:17:00 2015-12-25          4        1  \n",
       "\n",
       "[112345 rows x 27 columns]"
      ]
     },
     "execution_count": 40,
     "metadata": {},
     "output_type": "execute_result"
    }
   ],
   "source": [
    "Flights_Delays_Combined[Flights_Delays_Combined['Holidays']==1]"
   ]
  },
  {
   "cell_type": "code",
   "execution_count": 41,
   "metadata": {},
   "outputs": [
    {
     "data": {
      "text/plain": [
       "AIRLINE                0\n",
       "FLIGHT_NUMBER          0\n",
       "TAIL_NUMBER            0\n",
       "ORIGIN_AIRPORT         0\n",
       "DESTINATION_AIRPORT    0\n",
       "SCHEDULED_DEPARTURE    0\n",
       "DEPARTURE_TIME         0\n",
       "DEPARTURE_DELAY        0\n",
       "TAXI_OUT               0\n",
       "WHEELS_OFF             0\n",
       "SCHEDULED_TIME         0\n",
       "ELAPSED_TIME           0\n",
       "AIR_TIME               0\n",
       "DISTANCE               0\n",
       "WHEELS_ON              0\n",
       "TAXI_IN                0\n",
       "SCHEDULED_ARRIVAL      0\n",
       "ARRIVAL_TIME           0\n",
       "ARRIVAL_DELAY          0\n",
       "ORIGIN_AIRPOR          0\n",
       "DEP_TIME               0\n",
       "SCH_ARR_TIME           0\n",
       "SCH_DEP_TIME           0\n",
       "ARR_TIME               0\n",
       "DATE                   0\n",
       "DayOfWeek              0\n",
       "Holidays               0\n",
       "dtype: int64"
      ]
     },
     "execution_count": 41,
     "metadata": {},
     "output_type": "execute_result"
    }
   ],
   "source": [
    "Flights_Delays_Combined.isnull().sum()"
   ]
  },
  {
   "cell_type": "code",
   "execution_count": 42,
   "metadata": {},
   "outputs": [
    {
     "data": {
      "text/html": [
       "<div>\n",
       "<style scoped>\n",
       "    .dataframe tbody tr th:only-of-type {\n",
       "        vertical-align: middle;\n",
       "    }\n",
       "\n",
       "    .dataframe tbody tr th {\n",
       "        vertical-align: top;\n",
       "    }\n",
       "\n",
       "    .dataframe thead th {\n",
       "        text-align: right;\n",
       "    }\n",
       "</style>\n",
       "<table border=\"1\" class=\"dataframe\">\n",
       "  <thead>\n",
       "    <tr style=\"text-align: right;\">\n",
       "      <th></th>\n",
       "      <th>AIRLINE</th>\n",
       "      <th>FLIGHT_NUMBER</th>\n",
       "      <th>TAIL_NUMBER</th>\n",
       "      <th>ORIGIN_AIRPORT</th>\n",
       "      <th>DESTINATION_AIRPORT</th>\n",
       "      <th>SCHEDULED_DEPARTURE</th>\n",
       "      <th>DEPARTURE_TIME</th>\n",
       "      <th>DEPARTURE_DELAY</th>\n",
       "      <th>TAXI_OUT</th>\n",
       "      <th>WHEELS_OFF</th>\n",
       "      <th>...</th>\n",
       "      <th>ARRIVAL_TIME</th>\n",
       "      <th>ARRIVAL_DELAY</th>\n",
       "      <th>ORIGIN_AIRPOR</th>\n",
       "      <th>DEP_TIME</th>\n",
       "      <th>SCH_ARR_TIME</th>\n",
       "      <th>SCH_DEP_TIME</th>\n",
       "      <th>ARR_TIME</th>\n",
       "      <th>DATE</th>\n",
       "      <th>DayOfWeek</th>\n",
       "      <th>Holidays</th>\n",
       "    </tr>\n",
       "  </thead>\n",
       "  <tbody>\n",
       "    <tr>\n",
       "      <th>0</th>\n",
       "      <td>AS</td>\n",
       "      <td>98</td>\n",
       "      <td>N407AS</td>\n",
       "      <td>ANC</td>\n",
       "      <td>SEA</td>\n",
       "      <td>5</td>\n",
       "      <td>2354.0</td>\n",
       "      <td>-11.0</td>\n",
       "      <td>21.0</td>\n",
       "      <td>00:15:00</td>\n",
       "      <td>...</td>\n",
       "      <td>408.0</td>\n",
       "      <td>-22.0</td>\n",
       "      <td>ANC</td>\n",
       "      <td>23:54:00</td>\n",
       "      <td>04:30:00</td>\n",
       "      <td>00:05:00</td>\n",
       "      <td>04:08:00</td>\n",
       "      <td>2015-01-01</td>\n",
       "      <td>3</td>\n",
       "      <td>0</td>\n",
       "    </tr>\n",
       "    <tr>\n",
       "      <th>1</th>\n",
       "      <td>AA</td>\n",
       "      <td>2336</td>\n",
       "      <td>N3KUAA</td>\n",
       "      <td>LAX</td>\n",
       "      <td>PBI</td>\n",
       "      <td>10</td>\n",
       "      <td>2.0</td>\n",
       "      <td>-8.0</td>\n",
       "      <td>12.0</td>\n",
       "      <td>00:14:00</td>\n",
       "      <td>...</td>\n",
       "      <td>741.0</td>\n",
       "      <td>-9.0</td>\n",
       "      <td>LAX</td>\n",
       "      <td>00:02:00</td>\n",
       "      <td>07:50:00</td>\n",
       "      <td>00:10:00</td>\n",
       "      <td>07:41:00</td>\n",
       "      <td>2015-01-01</td>\n",
       "      <td>3</td>\n",
       "      <td>0</td>\n",
       "    </tr>\n",
       "    <tr>\n",
       "      <th>2</th>\n",
       "      <td>US</td>\n",
       "      <td>840</td>\n",
       "      <td>N171US</td>\n",
       "      <td>SFO</td>\n",
       "      <td>CLT</td>\n",
       "      <td>20</td>\n",
       "      <td>18.0</td>\n",
       "      <td>-2.0</td>\n",
       "      <td>16.0</td>\n",
       "      <td>00:34:00</td>\n",
       "      <td>...</td>\n",
       "      <td>811.0</td>\n",
       "      <td>5.0</td>\n",
       "      <td>SFO</td>\n",
       "      <td>00:18:00</td>\n",
       "      <td>08:06:00</td>\n",
       "      <td>00:20:00</td>\n",
       "      <td>08:11:00</td>\n",
       "      <td>2015-01-01</td>\n",
       "      <td>3</td>\n",
       "      <td>0</td>\n",
       "    </tr>\n",
       "    <tr>\n",
       "      <th>3</th>\n",
       "      <td>AA</td>\n",
       "      <td>258</td>\n",
       "      <td>N3HYAA</td>\n",
       "      <td>LAX</td>\n",
       "      <td>MIA</td>\n",
       "      <td>20</td>\n",
       "      <td>15.0</td>\n",
       "      <td>-5.0</td>\n",
       "      <td>15.0</td>\n",
       "      <td>00:30:00</td>\n",
       "      <td>...</td>\n",
       "      <td>756.0</td>\n",
       "      <td>-9.0</td>\n",
       "      <td>LAX</td>\n",
       "      <td>00:15:00</td>\n",
       "      <td>08:05:00</td>\n",
       "      <td>00:20:00</td>\n",
       "      <td>07:56:00</td>\n",
       "      <td>2015-01-01</td>\n",
       "      <td>3</td>\n",
       "      <td>0</td>\n",
       "    </tr>\n",
       "    <tr>\n",
       "      <th>4</th>\n",
       "      <td>AS</td>\n",
       "      <td>135</td>\n",
       "      <td>N527AS</td>\n",
       "      <td>SEA</td>\n",
       "      <td>ANC</td>\n",
       "      <td>25</td>\n",
       "      <td>24.0</td>\n",
       "      <td>-1.0</td>\n",
       "      <td>11.0</td>\n",
       "      <td>00:35:00</td>\n",
       "      <td>...</td>\n",
       "      <td>259.0</td>\n",
       "      <td>-21.0</td>\n",
       "      <td>SEA</td>\n",
       "      <td>00:24:00</td>\n",
       "      <td>03:20:00</td>\n",
       "      <td>00:25:00</td>\n",
       "      <td>02:59:00</td>\n",
       "      <td>2015-01-01</td>\n",
       "      <td>3</td>\n",
       "      <td>0</td>\n",
       "    </tr>\n",
       "  </tbody>\n",
       "</table>\n",
       "<p>5 rows × 27 columns</p>\n",
       "</div>"
      ],
      "text/plain": [
       "  AIRLINE  FLIGHT_NUMBER TAIL_NUMBER ORIGIN_AIRPORT DESTINATION_AIRPORT  \\\n",
       "0      AS             98      N407AS            ANC                 SEA   \n",
       "1      AA           2336      N3KUAA            LAX                 PBI   \n",
       "2      US            840      N171US            SFO                 CLT   \n",
       "3      AA            258      N3HYAA            LAX                 MIA   \n",
       "4      AS            135      N527AS            SEA                 ANC   \n",
       "\n",
       "   SCHEDULED_DEPARTURE  DEPARTURE_TIME  DEPARTURE_DELAY  TAXI_OUT WHEELS_OFF  \\\n",
       "0                    5          2354.0            -11.0      21.0   00:15:00   \n",
       "1                   10             2.0             -8.0      12.0   00:14:00   \n",
       "2                   20            18.0             -2.0      16.0   00:34:00   \n",
       "3                   20            15.0             -5.0      15.0   00:30:00   \n",
       "4                   25            24.0             -1.0      11.0   00:35:00   \n",
       "\n",
       "   ...  ARRIVAL_TIME  ARRIVAL_DELAY  ORIGIN_AIRPOR  DEP_TIME SCH_ARR_TIME  \\\n",
       "0  ...         408.0          -22.0            ANC  23:54:00     04:30:00   \n",
       "1  ...         741.0           -9.0            LAX  00:02:00     07:50:00   \n",
       "2  ...         811.0            5.0            SFO  00:18:00     08:06:00   \n",
       "3  ...         756.0           -9.0            LAX  00:15:00     08:05:00   \n",
       "4  ...         259.0          -21.0            SEA  00:24:00     03:20:00   \n",
       "\n",
       "   SCH_DEP_TIME  ARR_TIME       DATE  DayOfWeek Holidays  \n",
       "0      00:05:00  04:08:00 2015-01-01          3        0  \n",
       "1      00:10:00  07:41:00 2015-01-01          3        0  \n",
       "2      00:20:00  08:11:00 2015-01-01          3        0  \n",
       "3      00:20:00  07:56:00 2015-01-01          3        0  \n",
       "4      00:25:00  02:59:00 2015-01-01          3        0  \n",
       "\n",
       "[5 rows x 27 columns]"
      ]
     },
     "execution_count": 42,
     "metadata": {},
     "output_type": "execute_result"
    }
   ],
   "source": [
    "Flights_Delays_Combined.head()"
   ]
  },
  {
   "cell_type": "markdown",
   "metadata": {},
   "source": [
    "Because DEPARTURE_TIME','SCHEDULED_ARRIVAL', 'SCHEDULED_DEPARTURE', 'ARRIVAL_TIME' have been replaced by datetime represetive (DEP_TIME, 'SCH_ARR_TIME', 'SCH_DEP_TIME', 'ARR_TIME') it need to be dropped."
   ]
  },
  {
   "cell_type": "code",
   "execution_count": 43,
   "metadata": {
    "id": "CZZhFXtdAyxK"
   },
   "outputs": [],
   "source": [
    "Flights_Delays_Combined = Flights_Delays_Combined.drop(['DEPARTURE_TIME','SCHEDULED_ARRIVAL', 'SCHEDULED_DEPARTURE', 'ARRIVAL_TIME'], axis=1)"
   ]
  },
  {
   "cell_type": "markdown",
   "metadata": {},
   "source": [
    "That transformed DataFrame is used in following notebooks:\n",
    "* [Flights_delays mashine learning notebook](Flights_delays.ipynb#head_selection_1)\n",
    "* [Flights_data_visualization notebook](Flights_data_visualization.ipynb#head_selection_2)\n"
   ]
  }
 ],
 "metadata": {
  "kernelspec": {
   "display_name": "Python 3",
   "language": "python",
   "name": "python3"
  },
  "language_info": {
   "codemirror_mode": {
    "name": "ipython",
    "version": 3
   },
   "file_extension": ".py",
   "mimetype": "text/x-python",
   "name": "python",
   "nbconvert_exporter": "python",
   "pygments_lexer": "ipython3",
   "version": "3.8.6"
  }
 },
 "nbformat": 4,
 "nbformat_minor": 4
}
