{
 "cells": [
  {
   "cell_type": "markdown",
   "metadata": {},
   "source": [
    "# Predicting flight delation\n",
    "## Description\n",
    "This project is made to analyse, understand and make model of Flight Delays Data from 2015. This data set is part of kaggle datasets: https://www.kaggle.com/usdot/flight-delays"
   ]
  },
  {
   "cell_type": "markdown",
   "metadata": {},
   "source": [
    "### Steps\n",
    "- Improting data ✅\n",
    "- Understanding data ✅\n",
    "- Feature engineering ✅\n",
    "- Analysing data ✅\n",
    "-  Plotting data in depend of:\n",
    "    - airport\n",
    "    - airline\n",
    "    - plane type\n",
    "- Modeling data ✅\n",
    "- Finding best algorithm ✅"
   ]
  },
  {
   "cell_type": "markdown",
   "metadata": {},
   "source": [
    "## Imports"
   ]
  },
  {
   "cell_type": "code",
   "execution_count": 1,
   "metadata": {
    "id": "ZzW0oKOJWk_p"
   },
   "outputs": [],
   "source": [
    "import random\n",
    "import pandas as pd\n",
    "import numpy as np\n",
    "import matplotlib\n",
    "import matplotlib.pyplot as plt\n",
    "import seaborn as sns\n",
    "import datetime\n",
    "from datetime import date \n",
    "from sklearn.model_selection import train_test_split, GridSearchCV\n",
    "from sklearn.linear_model import LogisticRegression\n",
    "from sklearn.pipeline import FeatureUnion, Pipeline\n",
    "from sklearn.preprocessing import MinMaxScaler, StandardScaler\n",
    "from sklearn.preprocessing import OneHotEncoder\n",
    "from sklearn.compose import ColumnTransformer\n",
    "from sklearn.model_selection import GridSearchCV\n",
    "from sklearn.preprocessing import StandardScaler\n",
    "from sklearn.pipeline import Pipeline\n",
    "from sklearn.svm import SVC\n",
    "from sklearn.svm import LinearSVC\n",
    "from sklearn.ensemble import RandomForestClassifier\n",
    "from sklearn import  metrics\n"
   ]
  },
  {
   "cell_type": "markdown",
   "metadata": {},
   "source": [
    "# Data import"
   ]
  },
  {
   "cell_type": "code",
   "execution_count": 2,
   "metadata": {
    "colab": {
     "base_uri": "https://localhost:8080/"
    },
    "id": "zu9r6D8Oc3ln",
    "outputId": "004550a2-a0f4-41fa-a6e2-040a2bcf4866"
   },
   "outputs": [
    {
     "name": "stderr",
     "output_type": "stream",
     "text": [
      "C:\\Users\\damix\\AppData\\Local\\Packages\\PythonSoftwareFoundation.Python.3.8_qbz5n2kfra8p0\\LocalCache\\local-packages\\Python38\\site-packages\\IPython\\core\\interactiveshell.py:3062: DtypeWarning: Columns (7,8) have mixed types.Specify dtype option on import or set low_memory=False.\n",
      "  has_raised = await self.run_ast_nodes(code_ast.body, cell_name,\n"
     ]
    }
   ],
   "source": [
    "data = pd.read_csv('DATA/flights.csv')"
   ]
  },
  {
   "cell_type": "markdown",
   "metadata": {},
   "source": [
    "#### 1) Warning informs that columns 7 and 8 have data types mixed. This is a very important point for the future."
   ]
  },
  {
   "cell_type": "code",
   "execution_count": 3,
   "metadata": {
    "colab": {
     "base_uri": "https://localhost:8080/"
    },
    "id": "UWdq_jW4dlBN",
    "outputId": "7e02c622-2c1c-4e64-f833-5d2fc61abc21"
   },
   "outputs": [
    {
     "name": "stdout",
     "output_type": "stream",
     "text": [
      "(5819079, 31)\n"
     ]
    }
   ],
   "source": [
    "print(data.shape)"
   ]
  },
  {
   "cell_type": "code",
   "execution_count": 4,
   "metadata": {
    "colab": {
     "base_uri": "https://localhost:8080/",
     "height": 226
    },
    "id": "shaK2Q35eU45",
    "outputId": "8d60ecad-0615-4c5c-b801-0f9d10823e7b"
   },
   "outputs": [
    {
     "data": {
      "text/html": [
       "<div>\n",
       "<style scoped>\n",
       "    .dataframe tbody tr th:only-of-type {\n",
       "        vertical-align: middle;\n",
       "    }\n",
       "\n",
       "    .dataframe tbody tr th {\n",
       "        vertical-align: top;\n",
       "    }\n",
       "\n",
       "    .dataframe thead th {\n",
       "        text-align: right;\n",
       "    }\n",
       "</style>\n",
       "<table border=\"1\" class=\"dataframe\">\n",
       "  <thead>\n",
       "    <tr style=\"text-align: right;\">\n",
       "      <th></th>\n",
       "      <th>YEAR</th>\n",
       "      <th>MONTH</th>\n",
       "      <th>DAY</th>\n",
       "      <th>DAY_OF_WEEK</th>\n",
       "      <th>AIRLINE</th>\n",
       "      <th>FLIGHT_NUMBER</th>\n",
       "      <th>TAIL_NUMBER</th>\n",
       "      <th>ORIGIN_AIRPORT</th>\n",
       "      <th>DESTINATION_AIRPORT</th>\n",
       "      <th>SCHEDULED_DEPARTURE</th>\n",
       "      <th>...</th>\n",
       "      <th>ARRIVAL_TIME</th>\n",
       "      <th>ARRIVAL_DELAY</th>\n",
       "      <th>DIVERTED</th>\n",
       "      <th>CANCELLED</th>\n",
       "      <th>CANCELLATION_REASON</th>\n",
       "      <th>AIR_SYSTEM_DELAY</th>\n",
       "      <th>SECURITY_DELAY</th>\n",
       "      <th>AIRLINE_DELAY</th>\n",
       "      <th>LATE_AIRCRAFT_DELAY</th>\n",
       "      <th>WEATHER_DELAY</th>\n",
       "    </tr>\n",
       "  </thead>\n",
       "  <tbody>\n",
       "    <tr>\n",
       "      <th>0</th>\n",
       "      <td>2015</td>\n",
       "      <td>1</td>\n",
       "      <td>1</td>\n",
       "      <td>4</td>\n",
       "      <td>AS</td>\n",
       "      <td>98</td>\n",
       "      <td>N407AS</td>\n",
       "      <td>ANC</td>\n",
       "      <td>SEA</td>\n",
       "      <td>5</td>\n",
       "      <td>...</td>\n",
       "      <td>408.0</td>\n",
       "      <td>-22.0</td>\n",
       "      <td>0</td>\n",
       "      <td>0</td>\n",
       "      <td>NaN</td>\n",
       "      <td>NaN</td>\n",
       "      <td>NaN</td>\n",
       "      <td>NaN</td>\n",
       "      <td>NaN</td>\n",
       "      <td>NaN</td>\n",
       "    </tr>\n",
       "    <tr>\n",
       "      <th>1</th>\n",
       "      <td>2015</td>\n",
       "      <td>1</td>\n",
       "      <td>1</td>\n",
       "      <td>4</td>\n",
       "      <td>AA</td>\n",
       "      <td>2336</td>\n",
       "      <td>N3KUAA</td>\n",
       "      <td>LAX</td>\n",
       "      <td>PBI</td>\n",
       "      <td>10</td>\n",
       "      <td>...</td>\n",
       "      <td>741.0</td>\n",
       "      <td>-9.0</td>\n",
       "      <td>0</td>\n",
       "      <td>0</td>\n",
       "      <td>NaN</td>\n",
       "      <td>NaN</td>\n",
       "      <td>NaN</td>\n",
       "      <td>NaN</td>\n",
       "      <td>NaN</td>\n",
       "      <td>NaN</td>\n",
       "    </tr>\n",
       "    <tr>\n",
       "      <th>2</th>\n",
       "      <td>2015</td>\n",
       "      <td>1</td>\n",
       "      <td>1</td>\n",
       "      <td>4</td>\n",
       "      <td>US</td>\n",
       "      <td>840</td>\n",
       "      <td>N171US</td>\n",
       "      <td>SFO</td>\n",
       "      <td>CLT</td>\n",
       "      <td>20</td>\n",
       "      <td>...</td>\n",
       "      <td>811.0</td>\n",
       "      <td>5.0</td>\n",
       "      <td>0</td>\n",
       "      <td>0</td>\n",
       "      <td>NaN</td>\n",
       "      <td>NaN</td>\n",
       "      <td>NaN</td>\n",
       "      <td>NaN</td>\n",
       "      <td>NaN</td>\n",
       "      <td>NaN</td>\n",
       "    </tr>\n",
       "    <tr>\n",
       "      <th>3</th>\n",
       "      <td>2015</td>\n",
       "      <td>1</td>\n",
       "      <td>1</td>\n",
       "      <td>4</td>\n",
       "      <td>AA</td>\n",
       "      <td>258</td>\n",
       "      <td>N3HYAA</td>\n",
       "      <td>LAX</td>\n",
       "      <td>MIA</td>\n",
       "      <td>20</td>\n",
       "      <td>...</td>\n",
       "      <td>756.0</td>\n",
       "      <td>-9.0</td>\n",
       "      <td>0</td>\n",
       "      <td>0</td>\n",
       "      <td>NaN</td>\n",
       "      <td>NaN</td>\n",
       "      <td>NaN</td>\n",
       "      <td>NaN</td>\n",
       "      <td>NaN</td>\n",
       "      <td>NaN</td>\n",
       "    </tr>\n",
       "    <tr>\n",
       "      <th>4</th>\n",
       "      <td>2015</td>\n",
       "      <td>1</td>\n",
       "      <td>1</td>\n",
       "      <td>4</td>\n",
       "      <td>AS</td>\n",
       "      <td>135</td>\n",
       "      <td>N527AS</td>\n",
       "      <td>SEA</td>\n",
       "      <td>ANC</td>\n",
       "      <td>25</td>\n",
       "      <td>...</td>\n",
       "      <td>259.0</td>\n",
       "      <td>-21.0</td>\n",
       "      <td>0</td>\n",
       "      <td>0</td>\n",
       "      <td>NaN</td>\n",
       "      <td>NaN</td>\n",
       "      <td>NaN</td>\n",
       "      <td>NaN</td>\n",
       "      <td>NaN</td>\n",
       "      <td>NaN</td>\n",
       "    </tr>\n",
       "  </tbody>\n",
       "</table>\n",
       "<p>5 rows × 31 columns</p>\n",
       "</div>"
      ],
      "text/plain": [
       "   YEAR  MONTH  DAY  DAY_OF_WEEK AIRLINE  FLIGHT_NUMBER TAIL_NUMBER  \\\n",
       "0  2015      1    1            4      AS             98      N407AS   \n",
       "1  2015      1    1            4      AA           2336      N3KUAA   \n",
       "2  2015      1    1            4      US            840      N171US   \n",
       "3  2015      1    1            4      AA            258      N3HYAA   \n",
       "4  2015      1    1            4      AS            135      N527AS   \n",
       "\n",
       "  ORIGIN_AIRPORT DESTINATION_AIRPORT  SCHEDULED_DEPARTURE  ...  ARRIVAL_TIME  \\\n",
       "0            ANC                 SEA                    5  ...         408.0   \n",
       "1            LAX                 PBI                   10  ...         741.0   \n",
       "2            SFO                 CLT                   20  ...         811.0   \n",
       "3            LAX                 MIA                   20  ...         756.0   \n",
       "4            SEA                 ANC                   25  ...         259.0   \n",
       "\n",
       "   ARRIVAL_DELAY  DIVERTED  CANCELLED  CANCELLATION_REASON  AIR_SYSTEM_DELAY  \\\n",
       "0          -22.0         0          0                  NaN               NaN   \n",
       "1           -9.0         0          0                  NaN               NaN   \n",
       "2            5.0         0          0                  NaN               NaN   \n",
       "3           -9.0         0          0                  NaN               NaN   \n",
       "4          -21.0         0          0                  NaN               NaN   \n",
       "\n",
       "   SECURITY_DELAY  AIRLINE_DELAY  LATE_AIRCRAFT_DELAY  WEATHER_DELAY  \n",
       "0             NaN            NaN                  NaN            NaN  \n",
       "1             NaN            NaN                  NaN            NaN  \n",
       "2             NaN            NaN                  NaN            NaN  \n",
       "3             NaN            NaN                  NaN            NaN  \n",
       "4             NaN            NaN                  NaN            NaN  \n",
       "\n",
       "[5 rows x 31 columns]"
      ]
     },
     "execution_count": 4,
     "metadata": {},
     "output_type": "execute_result"
    }
   ],
   "source": [
    "data.head()"
   ]
  },
  {
   "cell_type": "code",
   "execution_count": 5,
   "metadata": {
    "colab": {
     "base_uri": "https://localhost:8080/",
     "height": 320
    },
    "id": "prq11qKkenC4",
    "outputId": "65209594-2938-416c-ee7d-9d88321ddcb7",
    "scrolled": true
   },
   "outputs": [
    {
     "data": {
      "text/html": [
       "<div>\n",
       "<style scoped>\n",
       "    .dataframe tbody tr th:only-of-type {\n",
       "        vertical-align: middle;\n",
       "    }\n",
       "\n",
       "    .dataframe tbody tr th {\n",
       "        vertical-align: top;\n",
       "    }\n",
       "\n",
       "    .dataframe thead th {\n",
       "        text-align: right;\n",
       "    }\n",
       "</style>\n",
       "<table border=\"1\" class=\"dataframe\">\n",
       "  <thead>\n",
       "    <tr style=\"text-align: right;\">\n",
       "      <th></th>\n",
       "      <th>YEAR</th>\n",
       "      <th>MONTH</th>\n",
       "      <th>DAY</th>\n",
       "      <th>DAY_OF_WEEK</th>\n",
       "      <th>FLIGHT_NUMBER</th>\n",
       "      <th>SCHEDULED_DEPARTURE</th>\n",
       "      <th>DEPARTURE_TIME</th>\n",
       "      <th>DEPARTURE_DELAY</th>\n",
       "      <th>TAXI_OUT</th>\n",
       "      <th>WHEELS_OFF</th>\n",
       "      <th>...</th>\n",
       "      <th>SCHEDULED_ARRIVAL</th>\n",
       "      <th>ARRIVAL_TIME</th>\n",
       "      <th>ARRIVAL_DELAY</th>\n",
       "      <th>DIVERTED</th>\n",
       "      <th>CANCELLED</th>\n",
       "      <th>AIR_SYSTEM_DELAY</th>\n",
       "      <th>SECURITY_DELAY</th>\n",
       "      <th>AIRLINE_DELAY</th>\n",
       "      <th>LATE_AIRCRAFT_DELAY</th>\n",
       "      <th>WEATHER_DELAY</th>\n",
       "    </tr>\n",
       "  </thead>\n",
       "  <tbody>\n",
       "    <tr>\n",
       "      <th>count</th>\n",
       "      <td>5819079.0</td>\n",
       "      <td>5.819079e+06</td>\n",
       "      <td>5.819079e+06</td>\n",
       "      <td>5.819079e+06</td>\n",
       "      <td>5.819079e+06</td>\n",
       "      <td>5.819079e+06</td>\n",
       "      <td>5.732926e+06</td>\n",
       "      <td>5.732926e+06</td>\n",
       "      <td>5.730032e+06</td>\n",
       "      <td>5.730032e+06</td>\n",
       "      <td>...</td>\n",
       "      <td>5.819079e+06</td>\n",
       "      <td>5.726566e+06</td>\n",
       "      <td>5.714008e+06</td>\n",
       "      <td>5.819079e+06</td>\n",
       "      <td>5.819079e+06</td>\n",
       "      <td>1.063439e+06</td>\n",
       "      <td>1.063439e+06</td>\n",
       "      <td>1.063439e+06</td>\n",
       "      <td>1.063439e+06</td>\n",
       "      <td>1.063439e+06</td>\n",
       "    </tr>\n",
       "    <tr>\n",
       "      <th>mean</th>\n",
       "      <td>2015.0</td>\n",
       "      <td>6.524085e+00</td>\n",
       "      <td>1.570459e+01</td>\n",
       "      <td>3.926941e+00</td>\n",
       "      <td>2.173093e+03</td>\n",
       "      <td>1.329602e+03</td>\n",
       "      <td>1.335204e+03</td>\n",
       "      <td>9.370158e+00</td>\n",
       "      <td>1.607166e+01</td>\n",
       "      <td>1.357171e+03</td>\n",
       "      <td>...</td>\n",
       "      <td>1.493808e+03</td>\n",
       "      <td>1.476491e+03</td>\n",
       "      <td>4.407057e+00</td>\n",
       "      <td>2.609863e-03</td>\n",
       "      <td>1.544643e-02</td>\n",
       "      <td>1.348057e+01</td>\n",
       "      <td>7.615387e-02</td>\n",
       "      <td>1.896955e+01</td>\n",
       "      <td>2.347284e+01</td>\n",
       "      <td>2.915290e+00</td>\n",
       "    </tr>\n",
       "    <tr>\n",
       "      <th>std</th>\n",
       "      <td>0.0</td>\n",
       "      <td>3.405137e+00</td>\n",
       "      <td>8.783425e+00</td>\n",
       "      <td>1.988845e+00</td>\n",
       "      <td>1.757064e+03</td>\n",
       "      <td>4.837518e+02</td>\n",
       "      <td>4.964233e+02</td>\n",
       "      <td>3.708094e+01</td>\n",
       "      <td>8.895574e+00</td>\n",
       "      <td>4.980094e+02</td>\n",
       "      <td>...</td>\n",
       "      <td>5.071647e+02</td>\n",
       "      <td>5.263197e+02</td>\n",
       "      <td>3.927130e+01</td>\n",
       "      <td>5.102012e-02</td>\n",
       "      <td>1.233201e-01</td>\n",
       "      <td>2.800368e+01</td>\n",
       "      <td>2.143460e+00</td>\n",
       "      <td>4.816164e+01</td>\n",
       "      <td>4.319702e+01</td>\n",
       "      <td>2.043334e+01</td>\n",
       "    </tr>\n",
       "    <tr>\n",
       "      <th>min</th>\n",
       "      <td>2015.0</td>\n",
       "      <td>1.000000e+00</td>\n",
       "      <td>1.000000e+00</td>\n",
       "      <td>1.000000e+00</td>\n",
       "      <td>1.000000e+00</td>\n",
       "      <td>1.000000e+00</td>\n",
       "      <td>1.000000e+00</td>\n",
       "      <td>-8.200000e+01</td>\n",
       "      <td>1.000000e+00</td>\n",
       "      <td>1.000000e+00</td>\n",
       "      <td>...</td>\n",
       "      <td>1.000000e+00</td>\n",
       "      <td>1.000000e+00</td>\n",
       "      <td>-8.700000e+01</td>\n",
       "      <td>0.000000e+00</td>\n",
       "      <td>0.000000e+00</td>\n",
       "      <td>0.000000e+00</td>\n",
       "      <td>0.000000e+00</td>\n",
       "      <td>0.000000e+00</td>\n",
       "      <td>0.000000e+00</td>\n",
       "      <td>0.000000e+00</td>\n",
       "    </tr>\n",
       "    <tr>\n",
       "      <th>25%</th>\n",
       "      <td>2015.0</td>\n",
       "      <td>4.000000e+00</td>\n",
       "      <td>8.000000e+00</td>\n",
       "      <td>2.000000e+00</td>\n",
       "      <td>7.300000e+02</td>\n",
       "      <td>9.170000e+02</td>\n",
       "      <td>9.210000e+02</td>\n",
       "      <td>-5.000000e+00</td>\n",
       "      <td>1.100000e+01</td>\n",
       "      <td>9.350000e+02</td>\n",
       "      <td>...</td>\n",
       "      <td>1.110000e+03</td>\n",
       "      <td>1.059000e+03</td>\n",
       "      <td>-1.300000e+01</td>\n",
       "      <td>0.000000e+00</td>\n",
       "      <td>0.000000e+00</td>\n",
       "      <td>0.000000e+00</td>\n",
       "      <td>0.000000e+00</td>\n",
       "      <td>0.000000e+00</td>\n",
       "      <td>0.000000e+00</td>\n",
       "      <td>0.000000e+00</td>\n",
       "    </tr>\n",
       "    <tr>\n",
       "      <th>50%</th>\n",
       "      <td>2015.0</td>\n",
       "      <td>7.000000e+00</td>\n",
       "      <td>1.600000e+01</td>\n",
       "      <td>4.000000e+00</td>\n",
       "      <td>1.690000e+03</td>\n",
       "      <td>1.325000e+03</td>\n",
       "      <td>1.330000e+03</td>\n",
       "      <td>-2.000000e+00</td>\n",
       "      <td>1.400000e+01</td>\n",
       "      <td>1.343000e+03</td>\n",
       "      <td>...</td>\n",
       "      <td>1.520000e+03</td>\n",
       "      <td>1.512000e+03</td>\n",
       "      <td>-5.000000e+00</td>\n",
       "      <td>0.000000e+00</td>\n",
       "      <td>0.000000e+00</td>\n",
       "      <td>2.000000e+00</td>\n",
       "      <td>0.000000e+00</td>\n",
       "      <td>2.000000e+00</td>\n",
       "      <td>3.000000e+00</td>\n",
       "      <td>0.000000e+00</td>\n",
       "    </tr>\n",
       "    <tr>\n",
       "      <th>75%</th>\n",
       "      <td>2015.0</td>\n",
       "      <td>9.000000e+00</td>\n",
       "      <td>2.300000e+01</td>\n",
       "      <td>6.000000e+00</td>\n",
       "      <td>3.230000e+03</td>\n",
       "      <td>1.730000e+03</td>\n",
       "      <td>1.740000e+03</td>\n",
       "      <td>7.000000e+00</td>\n",
       "      <td>1.900000e+01</td>\n",
       "      <td>1.754000e+03</td>\n",
       "      <td>...</td>\n",
       "      <td>1.918000e+03</td>\n",
       "      <td>1.917000e+03</td>\n",
       "      <td>8.000000e+00</td>\n",
       "      <td>0.000000e+00</td>\n",
       "      <td>0.000000e+00</td>\n",
       "      <td>1.800000e+01</td>\n",
       "      <td>0.000000e+00</td>\n",
       "      <td>1.900000e+01</td>\n",
       "      <td>2.900000e+01</td>\n",
       "      <td>0.000000e+00</td>\n",
       "    </tr>\n",
       "    <tr>\n",
       "      <th>max</th>\n",
       "      <td>2015.0</td>\n",
       "      <td>1.200000e+01</td>\n",
       "      <td>3.100000e+01</td>\n",
       "      <td>7.000000e+00</td>\n",
       "      <td>9.855000e+03</td>\n",
       "      <td>2.359000e+03</td>\n",
       "      <td>2.400000e+03</td>\n",
       "      <td>1.988000e+03</td>\n",
       "      <td>2.250000e+02</td>\n",
       "      <td>2.400000e+03</td>\n",
       "      <td>...</td>\n",
       "      <td>2.400000e+03</td>\n",
       "      <td>2.400000e+03</td>\n",
       "      <td>1.971000e+03</td>\n",
       "      <td>1.000000e+00</td>\n",
       "      <td>1.000000e+00</td>\n",
       "      <td>1.134000e+03</td>\n",
       "      <td>5.730000e+02</td>\n",
       "      <td>1.971000e+03</td>\n",
       "      <td>1.331000e+03</td>\n",
       "      <td>1.211000e+03</td>\n",
       "    </tr>\n",
       "  </tbody>\n",
       "</table>\n",
       "<p>8 rows × 26 columns</p>\n",
       "</div>"
      ],
      "text/plain": [
       "            YEAR         MONTH           DAY   DAY_OF_WEEK  FLIGHT_NUMBER  \\\n",
       "count  5819079.0  5.819079e+06  5.819079e+06  5.819079e+06   5.819079e+06   \n",
       "mean      2015.0  6.524085e+00  1.570459e+01  3.926941e+00   2.173093e+03   \n",
       "std          0.0  3.405137e+00  8.783425e+00  1.988845e+00   1.757064e+03   \n",
       "min       2015.0  1.000000e+00  1.000000e+00  1.000000e+00   1.000000e+00   \n",
       "25%       2015.0  4.000000e+00  8.000000e+00  2.000000e+00   7.300000e+02   \n",
       "50%       2015.0  7.000000e+00  1.600000e+01  4.000000e+00   1.690000e+03   \n",
       "75%       2015.0  9.000000e+00  2.300000e+01  6.000000e+00   3.230000e+03   \n",
       "max       2015.0  1.200000e+01  3.100000e+01  7.000000e+00   9.855000e+03   \n",
       "\n",
       "       SCHEDULED_DEPARTURE  DEPARTURE_TIME  DEPARTURE_DELAY      TAXI_OUT  \\\n",
       "count         5.819079e+06    5.732926e+06     5.732926e+06  5.730032e+06   \n",
       "mean          1.329602e+03    1.335204e+03     9.370158e+00  1.607166e+01   \n",
       "std           4.837518e+02    4.964233e+02     3.708094e+01  8.895574e+00   \n",
       "min           1.000000e+00    1.000000e+00    -8.200000e+01  1.000000e+00   \n",
       "25%           9.170000e+02    9.210000e+02    -5.000000e+00  1.100000e+01   \n",
       "50%           1.325000e+03    1.330000e+03    -2.000000e+00  1.400000e+01   \n",
       "75%           1.730000e+03    1.740000e+03     7.000000e+00  1.900000e+01   \n",
       "max           2.359000e+03    2.400000e+03     1.988000e+03  2.250000e+02   \n",
       "\n",
       "         WHEELS_OFF  ...  SCHEDULED_ARRIVAL  ARRIVAL_TIME  ARRIVAL_DELAY  \\\n",
       "count  5.730032e+06  ...       5.819079e+06  5.726566e+06   5.714008e+06   \n",
       "mean   1.357171e+03  ...       1.493808e+03  1.476491e+03   4.407057e+00   \n",
       "std    4.980094e+02  ...       5.071647e+02  5.263197e+02   3.927130e+01   \n",
       "min    1.000000e+00  ...       1.000000e+00  1.000000e+00  -8.700000e+01   \n",
       "25%    9.350000e+02  ...       1.110000e+03  1.059000e+03  -1.300000e+01   \n",
       "50%    1.343000e+03  ...       1.520000e+03  1.512000e+03  -5.000000e+00   \n",
       "75%    1.754000e+03  ...       1.918000e+03  1.917000e+03   8.000000e+00   \n",
       "max    2.400000e+03  ...       2.400000e+03  2.400000e+03   1.971000e+03   \n",
       "\n",
       "           DIVERTED     CANCELLED  AIR_SYSTEM_DELAY  SECURITY_DELAY  \\\n",
       "count  5.819079e+06  5.819079e+06      1.063439e+06    1.063439e+06   \n",
       "mean   2.609863e-03  1.544643e-02      1.348057e+01    7.615387e-02   \n",
       "std    5.102012e-02  1.233201e-01      2.800368e+01    2.143460e+00   \n",
       "min    0.000000e+00  0.000000e+00      0.000000e+00    0.000000e+00   \n",
       "25%    0.000000e+00  0.000000e+00      0.000000e+00    0.000000e+00   \n",
       "50%    0.000000e+00  0.000000e+00      2.000000e+00    0.000000e+00   \n",
       "75%    0.000000e+00  0.000000e+00      1.800000e+01    0.000000e+00   \n",
       "max    1.000000e+00  1.000000e+00      1.134000e+03    5.730000e+02   \n",
       "\n",
       "       AIRLINE_DELAY  LATE_AIRCRAFT_DELAY  WEATHER_DELAY  \n",
       "count   1.063439e+06         1.063439e+06   1.063439e+06  \n",
       "mean    1.896955e+01         2.347284e+01   2.915290e+00  \n",
       "std     4.816164e+01         4.319702e+01   2.043334e+01  \n",
       "min     0.000000e+00         0.000000e+00   0.000000e+00  \n",
       "25%     0.000000e+00         0.000000e+00   0.000000e+00  \n",
       "50%     2.000000e+00         3.000000e+00   0.000000e+00  \n",
       "75%     1.900000e+01         2.900000e+01   0.000000e+00  \n",
       "max     1.971000e+03         1.331000e+03   1.211000e+03  \n",
       "\n",
       "[8 rows x 26 columns]"
      ]
     },
     "execution_count": 5,
     "metadata": {},
     "output_type": "execute_result"
    }
   ],
   "source": [
    "data.describe()"
   ]
  },
  {
   "cell_type": "markdown",
   "metadata": {},
   "source": [
    "# Understanding variables"
   ]
  },
  {
   "cell_type": "markdown",
   "metadata": {},
   "source": [
    "* *YEAR*, *MONTH*, *DAY*, *DAY_OF_WEEK* - dates of the flight\n",
    "* AIRLINE  -An identification number assigned by US GOV to identify a unique airline\n",
    "* FLIGHT_NUMBER -The common unique flight number of the flight.\n",
    "* TAIL_NUMBER -  The unique aircraft number.\n",
    "* **ORIGIN_AIRPORT**, **DESTINATION_AIRPORT** - code attributed by IATA to identify the airports\n",
    "* SCHEDULED_DEPARTURE - scheduled time of departure\n",
    "* SCHEDULED_ARRIVAL - scheduled time of arrival\n",
    "* **DEPARTURE_TIME**, **ARRIVAL_TIME** - real times at which take-off and landing took place\n",
    "* **DEPARTURE_DELAY**, **ARRIVAL_DELAY** - difference (in minutes) between planned and real times\n",
    "* TAXI_OUT - elapsed time from gate to take-off\n",
    "* WHEELS_OFF - time of take off\n",
    "* SCHEDULED_TIME - scheduled time of departure\n",
    "* ELAPSED_TIME - time elapsed from taxi out to taxi in\n",
    "* AIR_TIME - air time of flight\n",
    "* DISTANCE - distance of flight (in miles),\n",
    "* WHEELS_ON -  time of landing\n",
    "* TAXI_IN - time that elapsed from landing and docking in gate\n",
    "* DIVERTED - 1 if flight have been diverted and landed on another airport that scheduled\n",
    "* CANCELLED - 1 if flight have been canceleed\n",
    "* CANCELLATION_REASON - reson of flight cancellation\n",
    "* AIR_SYSTEM_DELAY, SECURITY_DELAY, AIRLINE_DELAY, LATE_AIRCRAFT_DELAY, WEATHER_DELAY - reasons of delay"
   ]
  },
  {
   "cell_type": "markdown",
   "metadata": {},
   "source": [
    "***\n",
    "# Feature engineering"
   ]
  },
  {
   "cell_type": "markdown",
   "metadata": {},
   "source": [
    "## _na_ handling"
   ]
  },
  {
   "cell_type": "code",
   "execution_count": 6,
   "metadata": {
    "colab": {
     "base_uri": "https://localhost:8080/"
    },
    "id": "Z8bAFzHzeovq",
    "outputId": "a009fc22-77c9-4d55-d48a-0b083abab7d7"
   },
   "outputs": [
    {
     "data": {
      "text/plain": [
       "YEAR                    0.000000\n",
       "MONTH                   0.000000\n",
       "DAY                     0.000000\n",
       "DAY_OF_WEEK             0.000000\n",
       "AIRLINE                 0.000000\n",
       "FLIGHT_NUMBER           0.000000\n",
       "TAIL_NUMBER             0.252978\n",
       "ORIGIN_AIRPORT          0.000000\n",
       "DESTINATION_AIRPORT     0.000000\n",
       "SCHEDULED_DEPARTURE     0.000000\n",
       "DEPARTURE_TIME          1.480526\n",
       "DEPARTURE_DELAY         1.480526\n",
       "TAXI_OUT                1.530259\n",
       "WHEELS_OFF              1.530259\n",
       "SCHEDULED_TIME          0.000103\n",
       "ELAPSED_TIME            1.805629\n",
       "AIR_TIME                1.805629\n",
       "DISTANCE                0.000000\n",
       "WHEELS_ON               1.589822\n",
       "TAXI_IN                 1.589822\n",
       "SCHEDULED_ARRIVAL       0.000000\n",
       "ARRIVAL_TIME            1.589822\n",
       "ARRIVAL_DELAY           1.805629\n",
       "DIVERTED                0.000000\n",
       "CANCELLED               0.000000\n",
       "CANCELLATION_REASON    98.455357\n",
       "AIR_SYSTEM_DELAY       81.724960\n",
       "SECURITY_DELAY         81.724960\n",
       "AIRLINE_DELAY          81.724960\n",
       "LATE_AIRCRAFT_DELAY    81.724960\n",
       "WEATHER_DELAY          81.724960\n",
       "dtype: float64"
      ]
     },
     "execution_count": 6,
     "metadata": {},
     "output_type": "execute_result"
    }
   ],
   "source": [
    "data.isna().sum()*100/data.shape[0]"
   ]
  },
  {
   "cell_type": "markdown",
   "metadata": {},
   "source": [
    "Above result shows that there are a lot (82%) of missing data in reason of flight delation. Also in cancellation reason there are almost 98%."
   ]
  },
  {
   "cell_type": "code",
   "execution_count": 7,
   "metadata": {
    "colab": {
     "base_uri": "https://localhost:8080/"
    },
    "id": "uzwNlqjjh2_y",
    "outputId": "2257c84c-8e67-4194-84b2-45a9b76f26c2",
    "scrolled": true
   },
   "outputs": [
    {
     "data": {
      "text/plain": [
       "Series([], Name: ARRIVAL_DELAY, dtype: float64)"
      ]
     },
     "execution_count": 7,
     "metadata": {},
     "output_type": "execute_result"
    }
   ],
   "source": [
    "data[data['CANCELLED']>0]['ARRIVAL_DELAY'].dropna()"
   ]
  },
  {
   "cell_type": "markdown",
   "metadata": {
    "id": "jMDVz2EOi-E2"
   },
   "source": [
    "From the above result, I conclude that there are no delays in the data when the flight is canceled. For this reason, I remove the **CANCLLED** and **CANCELLATION_REASON** columns from the data because in this example I am dealing with delays."
   ]
  },
  {
   "cell_type": "code",
   "execution_count": 8,
   "metadata": {},
   "outputs": [
    {
     "data": {
      "text/plain": [
       "YEAR                         0\n",
       "MONTH                        0\n",
       "DAY                          0\n",
       "DAY_OF_WEEK                  0\n",
       "AIRLINE                      0\n",
       "FLIGHT_NUMBER                0\n",
       "TAIL_NUMBER              14721\n",
       "ORIGIN_AIRPORT               0\n",
       "DESTINATION_AIRPORT          0\n",
       "SCHEDULED_DEPARTURE          0\n",
       "DEPARTURE_TIME           86153\n",
       "DEPARTURE_DELAY          86153\n",
       "TAXI_OUT                 89047\n",
       "WHEELS_OFF               89047\n",
       "SCHEDULED_TIME               6\n",
       "ELAPSED_TIME            105071\n",
       "AIR_TIME                105071\n",
       "DISTANCE                     0\n",
       "WHEELS_ON                92513\n",
       "TAXI_IN                  92513\n",
       "SCHEDULED_ARRIVAL            0\n",
       "ARRIVAL_TIME             92513\n",
       "ARRIVAL_DELAY           105071\n",
       "DIVERTED                     0\n",
       "CANCELLED                    0\n",
       "CANCELLATION_REASON    5729195\n",
       "AIR_SYSTEM_DELAY       4755640\n",
       "SECURITY_DELAY         4755640\n",
       "AIRLINE_DELAY          4755640\n",
       "LATE_AIRCRAFT_DELAY    4755640\n",
       "WEATHER_DELAY          4755640\n",
       "dtype: int64"
      ]
     },
     "execution_count": 8,
     "metadata": {},
     "output_type": "execute_result"
    }
   ],
   "source": [
    "data.isna().sum()"
   ]
  },
  {
   "cell_type": "markdown",
   "metadata": {},
   "source": [
    "Because of that, there is need to drop rows with Cancelled flights."
   ]
  },
  {
   "cell_type": "code",
   "execution_count": 9,
   "metadata": {},
   "outputs": [],
   "source": [
    "data.drop(data[(data['CANCELLED']>0)].index, inplace=True)"
   ]
  },
  {
   "cell_type": "code",
   "execution_count": 10,
   "metadata": {},
   "outputs": [
    {
     "data": {
      "text/plain": [
       "YEAR                         0\n",
       "MONTH                        0\n",
       "DAY                          0\n",
       "DAY_OF_WEEK                  0\n",
       "AIRLINE                      0\n",
       "FLIGHT_NUMBER                0\n",
       "TAIL_NUMBER                  0\n",
       "ORIGIN_AIRPORT               0\n",
       "DESTINATION_AIRPORT          0\n",
       "SCHEDULED_DEPARTURE          0\n",
       "DEPARTURE_TIME               0\n",
       "DEPARTURE_DELAY              0\n",
       "TAXI_OUT                     0\n",
       "WHEELS_OFF                   0\n",
       "SCHEDULED_TIME               1\n",
       "ELAPSED_TIME             15187\n",
       "AIR_TIME                 15187\n",
       "DISTANCE                     0\n",
       "WHEELS_ON                 2629\n",
       "TAXI_IN                   2629\n",
       "SCHEDULED_ARRIVAL            0\n",
       "ARRIVAL_TIME              2629\n",
       "ARRIVAL_DELAY            15187\n",
       "DIVERTED                     0\n",
       "CANCELLED                    0\n",
       "CANCELLATION_REASON    5729195\n",
       "AIR_SYSTEM_DELAY       4665756\n",
       "SECURITY_DELAY         4665756\n",
       "AIRLINE_DELAY          4665756\n",
       "LATE_AIRCRAFT_DELAY    4665756\n",
       "WEATHER_DELAY          4665756\n",
       "dtype: int64"
      ]
     },
     "execution_count": 10,
     "metadata": {},
     "output_type": "execute_result"
    }
   ],
   "source": [
    "data.isna().sum()"
   ]
  },
  {
   "cell_type": "code",
   "execution_count": 11,
   "metadata": {
    "id": "NmVLLrLre9zh"
   },
   "outputs": [],
   "source": [
    "data = data.drop(['CANCELLED','CANCELLATION_REASON'], axis=1)"
   ]
  },
  {
   "cell_type": "markdown",
   "metadata": {},
   "source": [
    "**Diversion**"
   ]
  },
  {
   "cell_type": "markdown",
   "metadata": {},
   "source": [
    "I conclude that if the flight was Diverted there won't be data "
   ]
  },
  {
   "cell_type": "code",
   "execution_count": 12,
   "metadata": {},
   "outputs": [
    {
     "data": {
      "text/html": [
       "<div>\n",
       "<style scoped>\n",
       "    .dataframe tbody tr th:only-of-type {\n",
       "        vertical-align: middle;\n",
       "    }\n",
       "\n",
       "    .dataframe tbody tr th {\n",
       "        vertical-align: top;\n",
       "    }\n",
       "\n",
       "    .dataframe thead th {\n",
       "        text-align: right;\n",
       "    }\n",
       "</style>\n",
       "<table border=\"1\" class=\"dataframe\">\n",
       "  <thead>\n",
       "    <tr style=\"text-align: right;\">\n",
       "      <th></th>\n",
       "      <th>YEAR</th>\n",
       "      <th>MONTH</th>\n",
       "      <th>DAY</th>\n",
       "      <th>DAY_OF_WEEK</th>\n",
       "      <th>AIRLINE</th>\n",
       "      <th>FLIGHT_NUMBER</th>\n",
       "      <th>TAIL_NUMBER</th>\n",
       "      <th>ORIGIN_AIRPORT</th>\n",
       "      <th>DESTINATION_AIRPORT</th>\n",
       "      <th>SCHEDULED_DEPARTURE</th>\n",
       "      <th>...</th>\n",
       "      <th>TAXI_IN</th>\n",
       "      <th>SCHEDULED_ARRIVAL</th>\n",
       "      <th>ARRIVAL_TIME</th>\n",
       "      <th>ARRIVAL_DELAY</th>\n",
       "      <th>DIVERTED</th>\n",
       "      <th>AIR_SYSTEM_DELAY</th>\n",
       "      <th>SECURITY_DELAY</th>\n",
       "      <th>AIRLINE_DELAY</th>\n",
       "      <th>LATE_AIRCRAFT_DELAY</th>\n",
       "      <th>WEATHER_DELAY</th>\n",
       "    </tr>\n",
       "  </thead>\n",
       "  <tbody>\n",
       "    <tr>\n",
       "      <th>724</th>\n",
       "      <td>2015</td>\n",
       "      <td>1</td>\n",
       "      <td>1</td>\n",
       "      <td>4</td>\n",
       "      <td>DL</td>\n",
       "      <td>716</td>\n",
       "      <td>N944DL</td>\n",
       "      <td>OMA</td>\n",
       "      <td>ATL</td>\n",
       "      <td>645</td>\n",
       "      <td>...</td>\n",
       "      <td>4.0</td>\n",
       "      <td>1009</td>\n",
       "      <td>1451.0</td>\n",
       "      <td>NaN</td>\n",
       "      <td>1</td>\n",
       "      <td>NaN</td>\n",
       "      <td>NaN</td>\n",
       "      <td>NaN</td>\n",
       "      <td>NaN</td>\n",
       "      <td>NaN</td>\n",
       "    </tr>\n",
       "    <tr>\n",
       "      <th>1455</th>\n",
       "      <td>2015</td>\n",
       "      <td>1</td>\n",
       "      <td>1</td>\n",
       "      <td>4</td>\n",
       "      <td>OO</td>\n",
       "      <td>5237</td>\n",
       "      <td>N712SK</td>\n",
       "      <td>MKE</td>\n",
       "      <td>IAH</td>\n",
       "      <td>745</td>\n",
       "      <td>...</td>\n",
       "      <td>9.0</td>\n",
       "      <td>1041</td>\n",
       "      <td>1505.0</td>\n",
       "      <td>NaN</td>\n",
       "      <td>1</td>\n",
       "      <td>NaN</td>\n",
       "      <td>NaN</td>\n",
       "      <td>NaN</td>\n",
       "      <td>NaN</td>\n",
       "      <td>NaN</td>\n",
       "    </tr>\n",
       "    <tr>\n",
       "      <th>2218</th>\n",
       "      <td>2015</td>\n",
       "      <td>1</td>\n",
       "      <td>1</td>\n",
       "      <td>4</td>\n",
       "      <td>WN</td>\n",
       "      <td>1966</td>\n",
       "      <td>N685SW</td>\n",
       "      <td>ATL</td>\n",
       "      <td>JAX</td>\n",
       "      <td>845</td>\n",
       "      <td>...</td>\n",
       "      <td>5.0</td>\n",
       "      <td>1000</td>\n",
       "      <td>1219.0</td>\n",
       "      <td>NaN</td>\n",
       "      <td>1</td>\n",
       "      <td>NaN</td>\n",
       "      <td>NaN</td>\n",
       "      <td>NaN</td>\n",
       "      <td>NaN</td>\n",
       "      <td>NaN</td>\n",
       "    </tr>\n",
       "    <tr>\n",
       "      <th>2526</th>\n",
       "      <td>2015</td>\n",
       "      <td>1</td>\n",
       "      <td>1</td>\n",
       "      <td>4</td>\n",
       "      <td>EV</td>\n",
       "      <td>4555</td>\n",
       "      <td>N12552</td>\n",
       "      <td>IAH</td>\n",
       "      <td>HRL</td>\n",
       "      <td>902</td>\n",
       "      <td>...</td>\n",
       "      <td>5.0</td>\n",
       "      <td>1017</td>\n",
       "      <td>1319.0</td>\n",
       "      <td>NaN</td>\n",
       "      <td>1</td>\n",
       "      <td>NaN</td>\n",
       "      <td>NaN</td>\n",
       "      <td>NaN</td>\n",
       "      <td>NaN</td>\n",
       "      <td>NaN</td>\n",
       "    </tr>\n",
       "    <tr>\n",
       "      <th>2866</th>\n",
       "      <td>2015</td>\n",
       "      <td>1</td>\n",
       "      <td>1</td>\n",
       "      <td>4</td>\n",
       "      <td>WN</td>\n",
       "      <td>1081</td>\n",
       "      <td>N214WN</td>\n",
       "      <td>MDW</td>\n",
       "      <td>OKC</td>\n",
       "      <td>930</td>\n",
       "      <td>...</td>\n",
       "      <td>3.0</td>\n",
       "      <td>1135</td>\n",
       "      <td>1343.0</td>\n",
       "      <td>NaN</td>\n",
       "      <td>1</td>\n",
       "      <td>NaN</td>\n",
       "      <td>NaN</td>\n",
       "      <td>NaN</td>\n",
       "      <td>NaN</td>\n",
       "      <td>NaN</td>\n",
       "    </tr>\n",
       "    <tr>\n",
       "      <th>...</th>\n",
       "      <td>...</td>\n",
       "      <td>...</td>\n",
       "      <td>...</td>\n",
       "      <td>...</td>\n",
       "      <td>...</td>\n",
       "      <td>...</td>\n",
       "      <td>...</td>\n",
       "      <td>...</td>\n",
       "      <td>...</td>\n",
       "      <td>...</td>\n",
       "      <td>...</td>\n",
       "      <td>...</td>\n",
       "      <td>...</td>\n",
       "      <td>...</td>\n",
       "      <td>...</td>\n",
       "      <td>...</td>\n",
       "      <td>...</td>\n",
       "      <td>...</td>\n",
       "      <td>...</td>\n",
       "      <td>...</td>\n",
       "      <td>...</td>\n",
       "    </tr>\n",
       "    <tr>\n",
       "      <th>5813860</th>\n",
       "      <td>2015</td>\n",
       "      <td>12</td>\n",
       "      <td>31</td>\n",
       "      <td>4</td>\n",
       "      <td>UA</td>\n",
       "      <td>1291</td>\n",
       "      <td>N596UA</td>\n",
       "      <td>LIH</td>\n",
       "      <td>LAX</td>\n",
       "      <td>1405</td>\n",
       "      <td>...</td>\n",
       "      <td>NaN</td>\n",
       "      <td>2141</td>\n",
       "      <td>NaN</td>\n",
       "      <td>NaN</td>\n",
       "      <td>1</td>\n",
       "      <td>NaN</td>\n",
       "      <td>NaN</td>\n",
       "      <td>NaN</td>\n",
       "      <td>NaN</td>\n",
       "      <td>NaN</td>\n",
       "    </tr>\n",
       "    <tr>\n",
       "      <th>5815052</th>\n",
       "      <td>2015</td>\n",
       "      <td>12</td>\n",
       "      <td>31</td>\n",
       "      <td>4</td>\n",
       "      <td>EV</td>\n",
       "      <td>2785</td>\n",
       "      <td>N684JW</td>\n",
       "      <td>DFW</td>\n",
       "      <td>BRO</td>\n",
       "      <td>1530</td>\n",
       "      <td>...</td>\n",
       "      <td>NaN</td>\n",
       "      <td>1720</td>\n",
       "      <td>NaN</td>\n",
       "      <td>NaN</td>\n",
       "      <td>1</td>\n",
       "      <td>NaN</td>\n",
       "      <td>NaN</td>\n",
       "      <td>NaN</td>\n",
       "      <td>NaN</td>\n",
       "      <td>NaN</td>\n",
       "    </tr>\n",
       "    <tr>\n",
       "      <th>5816657</th>\n",
       "      <td>2015</td>\n",
       "      <td>12</td>\n",
       "      <td>31</td>\n",
       "      <td>4</td>\n",
       "      <td>UA</td>\n",
       "      <td>291</td>\n",
       "      <td>N76505</td>\n",
       "      <td>IAD</td>\n",
       "      <td>SMF</td>\n",
       "      <td>1735</td>\n",
       "      <td>...</td>\n",
       "      <td>4.0</td>\n",
       "      <td>2026</td>\n",
       "      <td>2216.0</td>\n",
       "      <td>NaN</td>\n",
       "      <td>1</td>\n",
       "      <td>NaN</td>\n",
       "      <td>NaN</td>\n",
       "      <td>NaN</td>\n",
       "      <td>NaN</td>\n",
       "      <td>NaN</td>\n",
       "    </tr>\n",
       "    <tr>\n",
       "      <th>5817342</th>\n",
       "      <td>2015</td>\n",
       "      <td>12</td>\n",
       "      <td>31</td>\n",
       "      <td>4</td>\n",
       "      <td>MQ</td>\n",
       "      <td>3060</td>\n",
       "      <td>N648MQ</td>\n",
       "      <td>DFW</td>\n",
       "      <td>FAR</td>\n",
       "      <td>1830</td>\n",
       "      <td>...</td>\n",
       "      <td>3.0</td>\n",
       "      <td>2113</td>\n",
       "      <td>2250.0</td>\n",
       "      <td>NaN</td>\n",
       "      <td>1</td>\n",
       "      <td>NaN</td>\n",
       "      <td>NaN</td>\n",
       "      <td>NaN</td>\n",
       "      <td>NaN</td>\n",
       "      <td>NaN</td>\n",
       "    </tr>\n",
       "    <tr>\n",
       "      <th>5818160</th>\n",
       "      <td>2015</td>\n",
       "      <td>12</td>\n",
       "      <td>31</td>\n",
       "      <td>4</td>\n",
       "      <td>WN</td>\n",
       "      <td>5296</td>\n",
       "      <td>N419WN</td>\n",
       "      <td>MDW</td>\n",
       "      <td>ABQ</td>\n",
       "      <td>2000</td>\n",
       "      <td>...</td>\n",
       "      <td>6.0</td>\n",
       "      <td>2215</td>\n",
       "      <td>2325.0</td>\n",
       "      <td>NaN</td>\n",
       "      <td>1</td>\n",
       "      <td>NaN</td>\n",
       "      <td>NaN</td>\n",
       "      <td>NaN</td>\n",
       "      <td>NaN</td>\n",
       "      <td>NaN</td>\n",
       "    </tr>\n",
       "  </tbody>\n",
       "</table>\n",
       "<p>15187 rows × 29 columns</p>\n",
       "</div>"
      ],
      "text/plain": [
       "         YEAR  MONTH  DAY  DAY_OF_WEEK AIRLINE  FLIGHT_NUMBER TAIL_NUMBER  \\\n",
       "724      2015      1    1            4      DL            716      N944DL   \n",
       "1455     2015      1    1            4      OO           5237      N712SK   \n",
       "2218     2015      1    1            4      WN           1966      N685SW   \n",
       "2526     2015      1    1            4      EV           4555      N12552   \n",
       "2866     2015      1    1            4      WN           1081      N214WN   \n",
       "...       ...    ...  ...          ...     ...            ...         ...   \n",
       "5813860  2015     12   31            4      UA           1291      N596UA   \n",
       "5815052  2015     12   31            4      EV           2785      N684JW   \n",
       "5816657  2015     12   31            4      UA            291      N76505   \n",
       "5817342  2015     12   31            4      MQ           3060      N648MQ   \n",
       "5818160  2015     12   31            4      WN           5296      N419WN   \n",
       "\n",
       "        ORIGIN_AIRPORT DESTINATION_AIRPORT  SCHEDULED_DEPARTURE  ...  TAXI_IN  \\\n",
       "724                OMA                 ATL                  645  ...      4.0   \n",
       "1455               MKE                 IAH                  745  ...      9.0   \n",
       "2218               ATL                 JAX                  845  ...      5.0   \n",
       "2526               IAH                 HRL                  902  ...      5.0   \n",
       "2866               MDW                 OKC                  930  ...      3.0   \n",
       "...                ...                 ...                  ...  ...      ...   \n",
       "5813860            LIH                 LAX                 1405  ...      NaN   \n",
       "5815052            DFW                 BRO                 1530  ...      NaN   \n",
       "5816657            IAD                 SMF                 1735  ...      4.0   \n",
       "5817342            DFW                 FAR                 1830  ...      3.0   \n",
       "5818160            MDW                 ABQ                 2000  ...      6.0   \n",
       "\n",
       "         SCHEDULED_ARRIVAL  ARRIVAL_TIME  ARRIVAL_DELAY  DIVERTED  \\\n",
       "724                   1009        1451.0            NaN         1   \n",
       "1455                  1041        1505.0            NaN         1   \n",
       "2218                  1000        1219.0            NaN         1   \n",
       "2526                  1017        1319.0            NaN         1   \n",
       "2866                  1135        1343.0            NaN         1   \n",
       "...                    ...           ...            ...       ...   \n",
       "5813860               2141           NaN            NaN         1   \n",
       "5815052               1720           NaN            NaN         1   \n",
       "5816657               2026        2216.0            NaN         1   \n",
       "5817342               2113        2250.0            NaN         1   \n",
       "5818160               2215        2325.0            NaN         1   \n",
       "\n",
       "         AIR_SYSTEM_DELAY  SECURITY_DELAY  AIRLINE_DELAY  LATE_AIRCRAFT_DELAY  \\\n",
       "724                   NaN             NaN            NaN                  NaN   \n",
       "1455                  NaN             NaN            NaN                  NaN   \n",
       "2218                  NaN             NaN            NaN                  NaN   \n",
       "2526                  NaN             NaN            NaN                  NaN   \n",
       "2866                  NaN             NaN            NaN                  NaN   \n",
       "...                   ...             ...            ...                  ...   \n",
       "5813860               NaN             NaN            NaN                  NaN   \n",
       "5815052               NaN             NaN            NaN                  NaN   \n",
       "5816657               NaN             NaN            NaN                  NaN   \n",
       "5817342               NaN             NaN            NaN                  NaN   \n",
       "5818160               NaN             NaN            NaN                  NaN   \n",
       "\n",
       "         WEATHER_DELAY  \n",
       "724                NaN  \n",
       "1455               NaN  \n",
       "2218               NaN  \n",
       "2526               NaN  \n",
       "2866               NaN  \n",
       "...                ...  \n",
       "5813860            NaN  \n",
       "5815052            NaN  \n",
       "5816657            NaN  \n",
       "5817342            NaN  \n",
       "5818160            NaN  \n",
       "\n",
       "[15187 rows x 29 columns]"
      ]
     },
     "execution_count": 12,
     "metadata": {},
     "output_type": "execute_result"
    }
   ],
   "source": [
    "data[data['DIVERTED']>0]"
   ]
  },
  {
   "cell_type": "code",
   "execution_count": 13,
   "metadata": {},
   "outputs": [],
   "source": [
    "data_without_nulls = data.drop(data[(data['DIVERTED']>0)].index)"
   ]
  },
  {
   "cell_type": "code",
   "execution_count": 14,
   "metadata": {},
   "outputs": [],
   "source": [
    "data_without_nulls = data_without_nulls.drop(['DIVERTED'], axis=1)"
   ]
  },
  {
   "cell_type": "code",
   "execution_count": 15,
   "metadata": {
    "colab": {
     "base_uri": "https://localhost:8080/"
    },
    "id": "LOex2RTNnl1V",
    "outputId": "10f47a3f-e427-48c4-88e6-b0d05da18e3b"
   },
   "outputs": [
    {
     "data": {
      "text/plain": [
       "YEAR                         0\n",
       "MONTH                        0\n",
       "DAY                          0\n",
       "DAY_OF_WEEK                  0\n",
       "AIRLINE                      0\n",
       "FLIGHT_NUMBER                0\n",
       "TAIL_NUMBER                  0\n",
       "ORIGIN_AIRPORT               0\n",
       "DESTINATION_AIRPORT          0\n",
       "SCHEDULED_DEPARTURE          0\n",
       "DEPARTURE_TIME               0\n",
       "DEPARTURE_DELAY              0\n",
       "TAXI_OUT                     0\n",
       "WHEELS_OFF                   0\n",
       "SCHEDULED_TIME               0\n",
       "ELAPSED_TIME                 0\n",
       "AIR_TIME                     0\n",
       "DISTANCE                     0\n",
       "WHEELS_ON                    0\n",
       "TAXI_IN                      0\n",
       "SCHEDULED_ARRIVAL            0\n",
       "ARRIVAL_TIME                 0\n",
       "ARRIVAL_DELAY                0\n",
       "AIR_SYSTEM_DELAY       4650569\n",
       "SECURITY_DELAY         4650569\n",
       "AIRLINE_DELAY          4650569\n",
       "LATE_AIRCRAFT_DELAY    4650569\n",
       "WEATHER_DELAY          4650569\n",
       "dtype: int64"
      ]
     },
     "execution_count": 15,
     "metadata": {},
     "output_type": "execute_result"
    }
   ],
   "source": [
    "data_without_nulls.isna().sum()"
   ]
  },
  {
   "cell_type": "markdown",
   "metadata": {},
   "source": [
    "Variables: 'AIR_SYSTEM_DELAY', 'SECURITY_DELAY', 'AIRLINE_DELAY', 'LATE_AIRCRAFT_DELAY', 'WEATHER_DELAY' are indicators of delay reson. \n",
    "Knowing those variables would be too obvious for algorithm to define it with occurrence of a delay. Those columns should be dropped."
   ]
  },
  {
   "cell_type": "code",
   "execution_count": 16,
   "metadata": {
    "id": "PVZirBIwfZbm"
   },
   "outputs": [],
   "source": [
    "Flights_Delays_Combined =  data_without_nulls.drop(['AIR_SYSTEM_DELAY','SECURITY_DELAY','AIRLINE_DELAY',\n",
    "                    'LATE_AIRCRAFT_DELAY','WEATHER_DELAY'],axis = 1)"
   ]
  },
  {
   "cell_type": "code",
   "execution_count": 17,
   "metadata": {
    "colab": {
     "base_uri": "https://localhost:8080/",
     "height": 444
    },
    "id": "6ejpqZbFoa4T",
    "outputId": "16be1279-27a7-47bd-bb02-dfaecad3af98"
   },
   "outputs": [
    {
     "data": {
      "text/html": [
       "<div>\n",
       "<style scoped>\n",
       "    .dataframe tbody tr th:only-of-type {\n",
       "        vertical-align: middle;\n",
       "    }\n",
       "\n",
       "    .dataframe tbody tr th {\n",
       "        vertical-align: top;\n",
       "    }\n",
       "\n",
       "    .dataframe thead th {\n",
       "        text-align: right;\n",
       "    }\n",
       "</style>\n",
       "<table border=\"1\" class=\"dataframe\">\n",
       "  <thead>\n",
       "    <tr style=\"text-align: right;\">\n",
       "      <th></th>\n",
       "      <th>YEAR</th>\n",
       "      <th>MONTH</th>\n",
       "      <th>DAY</th>\n",
       "      <th>DAY_OF_WEEK</th>\n",
       "      <th>AIRLINE</th>\n",
       "      <th>FLIGHT_NUMBER</th>\n",
       "      <th>TAIL_NUMBER</th>\n",
       "      <th>ORIGIN_AIRPORT</th>\n",
       "      <th>DESTINATION_AIRPORT</th>\n",
       "      <th>SCHEDULED_DEPARTURE</th>\n",
       "      <th>...</th>\n",
       "      <th>WHEELS_OFF</th>\n",
       "      <th>SCHEDULED_TIME</th>\n",
       "      <th>ELAPSED_TIME</th>\n",
       "      <th>AIR_TIME</th>\n",
       "      <th>DISTANCE</th>\n",
       "      <th>WHEELS_ON</th>\n",
       "      <th>TAXI_IN</th>\n",
       "      <th>SCHEDULED_ARRIVAL</th>\n",
       "      <th>ARRIVAL_TIME</th>\n",
       "      <th>ARRIVAL_DELAY</th>\n",
       "    </tr>\n",
       "  </thead>\n",
       "  <tbody>\n",
       "    <tr>\n",
       "      <th>0</th>\n",
       "      <td>2015</td>\n",
       "      <td>1</td>\n",
       "      <td>1</td>\n",
       "      <td>4</td>\n",
       "      <td>AS</td>\n",
       "      <td>98</td>\n",
       "      <td>N407AS</td>\n",
       "      <td>ANC</td>\n",
       "      <td>SEA</td>\n",
       "      <td>5</td>\n",
       "      <td>...</td>\n",
       "      <td>15.0</td>\n",
       "      <td>205.0</td>\n",
       "      <td>194.0</td>\n",
       "      <td>169.0</td>\n",
       "      <td>1448</td>\n",
       "      <td>404.0</td>\n",
       "      <td>4.0</td>\n",
       "      <td>430</td>\n",
       "      <td>408.0</td>\n",
       "      <td>-22.0</td>\n",
       "    </tr>\n",
       "    <tr>\n",
       "      <th>1</th>\n",
       "      <td>2015</td>\n",
       "      <td>1</td>\n",
       "      <td>1</td>\n",
       "      <td>4</td>\n",
       "      <td>AA</td>\n",
       "      <td>2336</td>\n",
       "      <td>N3KUAA</td>\n",
       "      <td>LAX</td>\n",
       "      <td>PBI</td>\n",
       "      <td>10</td>\n",
       "      <td>...</td>\n",
       "      <td>14.0</td>\n",
       "      <td>280.0</td>\n",
       "      <td>279.0</td>\n",
       "      <td>263.0</td>\n",
       "      <td>2330</td>\n",
       "      <td>737.0</td>\n",
       "      <td>4.0</td>\n",
       "      <td>750</td>\n",
       "      <td>741.0</td>\n",
       "      <td>-9.0</td>\n",
       "    </tr>\n",
       "    <tr>\n",
       "      <th>2</th>\n",
       "      <td>2015</td>\n",
       "      <td>1</td>\n",
       "      <td>1</td>\n",
       "      <td>4</td>\n",
       "      <td>US</td>\n",
       "      <td>840</td>\n",
       "      <td>N171US</td>\n",
       "      <td>SFO</td>\n",
       "      <td>CLT</td>\n",
       "      <td>20</td>\n",
       "      <td>...</td>\n",
       "      <td>34.0</td>\n",
       "      <td>286.0</td>\n",
       "      <td>293.0</td>\n",
       "      <td>266.0</td>\n",
       "      <td>2296</td>\n",
       "      <td>800.0</td>\n",
       "      <td>11.0</td>\n",
       "      <td>806</td>\n",
       "      <td>811.0</td>\n",
       "      <td>5.0</td>\n",
       "    </tr>\n",
       "    <tr>\n",
       "      <th>3</th>\n",
       "      <td>2015</td>\n",
       "      <td>1</td>\n",
       "      <td>1</td>\n",
       "      <td>4</td>\n",
       "      <td>AA</td>\n",
       "      <td>258</td>\n",
       "      <td>N3HYAA</td>\n",
       "      <td>LAX</td>\n",
       "      <td>MIA</td>\n",
       "      <td>20</td>\n",
       "      <td>...</td>\n",
       "      <td>30.0</td>\n",
       "      <td>285.0</td>\n",
       "      <td>281.0</td>\n",
       "      <td>258.0</td>\n",
       "      <td>2342</td>\n",
       "      <td>748.0</td>\n",
       "      <td>8.0</td>\n",
       "      <td>805</td>\n",
       "      <td>756.0</td>\n",
       "      <td>-9.0</td>\n",
       "    </tr>\n",
       "    <tr>\n",
       "      <th>4</th>\n",
       "      <td>2015</td>\n",
       "      <td>1</td>\n",
       "      <td>1</td>\n",
       "      <td>4</td>\n",
       "      <td>AS</td>\n",
       "      <td>135</td>\n",
       "      <td>N527AS</td>\n",
       "      <td>SEA</td>\n",
       "      <td>ANC</td>\n",
       "      <td>25</td>\n",
       "      <td>...</td>\n",
       "      <td>35.0</td>\n",
       "      <td>235.0</td>\n",
       "      <td>215.0</td>\n",
       "      <td>199.0</td>\n",
       "      <td>1448</td>\n",
       "      <td>254.0</td>\n",
       "      <td>5.0</td>\n",
       "      <td>320</td>\n",
       "      <td>259.0</td>\n",
       "      <td>-21.0</td>\n",
       "    </tr>\n",
       "  </tbody>\n",
       "</table>\n",
       "<p>5 rows × 23 columns</p>\n",
       "</div>"
      ],
      "text/plain": [
       "   YEAR  MONTH  DAY  DAY_OF_WEEK AIRLINE  FLIGHT_NUMBER TAIL_NUMBER  \\\n",
       "0  2015      1    1            4      AS             98      N407AS   \n",
       "1  2015      1    1            4      AA           2336      N3KUAA   \n",
       "2  2015      1    1            4      US            840      N171US   \n",
       "3  2015      1    1            4      AA            258      N3HYAA   \n",
       "4  2015      1    1            4      AS            135      N527AS   \n",
       "\n",
       "  ORIGIN_AIRPORT DESTINATION_AIRPORT  SCHEDULED_DEPARTURE  ...  WHEELS_OFF  \\\n",
       "0            ANC                 SEA                    5  ...        15.0   \n",
       "1            LAX                 PBI                   10  ...        14.0   \n",
       "2            SFO                 CLT                   20  ...        34.0   \n",
       "3            LAX                 MIA                   20  ...        30.0   \n",
       "4            SEA                 ANC                   25  ...        35.0   \n",
       "\n",
       "   SCHEDULED_TIME  ELAPSED_TIME  AIR_TIME  DISTANCE  WHEELS_ON  TAXI_IN  \\\n",
       "0           205.0         194.0     169.0      1448      404.0      4.0   \n",
       "1           280.0         279.0     263.0      2330      737.0      4.0   \n",
       "2           286.0         293.0     266.0      2296      800.0     11.0   \n",
       "3           285.0         281.0     258.0      2342      748.0      8.0   \n",
       "4           235.0         215.0     199.0      1448      254.0      5.0   \n",
       "\n",
       "   SCHEDULED_ARRIVAL  ARRIVAL_TIME  ARRIVAL_DELAY  \n",
       "0                430         408.0          -22.0  \n",
       "1                750         741.0           -9.0  \n",
       "2                806         811.0            5.0  \n",
       "3                805         756.0           -9.0  \n",
       "4                320         259.0          -21.0  \n",
       "\n",
       "[5 rows x 23 columns]"
      ]
     },
     "execution_count": 17,
     "metadata": {},
     "output_type": "execute_result"
    }
   ],
   "source": [
    "Flights_Delays_Combined.head()"
   ]
  },
  {
   "cell_type": "code",
   "execution_count": 18,
   "metadata": {},
   "outputs": [
    {
     "data": {
      "text/plain": [
       "Index(['YEAR', 'MONTH', 'DAY', 'DAY_OF_WEEK', 'AIRLINE', 'FLIGHT_NUMBER',\n",
       "       'TAIL_NUMBER', 'ORIGIN_AIRPORT', 'DESTINATION_AIRPORT',\n",
       "       'SCHEDULED_DEPARTURE', 'DEPARTURE_TIME', 'DEPARTURE_DELAY', 'TAXI_OUT',\n",
       "       'WHEELS_OFF', 'SCHEDULED_TIME', 'ELAPSED_TIME', 'AIR_TIME', 'DISTANCE',\n",
       "       'WHEELS_ON', 'TAXI_IN', 'SCHEDULED_ARRIVAL', 'ARRIVAL_TIME',\n",
       "       'ARRIVAL_DELAY'],\n",
       "      dtype='object')"
      ]
     },
     "execution_count": 18,
     "metadata": {},
     "output_type": "execute_result"
    }
   ],
   "source": [
    "Flights_Delays_Combined.columns"
   ]
  },
  {
   "cell_type": "code",
   "execution_count": 19,
   "metadata": {
    "colab": {
     "base_uri": "https://localhost:8080/"
    },
    "id": "Ic9xRu7kobms",
    "outputId": "096a4111-b9fd-4c47-864d-ecf8b2085c77"
   },
   "outputs": [
    {
     "data": {
      "text/plain": [
       "YEAR                   0\n",
       "MONTH                  0\n",
       "DAY                    0\n",
       "DAY_OF_WEEK            0\n",
       "AIRLINE                0\n",
       "FLIGHT_NUMBER          0\n",
       "TAIL_NUMBER            0\n",
       "ORIGIN_AIRPORT         0\n",
       "DESTINATION_AIRPORT    0\n",
       "SCHEDULED_DEPARTURE    0\n",
       "DEPARTURE_TIME         0\n",
       "DEPARTURE_DELAY        0\n",
       "TAXI_OUT               0\n",
       "WHEELS_OFF             0\n",
       "SCHEDULED_TIME         0\n",
       "ELAPSED_TIME           0\n",
       "AIR_TIME               0\n",
       "DISTANCE               0\n",
       "WHEELS_ON              0\n",
       "TAXI_IN                0\n",
       "SCHEDULED_ARRIVAL      0\n",
       "ARRIVAL_TIME           0\n",
       "ARRIVAL_DELAY          0\n",
       "dtype: int64"
      ]
     },
     "execution_count": 19,
     "metadata": {},
     "output_type": "execute_result"
    }
   ],
   "source": [
    "Flights_Delays_Combined.isnull().sum()"
   ]
  },
  {
   "cell_type": "markdown",
   "metadata": {},
   "source": [
    "There are no missing data left in dataset."
   ]
  },
  {
   "cell_type": "markdown",
   "metadata": {},
   "source": [
    "***"
   ]
  },
  {
   "cell_type": "markdown",
   "metadata": {},
   "source": [
    "## Handling mixed value types"
   ]
  },
  {
   "cell_type": "markdown",
   "metadata": {},
   "source": [
    "In refrence to point **1)** I am handling mixed data types by making writing function that changes numer airport code to unknown ('unk')"
   ]
  },
  {
   "cell_type": "code",
   "execution_count": 20,
   "metadata": {
    "id": "raJQvMMJ2T_z"
   },
   "outputs": [
    {
     "data": {
      "text/plain": [
       "ATL      343506\n",
       "ORD      276554\n",
       "DFW      232647\n",
       "DEN      193402\n",
       "LAX      192003\n",
       "          ...  \n",
       "15497         1\n",
       "11097         1\n",
       "13459         1\n",
       "12265         1\n",
       "11503         1\n",
       "Name: ORIGIN_AIRPORT, Length: 929, dtype: int64"
      ]
     },
     "execution_count": 20,
     "metadata": {},
     "output_type": "execute_result"
    }
   ],
   "source": [
    "Flights_Delays_Combined['ORIGIN_AIRPORT'].value_counts()"
   ]
  },
  {
   "cell_type": "code",
   "execution_count": 21,
   "metadata": {},
   "outputs": [
    {
     "data": {
      "text/plain": [
       "ATL      343076\n",
       "ORD      275864\n",
       "DFW      231764\n",
       "DEN      193033\n",
       "LAX      192136\n",
       "          ...  \n",
       "10666         1\n",
       "11097         1\n",
       "14222         1\n",
       "14025         1\n",
       "13459         1\n",
       "Name: DESTINATION_AIRPORT, Length: 929, dtype: int64"
      ]
     },
     "execution_count": 21,
     "metadata": {},
     "output_type": "execute_result"
    }
   ],
   "source": [
    "Flights_Delays_Combined['DESTINATION_AIRPORT'].value_counts()"
   ]
  },
  {
   "cell_type": "code",
   "execution_count": 22,
   "metadata": {},
   "outputs": [
    {
     "data": {
      "text/plain": [
       "TestResults(failed=0, attempted=3)"
      ]
     },
     "execution_count": 22,
     "metadata": {},
     "output_type": "execute_result"
    }
   ],
   "source": [
    "def airport_trainsformation(value):\n",
    "    '''\n",
    "    >>> airport_trainsformation('ATL')\n",
    "    'ATL'\n",
    "    >>> airport_trainsformation(11097)\n",
    "    'unk'\n",
    "    >>> airport_trainsformation(15497)\n",
    "    'unk'\n",
    "    '''\n",
    "    if len(str(value))>3:\n",
    "        return 'unk'\n",
    "    else:\n",
    "        return value\n",
    "\n",
    "import doctest\n",
    "doctest.testmod()"
   ]
  },
  {
   "cell_type": "code",
   "execution_count": 23,
   "metadata": {},
   "outputs": [],
   "source": [
    "Flights_Delays_Combined['ORIGIN_AIRPORT_transformed'] = Flights_Delays_Combined['ORIGIN_AIRPORT'].apply(airport_trainsformation)\n",
    "Flights_Delays_Combined['DESTINATION_AIRPORT_transformed'] = Flights_Delays_Combined['DESTINATION_AIRPORT'].apply(airport_trainsformation)"
   ]
  },
  {
   "cell_type": "code",
   "execution_count": 24,
   "metadata": {},
   "outputs": [
    {
     "data": {
      "text/plain": [
       "unk    482878\n",
       "ATL    343076\n",
       "ORD    275864\n",
       "DFW    231764\n",
       "DEN    193033\n",
       "        ...  \n",
       "DLG        77\n",
       "STC        77\n",
       "GST        74\n",
       "AKN        63\n",
       "ITH        31\n",
       "Name: DESTINATION_AIRPORT_transformed, Length: 323, dtype: int64"
      ]
     },
     "execution_count": 24,
     "metadata": {},
     "output_type": "execute_result"
    }
   ],
   "source": [
    "Flights_Delays_Combined['DESTINATION_AIRPORT_transformed'].value_counts()"
   ]
  },
  {
   "cell_type": "code",
   "execution_count": 25,
   "metadata": {},
   "outputs": [],
   "source": [
    "Flights_Delays_Combined = Flights_Delays_Combined.drop(Flights_Delays_Combined[(Flights_Delays_Combined['DESTINATION_AIRPORT_transformed']=='unk')].index)"
   ]
  },
  {
   "cell_type": "code",
   "execution_count": 26,
   "metadata": {},
   "outputs": [],
   "source": [
    "Flights_Delays_Combined = Flights_Delays_Combined.drop(Flights_Delays_Combined[(Flights_Delays_Combined['ORIGIN_AIRPORT_transformed']=='unk')].index)"
   ]
  },
  {
   "cell_type": "code",
   "execution_count": 27,
   "metadata": {},
   "outputs": [
    {
     "data": {
      "text/plain": [
       "ATL    343076\n",
       "ORD    275864\n",
       "DFW    231764\n",
       "DEN    193033\n",
       "LAX    192136\n",
       "        ...  \n",
       "STC        77\n",
       "DLG        77\n",
       "GST        74\n",
       "AKN        63\n",
       "ITH        31\n",
       "Name: DESTINATION_AIRPORT_transformed, Length: 322, dtype: int64"
      ]
     },
     "execution_count": 27,
     "metadata": {},
     "output_type": "execute_result"
    }
   ],
   "source": [
    "Flights_Delays_Combined['DESTINATION_AIRPORT_transformed'].value_counts()"
   ]
  },
  {
   "cell_type": "code",
   "execution_count": 28,
   "metadata": {},
   "outputs": [],
   "source": [
    "Flights_Delays_Combined = Flights_Delays_Combined.drop(['ORIGIN_AIRPORT','DESTINATION_AIRPORT'], axis=1)"
   ]
  },
  {
   "cell_type": "markdown",
   "metadata": {},
   "source": [
    "### Not understable data format in time columns\n",
    "In data dates are in float format. Those should be changed for datetime format. I defined *time_transformation* with doctesting function for that."
   ]
  },
  {
   "cell_type": "code",
   "execution_count": 29,
   "metadata": {
    "colab": {
     "base_uri": "https://localhost:8080/"
    },
    "id": "UWz7CR7Noeqf",
    "outputId": "da85a489-2598-4a91-b7e0-669cf6f98c62"
   },
   "outputs": [
    {
     "data": {
      "text/plain": [
       "0          2354.0\n",
       "1             2.0\n",
       "2            18.0\n",
       "3            15.0\n",
       "4            24.0\n",
       "            ...  \n",
       "5819074    2355.0\n",
       "5819075    2355.0\n",
       "5819076    2350.0\n",
       "5819077    2353.0\n",
       "5819078      14.0\n",
       "Name: DEPARTURE_TIME, Length: 5231130, dtype: float64"
      ]
     },
     "execution_count": 29,
     "metadata": {},
     "output_type": "execute_result"
    }
   ],
   "source": [
    "Flights_Delays_Combined['DEPARTURE_TIME']"
   ]
  },
  {
   "cell_type": "code",
   "execution_count": 30,
   "metadata": {
    "colab": {
     "base_uri": "https://localhost:8080/"
    },
    "id": "eG6iE_IFqyVE",
    "outputId": "7a1befc5-6a29-4863-d400-a7d7d96c9d6e"
   },
   "outputs": [
    {
     "data": {
      "text/plain": [
       "2400.0"
      ]
     },
     "execution_count": 30,
     "metadata": {},
     "output_type": "execute_result"
    }
   ],
   "source": [
    "max(Flights_Delays_Combined['DEPARTURE_TIME'])"
   ]
  },
  {
   "cell_type": "markdown",
   "metadata": {
    "id": "zs2hdzgRosCh"
   },
   "source": [
    "Hours are in numerical format. I convert them to datetime"
   ]
  },
  {
   "cell_type": "code",
   "execution_count": 31,
   "metadata": {
    "colab": {
     "base_uri": "https://localhost:8080/"
    },
    "id": "3g7PwEX5okQ9",
    "outputId": "6661929c-f1d2-4ad3-84e9-8e61a50627be"
   },
   "outputs": [
    {
     "data": {
      "text/plain": [
       "TestResults(failed=0, attempted=11)"
      ]
     },
     "execution_count": 31,
     "metadata": {},
     "output_type": "execute_result"
    }
   ],
   "source": [
    "def time_transformation(time):\n",
    "  \"\"\"\n",
    "  >>> time_transformation(0)\n",
    "  datetime.time(0, 0)\n",
    "  >>> time_transformation(2400)\n",
    "  datetime.time(0, 0)\n",
    "  >>> time_transformation(2359)\n",
    "  datetime.time(23, 59)\n",
    "  >>> time_transformation(1200)\n",
    "  datetime.time(12, 0)\n",
    "  >>> time_transformation(0734.00)\n",
    "  datetime.time(7, 34)\n",
    "  >>> time_transformation(734.00)\n",
    "  datetime.time(7, 34)\n",
    "  >>> time_transformation(34.00)\n",
    "  datetime.time(0, 34)\n",
    "  >>> time_transformation(4.00)\n",
    "  datetime.time(0, 4)\n",
    "  \"\"\"\n",
    "  time_string = str(int(time))\n",
    "  time_string = time_string.split('.')[0]\n",
    "  time_string = time_string.zfill(4)\n",
    "  hours = int(time_string[0:2])\n",
    "  minutes = int(time_string[2:4])\n",
    "  if hours == 24:\n",
    "    hours = 0\n",
    "  hours_minutes = datetime.time(hours,minutes)\n",
    "  return hours_minutes\n",
    "  \n",
    "import doctest\n",
    "doctest.testmod()"
   ]
  },
  {
   "cell_type": "code",
   "execution_count": 32,
   "metadata": {
    "id": "DULDdQ4MqlEA"
   },
   "outputs": [
    {
     "data": {
      "text/plain": [
       "0          23:54:00\n",
       "1          00:02:00\n",
       "2          00:18:00\n",
       "3          00:15:00\n",
       "4          00:24:00\n",
       "             ...   \n",
       "5819074    23:55:00\n",
       "5819075    23:55:00\n",
       "5819076    23:50:00\n",
       "5819077    23:53:00\n",
       "5819078    00:14:00\n",
       "Name: DEP_TIME, Length: 5231130, dtype: object"
      ]
     },
     "execution_count": 32,
     "metadata": {},
     "output_type": "execute_result"
    }
   ],
   "source": [
    "Flights_Delays_Combined['DEP_TIME'] = Flights_Delays_Combined['DEPARTURE_TIME'].apply(time_transformation)\n",
    "Flights_Delays_Combined['DEP_TIME']"
   ]
  },
  {
   "cell_type": "code",
   "execution_count": 33,
   "metadata": {
    "id": "skEnerb7tolt"
   },
   "outputs": [],
   "source": [
    "Flights_Delays_Combined['SCH_ARR_TIME'] =Flights_Delays_Combined['SCHEDULED_ARRIVAL'].apply(time_transformation)\n",
    "Flights_Delays_Combined['SCH_DEP_TIME'] =Flights_Delays_Combined['SCHEDULED_DEPARTURE'].apply(time_transformation)\n",
    "Flights_Delays_Combined['ARR_TIME'] =Flights_Delays_Combined['ARRIVAL_TIME'].apply(time_transformation)\n",
    "Flights_Delays_Combined['WHEELS_OFF'] =Flights_Delays_Combined['WHEELS_OFF'].apply(time_transformation)\n",
    "Flights_Delays_Combined['WHEELS_ON'] =Flights_Delays_Combined['WHEELS_ON'].apply(time_transformation)"
   ]
  },
  {
   "cell_type": "code",
   "execution_count": 34,
   "metadata": {
    "colab": {
     "base_uri": "https://localhost:8080/",
     "height": 444
    },
    "id": "KcayhSmauXZa",
    "outputId": "b37a028b-91b5-4f50-d164-1eb617099a81"
   },
   "outputs": [],
   "source": [
    "#Flights_Delays_Combined_small=Flights_Delays_Combined[Flights_Delays_Combined['MONTH']==1]"
   ]
  },
  {
   "cell_type": "markdown",
   "metadata": {
    "id": "tTYT-ZaTuOpg"
   },
   "source": [
    "Combining columns with dates into a single Datetime column"
   ]
  },
  {
   "cell_type": "code",
   "execution_count": 35,
   "metadata": {
    "colab": {
     "base_uri": "https://localhost:8080/"
    },
    "id": "rcyB1fETuSyd",
    "outputId": "fc2cfad0-a46b-405b-aac1-847e57804704"
   },
   "outputs": [
    {
     "data": {
      "text/plain": [
       "0         2015-01-01\n",
       "1         2015-01-01\n",
       "2         2015-01-01\n",
       "3         2015-01-01\n",
       "4         2015-01-01\n",
       "             ...    \n",
       "5819074   2015-12-31\n",
       "5819075   2015-12-31\n",
       "5819076   2015-12-31\n",
       "5819077   2015-12-31\n",
       "5819078   2015-12-31\n",
       "Name: DATE, Length: 5231130, dtype: datetime64[ns]"
      ]
     },
     "execution_count": 35,
     "metadata": {},
     "output_type": "execute_result"
    }
   ],
   "source": [
    "Flights_Delays_Combined['DATE'] = pd.to_datetime(Flights_Delays_Combined[['YEAR','MONTH','DAY']])\n",
    "Flights_Delays_Combined['DATE']"
   ]
  },
  {
   "cell_type": "code",
   "execution_count": 36,
   "metadata": {
    "id": "DTijGuMdvgEA"
   },
   "outputs": [],
   "source": [
    "Flights_Delays_Combined['DayOfWeek'] = Flights_Delays_Combined['DATE'].apply(date.weekday)\n",
    "Flights_Delays_Combined = Flights_Delays_Combined.drop(['YEAR','MONTH','DAY','DAY_OF_WEEK'], axis=1)"
   ]
  },
  {
   "cell_type": "markdown",
   "metadata": {
    "id": "0RULhUiY1SIE"
   },
   "source": [
    " Categorical variables such as AIRLINE, PLANE, DEP_ARP, ARR_ARP should also take into account"
   ]
  },
  {
   "cell_type": "code",
   "execution_count": 37,
   "metadata": {},
   "outputs": [
    {
     "data": {
      "text/html": [
       "<div>\n",
       "<style scoped>\n",
       "    .dataframe tbody tr th:only-of-type {\n",
       "        vertical-align: middle;\n",
       "    }\n",
       "\n",
       "    .dataframe tbody tr th {\n",
       "        vertical-align: top;\n",
       "    }\n",
       "\n",
       "    .dataframe thead th {\n",
       "        text-align: right;\n",
       "    }\n",
       "</style>\n",
       "<table border=\"1\" class=\"dataframe\">\n",
       "  <thead>\n",
       "    <tr style=\"text-align: right;\">\n",
       "      <th></th>\n",
       "      <th>AIRLINE</th>\n",
       "      <th>FLIGHT_NUMBER</th>\n",
       "      <th>TAIL_NUMBER</th>\n",
       "      <th>SCHEDULED_DEPARTURE</th>\n",
       "      <th>DEPARTURE_TIME</th>\n",
       "      <th>DEPARTURE_DELAY</th>\n",
       "      <th>TAXI_OUT</th>\n",
       "      <th>WHEELS_OFF</th>\n",
       "      <th>SCHEDULED_TIME</th>\n",
       "      <th>ELAPSED_TIME</th>\n",
       "      <th>...</th>\n",
       "      <th>ARRIVAL_TIME</th>\n",
       "      <th>ARRIVAL_DELAY</th>\n",
       "      <th>ORIGIN_AIRPORT_transformed</th>\n",
       "      <th>DESTINATION_AIRPORT_transformed</th>\n",
       "      <th>DEP_TIME</th>\n",
       "      <th>SCH_ARR_TIME</th>\n",
       "      <th>SCH_DEP_TIME</th>\n",
       "      <th>ARR_TIME</th>\n",
       "      <th>DATE</th>\n",
       "      <th>DayOfWeek</th>\n",
       "    </tr>\n",
       "  </thead>\n",
       "  <tbody>\n",
       "    <tr>\n",
       "      <th>0</th>\n",
       "      <td>AS</td>\n",
       "      <td>98</td>\n",
       "      <td>N407AS</td>\n",
       "      <td>5</td>\n",
       "      <td>2354.0</td>\n",
       "      <td>-11.0</td>\n",
       "      <td>21.0</td>\n",
       "      <td>00:15:00</td>\n",
       "      <td>205.0</td>\n",
       "      <td>194.0</td>\n",
       "      <td>...</td>\n",
       "      <td>408.0</td>\n",
       "      <td>-22.0</td>\n",
       "      <td>ANC</td>\n",
       "      <td>SEA</td>\n",
       "      <td>23:54:00</td>\n",
       "      <td>04:30:00</td>\n",
       "      <td>00:05:00</td>\n",
       "      <td>04:08:00</td>\n",
       "      <td>2015-01-01</td>\n",
       "      <td>3</td>\n",
       "    </tr>\n",
       "    <tr>\n",
       "      <th>1</th>\n",
       "      <td>AA</td>\n",
       "      <td>2336</td>\n",
       "      <td>N3KUAA</td>\n",
       "      <td>10</td>\n",
       "      <td>2.0</td>\n",
       "      <td>-8.0</td>\n",
       "      <td>12.0</td>\n",
       "      <td>00:14:00</td>\n",
       "      <td>280.0</td>\n",
       "      <td>279.0</td>\n",
       "      <td>...</td>\n",
       "      <td>741.0</td>\n",
       "      <td>-9.0</td>\n",
       "      <td>LAX</td>\n",
       "      <td>PBI</td>\n",
       "      <td>00:02:00</td>\n",
       "      <td>07:50:00</td>\n",
       "      <td>00:10:00</td>\n",
       "      <td>07:41:00</td>\n",
       "      <td>2015-01-01</td>\n",
       "      <td>3</td>\n",
       "    </tr>\n",
       "    <tr>\n",
       "      <th>2</th>\n",
       "      <td>US</td>\n",
       "      <td>840</td>\n",
       "      <td>N171US</td>\n",
       "      <td>20</td>\n",
       "      <td>18.0</td>\n",
       "      <td>-2.0</td>\n",
       "      <td>16.0</td>\n",
       "      <td>00:34:00</td>\n",
       "      <td>286.0</td>\n",
       "      <td>293.0</td>\n",
       "      <td>...</td>\n",
       "      <td>811.0</td>\n",
       "      <td>5.0</td>\n",
       "      <td>SFO</td>\n",
       "      <td>CLT</td>\n",
       "      <td>00:18:00</td>\n",
       "      <td>08:06:00</td>\n",
       "      <td>00:20:00</td>\n",
       "      <td>08:11:00</td>\n",
       "      <td>2015-01-01</td>\n",
       "      <td>3</td>\n",
       "    </tr>\n",
       "    <tr>\n",
       "      <th>3</th>\n",
       "      <td>AA</td>\n",
       "      <td>258</td>\n",
       "      <td>N3HYAA</td>\n",
       "      <td>20</td>\n",
       "      <td>15.0</td>\n",
       "      <td>-5.0</td>\n",
       "      <td>15.0</td>\n",
       "      <td>00:30:00</td>\n",
       "      <td>285.0</td>\n",
       "      <td>281.0</td>\n",
       "      <td>...</td>\n",
       "      <td>756.0</td>\n",
       "      <td>-9.0</td>\n",
       "      <td>LAX</td>\n",
       "      <td>MIA</td>\n",
       "      <td>00:15:00</td>\n",
       "      <td>08:05:00</td>\n",
       "      <td>00:20:00</td>\n",
       "      <td>07:56:00</td>\n",
       "      <td>2015-01-01</td>\n",
       "      <td>3</td>\n",
       "    </tr>\n",
       "    <tr>\n",
       "      <th>4</th>\n",
       "      <td>AS</td>\n",
       "      <td>135</td>\n",
       "      <td>N527AS</td>\n",
       "      <td>25</td>\n",
       "      <td>24.0</td>\n",
       "      <td>-1.0</td>\n",
       "      <td>11.0</td>\n",
       "      <td>00:35:00</td>\n",
       "      <td>235.0</td>\n",
       "      <td>215.0</td>\n",
       "      <td>...</td>\n",
       "      <td>259.0</td>\n",
       "      <td>-21.0</td>\n",
       "      <td>SEA</td>\n",
       "      <td>ANC</td>\n",
       "      <td>00:24:00</td>\n",
       "      <td>03:20:00</td>\n",
       "      <td>00:25:00</td>\n",
       "      <td>02:59:00</td>\n",
       "      <td>2015-01-01</td>\n",
       "      <td>3</td>\n",
       "    </tr>\n",
       "  </tbody>\n",
       "</table>\n",
       "<p>5 rows × 25 columns</p>\n",
       "</div>"
      ],
      "text/plain": [
       "  AIRLINE  FLIGHT_NUMBER TAIL_NUMBER  SCHEDULED_DEPARTURE  DEPARTURE_TIME  \\\n",
       "0      AS             98      N407AS                    5          2354.0   \n",
       "1      AA           2336      N3KUAA                   10             2.0   \n",
       "2      US            840      N171US                   20            18.0   \n",
       "3      AA            258      N3HYAA                   20            15.0   \n",
       "4      AS            135      N527AS                   25            24.0   \n",
       "\n",
       "   DEPARTURE_DELAY  TAXI_OUT WHEELS_OFF  SCHEDULED_TIME  ELAPSED_TIME  ...  \\\n",
       "0            -11.0      21.0   00:15:00           205.0         194.0  ...   \n",
       "1             -8.0      12.0   00:14:00           280.0         279.0  ...   \n",
       "2             -2.0      16.0   00:34:00           286.0         293.0  ...   \n",
       "3             -5.0      15.0   00:30:00           285.0         281.0  ...   \n",
       "4             -1.0      11.0   00:35:00           235.0         215.0  ...   \n",
       "\n",
       "   ARRIVAL_TIME  ARRIVAL_DELAY ORIGIN_AIRPORT_transformed  \\\n",
       "0         408.0          -22.0                        ANC   \n",
       "1         741.0           -9.0                        LAX   \n",
       "2         811.0            5.0                        SFO   \n",
       "3         756.0           -9.0                        LAX   \n",
       "4         259.0          -21.0                        SEA   \n",
       "\n",
       "   DESTINATION_AIRPORT_transformed  DEP_TIME  SCH_ARR_TIME  SCH_DEP_TIME  \\\n",
       "0                              SEA  23:54:00      04:30:00      00:05:00   \n",
       "1                              PBI  00:02:00      07:50:00      00:10:00   \n",
       "2                              CLT  00:18:00      08:06:00      00:20:00   \n",
       "3                              MIA  00:15:00      08:05:00      00:20:00   \n",
       "4                              ANC  00:24:00      03:20:00      00:25:00   \n",
       "\n",
       "   ARR_TIME       DATE DayOfWeek  \n",
       "0  04:08:00 2015-01-01         3  \n",
       "1  07:41:00 2015-01-01         3  \n",
       "2  08:11:00 2015-01-01         3  \n",
       "3  07:56:00 2015-01-01         3  \n",
       "4  02:59:00 2015-01-01         3  \n",
       "\n",
       "[5 rows x 25 columns]"
      ]
     },
     "execution_count": 37,
     "metadata": {},
     "output_type": "execute_result"
    }
   ],
   "source": [
    "Flights_Delays_Combined.head()"
   ]
  },
  {
   "cell_type": "markdown",
   "metadata": {},
   "source": [
    "### Holidays"
   ]
  },
  {
   "cell_type": "markdown",
   "metadata": {},
   "source": [
    "To get list of holidays I scrapped website www.officeholidays.com which contains dates of official holidays in USA."
   ]
  },
  {
   "cell_type": "code",
   "execution_count": 38,
   "metadata": {},
   "outputs": [],
   "source": [
    "import requests\n",
    "from bs4 import BeautifulSoup\n",
    "from datetime import datetime\n",
    "holidays_dates = list()\n",
    "URL = 'https://www.officeholidays.com/countries/usa/2015'\n",
    "response = requests.get(URL, timeout=20)\n",
    "soup = BeautifulSoup(response.text)\n",
    "for a in soup.find_all('time')[2:]:\n",
    "    holidays_dates.append(datetime.strptime(a.attrs.get(\"datetime\"),'%Y-%m-%d').date())"
   ]
  },
  {
   "cell_type": "code",
   "execution_count": 39,
   "metadata": {},
   "outputs": [
    {
     "data": {
      "text/plain": [
       "[datetime.date(2015, 2, 16),\n",
       " datetime.date(2015, 5, 10),\n",
       " datetime.date(2015, 5, 25),\n",
       " datetime.date(2015, 6, 21),\n",
       " datetime.date(2015, 7, 4),\n",
       " datetime.date(2015, 9, 7),\n",
       " datetime.date(2015, 10, 12),\n",
       " datetime.date(2015, 10, 12),\n",
       " datetime.date(2015, 10, 12),\n",
       " datetime.date(2015, 11, 26),\n",
       " datetime.date(2015, 12, 25)]"
      ]
     },
     "execution_count": 39,
     "metadata": {},
     "output_type": "execute_result"
    }
   ],
   "source": [
    "holidays_dates"
   ]
  },
  {
   "cell_type": "code",
   "execution_count": 40,
   "metadata": {},
   "outputs": [],
   "source": [
    "Flights_Delays_Combined['Holidays'] = np.where(Flights_Delays_Combined['DATE'].isin(holidays_dates), 1, 0)"
   ]
  },
  {
   "cell_type": "code",
   "execution_count": 41,
   "metadata": {},
   "outputs": [
    {
     "data": {
      "text/html": [
       "<div>\n",
       "<style scoped>\n",
       "    .dataframe tbody tr th:only-of-type {\n",
       "        vertical-align: middle;\n",
       "    }\n",
       "\n",
       "    .dataframe tbody tr th {\n",
       "        vertical-align: top;\n",
       "    }\n",
       "\n",
       "    .dataframe thead th {\n",
       "        text-align: right;\n",
       "    }\n",
       "</style>\n",
       "<table border=\"1\" class=\"dataframe\">\n",
       "  <thead>\n",
       "    <tr style=\"text-align: right;\">\n",
       "      <th></th>\n",
       "      <th>AIRLINE</th>\n",
       "      <th>FLIGHT_NUMBER</th>\n",
       "      <th>TAIL_NUMBER</th>\n",
       "      <th>SCHEDULED_DEPARTURE</th>\n",
       "      <th>DEPARTURE_TIME</th>\n",
       "      <th>DEPARTURE_DELAY</th>\n",
       "      <th>TAXI_OUT</th>\n",
       "      <th>WHEELS_OFF</th>\n",
       "      <th>SCHEDULED_TIME</th>\n",
       "      <th>ELAPSED_TIME</th>\n",
       "      <th>...</th>\n",
       "      <th>ARRIVAL_DELAY</th>\n",
       "      <th>ORIGIN_AIRPORT_transformed</th>\n",
       "      <th>DESTINATION_AIRPORT_transformed</th>\n",
       "      <th>DEP_TIME</th>\n",
       "      <th>SCH_ARR_TIME</th>\n",
       "      <th>SCH_DEP_TIME</th>\n",
       "      <th>ARR_TIME</th>\n",
       "      <th>DATE</th>\n",
       "      <th>DayOfWeek</th>\n",
       "      <th>Holidays</th>\n",
       "    </tr>\n",
       "  </thead>\n",
       "  <tbody>\n",
       "    <tr>\n",
       "      <th>695436</th>\n",
       "      <td>AA</td>\n",
       "      <td>2400</td>\n",
       "      <td>N5ESAA</td>\n",
       "      <td>5</td>\n",
       "      <td>3.0</td>\n",
       "      <td>-2.0</td>\n",
       "      <td>13.0</td>\n",
       "      <td>00:16:00</td>\n",
       "      <td>168.0</td>\n",
       "      <td>166.0</td>\n",
       "      <td>...</td>\n",
       "      <td>-4.0</td>\n",
       "      <td>LAX</td>\n",
       "      <td>DFW</td>\n",
       "      <td>00:03:00</td>\n",
       "      <td>04:53:00</td>\n",
       "      <td>00:05:00</td>\n",
       "      <td>04:49:00</td>\n",
       "      <td>2015-02-16</td>\n",
       "      <td>0</td>\n",
       "      <td>1</td>\n",
       "    </tr>\n",
       "    <tr>\n",
       "      <th>695437</th>\n",
       "      <td>DL</td>\n",
       "      <td>1745</td>\n",
       "      <td>N365NW</td>\n",
       "      <td>5</td>\n",
       "      <td>2359.0</td>\n",
       "      <td>-6.0</td>\n",
       "      <td>9.0</td>\n",
       "      <td>00:08:00</td>\n",
       "      <td>204.0</td>\n",
       "      <td>195.0</td>\n",
       "      <td>...</td>\n",
       "      <td>-15.0</td>\n",
       "      <td>SMF</td>\n",
       "      <td>MSP</td>\n",
       "      <td>23:59:00</td>\n",
       "      <td>05:29:00</td>\n",
       "      <td>00:05:00</td>\n",
       "      <td>05:14:00</td>\n",
       "      <td>2015-02-16</td>\n",
       "      <td>0</td>\n",
       "      <td>1</td>\n",
       "    </tr>\n",
       "    <tr>\n",
       "      <th>695438</th>\n",
       "      <td>DL</td>\n",
       "      <td>2579</td>\n",
       "      <td>N693DL</td>\n",
       "      <td>15</td>\n",
       "      <td>20.0</td>\n",
       "      <td>5.0</td>\n",
       "      <td>49.0</td>\n",
       "      <td>01:09:00</td>\n",
       "      <td>176.0</td>\n",
       "      <td>195.0</td>\n",
       "      <td>...</td>\n",
       "      <td>24.0</td>\n",
       "      <td>DEN</td>\n",
       "      <td>ATL</td>\n",
       "      <td>00:20:00</td>\n",
       "      <td>05:11:00</td>\n",
       "      <td>00:15:00</td>\n",
       "      <td>05:35:00</td>\n",
       "      <td>2015-02-16</td>\n",
       "      <td>0</td>\n",
       "      <td>1</td>\n",
       "    </tr>\n",
       "    <tr>\n",
       "      <th>695439</th>\n",
       "      <td>US</td>\n",
       "      <td>2020</td>\n",
       "      <td>N917US</td>\n",
       "      <td>15</td>\n",
       "      <td>13.0</td>\n",
       "      <td>-2.0</td>\n",
       "      <td>12.0</td>\n",
       "      <td>00:25:00</td>\n",
       "      <td>225.0</td>\n",
       "      <td>208.0</td>\n",
       "      <td>...</td>\n",
       "      <td>-19.0</td>\n",
       "      <td>PHX</td>\n",
       "      <td>CLT</td>\n",
       "      <td>00:13:00</td>\n",
       "      <td>06:00:00</td>\n",
       "      <td>00:15:00</td>\n",
       "      <td>05:41:00</td>\n",
       "      <td>2015-02-16</td>\n",
       "      <td>0</td>\n",
       "      <td>1</td>\n",
       "    </tr>\n",
       "    <tr>\n",
       "      <th>695440</th>\n",
       "      <td>AA</td>\n",
       "      <td>258</td>\n",
       "      <td>N3DEAA</td>\n",
       "      <td>20</td>\n",
       "      <td>20.0</td>\n",
       "      <td>0.0</td>\n",
       "      <td>16.0</td>\n",
       "      <td>00:36:00</td>\n",
       "      <td>284.0</td>\n",
       "      <td>278.0</td>\n",
       "      <td>...</td>\n",
       "      <td>-6.0</td>\n",
       "      <td>LAX</td>\n",
       "      <td>MIA</td>\n",
       "      <td>00:20:00</td>\n",
       "      <td>08:04:00</td>\n",
       "      <td>00:20:00</td>\n",
       "      <td>07:58:00</td>\n",
       "      <td>2015-02-16</td>\n",
       "      <td>0</td>\n",
       "      <td>1</td>\n",
       "    </tr>\n",
       "    <tr>\n",
       "      <th>...</th>\n",
       "      <td>...</td>\n",
       "      <td>...</td>\n",
       "      <td>...</td>\n",
       "      <td>...</td>\n",
       "      <td>...</td>\n",
       "      <td>...</td>\n",
       "      <td>...</td>\n",
       "      <td>...</td>\n",
       "      <td>...</td>\n",
       "      <td>...</td>\n",
       "      <td>...</td>\n",
       "      <td>...</td>\n",
       "      <td>...</td>\n",
       "      <td>...</td>\n",
       "      <td>...</td>\n",
       "      <td>...</td>\n",
       "      <td>...</td>\n",
       "      <td>...</td>\n",
       "      <td>...</td>\n",
       "      <td>...</td>\n",
       "      <td>...</td>\n",
       "    </tr>\n",
       "    <tr>\n",
       "      <th>5725388</th>\n",
       "      <td>B6</td>\n",
       "      <td>333</td>\n",
       "      <td>N703JB</td>\n",
       "      <td>2359</td>\n",
       "      <td>12.0</td>\n",
       "      <td>13.0</td>\n",
       "      <td>13.0</td>\n",
       "      <td>00:25:00</td>\n",
       "      <td>161.0</td>\n",
       "      <td>166.0</td>\n",
       "      <td>...</td>\n",
       "      <td>18.0</td>\n",
       "      <td>MCO</td>\n",
       "      <td>SJU</td>\n",
       "      <td>00:12:00</td>\n",
       "      <td>03:40:00</td>\n",
       "      <td>23:59:00</td>\n",
       "      <td>03:58:00</td>\n",
       "      <td>2015-12-25</td>\n",
       "      <td>4</td>\n",
       "      <td>1</td>\n",
       "    </tr>\n",
       "    <tr>\n",
       "      <th>5725389</th>\n",
       "      <td>B6</td>\n",
       "      <td>839</td>\n",
       "      <td>N712JB</td>\n",
       "      <td>2359</td>\n",
       "      <td>2356.0</td>\n",
       "      <td>-3.0</td>\n",
       "      <td>13.0</td>\n",
       "      <td>00:09:00</td>\n",
       "      <td>221.0</td>\n",
       "      <td>209.0</td>\n",
       "      <td>...</td>\n",
       "      <td>-15.0</td>\n",
       "      <td>JFK</td>\n",
       "      <td>BQN</td>\n",
       "      <td>23:56:00</td>\n",
       "      <td>04:40:00</td>\n",
       "      <td>23:59:00</td>\n",
       "      <td>04:25:00</td>\n",
       "      <td>2015-12-25</td>\n",
       "      <td>4</td>\n",
       "      <td>1</td>\n",
       "    </tr>\n",
       "    <tr>\n",
       "      <th>5725390</th>\n",
       "      <td>B6</td>\n",
       "      <td>1503</td>\n",
       "      <td>N905JB</td>\n",
       "      <td>2359</td>\n",
       "      <td>2359.0</td>\n",
       "      <td>0.0</td>\n",
       "      <td>16.0</td>\n",
       "      <td>00:15:00</td>\n",
       "      <td>221.0</td>\n",
       "      <td>215.0</td>\n",
       "      <td>...</td>\n",
       "      <td>-6.0</td>\n",
       "      <td>JFK</td>\n",
       "      <td>SJU</td>\n",
       "      <td>23:59:00</td>\n",
       "      <td>04:40:00</td>\n",
       "      <td>23:59:00</td>\n",
       "      <td>04:34:00</td>\n",
       "      <td>2015-12-25</td>\n",
       "      <td>4</td>\n",
       "      <td>1</td>\n",
       "    </tr>\n",
       "    <tr>\n",
       "      <th>5725391</th>\n",
       "      <td>B6</td>\n",
       "      <td>1248</td>\n",
       "      <td>N907JB</td>\n",
       "      <td>2359</td>\n",
       "      <td>19.0</td>\n",
       "      <td>20.0</td>\n",
       "      <td>18.0</td>\n",
       "      <td>00:37:00</td>\n",
       "      <td>282.0</td>\n",
       "      <td>263.0</td>\n",
       "      <td>...</td>\n",
       "      <td>1.0</td>\n",
       "      <td>LAS</td>\n",
       "      <td>JFK</td>\n",
       "      <td>00:19:00</td>\n",
       "      <td>07:41:00</td>\n",
       "      <td>23:59:00</td>\n",
       "      <td>07:42:00</td>\n",
       "      <td>2015-12-25</td>\n",
       "      <td>4</td>\n",
       "      <td>1</td>\n",
       "    </tr>\n",
       "    <tr>\n",
       "      <th>5725392</th>\n",
       "      <td>B6</td>\n",
       "      <td>2392</td>\n",
       "      <td>N178JB</td>\n",
       "      <td>2359</td>\n",
       "      <td>2344.0</td>\n",
       "      <td>-15.0</td>\n",
       "      <td>11.0</td>\n",
       "      <td>23:55:00</td>\n",
       "      <td>165.0</td>\n",
       "      <td>153.0</td>\n",
       "      <td>...</td>\n",
       "      <td>-27.0</td>\n",
       "      <td>TPA</td>\n",
       "      <td>BOS</td>\n",
       "      <td>23:44:00</td>\n",
       "      <td>02:44:00</td>\n",
       "      <td>23:59:00</td>\n",
       "      <td>02:17:00</td>\n",
       "      <td>2015-12-25</td>\n",
       "      <td>4</td>\n",
       "      <td>1</td>\n",
       "    </tr>\n",
       "  </tbody>\n",
       "</table>\n",
       "<p>112345 rows × 26 columns</p>\n",
       "</div>"
      ],
      "text/plain": [
       "        AIRLINE  FLIGHT_NUMBER TAIL_NUMBER  SCHEDULED_DEPARTURE  \\\n",
       "695436       AA           2400      N5ESAA                    5   \n",
       "695437       DL           1745      N365NW                    5   \n",
       "695438       DL           2579      N693DL                   15   \n",
       "695439       US           2020      N917US                   15   \n",
       "695440       AA            258      N3DEAA                   20   \n",
       "...         ...            ...         ...                  ...   \n",
       "5725388      B6            333      N703JB                 2359   \n",
       "5725389      B6            839      N712JB                 2359   \n",
       "5725390      B6           1503      N905JB                 2359   \n",
       "5725391      B6           1248      N907JB                 2359   \n",
       "5725392      B6           2392      N178JB                 2359   \n",
       "\n",
       "         DEPARTURE_TIME  DEPARTURE_DELAY  TAXI_OUT WHEELS_OFF  SCHEDULED_TIME  \\\n",
       "695436              3.0             -2.0      13.0   00:16:00           168.0   \n",
       "695437           2359.0             -6.0       9.0   00:08:00           204.0   \n",
       "695438             20.0              5.0      49.0   01:09:00           176.0   \n",
       "695439             13.0             -2.0      12.0   00:25:00           225.0   \n",
       "695440             20.0              0.0      16.0   00:36:00           284.0   \n",
       "...                 ...              ...       ...        ...             ...   \n",
       "5725388            12.0             13.0      13.0   00:25:00           161.0   \n",
       "5725389          2356.0             -3.0      13.0   00:09:00           221.0   \n",
       "5725390          2359.0              0.0      16.0   00:15:00           221.0   \n",
       "5725391            19.0             20.0      18.0   00:37:00           282.0   \n",
       "5725392          2344.0            -15.0      11.0   23:55:00           165.0   \n",
       "\n",
       "         ELAPSED_TIME  ...  ARRIVAL_DELAY  ORIGIN_AIRPORT_transformed  \\\n",
       "695436          166.0  ...           -4.0                         LAX   \n",
       "695437          195.0  ...          -15.0                         SMF   \n",
       "695438          195.0  ...           24.0                         DEN   \n",
       "695439          208.0  ...          -19.0                         PHX   \n",
       "695440          278.0  ...           -6.0                         LAX   \n",
       "...               ...  ...            ...                         ...   \n",
       "5725388         166.0  ...           18.0                         MCO   \n",
       "5725389         209.0  ...          -15.0                         JFK   \n",
       "5725390         215.0  ...           -6.0                         JFK   \n",
       "5725391         263.0  ...            1.0                         LAS   \n",
       "5725392         153.0  ...          -27.0                         TPA   \n",
       "\n",
       "        DESTINATION_AIRPORT_transformed  DEP_TIME  SCH_ARR_TIME  SCH_DEP_TIME  \\\n",
       "695436                              DFW  00:03:00      04:53:00      00:05:00   \n",
       "695437                              MSP  23:59:00      05:29:00      00:05:00   \n",
       "695438                              ATL  00:20:00      05:11:00      00:15:00   \n",
       "695439                              CLT  00:13:00      06:00:00      00:15:00   \n",
       "695440                              MIA  00:20:00      08:04:00      00:20:00   \n",
       "...                                 ...       ...           ...           ...   \n",
       "5725388                             SJU  00:12:00      03:40:00      23:59:00   \n",
       "5725389                             BQN  23:56:00      04:40:00      23:59:00   \n",
       "5725390                             SJU  23:59:00      04:40:00      23:59:00   \n",
       "5725391                             JFK  00:19:00      07:41:00      23:59:00   \n",
       "5725392                             BOS  23:44:00      02:44:00      23:59:00   \n",
       "\n",
       "         ARR_TIME       DATE DayOfWeek Holidays  \n",
       "695436   04:49:00 2015-02-16         0        1  \n",
       "695437   05:14:00 2015-02-16         0        1  \n",
       "695438   05:35:00 2015-02-16         0        1  \n",
       "695439   05:41:00 2015-02-16         0        1  \n",
       "695440   07:58:00 2015-02-16         0        1  \n",
       "...           ...        ...       ...      ...  \n",
       "5725388  03:58:00 2015-12-25         4        1  \n",
       "5725389  04:25:00 2015-12-25         4        1  \n",
       "5725390  04:34:00 2015-12-25         4        1  \n",
       "5725391  07:42:00 2015-12-25         4        1  \n",
       "5725392  02:17:00 2015-12-25         4        1  \n",
       "\n",
       "[112345 rows x 26 columns]"
      ]
     },
     "execution_count": 41,
     "metadata": {},
     "output_type": "execute_result"
    }
   ],
   "source": [
    "Flights_Delays_Combined[Flights_Delays_Combined['Holidays']==1]"
   ]
  },
  {
   "cell_type": "code",
   "execution_count": 43,
   "metadata": {},
   "outputs": [
    {
     "data": {
      "text/plain": [
       "AIRLINE                            0\n",
       "FLIGHT_NUMBER                      0\n",
       "TAIL_NUMBER                        0\n",
       "SCHEDULED_DEPARTURE                0\n",
       "DEPARTURE_TIME                     0\n",
       "DEPARTURE_DELAY                    0\n",
       "TAXI_OUT                           0\n",
       "WHEELS_OFF                         0\n",
       "SCHEDULED_TIME                     0\n",
       "ELAPSED_TIME                       0\n",
       "AIR_TIME                           0\n",
       "DISTANCE                           0\n",
       "WHEELS_ON                          0\n",
       "TAXI_IN                            0\n",
       "SCHEDULED_ARRIVAL                  0\n",
       "ARRIVAL_TIME                       0\n",
       "ARRIVAL_DELAY                      0\n",
       "ORIGIN_AIRPORT_transformed         0\n",
       "DESTINATION_AIRPORT_transformed    0\n",
       "DEP_TIME                           0\n",
       "SCH_ARR_TIME                       0\n",
       "SCH_DEP_TIME                       0\n",
       "ARR_TIME                           0\n",
       "DATE                               0\n",
       "DayOfWeek                          0\n",
       "Holidays                           0\n",
       "dtype: int64"
      ]
     },
     "execution_count": 43,
     "metadata": {},
     "output_type": "execute_result"
    }
   ],
   "source": [
    "Flights_Delays_Combined.isnull().sum()"
   ]
  },
  {
   "cell_type": "markdown",
   "metadata": {},
   "source": [
    "## Correlation between numeric variables"
   ]
  },
  {
   "cell_type": "code",
   "execution_count": 44,
   "metadata": {},
   "outputs": [],
   "source": [
    "del_corr = Flights_Delays_Combined.corr()"
   ]
  },
  {
   "cell_type": "code",
   "execution_count": 45,
   "metadata": {},
   "outputs": [
    {
     "data": {
      "text/plain": [
       "<matplotlib.axes._subplots.AxesSubplot at 0x1c8802bec70>"
      ]
     },
     "execution_count": 45,
     "metadata": {},
     "output_type": "execute_result"
    },
    {
     "data": {
      "image/png": "[encoded data removed]",
      "text/plain": [
       "<Figure size 1080x648 with 2 Axes>"
      ]
     },
     "metadata": {
      "needs_background": "light"
     },
     "output_type": "display_data"
    }
   ],
   "source": [
    "del_corr = Flights_Delays_Combined.corr()\n",
    "f, ax = plt.subplots(figsize=(15, 9))\n",
    "sns.heatmap(del_corr,annot=True,cmap='inferno')"
   ]
  },
  {
   "cell_type": "markdown",
   "metadata": {},
   "source": [
    "Correlation matrix shows, that Holidays have no significat numeric correlation between other variables."
   ]
  },
  {
   "cell_type": "markdown",
   "metadata": {},
   "source": [
    "Strongest correlation between ARRIVAL DELAY have:\n",
    "- SCHEDULED_DEPARTURE\n",
    "- DEPARTURE_TIME\n",
    "- DEPARTURE_DELAY\n",
    "- TAXI_OUT\n",
    "- WHEELS_OFF\n",
    "- TAXI_IN"
   ]
  },
  {
   "cell_type": "markdown",
   "metadata": {},
   "source": [
    "Because DEPARTURE_TIME','SCHEDULED_ARRIVAL', 'SCHEDULED_DEPARTURE', 'ARRIVAL_TIME' have been replaced by datetime represetive (DEP_TIME, 'SCH_ARR_TIME', 'SCH_DEP_TIME', 'ARR_TIME') it need to be dropped."
   ]
  },
  {
   "cell_type": "code",
   "execution_count": 46,
   "metadata": {
    "id": "CZZhFXtdAyxK"
   },
   "outputs": [],
   "source": [
    "Flights_Delays_Combined = Flights_Delays_Combined.drop(['DEPARTURE_TIME','SCHEDULED_ARRIVAL', 'SCHEDULED_DEPARTURE', 'ARRIVAL_TIME'], axis=1)"
   ]
  },
  {
   "cell_type": "markdown",
   "metadata": {},
   "source": [
    "# Transforming delays to binary values"
   ]
  },
  {
   "cell_type": "markdown",
   "metadata": {},
   "source": [
    "I convert delay values to a binary value. The threshold I choose for the delay, according to FAA regulations, is 15 minutes"
   ]
  },
  {
   "cell_type": "code",
   "execution_count": 47,
   "metadata": {
    "id": "PbharWa7-mDI"
   },
   "outputs": [],
   "source": [
    "DELAY_TRESHOLD = 15"
   ]
  },
  {
   "cell_type": "code",
   "execution_count": 48,
   "metadata": {
    "colab": {
     "base_uri": "https://localhost:8080/",
     "height": 226
    },
    "id": "8nyti8Ve2HYX",
    "outputId": "391adbb1-8e96-4bd3-c523-84adc809559a"
   },
   "outputs": [
    {
     "data": {
      "text/html": [
       "<div>\n",
       "<style scoped>\n",
       "    .dataframe tbody tr th:only-of-type {\n",
       "        vertical-align: middle;\n",
       "    }\n",
       "\n",
       "    .dataframe tbody tr th {\n",
       "        vertical-align: top;\n",
       "    }\n",
       "\n",
       "    .dataframe thead th {\n",
       "        text-align: right;\n",
       "    }\n",
       "</style>\n",
       "<table border=\"1\" class=\"dataframe\">\n",
       "  <thead>\n",
       "    <tr style=\"text-align: right;\">\n",
       "      <th></th>\n",
       "      <th>AIRLINE</th>\n",
       "      <th>FLIGHT_NUMBER</th>\n",
       "      <th>TAIL_NUMBER</th>\n",
       "      <th>DEPARTURE_DELAY</th>\n",
       "      <th>TAXI_OUT</th>\n",
       "      <th>WHEELS_OFF</th>\n",
       "      <th>SCHEDULED_TIME</th>\n",
       "      <th>ELAPSED_TIME</th>\n",
       "      <th>AIR_TIME</th>\n",
       "      <th>DISTANCE</th>\n",
       "      <th>...</th>\n",
       "      <th>ARRIVAL_DELAY</th>\n",
       "      <th>ORIGIN_AIRPORT_transformed</th>\n",
       "      <th>DESTINATION_AIRPORT_transformed</th>\n",
       "      <th>DEP_TIME</th>\n",
       "      <th>SCH_ARR_TIME</th>\n",
       "      <th>SCH_DEP_TIME</th>\n",
       "      <th>ARR_TIME</th>\n",
       "      <th>DATE</th>\n",
       "      <th>DayOfWeek</th>\n",
       "      <th>Holidays</th>\n",
       "    </tr>\n",
       "  </thead>\n",
       "  <tbody>\n",
       "    <tr>\n",
       "      <th>0</th>\n",
       "      <td>AS</td>\n",
       "      <td>98</td>\n",
       "      <td>N407AS</td>\n",
       "      <td>-11.0</td>\n",
       "      <td>21.0</td>\n",
       "      <td>00:15:00</td>\n",
       "      <td>205.0</td>\n",
       "      <td>194.0</td>\n",
       "      <td>169.0</td>\n",
       "      <td>1448</td>\n",
       "      <td>...</td>\n",
       "      <td>-22.0</td>\n",
       "      <td>ANC</td>\n",
       "      <td>SEA</td>\n",
       "      <td>23:54:00</td>\n",
       "      <td>04:30:00</td>\n",
       "      <td>00:05:00</td>\n",
       "      <td>04:08:00</td>\n",
       "      <td>2015-01-01</td>\n",
       "      <td>3</td>\n",
       "      <td>0</td>\n",
       "    </tr>\n",
       "    <tr>\n",
       "      <th>1</th>\n",
       "      <td>AA</td>\n",
       "      <td>2336</td>\n",
       "      <td>N3KUAA</td>\n",
       "      <td>-8.0</td>\n",
       "      <td>12.0</td>\n",
       "      <td>00:14:00</td>\n",
       "      <td>280.0</td>\n",
       "      <td>279.0</td>\n",
       "      <td>263.0</td>\n",
       "      <td>2330</td>\n",
       "      <td>...</td>\n",
       "      <td>-9.0</td>\n",
       "      <td>LAX</td>\n",
       "      <td>PBI</td>\n",
       "      <td>00:02:00</td>\n",
       "      <td>07:50:00</td>\n",
       "      <td>00:10:00</td>\n",
       "      <td>07:41:00</td>\n",
       "      <td>2015-01-01</td>\n",
       "      <td>3</td>\n",
       "      <td>0</td>\n",
       "    </tr>\n",
       "    <tr>\n",
       "      <th>2</th>\n",
       "      <td>US</td>\n",
       "      <td>840</td>\n",
       "      <td>N171US</td>\n",
       "      <td>-2.0</td>\n",
       "      <td>16.0</td>\n",
       "      <td>00:34:00</td>\n",
       "      <td>286.0</td>\n",
       "      <td>293.0</td>\n",
       "      <td>266.0</td>\n",
       "      <td>2296</td>\n",
       "      <td>...</td>\n",
       "      <td>5.0</td>\n",
       "      <td>SFO</td>\n",
       "      <td>CLT</td>\n",
       "      <td>00:18:00</td>\n",
       "      <td>08:06:00</td>\n",
       "      <td>00:20:00</td>\n",
       "      <td>08:11:00</td>\n",
       "      <td>2015-01-01</td>\n",
       "      <td>3</td>\n",
       "      <td>0</td>\n",
       "    </tr>\n",
       "    <tr>\n",
       "      <th>3</th>\n",
       "      <td>AA</td>\n",
       "      <td>258</td>\n",
       "      <td>N3HYAA</td>\n",
       "      <td>-5.0</td>\n",
       "      <td>15.0</td>\n",
       "      <td>00:30:00</td>\n",
       "      <td>285.0</td>\n",
       "      <td>281.0</td>\n",
       "      <td>258.0</td>\n",
       "      <td>2342</td>\n",
       "      <td>...</td>\n",
       "      <td>-9.0</td>\n",
       "      <td>LAX</td>\n",
       "      <td>MIA</td>\n",
       "      <td>00:15:00</td>\n",
       "      <td>08:05:00</td>\n",
       "      <td>00:20:00</td>\n",
       "      <td>07:56:00</td>\n",
       "      <td>2015-01-01</td>\n",
       "      <td>3</td>\n",
       "      <td>0</td>\n",
       "    </tr>\n",
       "    <tr>\n",
       "      <th>4</th>\n",
       "      <td>AS</td>\n",
       "      <td>135</td>\n",
       "      <td>N527AS</td>\n",
       "      <td>-1.0</td>\n",
       "      <td>11.0</td>\n",
       "      <td>00:35:00</td>\n",
       "      <td>235.0</td>\n",
       "      <td>215.0</td>\n",
       "      <td>199.0</td>\n",
       "      <td>1448</td>\n",
       "      <td>...</td>\n",
       "      <td>-21.0</td>\n",
       "      <td>SEA</td>\n",
       "      <td>ANC</td>\n",
       "      <td>00:24:00</td>\n",
       "      <td>03:20:00</td>\n",
       "      <td>00:25:00</td>\n",
       "      <td>02:59:00</td>\n",
       "      <td>2015-01-01</td>\n",
       "      <td>3</td>\n",
       "      <td>0</td>\n",
       "    </tr>\n",
       "  </tbody>\n",
       "</table>\n",
       "<p>5 rows × 22 columns</p>\n",
       "</div>"
      ],
      "text/plain": [
       "  AIRLINE  FLIGHT_NUMBER TAIL_NUMBER  DEPARTURE_DELAY  TAXI_OUT WHEELS_OFF  \\\n",
       "0      AS             98      N407AS            -11.0      21.0   00:15:00   \n",
       "1      AA           2336      N3KUAA             -8.0      12.0   00:14:00   \n",
       "2      US            840      N171US             -2.0      16.0   00:34:00   \n",
       "3      AA            258      N3HYAA             -5.0      15.0   00:30:00   \n",
       "4      AS            135      N527AS             -1.0      11.0   00:35:00   \n",
       "\n",
       "   SCHEDULED_TIME  ELAPSED_TIME  AIR_TIME  DISTANCE  ... ARRIVAL_DELAY  \\\n",
       "0           205.0         194.0     169.0      1448  ...         -22.0   \n",
       "1           280.0         279.0     263.0      2330  ...          -9.0   \n",
       "2           286.0         293.0     266.0      2296  ...           5.0   \n",
       "3           285.0         281.0     258.0      2342  ...          -9.0   \n",
       "4           235.0         215.0     199.0      1448  ...         -21.0   \n",
       "\n",
       "   ORIGIN_AIRPORT_transformed  DESTINATION_AIRPORT_transformed  DEP_TIME  \\\n",
       "0                         ANC                              SEA  23:54:00   \n",
       "1                         LAX                              PBI  00:02:00   \n",
       "2                         SFO                              CLT  00:18:00   \n",
       "3                         LAX                              MIA  00:15:00   \n",
       "4                         SEA                              ANC  00:24:00   \n",
       "\n",
       "  SCH_ARR_TIME SCH_DEP_TIME  ARR_TIME       DATE DayOfWeek Holidays  \n",
       "0     04:30:00     00:05:00  04:08:00 2015-01-01         3        0  \n",
       "1     07:50:00     00:10:00  07:41:00 2015-01-01         3        0  \n",
       "2     08:06:00     00:20:00  08:11:00 2015-01-01         3        0  \n",
       "3     08:05:00     00:20:00  07:56:00 2015-01-01         3        0  \n",
       "4     03:20:00     00:25:00  02:59:00 2015-01-01         3        0  \n",
       "\n",
       "[5 rows x 22 columns]"
      ]
     },
     "execution_count": 48,
     "metadata": {},
     "output_type": "execute_result"
    }
   ],
   "source": [
    "Flights_Delays_Combined.head()"
   ]
  },
  {
   "cell_type": "code",
   "execution_count": 49,
   "metadata": {
    "id": "tFNnXehY1CQs"
   },
   "outputs": [],
   "source": [
    "def delation_transformation(delay):\n",
    "    return 1 if delay >= DELAY_TRESHOLD else 0"
   ]
  },
  {
   "cell_type": "code",
   "execution_count": 50,
   "metadata": {
    "id": "8s8PSQxH2FkC"
   },
   "outputs": [],
   "source": [
    "Flights_Delays_Combined['Delayed'] = Flights_Delays_Combined['ARRIVAL_DELAY'].apply(delation_transformation)"
   ]
  },
  {
   "cell_type": "code",
   "execution_count": 51,
   "metadata": {
    "id": "c5ZcK4s73QYu"
   },
   "outputs": [],
   "source": [
    "Flights_Delays_Binary = Flights_Delays_Combined.drop(['ARRIVAL_DELAY'], axis=1)\n",
    "#Flights_Delays_Binary = Flights_Delays_Binary.drop(['DEPARTURE_DELAY'], axis=1)"
   ]
  },
  {
   "cell_type": "code",
   "execution_count": 52,
   "metadata": {
    "colab": {
     "base_uri": "https://localhost:8080/",
     "height": 226
    },
    "id": "Wva5_aLuAmOA",
    "outputId": "f49b7fec-c9ab-482a-b9f2-4db193fd18b9"
   },
   "outputs": [
    {
     "data": {
      "text/html": [
       "<div>\n",
       "<style scoped>\n",
       "    .dataframe tbody tr th:only-of-type {\n",
       "        vertical-align: middle;\n",
       "    }\n",
       "\n",
       "    .dataframe tbody tr th {\n",
       "        vertical-align: top;\n",
       "    }\n",
       "\n",
       "    .dataframe thead th {\n",
       "        text-align: right;\n",
       "    }\n",
       "</style>\n",
       "<table border=\"1\" class=\"dataframe\">\n",
       "  <thead>\n",
       "    <tr style=\"text-align: right;\">\n",
       "      <th></th>\n",
       "      <th>AIRLINE</th>\n",
       "      <th>FLIGHT_NUMBER</th>\n",
       "      <th>TAIL_NUMBER</th>\n",
       "      <th>DEPARTURE_DELAY</th>\n",
       "      <th>TAXI_OUT</th>\n",
       "      <th>WHEELS_OFF</th>\n",
       "      <th>SCHEDULED_TIME</th>\n",
       "      <th>ELAPSED_TIME</th>\n",
       "      <th>AIR_TIME</th>\n",
       "      <th>DISTANCE</th>\n",
       "      <th>...</th>\n",
       "      <th>ORIGIN_AIRPORT_transformed</th>\n",
       "      <th>DESTINATION_AIRPORT_transformed</th>\n",
       "      <th>DEP_TIME</th>\n",
       "      <th>SCH_ARR_TIME</th>\n",
       "      <th>SCH_DEP_TIME</th>\n",
       "      <th>ARR_TIME</th>\n",
       "      <th>DATE</th>\n",
       "      <th>DayOfWeek</th>\n",
       "      <th>Holidays</th>\n",
       "      <th>Delayed</th>\n",
       "    </tr>\n",
       "  </thead>\n",
       "  <tbody>\n",
       "    <tr>\n",
       "      <th>0</th>\n",
       "      <td>AS</td>\n",
       "      <td>98</td>\n",
       "      <td>N407AS</td>\n",
       "      <td>-11.0</td>\n",
       "      <td>21.0</td>\n",
       "      <td>00:15:00</td>\n",
       "      <td>205.0</td>\n",
       "      <td>194.0</td>\n",
       "      <td>169.0</td>\n",
       "      <td>1448</td>\n",
       "      <td>...</td>\n",
       "      <td>ANC</td>\n",
       "      <td>SEA</td>\n",
       "      <td>23:54:00</td>\n",
       "      <td>04:30:00</td>\n",
       "      <td>00:05:00</td>\n",
       "      <td>04:08:00</td>\n",
       "      <td>2015-01-01</td>\n",
       "      <td>3</td>\n",
       "      <td>0</td>\n",
       "      <td>0</td>\n",
       "    </tr>\n",
       "    <tr>\n",
       "      <th>1</th>\n",
       "      <td>AA</td>\n",
       "      <td>2336</td>\n",
       "      <td>N3KUAA</td>\n",
       "      <td>-8.0</td>\n",
       "      <td>12.0</td>\n",
       "      <td>00:14:00</td>\n",
       "      <td>280.0</td>\n",
       "      <td>279.0</td>\n",
       "      <td>263.0</td>\n",
       "      <td>2330</td>\n",
       "      <td>...</td>\n",
       "      <td>LAX</td>\n",
       "      <td>PBI</td>\n",
       "      <td>00:02:00</td>\n",
       "      <td>07:50:00</td>\n",
       "      <td>00:10:00</td>\n",
       "      <td>07:41:00</td>\n",
       "      <td>2015-01-01</td>\n",
       "      <td>3</td>\n",
       "      <td>0</td>\n",
       "      <td>0</td>\n",
       "    </tr>\n",
       "    <tr>\n",
       "      <th>2</th>\n",
       "      <td>US</td>\n",
       "      <td>840</td>\n",
       "      <td>N171US</td>\n",
       "      <td>-2.0</td>\n",
       "      <td>16.0</td>\n",
       "      <td>00:34:00</td>\n",
       "      <td>286.0</td>\n",
       "      <td>293.0</td>\n",
       "      <td>266.0</td>\n",
       "      <td>2296</td>\n",
       "      <td>...</td>\n",
       "      <td>SFO</td>\n",
       "      <td>CLT</td>\n",
       "      <td>00:18:00</td>\n",
       "      <td>08:06:00</td>\n",
       "      <td>00:20:00</td>\n",
       "      <td>08:11:00</td>\n",
       "      <td>2015-01-01</td>\n",
       "      <td>3</td>\n",
       "      <td>0</td>\n",
       "      <td>0</td>\n",
       "    </tr>\n",
       "    <tr>\n",
       "      <th>3</th>\n",
       "      <td>AA</td>\n",
       "      <td>258</td>\n",
       "      <td>N3HYAA</td>\n",
       "      <td>-5.0</td>\n",
       "      <td>15.0</td>\n",
       "      <td>00:30:00</td>\n",
       "      <td>285.0</td>\n",
       "      <td>281.0</td>\n",
       "      <td>258.0</td>\n",
       "      <td>2342</td>\n",
       "      <td>...</td>\n",
       "      <td>LAX</td>\n",
       "      <td>MIA</td>\n",
       "      <td>00:15:00</td>\n",
       "      <td>08:05:00</td>\n",
       "      <td>00:20:00</td>\n",
       "      <td>07:56:00</td>\n",
       "      <td>2015-01-01</td>\n",
       "      <td>3</td>\n",
       "      <td>0</td>\n",
       "      <td>0</td>\n",
       "    </tr>\n",
       "    <tr>\n",
       "      <th>4</th>\n",
       "      <td>AS</td>\n",
       "      <td>135</td>\n",
       "      <td>N527AS</td>\n",
       "      <td>-1.0</td>\n",
       "      <td>11.0</td>\n",
       "      <td>00:35:00</td>\n",
       "      <td>235.0</td>\n",
       "      <td>215.0</td>\n",
       "      <td>199.0</td>\n",
       "      <td>1448</td>\n",
       "      <td>...</td>\n",
       "      <td>SEA</td>\n",
       "      <td>ANC</td>\n",
       "      <td>00:24:00</td>\n",
       "      <td>03:20:00</td>\n",
       "      <td>00:25:00</td>\n",
       "      <td>02:59:00</td>\n",
       "      <td>2015-01-01</td>\n",
       "      <td>3</td>\n",
       "      <td>0</td>\n",
       "      <td>0</td>\n",
       "    </tr>\n",
       "    <tr>\n",
       "      <th>...</th>\n",
       "      <td>...</td>\n",
       "      <td>...</td>\n",
       "      <td>...</td>\n",
       "      <td>...</td>\n",
       "      <td>...</td>\n",
       "      <td>...</td>\n",
       "      <td>...</td>\n",
       "      <td>...</td>\n",
       "      <td>...</td>\n",
       "      <td>...</td>\n",
       "      <td>...</td>\n",
       "      <td>...</td>\n",
       "      <td>...</td>\n",
       "      <td>...</td>\n",
       "      <td>...</td>\n",
       "      <td>...</td>\n",
       "      <td>...</td>\n",
       "      <td>...</td>\n",
       "      <td>...</td>\n",
       "      <td>...</td>\n",
       "      <td>...</td>\n",
       "    </tr>\n",
       "    <tr>\n",
       "      <th>5819074</th>\n",
       "      <td>B6</td>\n",
       "      <td>688</td>\n",
       "      <td>N657JB</td>\n",
       "      <td>-4.0</td>\n",
       "      <td>22.0</td>\n",
       "      <td>00:17:00</td>\n",
       "      <td>320.0</td>\n",
       "      <td>298.0</td>\n",
       "      <td>272.0</td>\n",
       "      <td>2611</td>\n",
       "      <td>...</td>\n",
       "      <td>LAX</td>\n",
       "      <td>BOS</td>\n",
       "      <td>23:55:00</td>\n",
       "      <td>08:19:00</td>\n",
       "      <td>23:59:00</td>\n",
       "      <td>07:53:00</td>\n",
       "      <td>2015-12-31</td>\n",
       "      <td>3</td>\n",
       "      <td>0</td>\n",
       "      <td>0</td>\n",
       "    </tr>\n",
       "    <tr>\n",
       "      <th>5819075</th>\n",
       "      <td>B6</td>\n",
       "      <td>745</td>\n",
       "      <td>N828JB</td>\n",
       "      <td>-4.0</td>\n",
       "      <td>17.0</td>\n",
       "      <td>00:12:00</td>\n",
       "      <td>227.0</td>\n",
       "      <td>215.0</td>\n",
       "      <td>195.0</td>\n",
       "      <td>1617</td>\n",
       "      <td>...</td>\n",
       "      <td>JFK</td>\n",
       "      <td>PSE</td>\n",
       "      <td>23:55:00</td>\n",
       "      <td>04:46:00</td>\n",
       "      <td>23:59:00</td>\n",
       "      <td>04:30:00</td>\n",
       "      <td>2015-12-31</td>\n",
       "      <td>3</td>\n",
       "      <td>0</td>\n",
       "      <td>0</td>\n",
       "    </tr>\n",
       "    <tr>\n",
       "      <th>5819076</th>\n",
       "      <td>B6</td>\n",
       "      <td>1503</td>\n",
       "      <td>N913JB</td>\n",
       "      <td>-9.0</td>\n",
       "      <td>17.0</td>\n",
       "      <td>00:07:00</td>\n",
       "      <td>221.0</td>\n",
       "      <td>222.0</td>\n",
       "      <td>197.0</td>\n",
       "      <td>1598</td>\n",
       "      <td>...</td>\n",
       "      <td>JFK</td>\n",
       "      <td>SJU</td>\n",
       "      <td>23:50:00</td>\n",
       "      <td>04:40:00</td>\n",
       "      <td>23:59:00</td>\n",
       "      <td>04:32:00</td>\n",
       "      <td>2015-12-31</td>\n",
       "      <td>3</td>\n",
       "      <td>0</td>\n",
       "      <td>0</td>\n",
       "    </tr>\n",
       "    <tr>\n",
       "      <th>5819077</th>\n",
       "      <td>B6</td>\n",
       "      <td>333</td>\n",
       "      <td>N527JB</td>\n",
       "      <td>-6.0</td>\n",
       "      <td>10.0</td>\n",
       "      <td>00:03:00</td>\n",
       "      <td>161.0</td>\n",
       "      <td>157.0</td>\n",
       "      <td>144.0</td>\n",
       "      <td>1189</td>\n",
       "      <td>...</td>\n",
       "      <td>MCO</td>\n",
       "      <td>SJU</td>\n",
       "      <td>23:53:00</td>\n",
       "      <td>03:40:00</td>\n",
       "      <td>23:59:00</td>\n",
       "      <td>03:30:00</td>\n",
       "      <td>2015-12-31</td>\n",
       "      <td>3</td>\n",
       "      <td>0</td>\n",
       "      <td>0</td>\n",
       "    </tr>\n",
       "    <tr>\n",
       "      <th>5819078</th>\n",
       "      <td>B6</td>\n",
       "      <td>839</td>\n",
       "      <td>N534JB</td>\n",
       "      <td>15.0</td>\n",
       "      <td>14.0</td>\n",
       "      <td>00:28:00</td>\n",
       "      <td>221.0</td>\n",
       "      <td>208.0</td>\n",
       "      <td>189.0</td>\n",
       "      <td>1576</td>\n",
       "      <td>...</td>\n",
       "      <td>JFK</td>\n",
       "      <td>BQN</td>\n",
       "      <td>00:14:00</td>\n",
       "      <td>04:40:00</td>\n",
       "      <td>23:59:00</td>\n",
       "      <td>04:42:00</td>\n",
       "      <td>2015-12-31</td>\n",
       "      <td>3</td>\n",
       "      <td>0</td>\n",
       "      <td>0</td>\n",
       "    </tr>\n",
       "  </tbody>\n",
       "</table>\n",
       "<p>5231130 rows × 22 columns</p>\n",
       "</div>"
      ],
      "text/plain": [
       "        AIRLINE  FLIGHT_NUMBER TAIL_NUMBER  DEPARTURE_DELAY  TAXI_OUT  \\\n",
       "0            AS             98      N407AS            -11.0      21.0   \n",
       "1            AA           2336      N3KUAA             -8.0      12.0   \n",
       "2            US            840      N171US             -2.0      16.0   \n",
       "3            AA            258      N3HYAA             -5.0      15.0   \n",
       "4            AS            135      N527AS             -1.0      11.0   \n",
       "...         ...            ...         ...              ...       ...   \n",
       "5819074      B6            688      N657JB             -4.0      22.0   \n",
       "5819075      B6            745      N828JB             -4.0      17.0   \n",
       "5819076      B6           1503      N913JB             -9.0      17.0   \n",
       "5819077      B6            333      N527JB             -6.0      10.0   \n",
       "5819078      B6            839      N534JB             15.0      14.0   \n",
       "\n",
       "        WHEELS_OFF  SCHEDULED_TIME  ELAPSED_TIME  AIR_TIME  DISTANCE  ...  \\\n",
       "0         00:15:00           205.0         194.0     169.0      1448  ...   \n",
       "1         00:14:00           280.0         279.0     263.0      2330  ...   \n",
       "2         00:34:00           286.0         293.0     266.0      2296  ...   \n",
       "3         00:30:00           285.0         281.0     258.0      2342  ...   \n",
       "4         00:35:00           235.0         215.0     199.0      1448  ...   \n",
       "...            ...             ...           ...       ...       ...  ...   \n",
       "5819074   00:17:00           320.0         298.0     272.0      2611  ...   \n",
       "5819075   00:12:00           227.0         215.0     195.0      1617  ...   \n",
       "5819076   00:07:00           221.0         222.0     197.0      1598  ...   \n",
       "5819077   00:03:00           161.0         157.0     144.0      1189  ...   \n",
       "5819078   00:28:00           221.0         208.0     189.0      1576  ...   \n",
       "\n",
       "        ORIGIN_AIRPORT_transformed  DESTINATION_AIRPORT_transformed  DEP_TIME  \\\n",
       "0                              ANC                              SEA  23:54:00   \n",
       "1                              LAX                              PBI  00:02:00   \n",
       "2                              SFO                              CLT  00:18:00   \n",
       "3                              LAX                              MIA  00:15:00   \n",
       "4                              SEA                              ANC  00:24:00   \n",
       "...                            ...                              ...       ...   \n",
       "5819074                        LAX                              BOS  23:55:00   \n",
       "5819075                        JFK                              PSE  23:55:00   \n",
       "5819076                        JFK                              SJU  23:50:00   \n",
       "5819077                        MCO                              SJU  23:53:00   \n",
       "5819078                        JFK                              BQN  00:14:00   \n",
       "\n",
       "        SCH_ARR_TIME SCH_DEP_TIME  ARR_TIME       DATE DayOfWeek Holidays  \\\n",
       "0           04:30:00     00:05:00  04:08:00 2015-01-01         3        0   \n",
       "1           07:50:00     00:10:00  07:41:00 2015-01-01         3        0   \n",
       "2           08:06:00     00:20:00  08:11:00 2015-01-01         3        0   \n",
       "3           08:05:00     00:20:00  07:56:00 2015-01-01         3        0   \n",
       "4           03:20:00     00:25:00  02:59:00 2015-01-01         3        0   \n",
       "...              ...          ...       ...        ...       ...      ...   \n",
       "5819074     08:19:00     23:59:00  07:53:00 2015-12-31         3        0   \n",
       "5819075     04:46:00     23:59:00  04:30:00 2015-12-31         3        0   \n",
       "5819076     04:40:00     23:59:00  04:32:00 2015-12-31         3        0   \n",
       "5819077     03:40:00     23:59:00  03:30:00 2015-12-31         3        0   \n",
       "5819078     04:40:00     23:59:00  04:42:00 2015-12-31         3        0   \n",
       "\n",
       "         Delayed  \n",
       "0              0  \n",
       "1              0  \n",
       "2              0  \n",
       "3              0  \n",
       "4              0  \n",
       "...          ...  \n",
       "5819074        0  \n",
       "5819075        0  \n",
       "5819076        0  \n",
       "5819077        0  \n",
       "5819078        0  \n",
       "\n",
       "[5231130 rows x 22 columns]"
      ]
     },
     "execution_count": 52,
     "metadata": {},
     "output_type": "execute_result"
    }
   ],
   "source": [
    "Flights_Delays_Binary"
   ]
  },
  {
   "cell_type": "code",
   "execution_count": 53,
   "metadata": {},
   "outputs": [
    {
     "data": {
      "text/plain": [
       "AIRLINE                            0\n",
       "FLIGHT_NUMBER                      0\n",
       "TAIL_NUMBER                        0\n",
       "DEPARTURE_DELAY                    0\n",
       "TAXI_OUT                           0\n",
       "WHEELS_OFF                         0\n",
       "SCHEDULED_TIME                     0\n",
       "ELAPSED_TIME                       0\n",
       "AIR_TIME                           0\n",
       "DISTANCE                           0\n",
       "WHEELS_ON                          0\n",
       "TAXI_IN                            0\n",
       "ORIGIN_AIRPORT_transformed         0\n",
       "DESTINATION_AIRPORT_transformed    0\n",
       "DEP_TIME                           0\n",
       "SCH_ARR_TIME                       0\n",
       "SCH_DEP_TIME                       0\n",
       "ARR_TIME                           0\n",
       "DATE                               0\n",
       "DayOfWeek                          0\n",
       "Holidays                           0\n",
       "Delayed                            0\n",
       "dtype: int64"
      ]
     },
     "execution_count": 53,
     "metadata": {},
     "output_type": "execute_result"
    }
   ],
   "source": [
    "Flights_Delays_Binary.isnull().sum()"
   ]
  },
  {
   "cell_type": "markdown",
   "metadata": {},
   "source": [
    "## Data reduction\n",
    "Because this dataset is large model will be trained only on sample. The sample is chosed by df.sample with 1% of random data."
   ]
  },
  {
   "cell_type": "code",
   "execution_count": 54,
   "metadata": {},
   "outputs": [
    {
     "data": {
      "text/plain": [
       "(52311, 22)"
      ]
     },
     "execution_count": 54,
     "metadata": {},
     "output_type": "execute_result"
    }
   ],
   "source": [
    "random.seed(0)\n",
    "Flights_Delays_Binary_small = Flights_Delays_Binary.sample(frac=0.01)\n",
    "Flights_Delays_Binary_small.shape"
   ]
  },
  {
   "cell_type": "markdown",
   "metadata": {},
   "source": [
    "***"
   ]
  },
  {
   "cell_type": "markdown",
   "metadata": {},
   "source": [
    "# Making model of flight delation"
   ]
  },
  {
   "cell_type": "markdown",
   "metadata": {},
   "source": [
    "## Model 1"
   ]
  },
  {
   "cell_type": "markdown",
   "metadata": {},
   "source": [
    "### Preparing data for modeling"
   ]
  },
  {
   "cell_type": "code",
   "execution_count": 55,
   "metadata": {},
   "outputs": [
    {
     "data": {
      "text/plain": [
       "Index(['AIRLINE', 'FLIGHT_NUMBER', 'TAIL_NUMBER', 'DEPARTURE_DELAY',\n",
       "       'TAXI_OUT', 'WHEELS_OFF', 'SCHEDULED_TIME', 'ELAPSED_TIME', 'AIR_TIME',\n",
       "       'DISTANCE', 'WHEELS_ON', 'TAXI_IN', 'ORIGIN_AIRPORT_transformed',\n",
       "       'DESTINATION_AIRPORT_transformed', 'DEP_TIME', 'SCH_ARR_TIME',\n",
       "       'SCH_DEP_TIME', 'ARR_TIME', 'DATE', 'DayOfWeek', 'Holidays', 'Delayed'],\n",
       "      dtype='object')"
      ]
     },
     "execution_count": 55,
     "metadata": {},
     "output_type": "execute_result"
    }
   ],
   "source": [
    "Flights_Delays_Binary_small.columns"
   ]
  },
  {
   "cell_type": "code",
   "execution_count": 56,
   "metadata": {},
   "outputs": [],
   "source": [
    "model_1_cols = ['TAXI_OUT', 'TAXI_IN', 'DayOfWeek', 'WHEELS_OFF','AIRLINE', 'ORIGIN_AIRPORT_transformed', 'DESTINATION_AIRPORT_transformed','DEP_TIME','SCH_DEP_TIME','DEPARTURE_DELAY','Delayed']\n",
    "Flights_Delays_Binary_model_1 = Flights_Delays_Binary_small[model_1_cols]"
   ]
  },
  {
   "cell_type": "code",
   "execution_count": 57,
   "metadata": {},
   "outputs": [
    {
     "data": {
      "text/html": [
       "<div>\n",
       "<style scoped>\n",
       "    .dataframe tbody tr th:only-of-type {\n",
       "        vertical-align: middle;\n",
       "    }\n",
       "\n",
       "    .dataframe tbody tr th {\n",
       "        vertical-align: top;\n",
       "    }\n",
       "\n",
       "    .dataframe thead th {\n",
       "        text-align: right;\n",
       "    }\n",
       "</style>\n",
       "<table border=\"1\" class=\"dataframe\">\n",
       "  <thead>\n",
       "    <tr style=\"text-align: right;\">\n",
       "      <th></th>\n",
       "      <th>TAXI_OUT</th>\n",
       "      <th>TAXI_IN</th>\n",
       "      <th>DayOfWeek</th>\n",
       "      <th>WHEELS_OFF</th>\n",
       "      <th>AIRLINE</th>\n",
       "      <th>ORIGIN_AIRPORT_transformed</th>\n",
       "      <th>DESTINATION_AIRPORT_transformed</th>\n",
       "      <th>DEP_TIME</th>\n",
       "      <th>SCH_DEP_TIME</th>\n",
       "      <th>DEPARTURE_DELAY</th>\n",
       "      <th>Delayed</th>\n",
       "    </tr>\n",
       "  </thead>\n",
       "  <tbody>\n",
       "    <tr>\n",
       "      <th>2530153</th>\n",
       "      <td>10.0</td>\n",
       "      <td>18.0</td>\n",
       "      <td>1</td>\n",
       "      <td>16:35:00</td>\n",
       "      <td>MQ</td>\n",
       "      <td>GCK</td>\n",
       "      <td>DFW</td>\n",
       "      <td>16:25:00</td>\n",
       "      <td>16:10:00</td>\n",
       "      <td>15.0</td>\n",
       "      <td>1</td>\n",
       "    </tr>\n",
       "    <tr>\n",
       "      <th>1627160</th>\n",
       "      <td>8.0</td>\n",
       "      <td>2.0</td>\n",
       "      <td>1</td>\n",
       "      <td>19:23:00</td>\n",
       "      <td>WN</td>\n",
       "      <td>SNA</td>\n",
       "      <td>SMF</td>\n",
       "      <td>19:15:00</td>\n",
       "      <td>19:20:00</td>\n",
       "      <td>-5.0</td>\n",
       "      <td>0</td>\n",
       "    </tr>\n",
       "    <tr>\n",
       "      <th>5496061</th>\n",
       "      <td>10.0</td>\n",
       "      <td>10.0</td>\n",
       "      <td>4</td>\n",
       "      <td>06:20:00</td>\n",
       "      <td>EV</td>\n",
       "      <td>PNS</td>\n",
       "      <td>IAH</td>\n",
       "      <td>06:10:00</td>\n",
       "      <td>06:20:00</td>\n",
       "      <td>-10.0</td>\n",
       "      <td>0</td>\n",
       "    </tr>\n",
       "    <tr>\n",
       "      <th>1680495</th>\n",
       "      <td>10.0</td>\n",
       "      <td>7.0</td>\n",
       "      <td>5</td>\n",
       "      <td>06:24:00</td>\n",
       "      <td>WN</td>\n",
       "      <td>CAK</td>\n",
       "      <td>MCO</td>\n",
       "      <td>06:14:00</td>\n",
       "      <td>06:15:00</td>\n",
       "      <td>-1.0</td>\n",
       "      <td>0</td>\n",
       "    </tr>\n",
       "    <tr>\n",
       "      <th>5037430</th>\n",
       "      <td>23.0</td>\n",
       "      <td>4.0</td>\n",
       "      <td>2</td>\n",
       "      <td>12:25:00</td>\n",
       "      <td>AS</td>\n",
       "      <td>SEA</td>\n",
       "      <td>STL</td>\n",
       "      <td>12:02:00</td>\n",
       "      <td>12:05:00</td>\n",
       "      <td>-3.0</td>\n",
       "      <td>0</td>\n",
       "    </tr>\n",
       "    <tr>\n",
       "      <th>...</th>\n",
       "      <td>...</td>\n",
       "      <td>...</td>\n",
       "      <td>...</td>\n",
       "      <td>...</td>\n",
       "      <td>...</td>\n",
       "      <td>...</td>\n",
       "      <td>...</td>\n",
       "      <td>...</td>\n",
       "      <td>...</td>\n",
       "      <td>...</td>\n",
       "      <td>...</td>\n",
       "    </tr>\n",
       "    <tr>\n",
       "      <th>5002671</th>\n",
       "      <td>8.0</td>\n",
       "      <td>4.0</td>\n",
       "      <td>0</td>\n",
       "      <td>10:16:00</td>\n",
       "      <td>WN</td>\n",
       "      <td>STL</td>\n",
       "      <td>DAL</td>\n",
       "      <td>10:08:00</td>\n",
       "      <td>09:45:00</td>\n",
       "      <td>23.0</td>\n",
       "      <td>0</td>\n",
       "    </tr>\n",
       "    <tr>\n",
       "      <th>719183</th>\n",
       "      <td>6.0</td>\n",
       "      <td>5.0</td>\n",
       "      <td>1</td>\n",
       "      <td>12:49:00</td>\n",
       "      <td>WN</td>\n",
       "      <td>CAK</td>\n",
       "      <td>MCO</td>\n",
       "      <td>12:43:00</td>\n",
       "      <td>12:45:00</td>\n",
       "      <td>-2.0</td>\n",
       "      <td>0</td>\n",
       "    </tr>\n",
       "    <tr>\n",
       "      <th>5704990</th>\n",
       "      <td>19.0</td>\n",
       "      <td>10.0</td>\n",
       "      <td>3</td>\n",
       "      <td>11:39:00</td>\n",
       "      <td>OO</td>\n",
       "      <td>ASE</td>\n",
       "      <td>ORD</td>\n",
       "      <td>11:20:00</td>\n",
       "      <td>11:17:00</td>\n",
       "      <td>3.0</td>\n",
       "      <td>0</td>\n",
       "    </tr>\n",
       "    <tr>\n",
       "      <th>4186502</th>\n",
       "      <td>11.0</td>\n",
       "      <td>5.0</td>\n",
       "      <td>4</td>\n",
       "      <td>09:58:00</td>\n",
       "      <td>WN</td>\n",
       "      <td>MDW</td>\n",
       "      <td>BDL</td>\n",
       "      <td>09:47:00</td>\n",
       "      <td>09:00:00</td>\n",
       "      <td>47.0</td>\n",
       "      <td>1</td>\n",
       "    </tr>\n",
       "    <tr>\n",
       "      <th>1307401</th>\n",
       "      <td>13.0</td>\n",
       "      <td>8.0</td>\n",
       "      <td>3</td>\n",
       "      <td>07:06:00</td>\n",
       "      <td>EV</td>\n",
       "      <td>SBN</td>\n",
       "      <td>EWR</td>\n",
       "      <td>06:53:00</td>\n",
       "      <td>07:00:00</td>\n",
       "      <td>-7.0</td>\n",
       "      <td>0</td>\n",
       "    </tr>\n",
       "  </tbody>\n",
       "</table>\n",
       "<p>52311 rows × 11 columns</p>\n",
       "</div>"
      ],
      "text/plain": [
       "         TAXI_OUT  TAXI_IN  DayOfWeek WHEELS_OFF AIRLINE  \\\n",
       "2530153      10.0     18.0          1   16:35:00      MQ   \n",
       "1627160       8.0      2.0          1   19:23:00      WN   \n",
       "5496061      10.0     10.0          4   06:20:00      EV   \n",
       "1680495      10.0      7.0          5   06:24:00      WN   \n",
       "5037430      23.0      4.0          2   12:25:00      AS   \n",
       "...           ...      ...        ...        ...     ...   \n",
       "5002671       8.0      4.0          0   10:16:00      WN   \n",
       "719183        6.0      5.0          1   12:49:00      WN   \n",
       "5704990      19.0     10.0          3   11:39:00      OO   \n",
       "4186502      11.0      5.0          4   09:58:00      WN   \n",
       "1307401      13.0      8.0          3   07:06:00      EV   \n",
       "\n",
       "        ORIGIN_AIRPORT_transformed DESTINATION_AIRPORT_transformed  DEP_TIME  \\\n",
       "2530153                        GCK                             DFW  16:25:00   \n",
       "1627160                        SNA                             SMF  19:15:00   \n",
       "5496061                        PNS                             IAH  06:10:00   \n",
       "1680495                        CAK                             MCO  06:14:00   \n",
       "5037430                        SEA                             STL  12:02:00   \n",
       "...                            ...                             ...       ...   \n",
       "5002671                        STL                             DAL  10:08:00   \n",
       "719183                         CAK                             MCO  12:43:00   \n",
       "5704990                        ASE                             ORD  11:20:00   \n",
       "4186502                        MDW                             BDL  09:47:00   \n",
       "1307401                        SBN                             EWR  06:53:00   \n",
       "\n",
       "        SCH_DEP_TIME  DEPARTURE_DELAY  Delayed  \n",
       "2530153     16:10:00             15.0        1  \n",
       "1627160     19:20:00             -5.0        0  \n",
       "5496061     06:20:00            -10.0        0  \n",
       "1680495     06:15:00             -1.0        0  \n",
       "5037430     12:05:00             -3.0        0  \n",
       "...              ...              ...      ...  \n",
       "5002671     09:45:00             23.0        0  \n",
       "719183      12:45:00             -2.0        0  \n",
       "5704990     11:17:00              3.0        0  \n",
       "4186502     09:00:00             47.0        1  \n",
       "1307401     07:00:00             -7.0        0  \n",
       "\n",
       "[52311 rows x 11 columns]"
      ]
     },
     "execution_count": 57,
     "metadata": {},
     "output_type": "execute_result"
    }
   ],
   "source": [
    "Flights_Delays_Binary_model_1"
   ]
  },
  {
   "cell_type": "code",
   "execution_count": 58,
   "metadata": {},
   "outputs": [
    {
     "data": {
      "text/html": [
       "<div>\n",
       "<style scoped>\n",
       "    .dataframe tbody tr th:only-of-type {\n",
       "        vertical-align: middle;\n",
       "    }\n",
       "\n",
       "    .dataframe tbody tr th {\n",
       "        vertical-align: top;\n",
       "    }\n",
       "\n",
       "    .dataframe thead th {\n",
       "        text-align: right;\n",
       "    }\n",
       "</style>\n",
       "<table border=\"1\" class=\"dataframe\">\n",
       "  <thead>\n",
       "    <tr style=\"text-align: right;\">\n",
       "      <th></th>\n",
       "      <th>TAXI_OUT</th>\n",
       "      <th>TAXI_IN</th>\n",
       "      <th>DayOfWeek</th>\n",
       "      <th>WHEELS_OFF</th>\n",
       "      <th>AIRLINE</th>\n",
       "      <th>ORIGIN_AIRPORT_transformed</th>\n",
       "      <th>DESTINATION_AIRPORT_transformed</th>\n",
       "      <th>DEP_TIME</th>\n",
       "      <th>SCH_DEP_TIME</th>\n",
       "      <th>DEPARTURE_DELAY</th>\n",
       "      <th>Delayed</th>\n",
       "    </tr>\n",
       "  </thead>\n",
       "  <tbody>\n",
       "    <tr>\n",
       "      <th>2530153</th>\n",
       "      <td>10.0</td>\n",
       "      <td>18.0</td>\n",
       "      <td>1</td>\n",
       "      <td>16:35:00</td>\n",
       "      <td>MQ</td>\n",
       "      <td>GCK</td>\n",
       "      <td>DFW</td>\n",
       "      <td>16:25:00</td>\n",
       "      <td>16:10:00</td>\n",
       "      <td>15.0</td>\n",
       "      <td>1</td>\n",
       "    </tr>\n",
       "    <tr>\n",
       "      <th>1627160</th>\n",
       "      <td>8.0</td>\n",
       "      <td>2.0</td>\n",
       "      <td>1</td>\n",
       "      <td>19:23:00</td>\n",
       "      <td>WN</td>\n",
       "      <td>SNA</td>\n",
       "      <td>SMF</td>\n",
       "      <td>19:15:00</td>\n",
       "      <td>19:20:00</td>\n",
       "      <td>-5.0</td>\n",
       "      <td>0</td>\n",
       "    </tr>\n",
       "    <tr>\n",
       "      <th>5496061</th>\n",
       "      <td>10.0</td>\n",
       "      <td>10.0</td>\n",
       "      <td>4</td>\n",
       "      <td>06:20:00</td>\n",
       "      <td>EV</td>\n",
       "      <td>PNS</td>\n",
       "      <td>IAH</td>\n",
       "      <td>06:10:00</td>\n",
       "      <td>06:20:00</td>\n",
       "      <td>-10.0</td>\n",
       "      <td>0</td>\n",
       "    </tr>\n",
       "    <tr>\n",
       "      <th>1680495</th>\n",
       "      <td>10.0</td>\n",
       "      <td>7.0</td>\n",
       "      <td>5</td>\n",
       "      <td>06:24:00</td>\n",
       "      <td>WN</td>\n",
       "      <td>CAK</td>\n",
       "      <td>MCO</td>\n",
       "      <td>06:14:00</td>\n",
       "      <td>06:15:00</td>\n",
       "      <td>-1.0</td>\n",
       "      <td>0</td>\n",
       "    </tr>\n",
       "    <tr>\n",
       "      <th>5037430</th>\n",
       "      <td>23.0</td>\n",
       "      <td>4.0</td>\n",
       "      <td>2</td>\n",
       "      <td>12:25:00</td>\n",
       "      <td>AS</td>\n",
       "      <td>SEA</td>\n",
       "      <td>STL</td>\n",
       "      <td>12:02:00</td>\n",
       "      <td>12:05:00</td>\n",
       "      <td>-3.0</td>\n",
       "      <td>0</td>\n",
       "    </tr>\n",
       "  </tbody>\n",
       "</table>\n",
       "</div>"
      ],
      "text/plain": [
       "         TAXI_OUT  TAXI_IN  DayOfWeek WHEELS_OFF AIRLINE  \\\n",
       "2530153      10.0     18.0          1   16:35:00      MQ   \n",
       "1627160       8.0      2.0          1   19:23:00      WN   \n",
       "5496061      10.0     10.0          4   06:20:00      EV   \n",
       "1680495      10.0      7.0          5   06:24:00      WN   \n",
       "5037430      23.0      4.0          2   12:25:00      AS   \n",
       "\n",
       "        ORIGIN_AIRPORT_transformed DESTINATION_AIRPORT_transformed  DEP_TIME  \\\n",
       "2530153                        GCK                             DFW  16:25:00   \n",
       "1627160                        SNA                             SMF  19:15:00   \n",
       "5496061                        PNS                             IAH  06:10:00   \n",
       "1680495                        CAK                             MCO  06:14:00   \n",
       "5037430                        SEA                             STL  12:02:00   \n",
       "\n",
       "        SCH_DEP_TIME  DEPARTURE_DELAY  Delayed  \n",
       "2530153     16:10:00             15.0        1  \n",
       "1627160     19:20:00             -5.0        0  \n",
       "5496061     06:20:00            -10.0        0  \n",
       "1680495     06:15:00             -1.0        0  \n",
       "5037430     12:05:00             -3.0        0  "
      ]
     },
     "execution_count": 58,
     "metadata": {},
     "output_type": "execute_result"
    }
   ],
   "source": [
    "Flights_Delays_Binary_model_1.head()"
   ]
  },
  {
   "cell_type": "code",
   "execution_count": 59,
   "metadata": {},
   "outputs": [
    {
     "data": {
      "text/html": [
       "<div>\n",
       "<style scoped>\n",
       "    .dataframe tbody tr th:only-of-type {\n",
       "        vertical-align: middle;\n",
       "    }\n",
       "\n",
       "    .dataframe tbody tr th {\n",
       "        vertical-align: top;\n",
       "    }\n",
       "\n",
       "    .dataframe thead th {\n",
       "        text-align: right;\n",
       "    }\n",
       "</style>\n",
       "<table border=\"1\" class=\"dataframe\">\n",
       "  <thead>\n",
       "    <tr style=\"text-align: right;\">\n",
       "      <th></th>\n",
       "      <th>TAXI_OUT</th>\n",
       "      <th>TAXI_IN</th>\n",
       "      <th>DayOfWeek</th>\n",
       "      <th>DEPARTURE_DELAY</th>\n",
       "      <th>Delayed</th>\n",
       "    </tr>\n",
       "  </thead>\n",
       "  <tbody>\n",
       "    <tr>\n",
       "      <th>2530153</th>\n",
       "      <td>10.0</td>\n",
       "      <td>18.0</td>\n",
       "      <td>1</td>\n",
       "      <td>15.0</td>\n",
       "      <td>1</td>\n",
       "    </tr>\n",
       "    <tr>\n",
       "      <th>1627160</th>\n",
       "      <td>8.0</td>\n",
       "      <td>2.0</td>\n",
       "      <td>1</td>\n",
       "      <td>-5.0</td>\n",
       "      <td>0</td>\n",
       "    </tr>\n",
       "    <tr>\n",
       "      <th>5496061</th>\n",
       "      <td>10.0</td>\n",
       "      <td>10.0</td>\n",
       "      <td>4</td>\n",
       "      <td>-10.0</td>\n",
       "      <td>0</td>\n",
       "    </tr>\n",
       "    <tr>\n",
       "      <th>1680495</th>\n",
       "      <td>10.0</td>\n",
       "      <td>7.0</td>\n",
       "      <td>5</td>\n",
       "      <td>-1.0</td>\n",
       "      <td>0</td>\n",
       "    </tr>\n",
       "    <tr>\n",
       "      <th>5037430</th>\n",
       "      <td>23.0</td>\n",
       "      <td>4.0</td>\n",
       "      <td>2</td>\n",
       "      <td>-3.0</td>\n",
       "      <td>0</td>\n",
       "    </tr>\n",
       "    <tr>\n",
       "      <th>...</th>\n",
       "      <td>...</td>\n",
       "      <td>...</td>\n",
       "      <td>...</td>\n",
       "      <td>...</td>\n",
       "      <td>...</td>\n",
       "    </tr>\n",
       "    <tr>\n",
       "      <th>5002671</th>\n",
       "      <td>8.0</td>\n",
       "      <td>4.0</td>\n",
       "      <td>0</td>\n",
       "      <td>23.0</td>\n",
       "      <td>0</td>\n",
       "    </tr>\n",
       "    <tr>\n",
       "      <th>719183</th>\n",
       "      <td>6.0</td>\n",
       "      <td>5.0</td>\n",
       "      <td>1</td>\n",
       "      <td>-2.0</td>\n",
       "      <td>0</td>\n",
       "    </tr>\n",
       "    <tr>\n",
       "      <th>5704990</th>\n",
       "      <td>19.0</td>\n",
       "      <td>10.0</td>\n",
       "      <td>3</td>\n",
       "      <td>3.0</td>\n",
       "      <td>0</td>\n",
       "    </tr>\n",
       "    <tr>\n",
       "      <th>4186502</th>\n",
       "      <td>11.0</td>\n",
       "      <td>5.0</td>\n",
       "      <td>4</td>\n",
       "      <td>47.0</td>\n",
       "      <td>1</td>\n",
       "    </tr>\n",
       "    <tr>\n",
       "      <th>1307401</th>\n",
       "      <td>13.0</td>\n",
       "      <td>8.0</td>\n",
       "      <td>3</td>\n",
       "      <td>-7.0</td>\n",
       "      <td>0</td>\n",
       "    </tr>\n",
       "  </tbody>\n",
       "</table>\n",
       "<p>52311 rows × 5 columns</p>\n",
       "</div>"
      ],
      "text/plain": [
       "         TAXI_OUT  TAXI_IN  DayOfWeek  DEPARTURE_DELAY  Delayed\n",
       "2530153      10.0     18.0          1             15.0        1\n",
       "1627160       8.0      2.0          1             -5.0        0\n",
       "5496061      10.0     10.0          4            -10.0        0\n",
       "1680495      10.0      7.0          5             -1.0        0\n",
       "5037430      23.0      4.0          2             -3.0        0\n",
       "...           ...      ...        ...              ...      ...\n",
       "5002671       8.0      4.0          0             23.0        0\n",
       "719183        6.0      5.0          1             -2.0        0\n",
       "5704990      19.0     10.0          3              3.0        0\n",
       "4186502      11.0      5.0          4             47.0        1\n",
       "1307401      13.0      8.0          3             -7.0        0\n",
       "\n",
       "[52311 rows x 5 columns]"
      ]
     },
     "execution_count": 59,
     "metadata": {},
     "output_type": "execute_result"
    }
   ],
   "source": [
    "Flights_Delays_Binary_model_1._get_numeric_data()"
   ]
  },
  {
   "cell_type": "markdown",
   "metadata": {},
   "source": [
    "#### Separating numeric and categorical columns"
   ]
  },
  {
   "cell_type": "code",
   "execution_count": 60,
   "metadata": {},
   "outputs": [],
   "source": [
    "numeric_columns_model_1 = ['TAXI_OUT','TAXI_IN','DayOfWeek','DEPARTURE_DELAY']\n",
    "cat_columns_model_1 = ['AIRLINE','ORIGIN_AIRPORT_transformed','DESTINATION_AIRPORT_transformed','DEP_TIME','SCH_DEP_TIME','WHEELS_OFF']"
   ]
  },
  {
   "cell_type": "markdown",
   "metadata": {},
   "source": [
    "***"
   ]
  },
  {
   "cell_type": "markdown",
   "metadata": {},
   "source": [
    "#### Spliting to train and test"
   ]
  },
  {
   "cell_type": "markdown",
   "metadata": {},
   "source": [
    "To split data to train and test tables I use *train_test_split*. I set test_size for 20% of data."
   ]
  },
  {
   "cell_type": "code",
   "execution_count": 61,
   "metadata": {
    "id": "SfZEgu0K02TY"
   },
   "outputs": [],
   "source": [
    "X_train, X_test, y_train, y_test = train_test_split(Flights_Delays_Binary_model_1.drop('Delayed', axis=1),\n",
    "                                                   Flights_Delays_Binary_model_1['Delayed'],\n",
    "                                                   test_size=0.2,\n",
    "                                                   stratify=Flights_Delays_Binary_model_1['Delayed'])"
   ]
  },
  {
   "cell_type": "code",
   "execution_count": 62,
   "metadata": {},
   "outputs": [
    {
     "data": {
      "text/html": [
       "<div>\n",
       "<style scoped>\n",
       "    .dataframe tbody tr th:only-of-type {\n",
       "        vertical-align: middle;\n",
       "    }\n",
       "\n",
       "    .dataframe tbody tr th {\n",
       "        vertical-align: top;\n",
       "    }\n",
       "\n",
       "    .dataframe thead th {\n",
       "        text-align: right;\n",
       "    }\n",
       "</style>\n",
       "<table border=\"1\" class=\"dataframe\">\n",
       "  <thead>\n",
       "    <tr style=\"text-align: right;\">\n",
       "      <th></th>\n",
       "      <th>TAXI_OUT</th>\n",
       "      <th>TAXI_IN</th>\n",
       "      <th>DayOfWeek</th>\n",
       "      <th>WHEELS_OFF</th>\n",
       "      <th>AIRLINE</th>\n",
       "      <th>ORIGIN_AIRPORT_transformed</th>\n",
       "      <th>DESTINATION_AIRPORT_transformed</th>\n",
       "      <th>DEP_TIME</th>\n",
       "      <th>SCH_DEP_TIME</th>\n",
       "      <th>DEPARTURE_DELAY</th>\n",
       "    </tr>\n",
       "  </thead>\n",
       "  <tbody>\n",
       "    <tr>\n",
       "      <th>1935189</th>\n",
       "      <td>9.0</td>\n",
       "      <td>4.0</td>\n",
       "      <td>0</td>\n",
       "      <td>05:51:00</td>\n",
       "      <td>WN</td>\n",
       "      <td>SMF</td>\n",
       "      <td>SAN</td>\n",
       "      <td>05:42:00</td>\n",
       "      <td>05:40:00</td>\n",
       "      <td>2.0</td>\n",
       "    </tr>\n",
       "    <tr>\n",
       "      <th>2351749</th>\n",
       "      <td>15.0</td>\n",
       "      <td>16.0</td>\n",
       "      <td>4</td>\n",
       "      <td>17:48:00</td>\n",
       "      <td>OO</td>\n",
       "      <td>ORD</td>\n",
       "      <td>ATL</td>\n",
       "      <td>17:33:00</td>\n",
       "      <td>17:35:00</td>\n",
       "      <td>-2.0</td>\n",
       "    </tr>\n",
       "    <tr>\n",
       "      <th>2292856</th>\n",
       "      <td>11.0</td>\n",
       "      <td>13.0</td>\n",
       "      <td>1</td>\n",
       "      <td>09:39:00</td>\n",
       "      <td>MQ</td>\n",
       "      <td>LSE</td>\n",
       "      <td>ORD</td>\n",
       "      <td>09:28:00</td>\n",
       "      <td>09:35:00</td>\n",
       "      <td>-7.0</td>\n",
       "    </tr>\n",
       "    <tr>\n",
       "      <th>3385855</th>\n",
       "      <td>35.0</td>\n",
       "      <td>5.0</td>\n",
       "      <td>3</td>\n",
       "      <td>17:18:00</td>\n",
       "      <td>WN</td>\n",
       "      <td>LAX</td>\n",
       "      <td>SLC</td>\n",
       "      <td>16:43:00</td>\n",
       "      <td>15:15:00</td>\n",
       "      <td>88.0</td>\n",
       "    </tr>\n",
       "    <tr>\n",
       "      <th>1446914</th>\n",
       "      <td>11.0</td>\n",
       "      <td>4.0</td>\n",
       "      <td>4</td>\n",
       "      <td>14:47:00</td>\n",
       "      <td>WN</td>\n",
       "      <td>MCO</td>\n",
       "      <td>AUS</td>\n",
       "      <td>14:36:00</td>\n",
       "      <td>14:40:00</td>\n",
       "      <td>-4.0</td>\n",
       "    </tr>\n",
       "    <tr>\n",
       "      <th>...</th>\n",
       "      <td>...</td>\n",
       "      <td>...</td>\n",
       "      <td>...</td>\n",
       "      <td>...</td>\n",
       "      <td>...</td>\n",
       "      <td>...</td>\n",
       "      <td>...</td>\n",
       "      <td>...</td>\n",
       "      <td>...</td>\n",
       "      <td>...</td>\n",
       "    </tr>\n",
       "    <tr>\n",
       "      <th>441448</th>\n",
       "      <td>14.0</td>\n",
       "      <td>4.0</td>\n",
       "      <td>3</td>\n",
       "      <td>22:02:00</td>\n",
       "      <td>AA</td>\n",
       "      <td>DFW</td>\n",
       "      <td>HOU</td>\n",
       "      <td>21:48:00</td>\n",
       "      <td>21:50:00</td>\n",
       "      <td>-2.0</td>\n",
       "    </tr>\n",
       "    <tr>\n",
       "      <th>712255</th>\n",
       "      <td>83.0</td>\n",
       "      <td>22.0</td>\n",
       "      <td>1</td>\n",
       "      <td>07:32:00</td>\n",
       "      <td>DL</td>\n",
       "      <td>LGA</td>\n",
       "      <td>ATL</td>\n",
       "      <td>06:09:00</td>\n",
       "      <td>06:00:00</td>\n",
       "      <td>9.0</td>\n",
       "    </tr>\n",
       "    <tr>\n",
       "      <th>4271095</th>\n",
       "      <td>12.0</td>\n",
       "      <td>6.0</td>\n",
       "      <td>2</td>\n",
       "      <td>17:12:00</td>\n",
       "      <td>F9</td>\n",
       "      <td>ATL</td>\n",
       "      <td>IND</td>\n",
       "      <td>17:00:00</td>\n",
       "      <td>17:05:00</td>\n",
       "      <td>-5.0</td>\n",
       "    </tr>\n",
       "    <tr>\n",
       "      <th>5434411</th>\n",
       "      <td>23.0</td>\n",
       "      <td>4.0</td>\n",
       "      <td>0</td>\n",
       "      <td>08:46:00</td>\n",
       "      <td>EV</td>\n",
       "      <td>ATL</td>\n",
       "      <td>LEX</td>\n",
       "      <td>08:23:00</td>\n",
       "      <td>08:20:00</td>\n",
       "      <td>3.0</td>\n",
       "    </tr>\n",
       "    <tr>\n",
       "      <th>5665440</th>\n",
       "      <td>6.0</td>\n",
       "      <td>4.0</td>\n",
       "      <td>0</td>\n",
       "      <td>20:55:00</td>\n",
       "      <td>WN</td>\n",
       "      <td>PHX</td>\n",
       "      <td>SMF</td>\n",
       "      <td>20:49:00</td>\n",
       "      <td>20:50:00</td>\n",
       "      <td>-1.0</td>\n",
       "    </tr>\n",
       "  </tbody>\n",
       "</table>\n",
       "<p>41848 rows × 10 columns</p>\n",
       "</div>"
      ],
      "text/plain": [
       "         TAXI_OUT  TAXI_IN  DayOfWeek WHEELS_OFF AIRLINE  \\\n",
       "1935189       9.0      4.0          0   05:51:00      WN   \n",
       "2351749      15.0     16.0          4   17:48:00      OO   \n",
       "2292856      11.0     13.0          1   09:39:00      MQ   \n",
       "3385855      35.0      5.0          3   17:18:00      WN   \n",
       "1446914      11.0      4.0          4   14:47:00      WN   \n",
       "...           ...      ...        ...        ...     ...   \n",
       "441448       14.0      4.0          3   22:02:00      AA   \n",
       "712255       83.0     22.0          1   07:32:00      DL   \n",
       "4271095      12.0      6.0          2   17:12:00      F9   \n",
       "5434411      23.0      4.0          0   08:46:00      EV   \n",
       "5665440       6.0      4.0          0   20:55:00      WN   \n",
       "\n",
       "        ORIGIN_AIRPORT_transformed DESTINATION_AIRPORT_transformed  DEP_TIME  \\\n",
       "1935189                        SMF                             SAN  05:42:00   \n",
       "2351749                        ORD                             ATL  17:33:00   \n",
       "2292856                        LSE                             ORD  09:28:00   \n",
       "3385855                        LAX                             SLC  16:43:00   \n",
       "1446914                        MCO                             AUS  14:36:00   \n",
       "...                            ...                             ...       ...   \n",
       "441448                         DFW                             HOU  21:48:00   \n",
       "712255                         LGA                             ATL  06:09:00   \n",
       "4271095                        ATL                             IND  17:00:00   \n",
       "5434411                        ATL                             LEX  08:23:00   \n",
       "5665440                        PHX                             SMF  20:49:00   \n",
       "\n",
       "        SCH_DEP_TIME  DEPARTURE_DELAY  \n",
       "1935189     05:40:00              2.0  \n",
       "2351749     17:35:00             -2.0  \n",
       "2292856     09:35:00             -7.0  \n",
       "3385855     15:15:00             88.0  \n",
       "1446914     14:40:00             -4.0  \n",
       "...              ...              ...  \n",
       "441448      21:50:00             -2.0  \n",
       "712255      06:00:00              9.0  \n",
       "4271095     17:05:00             -5.0  \n",
       "5434411     08:20:00              3.0  \n",
       "5665440     20:50:00             -1.0  \n",
       "\n",
       "[41848 rows x 10 columns]"
      ]
     },
     "execution_count": 62,
     "metadata": {},
     "output_type": "execute_result"
    }
   ],
   "source": [
    "X_train"
   ]
  },
  {
   "cell_type": "markdown",
   "metadata": {},
   "source": [
    "StratifiedKFold because it's not balanced"
   ]
  },
  {
   "cell_type": "code",
   "execution_count": 64,
   "metadata": {},
   "outputs": [],
   "source": [
    "from sklearn.model_selection import StratifiedKFold\n",
    "\n",
    "kfold = StratifiedKFold(n_splits=5)"
   ]
  },
  {
   "cell_type": "code",
   "execution_count": 65,
   "metadata": {},
   "outputs": [],
   "source": [
    "from sklearn.pipeline import FeatureUnion"
   ]
  },
  {
   "cell_type": "markdown",
   "metadata": {},
   "source": [
    "#### Transformer pipeline"
   ]
  },
  {
   "cell_type": "markdown",
   "metadata": {},
   "source": [
    "Data contains numeric and cathegorical variables. To interpret them properly I set two pipelines.\n",
    "* For numeric transformation there is used MinMaxScaler\n",
    "* For cathegorical varablies there is used OneHotEncoder"
   ]
  },
  {
   "cell_type": "code",
   "execution_count": 66,
   "metadata": {
    "id": "NILFq6nt-dsz"
   },
   "outputs": [],
   "source": [
    "# numeric pipeline\n",
    "numeric_transformer = Pipeline(steps=[\n",
    "    ('scale_data', MinMaxScaler())\n",
    "])\n",
    "# categorical pipeline\n",
    "categorical_transformer = Pipeline(steps=[\n",
    "    ('encoder', OneHotEncoder(handle_unknown='ignore'))\n",
    "])\n",
    "# transformer = numerical + categorical\n",
    "transformer = ColumnTransformer([\n",
    "    ('num', numeric_transformer, numeric_columns_model_1),\n",
    "    ('cat', categorical_transformer, cat_columns_model_1)\n",
    "])"
   ]
  },
  {
   "cell_type": "markdown",
   "metadata": {},
   "source": [
    "## Finding best algorithm"
   ]
  },
  {
   "cell_type": "markdown",
   "metadata": {},
   "source": [
    "### LogisticRegression"
   ]
  },
  {
   "cell_type": "code",
   "execution_count": 67,
   "metadata": {},
   "outputs": [],
   "source": [
    "param_grid = {\n",
    "            'classifier__C': [1, 10,25,30,35,45,50,100],\n",
    "}\n",
    "\n",
    "pipeline = Pipeline(steps=[('preprocessor', transformer),\n",
    "                      ('classifier', LogisticRegression(max_iter=10000, solver='saga'))])\n",
    "\n",
    "grid_1 = GridSearchCV(pipeline, param_grid, cv=kfold, return_train_score=True, verbose=5, n_jobs=3)\n",
    "\n"
   ]
  },
  {
   "cell_type": "code",
   "execution_count": 68,
   "metadata": {},
   "outputs": [
    {
     "name": "stdout",
     "output_type": "stream",
     "text": [
      "Fitting 5 folds for each of 8 candidates, totalling 40 fits\n"
     ]
    },
    {
     "name": "stderr",
     "output_type": "stream",
     "text": [
      "[Parallel(n_jobs=3)]: Using backend LokyBackend with 3 concurrent workers.\n",
      "[Parallel(n_jobs=3)]: Done  12 tasks      | elapsed:   12.6s\n",
      "[Parallel(n_jobs=3)]: Done  40 out of  40 | elapsed:   58.4s finished\n"
     ]
    },
    {
     "data": {
      "text/plain": [
       "GridSearchCV(cv=StratifiedKFold(n_splits=5, random_state=None, shuffle=False),\n",
       "             estimator=Pipeline(steps=[('preprocessor',\n",
       "                                        ColumnTransformer(transformers=[('num',\n",
       "                                                                         Pipeline(steps=[('scale_data',\n",
       "                                                                                          MinMaxScaler())]),\n",
       "                                                                         ['TAXI_OUT',\n",
       "                                                                          'TAXI_IN',\n",
       "                                                                          'DayOfWeek',\n",
       "                                                                          'DEPARTURE_DELAY']),\n",
       "                                                                        ('cat',\n",
       "                                                                         Pipeline(steps=[('encoder',\n",
       "                                                                                          OneHotEncoder(handle_unknown='ignore'))]),\n",
       "                                                                         ['AIRLINE',\n",
       "                                                                          'ORIGIN_AIRPORT_transformed',\n",
       "                                                                          'DESTINATION_AIRPORT_transformed',\n",
       "                                                                          'DEP_TIME',\n",
       "                                                                          'SCH_DEP_TIME',\n",
       "                                                                          'WHEELS_OFF'])])),\n",
       "                                       ('classifier',\n",
       "                                        LogisticRegression(max_iter=10000,\n",
       "                                                           solver='saga'))]),\n",
       "             n_jobs=3,\n",
       "             param_grid={'classifier__C': [1, 10, 25, 30, 35, 45, 50, 100]},\n",
       "             return_train_score=True, verbose=5)"
      ]
     },
     "execution_count": 68,
     "metadata": {},
     "output_type": "execute_result"
    }
   ],
   "source": [
    "grid_1.fit(X_train, y_train)\n"
   ]
  },
  {
   "cell_type": "code",
   "execution_count": 69,
   "metadata": {},
   "outputs": [
    {
     "data": {
      "text/plain": [
       "{'classifier__C': 10}"
      ]
     },
     "execution_count": 69,
     "metadata": {},
     "output_type": "execute_result"
    }
   ],
   "source": [
    "grid_1.best_params_"
   ]
  },
  {
   "cell_type": "code",
   "execution_count": 70,
   "metadata": {},
   "outputs": [
    {
     "name": "stdout",
     "output_type": "stream",
     "text": [
      "roc_auc_score: 0.9576014871412399\n"
     ]
    }
   ],
   "source": [
    " print(\"roc_auc_score: {}\".format( metrics.roc_auc_score(y_test , grid_1.decision_function(X_test)) ))      "
   ]
  },
  {
   "cell_type": "markdown",
   "metadata": {},
   "source": [
    "### LinearSVC"
   ]
  },
  {
   "cell_type": "code",
   "execution_count": 71,
   "metadata": {},
   "outputs": [],
   "source": [
    "pipe = Pipeline([('preprocessing', transformer), ('classifier', LinearSVC(C=1, max_iter=10000))])\n",
    "\n",
    "param_grid = {\n",
    "            'classifier__C': [0.1, 1, 10, 100,1000]\n",
    "}\n",
    "\n",
    "grid_2 = GridSearchCV(pipe, param_grid, cv=kfold, return_train_score=True, verbose=5, n_jobs=3)\n"
   ]
  },
  {
   "cell_type": "code",
   "execution_count": 72,
   "metadata": {},
   "outputs": [
    {
     "name": "stdout",
     "output_type": "stream",
     "text": [
      "Fitting 5 folds for each of 5 candidates, totalling 25 fits\n"
     ]
    },
    {
     "name": "stderr",
     "output_type": "stream",
     "text": [
      "[Parallel(n_jobs=3)]: Using backend LokyBackend with 3 concurrent workers.\n",
      "[Parallel(n_jobs=3)]: Done  12 tasks      | elapsed:    9.8s\n",
      "[Parallel(n_jobs=3)]: Done  25 out of  25 | elapsed:  1.4min finished\n"
     ]
    },
    {
     "data": {
      "text/plain": [
       "{'classifier__C': 1}"
      ]
     },
     "execution_count": 72,
     "metadata": {},
     "output_type": "execute_result"
    }
   ],
   "source": [
    "grid_2.fit(X_train, y_train)\n",
    "grid_2.best_params_"
   ]
  },
  {
   "cell_type": "code",
   "execution_count": 73,
   "metadata": {},
   "outputs": [
    {
     "name": "stdout",
     "output_type": "stream",
     "text": [
      "roc_auc_score: 0.958835084543245\n"
     ]
    }
   ],
   "source": [
    " print(\"roc_auc_score: {}\".format( metrics.roc_auc_score(y_test , grid_2.decision_function(X_test)) ))      "
   ]
  },
  {
   "cell_type": "markdown",
   "metadata": {},
   "source": [
    "### RandomForestClassifier"
   ]
  },
  {
   "cell_type": "code",
   "execution_count": 74,
   "metadata": {},
   "outputs": [],
   "source": [
    "pipe = Pipeline([('preprocessing', transformer), ('classifier', RandomForestClassifier())])\n",
    "\n",
    "param_grid = {\n",
    "            'classifier__n_estimators': [20,45],\n",
    "            'classifier__max_features': [45,100],\n",
    "            'classifier__max_depth': [50,100]\n",
    "}\n",
    "\n",
    "grid_3 = GridSearchCV(pipe, param_grid, cv=kfold, return_train_score=True, verbose=5, n_jobs=3)\n",
    "\n"
   ]
  },
  {
   "cell_type": "code",
   "execution_count": 75,
   "metadata": {},
   "outputs": [
    {
     "name": "stdout",
     "output_type": "stream",
     "text": [
      "Fitting 5 folds for each of 8 candidates, totalling 40 fits\n"
     ]
    },
    {
     "name": "stderr",
     "output_type": "stream",
     "text": [
      "[Parallel(n_jobs=3)]: Using backend LokyBackend with 3 concurrent workers.\n",
      "[Parallel(n_jobs=3)]: Done  12 tasks      | elapsed:    8.6s\n",
      "[Parallel(n_jobs=3)]: Done  40 out of  40 | elapsed:   44.9s finished\n"
     ]
    },
    {
     "data": {
      "text/plain": [
       "GridSearchCV(cv=StratifiedKFold(n_splits=5, random_state=None, shuffle=False),\n",
       "             estimator=Pipeline(steps=[('preprocessing',\n",
       "                                        ColumnTransformer(transformers=[('num',\n",
       "                                                                         Pipeline(steps=[('scale_data',\n",
       "                                                                                          MinMaxScaler())]),\n",
       "                                                                         ['TAXI_OUT',\n",
       "                                                                          'TAXI_IN',\n",
       "                                                                          'DayOfWeek',\n",
       "                                                                          'DEPARTURE_DELAY']),\n",
       "                                                                        ('cat',\n",
       "                                                                         Pipeline(steps=[('encoder',\n",
       "                                                                                          OneHotEncoder(handle_unknown='ignore'))]),\n",
       "                                                                         ['AIRLINE',\n",
       "                                                                          'ORIGIN_AIRPORT_transformed',\n",
       "                                                                          'DESTINATION_AIRPORT_transformed',\n",
       "                                                                          'DEP_TIME',\n",
       "                                                                          'SCH_DEP_TIME',\n",
       "                                                                          'WHEELS_OFF'])])),\n",
       "                                       ('classifier',\n",
       "                                        RandomForestClassifier())]),\n",
       "             n_jobs=3,\n",
       "             param_grid={'classifier__max_depth': [50, 100],\n",
       "                         'classifier__max_features': [45, 100],\n",
       "                         'classifier__n_estimators': [20, 45]},\n",
       "             return_train_score=True, verbose=5)"
      ]
     },
     "execution_count": 75,
     "metadata": {},
     "output_type": "execute_result"
    }
   ],
   "source": [
    "grid_3.fit(X_train, y_train)"
   ]
  },
  {
   "cell_type": "code",
   "execution_count": 76,
   "metadata": {},
   "outputs": [
    {
     "data": {
      "text/plain": [
       "{'classifier__max_depth': 100,\n",
       " 'classifier__max_features': 100,\n",
       " 'classifier__n_estimators': 45}"
      ]
     },
     "execution_count": 76,
     "metadata": {},
     "output_type": "execute_result"
    }
   ],
   "source": [
    "grid_3.best_params_"
   ]
  },
  {
   "cell_type": "code",
   "execution_count": 77,
   "metadata": {},
   "outputs": [
    {
     "name": "stdout",
     "output_type": "stream",
     "text": [
      "Fitting 5 folds for each of 8 candidates, totalling 40 fits\n"
     ]
    },
    {
     "name": "stderr",
     "output_type": "stream",
     "text": [
      "[Parallel(n_jobs=3)]: Using backend LokyBackend with 3 concurrent workers.\n",
      "[Parallel(n_jobs=3)]: Done  12 tasks      | elapsed:    8.2s\n",
      "[Parallel(n_jobs=3)]: Done  40 out of  40 | elapsed:   44.0s finished\n"
     ]
    },
    {
     "data": {
      "text/plain": [
       "{'classifier__max_depth': 100,\n",
       " 'classifier__max_features': 100,\n",
       " 'classifier__n_estimators': 45}"
      ]
     },
     "execution_count": 77,
     "metadata": {},
     "output_type": "execute_result"
    }
   ],
   "source": [
    "grid_3.fit(X_train, y_train)\n",
    "grid_3.best_params_"
   ]
  },
  {
   "cell_type": "markdown",
   "metadata": {},
   "source": [
    "### DecisionTreeClassifier"
   ]
  },
  {
   "cell_type": "code",
   "execution_count": 78,
   "metadata": {},
   "outputs": [],
   "source": [
    "from sklearn.tree import DecisionTreeClassifier\n",
    "\n",
    "pipe_4 = Pipeline([('preprocessing', transformer), \n",
    "                   ('classifier', DecisionTreeClassifier())])\n",
    "\n",
    "param_grid_4 = {\n",
    "            'classifier__max_depth': [10,20,25,30],\n",
    "            'classifier__min_samples_split': [60,80,100],\n",
    "            'classifier__max_leaf_nodes': [60,85,100]\n",
    "}\n",
    "\n",
    "\n",
    "grid_4 = GridSearchCV(pipe_4, param_grid_4, cv=kfold, return_train_score=True, verbose=5, n_jobs=3)\n",
    "\n"
   ]
  },
  {
   "cell_type": "code",
   "execution_count": 79,
   "metadata": {},
   "outputs": [
    {
     "name": "stdout",
     "output_type": "stream",
     "text": [
      "Fitting 5 folds for each of 36 candidates, totalling 180 fits\n"
     ]
    },
    {
     "name": "stderr",
     "output_type": "stream",
     "text": [
      "[Parallel(n_jobs=3)]: Using backend LokyBackend with 3 concurrent workers.\n",
      "[Parallel(n_jobs=3)]: Done  12 tasks      | elapsed:    3.8s\n",
      "[Parallel(n_jobs=3)]: Done  66 tasks      | elapsed:   17.8s\n",
      "[Parallel(n_jobs=3)]: Done 156 tasks      | elapsed:   41.1s\n",
      "[Parallel(n_jobs=3)]: Done 180 out of 180 | elapsed:   47.2s finished\n"
     ]
    },
    {
     "data": {
      "text/plain": [
       "{'classifier__max_depth': 25,\n",
       " 'classifier__max_leaf_nodes': 85,\n",
       " 'classifier__min_samples_split': 100}"
      ]
     },
     "execution_count": 79,
     "metadata": {},
     "output_type": "execute_result"
    }
   ],
   "source": [
    "grid_4.fit(X_train, y_train)\n",
    "grid_4.best_params_"
   ]
  },
  {
   "cell_type": "code",
   "execution_count": 81,
   "metadata": {},
   "outputs": [
    {
     "name": "stdout",
     "output_type": "stream",
     "text": [
      "roc_auc_score: 0.9649638255736873\n"
     ]
    }
   ],
   "source": [
    "print(\"roc_auc_score: {}\".format( metrics.roc_auc_score(y_test , grid_4.predict_proba(X_test)[:,1]) ))"
   ]
  },
  {
   "cell_type": "markdown",
   "metadata": {},
   "source": [
    "### BaggingClassifier"
   ]
  },
  {
   "cell_type": "code",
   "execution_count": 82,
   "metadata": {},
   "outputs": [],
   "source": [
    "from sklearn.ensemble import BaggingClassifier\n",
    "from sklearn.tree import DecisionTreeClassifier\n",
    "\n",
    "pipe_5 = Pipeline([('preprocessing', transformer), \n",
    "                   ('classifier', BaggingClassifier(\n",
    "                                    DecisionTreeClassifier(random_state=42), n_estimators=500,\n",
    "                                    max_samples=100, bootstrap=True, random_state=42))\n",
    "                  ])\n",
    "\n",
    "param_grid_5 = {'classifier__n_estimators': [10,50,100],\n",
    "              'classifier__max_samples': [20,40,60,100]\n",
    "             }\n",
    "\n",
    "grid_5 = GridSearchCV(pipe_5, param_grid_5, cv=kfold, return_train_score=True, verbose=5, n_jobs=3)\n",
    "\n",
    "\n"
   ]
  },
  {
   "cell_type": "code",
   "execution_count": 83,
   "metadata": {},
   "outputs": [
    {
     "name": "stdout",
     "output_type": "stream",
     "text": [
      "Fitting 5 folds for each of 12 candidates, totalling 60 fits\n"
     ]
    },
    {
     "name": "stderr",
     "output_type": "stream",
     "text": [
      "[Parallel(n_jobs=3)]: Using backend LokyBackend with 3 concurrent workers.\n",
      "[Parallel(n_jobs=3)]: Done  12 tasks      | elapsed:    8.4s\n",
      "[Parallel(n_jobs=3)]: Done  60 out of  60 | elapsed:   43.8s finished\n"
     ]
    },
    {
     "data": {
      "text/plain": [
       "{'classifier__max_samples': 100, 'classifier__n_estimators': 10}"
      ]
     },
     "execution_count": 83,
     "metadata": {},
     "output_type": "execute_result"
    }
   ],
   "source": [
    "grid_5.fit(X_train, y_train)\n",
    "grid_5.best_params_"
   ]
  },
  {
   "cell_type": "code",
   "execution_count": 84,
   "metadata": {},
   "outputs": [
    {
     "name": "stdout",
     "output_type": "stream",
     "text": [
      "roc_auc_score: 0.9425888188352267\n"
     ]
    }
   ],
   "source": [
    "print(\"roc_auc_score: {}\".format( metrics.roc_auc_score(y_test , grid_5.predict_proba(X_test)[:,1]) ))"
   ]
  },
  {
   "cell_type": "markdown",
   "metadata": {},
   "source": [
    "## Compering algorithms"
   ]
  },
  {
   "cell_type": "code",
   "execution_count": 85,
   "metadata": {},
   "outputs": [
    {
     "name": "stdout",
     "output_type": "stream",
     "text": [
      "LR\n",
      "precision_score: 0.9166666666666666\n",
      "recall_score: 0.7395885599598595\n",
      "f1_score: 0.8186614829214107\n",
      "accuracy_score: 0.9375896014527382\n",
      "roc_auc_score: 0.9576014871412397\n",
      "SVM linear\n",
      "precision_score: 0.9159049360146252\n",
      "recall_score: 0.7541394882087306\n",
      "f1_score: 0.8271876719867913\n",
      "accuracy_score: 0.9399789735257574\n",
      "roc_auc_score: 0.958835084543245\n",
      "RandomForestClassifier\n",
      "precision_score: 0.9115764979639325\n",
      "recall_score: 0.7862518815855494\n",
      "f1_score: 0.8442887931034482\n",
      "accuracy_score: 0.9447577176717958\n",
      "roc_auc_score: 0.959187735586951\n",
      "DecisionTreeClassifier\n",
      "precision_score: 0.8947963800904978\n",
      "recall_score: 0.7937782237832414\n",
      "f1_score: 0.8412656208455198\n",
      "accuracy_score: 0.9429417948963013\n",
      "roc_auc_score: 0.9649638255736873\n",
      "BaggingClassifier\n",
      "precision_score: 0.9336043360433605\n",
      "recall_score: 0.6914199698946312\n",
      "f1_score: 0.7944652637647737\n",
      "accuracy_score: 0.9318551084774921\n",
      "roc_auc_score: 0.9425888188352267\n"
     ]
    }
   ],
   "source": [
    "\n",
    "\n",
    "models = []\n",
    "models.append(('LR', grid_1.best_estimator_))\n",
    "models.append(('SVM linear', grid_2.best_estimator_))\n",
    "models.append(('RandomForestClassifier', grid_3.best_estimator_))\n",
    "models.append(('DecisionTreeClassifier', grid_4.best_estimator_))\n",
    "models.append(('BaggingClassifier', grid_5.best_estimator_))\n",
    "\n",
    "precision_score = []\n",
    "recall_score = []\n",
    "f1_score = []\n",
    "accuracy_score = []\n",
    "roc_auc_score = []\n",
    "for name, model in models:\n",
    "    print(name)\n",
    "    print(\"precision_score: {}\".format(metrics.precision_score(y_test , model.predict(X_test)) ))\n",
    "    print(\"recall_score: {}\".format( metrics.recall_score(y_test , model.predict(X_test)) ))\n",
    "    print(\"f1_score: {}\".format( metrics.f1_score(y_test , model.predict(X_test)) ))\n",
    "    print(\"accuracy_score: {}\".format( metrics.accuracy_score(y_test , model.predict(X_test)) ))\n",
    "    \n",
    "    if (name == 'SVM linear'):\n",
    "        print(\"roc_auc_score: {}\".format( metrics.roc_auc_score(y_test , model.decision_function(X_test)) ))            \n",
    "    else:\n",
    "        print(\"roc_auc_score: {}\".format( metrics.roc_auc_score(y_test , model.predict_proba(X_test)[:,1]) ))\n",
    "    \n",
    "    precision_score.append(metrics.precision_score(y_test , model.predict(X_test)))\n",
    "    recall_score.append(metrics.recall_score(y_test , model.predict(X_test)))\n",
    "    f1_score.append( metrics.f1_score(y_test , model.predict(X_test)))\n",
    "    accuracy_score.append(metrics.accuracy_score(y_test , model.predict(X_test)))\n",
    "    if (name == 'SVM linear'):\n",
    "        roc_auc_score.append(metrics.roc_auc_score(y_test , model.decision_function(X_test)))        \n",
    "    else:    \n",
    "        roc_auc_score.append(metrics.roc_auc_score(y_test , model.predict_proba(X_test)[:,1]))"
   ]
  },
  {
   "cell_type": "markdown",
   "metadata": {},
   "source": [
    "## Model 2"
   ]
  },
  {
   "cell_type": "markdown",
   "metadata": {},
   "source": [
    "This model will contain only variables that are avaiable before plane take-off."
   ]
  },
  {
   "cell_type": "code",
   "execution_count": 86,
   "metadata": {},
   "outputs": [
    {
     "data": {
      "text/plain": [
       "Index(['AIRLINE', 'FLIGHT_NUMBER', 'TAIL_NUMBER', 'DEPARTURE_DELAY',\n",
       "       'TAXI_OUT', 'WHEELS_OFF', 'SCHEDULED_TIME', 'ELAPSED_TIME', 'AIR_TIME',\n",
       "       'DISTANCE', 'WHEELS_ON', 'TAXI_IN', 'ORIGIN_AIRPORT_transformed',\n",
       "       'DESTINATION_AIRPORT_transformed', 'DEP_TIME', 'SCH_ARR_TIME',\n",
       "       'SCH_DEP_TIME', 'ARR_TIME', 'DATE', 'DayOfWeek', 'Holidays', 'Delayed'],\n",
       "      dtype='object')"
      ]
     },
     "execution_count": 86,
     "metadata": {},
     "output_type": "execute_result"
    }
   ],
   "source": [
    "Flights_Delays_Binary_small.columns"
   ]
  },
  {
   "cell_type": "markdown",
   "metadata": {},
   "source": [
    "Variables that are avaiable before start:\n",
    "\n",
    "'AIRLINE', 'FLIGHT_NUMBER', 'TAIL_NUMBER', ,'ORIGIN_AIRPORT_transformed','DESTINATION_AIRPORT_transformed', 'DEPARTURE_DELAY','TAXI_OUT', 'WHEELS_OFF', 'SCHEDULED_TIME','DISTANCE', 'DEP_TIME', 'SCH_ARR_TIME', 'SCH_DEP_TIME', 'DATE', 'DayOfWeek', 'Holidays', 'Delayed'\n"
   ]
  },
  {
   "cell_type": "code",
   "execution_count": 87,
   "metadata": {},
   "outputs": [],
   "source": [
    "model_2_cols = ['AIRLINE', 'FLIGHT_NUMBER','ORIGIN_AIRPORT_transformed','DESTINATION_AIRPORT_transformed', 'TAIL_NUMBER', 'DEPARTURE_DELAY','TAXI_OUT', 'WHEELS_OFF', 'SCHEDULED_TIME','DISTANCE', 'DEP_TIME', 'SCH_ARR_TIME', 'SCH_DEP_TIME', 'DayOfWeek', 'Holidays', 'Delayed']\n",
    "Flights_Delays_Binary_model_2 = Flights_Delays_Binary_small[model_2_cols]"
   ]
  },
  {
   "cell_type": "code",
   "execution_count": 88,
   "metadata": {},
   "outputs": [
    {
     "data": {
      "text/html": [
       "<div>\n",
       "<style scoped>\n",
       "    .dataframe tbody tr th:only-of-type {\n",
       "        vertical-align: middle;\n",
       "    }\n",
       "\n",
       "    .dataframe tbody tr th {\n",
       "        vertical-align: top;\n",
       "    }\n",
       "\n",
       "    .dataframe thead th {\n",
       "        text-align: right;\n",
       "    }\n",
       "</style>\n",
       "<table border=\"1\" class=\"dataframe\">\n",
       "  <thead>\n",
       "    <tr style=\"text-align: right;\">\n",
       "      <th></th>\n",
       "      <th>FLIGHT_NUMBER</th>\n",
       "      <th>DEPARTURE_DELAY</th>\n",
       "      <th>TAXI_OUT</th>\n",
       "      <th>SCHEDULED_TIME</th>\n",
       "      <th>DISTANCE</th>\n",
       "      <th>DayOfWeek</th>\n",
       "      <th>Holidays</th>\n",
       "      <th>Delayed</th>\n",
       "    </tr>\n",
       "  </thead>\n",
       "  <tbody>\n",
       "    <tr>\n",
       "      <th>2530153</th>\n",
       "      <td>3228</td>\n",
       "      <td>15.0</td>\n",
       "      <td>10.0</td>\n",
       "      <td>85.0</td>\n",
       "      <td>404</td>\n",
       "      <td>1</td>\n",
       "      <td>0</td>\n",
       "      <td>1</td>\n",
       "    </tr>\n",
       "    <tr>\n",
       "      <th>1627160</th>\n",
       "      <td>130</td>\n",
       "      <td>-5.0</td>\n",
       "      <td>8.0</td>\n",
       "      <td>85.0</td>\n",
       "      <td>404</td>\n",
       "      <td>1</td>\n",
       "      <td>0</td>\n",
       "      <td>0</td>\n",
       "    </tr>\n",
       "    <tr>\n",
       "      <th>5496061</th>\n",
       "      <td>4376</td>\n",
       "      <td>-10.0</td>\n",
       "      <td>10.0</td>\n",
       "      <td>110.0</td>\n",
       "      <td>489</td>\n",
       "      <td>4</td>\n",
       "      <td>0</td>\n",
       "      <td>0</td>\n",
       "    </tr>\n",
       "    <tr>\n",
       "      <th>1680495</th>\n",
       "      <td>2037</td>\n",
       "      <td>-1.0</td>\n",
       "      <td>10.0</td>\n",
       "      <td>140.0</td>\n",
       "      <td>861</td>\n",
       "      <td>5</td>\n",
       "      <td>0</td>\n",
       "      <td>0</td>\n",
       "    </tr>\n",
       "    <tr>\n",
       "      <th>5037430</th>\n",
       "      <td>748</td>\n",
       "      <td>-3.0</td>\n",
       "      <td>23.0</td>\n",
       "      <td>224.0</td>\n",
       "      <td>1709</td>\n",
       "      <td>2</td>\n",
       "      <td>0</td>\n",
       "      <td>0</td>\n",
       "    </tr>\n",
       "    <tr>\n",
       "      <th>...</th>\n",
       "      <td>...</td>\n",
       "      <td>...</td>\n",
       "      <td>...</td>\n",
       "      <td>...</td>\n",
       "      <td>...</td>\n",
       "      <td>...</td>\n",
       "      <td>...</td>\n",
       "      <td>...</td>\n",
       "    </tr>\n",
       "    <tr>\n",
       "      <th>5002671</th>\n",
       "      <td>2870</td>\n",
       "      <td>23.0</td>\n",
       "      <td>8.0</td>\n",
       "      <td>105.0</td>\n",
       "      <td>546</td>\n",
       "      <td>0</td>\n",
       "      <td>0</td>\n",
       "      <td>0</td>\n",
       "    </tr>\n",
       "    <tr>\n",
       "      <th>719183</th>\n",
       "      <td>469</td>\n",
       "      <td>-2.0</td>\n",
       "      <td>6.0</td>\n",
       "      <td>150.0</td>\n",
       "      <td>861</td>\n",
       "      <td>1</td>\n",
       "      <td>0</td>\n",
       "      <td>0</td>\n",
       "    </tr>\n",
       "    <tr>\n",
       "      <th>5704990</th>\n",
       "      <td>6520</td>\n",
       "      <td>3.0</td>\n",
       "      <td>19.0</td>\n",
       "      <td>168.0</td>\n",
       "      <td>1013</td>\n",
       "      <td>3</td>\n",
       "      <td>0</td>\n",
       "      <td>0</td>\n",
       "    </tr>\n",
       "    <tr>\n",
       "      <th>4186502</th>\n",
       "      <td>3181</td>\n",
       "      <td>47.0</td>\n",
       "      <td>11.0</td>\n",
       "      <td>120.0</td>\n",
       "      <td>777</td>\n",
       "      <td>4</td>\n",
       "      <td>0</td>\n",
       "      <td>1</td>\n",
       "    </tr>\n",
       "    <tr>\n",
       "      <th>1307401</th>\n",
       "      <td>4292</td>\n",
       "      <td>-7.0</td>\n",
       "      <td>13.0</td>\n",
       "      <td>123.0</td>\n",
       "      <td>637</td>\n",
       "      <td>3</td>\n",
       "      <td>0</td>\n",
       "      <td>0</td>\n",
       "    </tr>\n",
       "  </tbody>\n",
       "</table>\n",
       "<p>52311 rows × 8 columns</p>\n",
       "</div>"
      ],
      "text/plain": [
       "         FLIGHT_NUMBER  DEPARTURE_DELAY  TAXI_OUT  SCHEDULED_TIME  DISTANCE  \\\n",
       "2530153           3228             15.0      10.0            85.0       404   \n",
       "1627160            130             -5.0       8.0            85.0       404   \n",
       "5496061           4376            -10.0      10.0           110.0       489   \n",
       "1680495           2037             -1.0      10.0           140.0       861   \n",
       "5037430            748             -3.0      23.0           224.0      1709   \n",
       "...                ...              ...       ...             ...       ...   \n",
       "5002671           2870             23.0       8.0           105.0       546   \n",
       "719183             469             -2.0       6.0           150.0       861   \n",
       "5704990           6520              3.0      19.0           168.0      1013   \n",
       "4186502           3181             47.0      11.0           120.0       777   \n",
       "1307401           4292             -7.0      13.0           123.0       637   \n",
       "\n",
       "         DayOfWeek  Holidays  Delayed  \n",
       "2530153          1         0        1  \n",
       "1627160          1         0        0  \n",
       "5496061          4         0        0  \n",
       "1680495          5         0        0  \n",
       "5037430          2         0        0  \n",
       "...            ...       ...      ...  \n",
       "5002671          0         0        0  \n",
       "719183           1         0        0  \n",
       "5704990          3         0        0  \n",
       "4186502          4         0        1  \n",
       "1307401          3         0        0  \n",
       "\n",
       "[52311 rows x 8 columns]"
      ]
     },
     "execution_count": 88,
     "metadata": {},
     "output_type": "execute_result"
    }
   ],
   "source": [
    "Flights_Delays_Binary_model_2._get_numeric_data()"
   ]
  },
  {
   "cell_type": "code",
   "execution_count": 89,
   "metadata": {},
   "outputs": [],
   "source": [
    "numeric_columns_model_2 = ['FLIGHT_NUMBER','DEPARTURE_DELAY','TAXI_OUT','DISTANCE','DayOfWeek','Holidays']\n",
    "cat_columns_model_2 = ['AIRLINE','TAIL_NUMBER','ORIGIN_AIRPORT_transformed','DESTINATION_AIRPORT_transformed','WHEELS_OFF','SCHEDULED_TIME','SCH_ARR_TIME','SCH_DEP_TIME']"
   ]
  },
  {
   "cell_type": "code",
   "execution_count": 90,
   "metadata": {},
   "outputs": [],
   "source": [
    "X_train, X_test, y_train, y_test = train_test_split(Flights_Delays_Binary_model_2.drop('Delayed', axis=1),\n",
    "                                                   Flights_Delays_Binary_model_2['Delayed'],\n",
    "                                                   test_size=0.2,\n",
    "                                                   stratify=Flights_Delays_Binary_model_2['Delayed'])"
   ]
  },
  {
   "cell_type": "code",
   "execution_count": 91,
   "metadata": {},
   "outputs": [],
   "source": [
    "# numeric pipeline\n",
    "numeric_transformer = Pipeline(steps=[\n",
    "    ('scale_data', MinMaxScaler())\n",
    "])\n",
    "# categorical pipeline\n",
    "categorical_transformer = Pipeline(steps=[\n",
    "    ('encoder', OneHotEncoder(handle_unknown='ignore'))\n",
    "])\n",
    "# transformer = numerical + categorical\n",
    "transformer = ColumnTransformer([\n",
    "    ('num', numeric_transformer, numeric_columns_model_2),\n",
    "    ('cat', categorical_transformer, cat_columns_model_2)\n",
    "])"
   ]
  },
  {
   "cell_type": "code",
   "execution_count": 92,
   "metadata": {},
   "outputs": [],
   "source": [
    "param_grid = {\n",
    "            'classifier__C': [1, 10, 100,1000],\n",
    "}\n",
    "\n",
    "pipeline = Pipeline(steps=[('preprocessor', transformer),\n",
    "                      ('classifier', LogisticRegression(max_iter=10000, solver='saga'))])\n",
    "\n",
    "grid_1 = GridSearchCV(pipeline, param_grid, cv=kfold, return_train_score=True, verbose=5, n_jobs=3)\n",
    "\n"
   ]
  },
  {
   "cell_type": "code",
   "execution_count": 93,
   "metadata": {},
   "outputs": [
    {
     "name": "stdout",
     "output_type": "stream",
     "text": [
      "Fitting 5 folds for each of 4 candidates, totalling 20 fits\n"
     ]
    },
    {
     "name": "stderr",
     "output_type": "stream",
     "text": [
      "[Parallel(n_jobs=3)]: Using backend LokyBackend with 3 concurrent workers.\n",
      "[Parallel(n_jobs=3)]: Done  12 tasks      | elapsed:   24.2s\n",
      "[Parallel(n_jobs=3)]: Done  20 out of  20 | elapsed:  1.8min remaining:    0.0s\n",
      "[Parallel(n_jobs=3)]: Done  20 out of  20 | elapsed:  1.8min finished\n"
     ]
    },
    {
     "data": {
      "text/plain": [
       "GridSearchCV(cv=StratifiedKFold(n_splits=5, random_state=None, shuffle=False),\n",
       "             estimator=Pipeline(steps=[('preprocessor',\n",
       "                                        ColumnTransformer(transformers=[('num',\n",
       "                                                                         Pipeline(steps=[('scale_data',\n",
       "                                                                                          MinMaxScaler())]),\n",
       "                                                                         ['FLIGHT_NUMBER',\n",
       "                                                                          'DEPARTURE_DELAY',\n",
       "                                                                          'TAXI_OUT',\n",
       "                                                                          'DISTANCE',\n",
       "                                                                          'DayOfWeek',\n",
       "                                                                          'Holidays']),\n",
       "                                                                        ('cat',\n",
       "                                                                         Pipeline(steps=[('encoder',\n",
       "                                                                                          OneHotEncoder(handle_unknown='ignore'))]),\n",
       "                                                                         ['AIRLINE',\n",
       "                                                                          'TAIL_NUMBER',\n",
       "                                                                          'ORIGIN_AIRPORT_transformed',\n",
       "                                                                          'DESTINATION_AIRPORT_transformed',\n",
       "                                                                          'WHEELS_OFF',\n",
       "                                                                          'SCHEDULED_TIME',\n",
       "                                                                          'SCH_ARR_TIME',\n",
       "                                                                          'SCH_DEP_TIME'])])),\n",
       "                                       ('classifier',\n",
       "                                        LogisticRegression(max_iter=10000,\n",
       "                                                           solver='saga'))]),\n",
       "             n_jobs=3, param_grid={'classifier__C': [1, 10, 100, 1000]},\n",
       "             return_train_score=True, verbose=5)"
      ]
     },
     "execution_count": 93,
     "metadata": {},
     "output_type": "execute_result"
    }
   ],
   "source": [
    "grid_1.fit(X_train, y_train)\n"
   ]
  },
  {
   "cell_type": "code",
   "execution_count": 108,
   "metadata": {},
   "outputs": [
    {
     "name": "stdout",
     "output_type": "stream",
     "text": [
      "roc_auc_score: 0.9271084130922839\n"
     ]
    }
   ],
   "source": [
    "from sklearn import  metrics\n",
    "print(\"roc_auc_score: {}\".format( metrics.roc_auc_score(y_test , grid_1.decision_function(X_test)) ))      "
   ]
  },
  {
   "cell_type": "code",
   "execution_count": null,
   "metadata": {},
   "outputs": [],
   "source": []
  },
  {
   "cell_type": "code",
   "execution_count": 94,
   "metadata": {},
   "outputs": [],
   "source": [
    "from sklearn.model_selection import GridSearchCV\n",
    "from sklearn.preprocessing import StandardScaler\n",
    "from sklearn.pipeline import Pipeline\n",
    "from sklearn.svm import LinearSVC\n",
    "from sklearn.svm import SVC\n",
    "\n",
    "pipe = Pipeline([('preprocessing', transformer), ('classifier', LinearSVC(C=1, max_iter=10000))])\n",
    "\n",
    "param_grid = {\n",
    "            'classifier__C': [0.1, 1, 10, 100,1000]\n",
    "}\n",
    "\n",
    "grid_2 = GridSearchCV(pipe, param_grid, cv=kfold, return_train_score=True, verbose=5, n_jobs=3)\n"
   ]
  },
  {
   "cell_type": "code",
   "execution_count": 95,
   "metadata": {},
   "outputs": [
    {
     "name": "stdout",
     "output_type": "stream",
     "text": [
      "Fitting 5 folds for each of 5 candidates, totalling 25 fits\n"
     ]
    },
    {
     "name": "stderr",
     "output_type": "stream",
     "text": [
      "[Parallel(n_jobs=3)]: Using backend LokyBackend with 3 concurrent workers.\n",
      "[Parallel(n_jobs=3)]: Done  12 tasks      | elapsed:   16.7s\n",
      "[Parallel(n_jobs=3)]: Done  25 out of  25 | elapsed:  1.3min finished\n"
     ]
    },
    {
     "data": {
      "text/plain": [
       "{'classifier__C': 1}"
      ]
     },
     "execution_count": 95,
     "metadata": {},
     "output_type": "execute_result"
    }
   ],
   "source": [
    "grid_2.fit(X_train, y_train)\n",
    "grid_2.best_params_"
   ]
  },
  {
   "cell_type": "code",
   "execution_count": 96,
   "metadata": {},
   "outputs": [
    {
     "name": "stdout",
     "output_type": "stream",
     "text": [
      "roc_auc_score: 0.9188532354385568\n"
     ]
    }
   ],
   "source": [
    " print(\"roc_auc_score: {}\".format( metrics.roc_auc_score(y_test , grid_2.decision_function(X_test)) ))      "
   ]
  },
  {
   "cell_type": "code",
   "execution_count": 97,
   "metadata": {},
   "outputs": [],
   "source": [
    "from sklearn.ensemble import RandomForestClassifier \n",
    "\n",
    "pipe = Pipeline([('preprocessing', transformer), ('classifier', RandomForestClassifier())])\n",
    "\n",
    "param_grid = {\n",
    "            'classifier__n_estimators': [20,45],\n",
    "            'classifier__max_features': [45,100],\n",
    "            'classifier__max_depth': [50,100]\n",
    "}\n",
    "\n",
    "grid_3 = GridSearchCV(pipe, param_grid, cv=kfold, return_train_score=True, verbose=5, n_jobs=3)\n",
    "\n"
   ]
  },
  {
   "cell_type": "code",
   "execution_count": 98,
   "metadata": {},
   "outputs": [
    {
     "name": "stdout",
     "output_type": "stream",
     "text": [
      "Fitting 5 folds for each of 8 candidates, totalling 40 fits\n"
     ]
    },
    {
     "name": "stderr",
     "output_type": "stream",
     "text": [
      "[Parallel(n_jobs=3)]: Using backend LokyBackend with 3 concurrent workers.\n",
      "[Parallel(n_jobs=3)]: Done  12 tasks      | elapsed:    8.8s\n",
      "[Parallel(n_jobs=3)]: Done  40 out of  40 | elapsed:   43.7s finished\n"
     ]
    },
    {
     "data": {
      "text/plain": [
       "GridSearchCV(cv=StratifiedKFold(n_splits=5, random_state=None, shuffle=False),\n",
       "             estimator=Pipeline(steps=[('preprocessing',\n",
       "                                        ColumnTransformer(transformers=[('num',\n",
       "                                                                         Pipeline(steps=[('scale_data',\n",
       "                                                                                          MinMaxScaler())]),\n",
       "                                                                         ['FLIGHT_NUMBER',\n",
       "                                                                          'DEPARTURE_DELAY',\n",
       "                                                                          'TAXI_OUT',\n",
       "                                                                          'DISTANCE',\n",
       "                                                                          'DayOfWeek',\n",
       "                                                                          'Holidays']),\n",
       "                                                                        ('cat',\n",
       "                                                                         Pipeline(steps=[('encoder',\n",
       "                                                                                          OneHotEncoder(handle_unknown...\n",
       "                                                                         ['AIRLINE',\n",
       "                                                                          'TAIL_NUMBER',\n",
       "                                                                          'ORIGIN_AIRPORT_transformed',\n",
       "                                                                          'DESTINATION_AIRPORT_transformed',\n",
       "                                                                          'WHEELS_OFF',\n",
       "                                                                          'SCHEDULED_TIME',\n",
       "                                                                          'SCH_ARR_TIME',\n",
       "                                                                          'SCH_DEP_TIME'])])),\n",
       "                                       ('classifier',\n",
       "                                        RandomForestClassifier())]),\n",
       "             n_jobs=3,\n",
       "             param_grid={'classifier__max_depth': [50, 100],\n",
       "                         'classifier__max_features': [45, 100],\n",
       "                         'classifier__n_estimators': [20, 45]},\n",
       "             return_train_score=True, verbose=5)"
      ]
     },
     "execution_count": 98,
     "metadata": {},
     "output_type": "execute_result"
    }
   ],
   "source": [
    "grid_3.fit(X_train, y_train)"
   ]
  },
  {
   "cell_type": "code",
   "execution_count": 99,
   "metadata": {},
   "outputs": [
    {
     "data": {
      "text/plain": [
       "{'classifier__max_depth': 100,\n",
       " 'classifier__max_features': 100,\n",
       " 'classifier__n_estimators': 45}"
      ]
     },
     "execution_count": 99,
     "metadata": {},
     "output_type": "execute_result"
    }
   ],
   "source": [
    "grid_3.best_params_"
   ]
  },
  {
   "cell_type": "code",
   "execution_count": 100,
   "metadata": {},
   "outputs": [
    {
     "name": "stdout",
     "output_type": "stream",
     "text": [
      "Fitting 5 folds for each of 8 candidates, totalling 40 fits\n"
     ]
    },
    {
     "name": "stderr",
     "output_type": "stream",
     "text": [
      "[Parallel(n_jobs=3)]: Using backend LokyBackend with 3 concurrent workers.\n",
      "[Parallel(n_jobs=3)]: Done  12 tasks      | elapsed:    8.9s\n",
      "[Parallel(n_jobs=3)]: Done  40 out of  40 | elapsed:   41.9s finished\n"
     ]
    },
    {
     "data": {
      "text/plain": [
       "{'classifier__max_depth': 100,\n",
       " 'classifier__max_features': 100,\n",
       " 'classifier__n_estimators': 45}"
      ]
     },
     "execution_count": 100,
     "metadata": {},
     "output_type": "execute_result"
    }
   ],
   "source": [
    "grid_3.fit(X_train, y_train)\n",
    "grid_3.best_params_"
   ]
  },
  {
   "cell_type": "code",
   "execution_count": 101,
   "metadata": {},
   "outputs": [],
   "source": [
    "from sklearn.tree import DecisionTreeClassifier\n",
    "\n",
    "pipe_4 = Pipeline([('preprocessing', transformer), \n",
    "                   ('classifier', DecisionTreeClassifier())])\n",
    "\n",
    "param_grid_4 = {\n",
    "            'classifier__max_depth': [10,20,25,30],\n",
    "            'classifier__min_samples_split': [60,80,100],\n",
    "            'classifier__max_leaf_nodes': [60,85,100]\n",
    "}\n",
    "\n",
    "\n",
    "grid_4 = GridSearchCV(pipe_4, param_grid_4, cv=kfold, return_train_score=True, verbose=5, n_jobs=3)\n",
    "\n"
   ]
  },
  {
   "cell_type": "code",
   "execution_count": 102,
   "metadata": {},
   "outputs": [
    {
     "name": "stdout",
     "output_type": "stream",
     "text": [
      "Fitting 5 folds for each of 36 candidates, totalling 180 fits\n"
     ]
    },
    {
     "name": "stderr",
     "output_type": "stream",
     "text": [
      "[Parallel(n_jobs=3)]: Using backend LokyBackend with 3 concurrent workers.\n",
      "[Parallel(n_jobs=3)]: Done  12 tasks      | elapsed:    5.2s\n",
      "[Parallel(n_jobs=3)]: Done  66 tasks      | elapsed:   26.7s\n",
      "[Parallel(n_jobs=3)]: Done 156 tasks      | elapsed:  1.0min\n",
      "[Parallel(n_jobs=3)]: Done 180 out of 180 | elapsed:  1.1min finished\n"
     ]
    },
    {
     "data": {
      "text/plain": [
       "{'classifier__max_depth': 25,\n",
       " 'classifier__max_leaf_nodes': 60,\n",
       " 'classifier__min_samples_split': 100}"
      ]
     },
     "execution_count": 102,
     "metadata": {},
     "output_type": "execute_result"
    }
   ],
   "source": [
    "grid_4.fit(X_train, y_train)\n",
    "grid_4.best_params_"
   ]
  },
  {
   "cell_type": "code",
   "execution_count": 103,
   "metadata": {},
   "outputs": [
    {
     "name": "stdout",
     "output_type": "stream",
     "text": [
      "roc_auc_score: 0.9540904085195469\n"
     ]
    }
   ],
   "source": [
    "print(\"roc_auc_score: {}\".format( metrics.roc_auc_score(y_test , grid_4.predict_proba(X_test)[:,1]) ))"
   ]
  },
  {
   "cell_type": "code",
   "execution_count": 104,
   "metadata": {},
   "outputs": [],
   "source": [
    "from sklearn.ensemble import BaggingClassifier\n",
    "from sklearn.tree import DecisionTreeClassifier\n",
    "\n",
    "pipe_5 = Pipeline([('preprocessing', transformer), \n",
    "                   ('classifier', BaggingClassifier(\n",
    "                                    DecisionTreeClassifier(random_state=42), n_estimators=500,\n",
    "                                    max_samples=100, bootstrap=True, random_state=42))\n",
    "                  ])\n",
    "\n",
    "param_grid_5 = {'classifier__n_estimators': [10,50,100],\n",
    "              'classifier__max_samples': [20,40,60,100]\n",
    "             }\n",
    "\n",
    "grid_5 = GridSearchCV(pipe_5, param_grid_5, cv=kfold, return_train_score=True, verbose=5, n_jobs=3)\n",
    "\n",
    "\n"
   ]
  },
  {
   "cell_type": "code",
   "execution_count": 105,
   "metadata": {},
   "outputs": [
    {
     "name": "stdout",
     "output_type": "stream",
     "text": [
      "Fitting 5 folds for each of 12 candidates, totalling 60 fits\n"
     ]
    },
    {
     "name": "stderr",
     "output_type": "stream",
     "text": [
      "[Parallel(n_jobs=3)]: Using backend LokyBackend with 3 concurrent workers.\n",
      "[Parallel(n_jobs=3)]: Done  12 tasks      | elapsed:   11.0s\n",
      "[Parallel(n_jobs=3)]: Done  60 out of  60 | elapsed:   54.0s finished\n"
     ]
    },
    {
     "data": {
      "text/plain": [
       "{'classifier__max_samples': 100, 'classifier__n_estimators': 10}"
      ]
     },
     "execution_count": 105,
     "metadata": {},
     "output_type": "execute_result"
    }
   ],
   "source": [
    "grid_5.fit(X_train, y_train)\n",
    "grid_5.best_params_"
   ]
  },
  {
   "cell_type": "code",
   "execution_count": 106,
   "metadata": {},
   "outputs": [
    {
     "name": "stdout",
     "output_type": "stream",
     "text": [
      "LR\n",
      "precision_score: 0.8197562540089801\n",
      "recall_score: 0.6412443552433518\n",
      "f1_score: 0.7195945945945946\n",
      "accuracy_score: 0.9048074166109147\n",
      "roc_auc_score: 0.9114511178735965\n",
      "SVM linear\n",
      "precision_score: 0.8308823529411765\n",
      "recall_score: 0.6803813346713498\n",
      "f1_score: 0.7481379310344829\n",
      "accuracy_score: 0.9127401318933385\n",
      "roc_auc_score: 0.9188532354385568\n",
      "RandomForestClassifier\n",
      "precision_score: 0.9186268277177368\n",
      "recall_score: 0.7250376317109885\n",
      "f1_score: 0.8104318564217612\n",
      "accuracy_score: 0.9353913791455606\n",
      "roc_auc_score: 0.9444932114822185\n",
      "DecisionTreeClassifier\n",
      "precision_score: 0.8870412844036697\n",
      "recall_score: 0.7762167586552935\n",
      "f1_score: 0.8279368477388279\n",
      "accuracy_score: 0.9385453502819459\n",
      "roc_auc_score: 0.9540904085195469\n",
      "BaggingClassifier\n",
      "precision_score: 0.8930288461538461\n",
      "recall_score: 0.745609633718013\n",
      "f1_score: 0.8126879956248291\n",
      "accuracy_score: 0.9345312051992737\n",
      "roc_auc_score: 0.9430952844992893\n"
     ]
    }
   ],
   "source": [
    "\n",
    "\n",
    "models = []\n",
    "models.append(('LR', grid_1.best_estimator_))\n",
    "models.append(('SVM linear', grid_2.best_estimator_))\n",
    "models.append(('RandomForestClassifier', grid_3.best_estimator_))\n",
    "models.append(('DecisionTreeClassifier', grid_4.best_estimator_))\n",
    "models.append(('BaggingClassifier', grid_5.best_estimator_))\n",
    "\n",
    "precision_score = []\n",
    "recall_score = []\n",
    "f1_score = []\n",
    "accuracy_score = []\n",
    "roc_auc_score = []\n",
    "for name, model in models:\n",
    "    print(name)\n",
    "    print(\"precision_score: {}\".format(metrics.precision_score(y_test , model.predict(X_test)) ))\n",
    "    print(\"recall_score: {}\".format( metrics.recall_score(y_test , model.predict(X_test)) ))\n",
    "    print(\"f1_score: {}\".format( metrics.f1_score(y_test , model.predict(X_test)) ))\n",
    "    print(\"accuracy_score: {}\".format( metrics.accuracy_score(y_test , model.predict(X_test)) ))\n",
    "    \n",
    "    if (name == 'SVM linear'):\n",
    "        print(\"roc_auc_score: {}\".format( metrics.roc_auc_score(y_test , model.decision_function(X_test)) ))            \n",
    "    else:\n",
    "        print(\"roc_auc_score: {}\".format( metrics.roc_auc_score(y_test , model.predict_proba(X_test)[:,1]) ))\n",
    "    \n",
    "    precision_score.append(metrics.precision_score(y_test , model.predict(X_test)))\n",
    "    recall_score.append(metrics.recall_score(y_test , model.predict(X_test)))\n",
    "    f1_score.append( metrics.f1_score(y_test , model.predict(X_test)))\n",
    "    accuracy_score.append(metrics.accuracy_score(y_test , model.predict(X_test)))\n",
    "    if (name == 'SVM linear'):\n",
    "        roc_auc_score.append(metrics.roc_auc_score(y_test , model.decision_function(X_test)))        \n",
    "    else:    \n",
    "        roc_auc_score.append(metrics.roc_auc_score(y_test , model.predict_proba(X_test)[:,1]))"
   ]
  },
  {
   "cell_type": "code",
   "execution_count": 141,
   "metadata": {},
   "outputs": [],
   "source": [
    "importances = grid_3.best_estimator_._final_estimator.feature_importances_"
   ]
  },
  {
   "cell_type": "code",
   "execution_count": 145,
   "metadata": {},
   "outputs": [
    {
     "data": {
      "text/plain": [
       "array([1.00701539e-02, 5.41179903e-01, 7.14733335e-02, ...,\n",
       "       9.54338112e-06, 0.00000000e+00, 4.83252961e-05])"
      ]
     },
     "execution_count": 145,
     "metadata": {},
     "output_type": "execute_result"
    }
   ],
   "source": [
    "grid_3.best_estimator_.named_steps[\"classifier\"].feature_importances_"
   ]
  },
  {
   "cell_type": "code",
   "execution_count": null,
   "metadata": {},
   "outputs": [],
   "source": []
  }
 ],
 "metadata": {
  "colab": {
   "collapsed_sections": [],
   "name": "Flights_delays.ipynb",
   "provenance": []
  },
  "kernelspec": {
   "display_name": "Python 3",
   "language": "python",
   "name": "python3"
  },
  "language_info": {
   "codemirror_mode": {
    "name": "ipython",
    "version": 3
   },
   "file_extension": ".py",
   "mimetype": "text/x-python",
   "name": "python",
   "nbconvert_exporter": "python",
   "pygments_lexer": "ipython3",
   "version": "3.8.6"
  }
 },
 "nbformat": 4,
 "nbformat_minor": 4
}
