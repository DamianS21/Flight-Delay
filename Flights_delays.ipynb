{
 "cells": [
  {
   "cell_type": "markdown",
   "metadata": {},
   "source": [
    "<a id='head_selection_1'></a>\n",
    "# Predicting flight delation\n",
    "## Description\n",
    "This project is made to analyse, understand and make model of Flight Delays Data from 2015. This data set is part of kaggle datasets: https://www.kaggle.com/usdot/flight-delays\n",
    "## Project assumptions:\n",
    "1. Feature engeneering and data manipluation will be done in seperate notebook\n",
    "2. Data visualization will be done in seprate notebook\n",
    "3. Model will only have variables that are avaiable before plane airborn\n",
    "4. Flight is delayed when delation is at least 15 minutes at arrival\n",
    "5. Model will be predicted as classification problem, where 0 - not delayed, 1 - delayed\n",
    "6. Cancelled and diverted flights will be skipped in that project"
   ]
  },
  {
   "cell_type": "markdown",
   "metadata": {},
   "source": [
    "### Steps\n",
    "- Improting data ✅\n",
    "- Understanding data ✅\n",
    "- Feature engineering ✅\n",
    "- Analysing data ✅\n",
    "-  Plotting data in depend of:\n",
    "    - airport ✅\n",
    "    - airline ✅\n",
    "- Modeling data ✅\n",
    "- Finding best algorithm ✅"
   ]
  },
  {
   "cell_type": "markdown",
   "metadata": {},
   "source": [
    "## Imports"
   ]
  },
  {
   "cell_type": "code",
   "execution_count": 1,
   "metadata": {
    "id": "ZzW0oKOJWk_p"
   },
   "outputs": [],
   "source": [
    "import random\n",
    "import pandas as pd\n",
    "import numpy as np\n",
    "import matplotlib\n",
    "import matplotlib.pyplot as plt\n",
    "import seaborn as sns\n",
    "import datetime\n",
    "from datetime import date \n",
    "from sklearn.model_selection import train_test_split, GridSearchCV\n",
    "from sklearn.linear_model import LogisticRegression\n",
    "from sklearn.pipeline import FeatureUnion, Pipeline\n",
    "from sklearn.preprocessing import MinMaxScaler, StandardScaler\n",
    "from sklearn.preprocessing import OneHotEncoder\n",
    "from sklearn.compose import ColumnTransformer\n",
    "from sklearn.model_selection import GridSearchCV\n",
    "from sklearn.preprocessing import StandardScaler\n",
    "from sklearn.pipeline import Pipeline\n",
    "from sklearn.svm import SVC\n",
    "from sklearn.svm import LinearSVC\n",
    "from sklearn.ensemble import RandomForestClassifier\n",
    "from sklearn import  metrics"
   ]
  },
  {
   "cell_type": "markdown",
   "metadata": {},
   "source": [
    "# Data import"
   ]
  },
  {
   "cell_type": "code",
   "execution_count": 2,
   "metadata": {
    "colab": {
     "base_uri": "https://localhost:8080/"
    },
    "id": "zu9r6D8Oc3ln",
    "outputId": "004550a2-a0f4-41fa-a6e2-040a2bcf4866"
   },
   "outputs": [
    {
     "name": "stderr",
     "output_type": "stream",
     "text": [
      "C:\\Users\\damix\\AppData\\Local\\Packages\\PythonSoftwareFoundation.Python.3.8_qbz5n2kfra8p0\\LocalCache\\local-packages\\Python38\\site-packages\\IPython\\core\\interactiveshell.py:3062: DtypeWarning: Columns (7,8) have mixed types.Specify dtype option on import or set low_memory=False.\n",
      "  has_raised = await self.run_ast_nodes(code_ast.body, cell_name,\n"
     ]
    }
   ],
   "source": [
    "data = pd.read_csv('DATA/flights.csv')"
   ]
  },
  {
   "cell_type": "markdown",
   "metadata": {},
   "source": [
    "####  Warning informs that columns 7 and 8 have data types mixed. This is a very important point for the future. (1)"
   ]
  },
  {
   "cell_type": "code",
   "execution_count": 3,
   "metadata": {
    "colab": {
     "base_uri": "https://localhost:8080/"
    },
    "id": "UWdq_jW4dlBN",
    "outputId": "7e02c622-2c1c-4e64-f833-5d2fc61abc21"
   },
   "outputs": [
    {
     "name": "stdout",
     "output_type": "stream",
     "text": [
      "(5819079, 31)\n"
     ]
    }
   ],
   "source": [
    "print(data.shape)"
   ]
  },
  {
   "cell_type": "code",
   "execution_count": 4,
   "metadata": {
    "colab": {
     "base_uri": "https://localhost:8080/",
     "height": 226
    },
    "id": "shaK2Q35eU45",
    "outputId": "8d60ecad-0615-4c5c-b801-0f9d10823e7b"
   },
   "outputs": [
    {
     "data": {
      "text/html": [
       "<div>\n",
       "<style scoped>\n",
       "    .dataframe tbody tr th:only-of-type {\n",
       "        vertical-align: middle;\n",
       "    }\n",
       "\n",
       "    .dataframe tbody tr th {\n",
       "        vertical-align: top;\n",
       "    }\n",
       "\n",
       "    .dataframe thead th {\n",
       "        text-align: right;\n",
       "    }\n",
       "</style>\n",
       "<table border=\"1\" class=\"dataframe\">\n",
       "  <thead>\n",
       "    <tr style=\"text-align: right;\">\n",
       "      <th></th>\n",
       "      <th>YEAR</th>\n",
       "      <th>MONTH</th>\n",
       "      <th>DAY</th>\n",
       "      <th>DAY_OF_WEEK</th>\n",
       "      <th>AIRLINE</th>\n",
       "      <th>FLIGHT_NUMBER</th>\n",
       "      <th>TAIL_NUMBER</th>\n",
       "      <th>ORIGIN_AIRPORT</th>\n",
       "      <th>DESTINATION_AIRPORT</th>\n",
       "      <th>SCHEDULED_DEPARTURE</th>\n",
       "      <th>...</th>\n",
       "      <th>ARRIVAL_TIME</th>\n",
       "      <th>ARRIVAL_DELAY</th>\n",
       "      <th>DIVERTED</th>\n",
       "      <th>CANCELLED</th>\n",
       "      <th>CANCELLATION_REASON</th>\n",
       "      <th>AIR_SYSTEM_DELAY</th>\n",
       "      <th>SECURITY_DELAY</th>\n",
       "      <th>AIRLINE_DELAY</th>\n",
       "      <th>LATE_AIRCRAFT_DELAY</th>\n",
       "      <th>WEATHER_DELAY</th>\n",
       "    </tr>\n",
       "  </thead>\n",
       "  <tbody>\n",
       "    <tr>\n",
       "      <th>0</th>\n",
       "      <td>2015</td>\n",
       "      <td>1</td>\n",
       "      <td>1</td>\n",
       "      <td>4</td>\n",
       "      <td>AS</td>\n",
       "      <td>98</td>\n",
       "      <td>N407AS</td>\n",
       "      <td>ANC</td>\n",
       "      <td>SEA</td>\n",
       "      <td>5</td>\n",
       "      <td>...</td>\n",
       "      <td>408.0</td>\n",
       "      <td>-22.0</td>\n",
       "      <td>0</td>\n",
       "      <td>0</td>\n",
       "      <td>NaN</td>\n",
       "      <td>NaN</td>\n",
       "      <td>NaN</td>\n",
       "      <td>NaN</td>\n",
       "      <td>NaN</td>\n",
       "      <td>NaN</td>\n",
       "    </tr>\n",
       "    <tr>\n",
       "      <th>1</th>\n",
       "      <td>2015</td>\n",
       "      <td>1</td>\n",
       "      <td>1</td>\n",
       "      <td>4</td>\n",
       "      <td>AA</td>\n",
       "      <td>2336</td>\n",
       "      <td>N3KUAA</td>\n",
       "      <td>LAX</td>\n",
       "      <td>PBI</td>\n",
       "      <td>10</td>\n",
       "      <td>...</td>\n",
       "      <td>741.0</td>\n",
       "      <td>-9.0</td>\n",
       "      <td>0</td>\n",
       "      <td>0</td>\n",
       "      <td>NaN</td>\n",
       "      <td>NaN</td>\n",
       "      <td>NaN</td>\n",
       "      <td>NaN</td>\n",
       "      <td>NaN</td>\n",
       "      <td>NaN</td>\n",
       "    </tr>\n",
       "    <tr>\n",
       "      <th>2</th>\n",
       "      <td>2015</td>\n",
       "      <td>1</td>\n",
       "      <td>1</td>\n",
       "      <td>4</td>\n",
       "      <td>US</td>\n",
       "      <td>840</td>\n",
       "      <td>N171US</td>\n",
       "      <td>SFO</td>\n",
       "      <td>CLT</td>\n",
       "      <td>20</td>\n",
       "      <td>...</td>\n",
       "      <td>811.0</td>\n",
       "      <td>5.0</td>\n",
       "      <td>0</td>\n",
       "      <td>0</td>\n",
       "      <td>NaN</td>\n",
       "      <td>NaN</td>\n",
       "      <td>NaN</td>\n",
       "      <td>NaN</td>\n",
       "      <td>NaN</td>\n",
       "      <td>NaN</td>\n",
       "    </tr>\n",
       "    <tr>\n",
       "      <th>3</th>\n",
       "      <td>2015</td>\n",
       "      <td>1</td>\n",
       "      <td>1</td>\n",
       "      <td>4</td>\n",
       "      <td>AA</td>\n",
       "      <td>258</td>\n",
       "      <td>N3HYAA</td>\n",
       "      <td>LAX</td>\n",
       "      <td>MIA</td>\n",
       "      <td>20</td>\n",
       "      <td>...</td>\n",
       "      <td>756.0</td>\n",
       "      <td>-9.0</td>\n",
       "      <td>0</td>\n",
       "      <td>0</td>\n",
       "      <td>NaN</td>\n",
       "      <td>NaN</td>\n",
       "      <td>NaN</td>\n",
       "      <td>NaN</td>\n",
       "      <td>NaN</td>\n",
       "      <td>NaN</td>\n",
       "    </tr>\n",
       "    <tr>\n",
       "      <th>4</th>\n",
       "      <td>2015</td>\n",
       "      <td>1</td>\n",
       "      <td>1</td>\n",
       "      <td>4</td>\n",
       "      <td>AS</td>\n",
       "      <td>135</td>\n",
       "      <td>N527AS</td>\n",
       "      <td>SEA</td>\n",
       "      <td>ANC</td>\n",
       "      <td>25</td>\n",
       "      <td>...</td>\n",
       "      <td>259.0</td>\n",
       "      <td>-21.0</td>\n",
       "      <td>0</td>\n",
       "      <td>0</td>\n",
       "      <td>NaN</td>\n",
       "      <td>NaN</td>\n",
       "      <td>NaN</td>\n",
       "      <td>NaN</td>\n",
       "      <td>NaN</td>\n",
       "      <td>NaN</td>\n",
       "    </tr>\n",
       "  </tbody>\n",
       "</table>\n",
       "<p>5 rows × 31 columns</p>\n",
       "</div>"
      ],
      "text/plain": [
       "   YEAR  MONTH  DAY  DAY_OF_WEEK AIRLINE  FLIGHT_NUMBER TAIL_NUMBER  \\\n",
       "0  2015      1    1            4      AS             98      N407AS   \n",
       "1  2015      1    1            4      AA           2336      N3KUAA   \n",
       "2  2015      1    1            4      US            840      N171US   \n",
       "3  2015      1    1            4      AA            258      N3HYAA   \n",
       "4  2015      1    1            4      AS            135      N527AS   \n",
       "\n",
       "  ORIGIN_AIRPORT DESTINATION_AIRPORT  SCHEDULED_DEPARTURE  ...  ARRIVAL_TIME  \\\n",
       "0            ANC                 SEA                    5  ...         408.0   \n",
       "1            LAX                 PBI                   10  ...         741.0   \n",
       "2            SFO                 CLT                   20  ...         811.0   \n",
       "3            LAX                 MIA                   20  ...         756.0   \n",
       "4            SEA                 ANC                   25  ...         259.0   \n",
       "\n",
       "   ARRIVAL_DELAY  DIVERTED  CANCELLED  CANCELLATION_REASON  AIR_SYSTEM_DELAY  \\\n",
       "0          -22.0         0          0                  NaN               NaN   \n",
       "1           -9.0         0          0                  NaN               NaN   \n",
       "2            5.0         0          0                  NaN               NaN   \n",
       "3           -9.0         0          0                  NaN               NaN   \n",
       "4          -21.0         0          0                  NaN               NaN   \n",
       "\n",
       "   SECURITY_DELAY  AIRLINE_DELAY  LATE_AIRCRAFT_DELAY  WEATHER_DELAY  \n",
       "0             NaN            NaN                  NaN            NaN  \n",
       "1             NaN            NaN                  NaN            NaN  \n",
       "2             NaN            NaN                  NaN            NaN  \n",
       "3             NaN            NaN                  NaN            NaN  \n",
       "4             NaN            NaN                  NaN            NaN  \n",
       "\n",
       "[5 rows x 31 columns]"
      ]
     },
     "execution_count": 4,
     "metadata": {},
     "output_type": "execute_result"
    }
   ],
   "source": [
    "data.head()"
   ]
  },
  {
   "cell_type": "code",
   "execution_count": 5,
   "metadata": {
    "colab": {
     "base_uri": "https://localhost:8080/",
     "height": 320
    },
    "id": "prq11qKkenC4",
    "outputId": "65209594-2938-416c-ee7d-9d88321ddcb7",
    "scrolled": true
   },
   "outputs": [
    {
     "data": {
      "text/html": [
       "<div>\n",
       "<style scoped>\n",
       "    .dataframe tbody tr th:only-of-type {\n",
       "        vertical-align: middle;\n",
       "    }\n",
       "\n",
       "    .dataframe tbody tr th {\n",
       "        vertical-align: top;\n",
       "    }\n",
       "\n",
       "    .dataframe thead th {\n",
       "        text-align: right;\n",
       "    }\n",
       "</style>\n",
       "<table border=\"1\" class=\"dataframe\">\n",
       "  <thead>\n",
       "    <tr style=\"text-align: right;\">\n",
       "      <th></th>\n",
       "      <th>YEAR</th>\n",
       "      <th>MONTH</th>\n",
       "      <th>DAY</th>\n",
       "      <th>DAY_OF_WEEK</th>\n",
       "      <th>FLIGHT_NUMBER</th>\n",
       "      <th>SCHEDULED_DEPARTURE</th>\n",
       "      <th>DEPARTURE_TIME</th>\n",
       "      <th>DEPARTURE_DELAY</th>\n",
       "      <th>TAXI_OUT</th>\n",
       "      <th>WHEELS_OFF</th>\n",
       "      <th>...</th>\n",
       "      <th>SCHEDULED_ARRIVAL</th>\n",
       "      <th>ARRIVAL_TIME</th>\n",
       "      <th>ARRIVAL_DELAY</th>\n",
       "      <th>DIVERTED</th>\n",
       "      <th>CANCELLED</th>\n",
       "      <th>AIR_SYSTEM_DELAY</th>\n",
       "      <th>SECURITY_DELAY</th>\n",
       "      <th>AIRLINE_DELAY</th>\n",
       "      <th>LATE_AIRCRAFT_DELAY</th>\n",
       "      <th>WEATHER_DELAY</th>\n",
       "    </tr>\n",
       "  </thead>\n",
       "  <tbody>\n",
       "    <tr>\n",
       "      <th>count</th>\n",
       "      <td>5819079.0</td>\n",
       "      <td>5.819079e+06</td>\n",
       "      <td>5.819079e+06</td>\n",
       "      <td>5.819079e+06</td>\n",
       "      <td>5.819079e+06</td>\n",
       "      <td>5.819079e+06</td>\n",
       "      <td>5.732926e+06</td>\n",
       "      <td>5.732926e+06</td>\n",
       "      <td>5.730032e+06</td>\n",
       "      <td>5.730032e+06</td>\n",
       "      <td>...</td>\n",
       "      <td>5.819079e+06</td>\n",
       "      <td>5.726566e+06</td>\n",
       "      <td>5.714008e+06</td>\n",
       "      <td>5.819079e+06</td>\n",
       "      <td>5.819079e+06</td>\n",
       "      <td>1.063439e+06</td>\n",
       "      <td>1.063439e+06</td>\n",
       "      <td>1.063439e+06</td>\n",
       "      <td>1.063439e+06</td>\n",
       "      <td>1.063439e+06</td>\n",
       "    </tr>\n",
       "    <tr>\n",
       "      <th>mean</th>\n",
       "      <td>2015.0</td>\n",
       "      <td>6.524085e+00</td>\n",
       "      <td>1.570459e+01</td>\n",
       "      <td>3.926941e+00</td>\n",
       "      <td>2.173093e+03</td>\n",
       "      <td>1.329602e+03</td>\n",
       "      <td>1.335204e+03</td>\n",
       "      <td>9.370158e+00</td>\n",
       "      <td>1.607166e+01</td>\n",
       "      <td>1.357171e+03</td>\n",
       "      <td>...</td>\n",
       "      <td>1.493808e+03</td>\n",
       "      <td>1.476491e+03</td>\n",
       "      <td>4.407057e+00</td>\n",
       "      <td>2.609863e-03</td>\n",
       "      <td>1.544643e-02</td>\n",
       "      <td>1.348057e+01</td>\n",
       "      <td>7.615387e-02</td>\n",
       "      <td>1.896955e+01</td>\n",
       "      <td>2.347284e+01</td>\n",
       "      <td>2.915290e+00</td>\n",
       "    </tr>\n",
       "    <tr>\n",
       "      <th>std</th>\n",
       "      <td>0.0</td>\n",
       "      <td>3.405137e+00</td>\n",
       "      <td>8.783425e+00</td>\n",
       "      <td>1.988845e+00</td>\n",
       "      <td>1.757064e+03</td>\n",
       "      <td>4.837518e+02</td>\n",
       "      <td>4.964233e+02</td>\n",
       "      <td>3.708094e+01</td>\n",
       "      <td>8.895574e+00</td>\n",
       "      <td>4.980094e+02</td>\n",
       "      <td>...</td>\n",
       "      <td>5.071647e+02</td>\n",
       "      <td>5.263197e+02</td>\n",
       "      <td>3.927130e+01</td>\n",
       "      <td>5.102012e-02</td>\n",
       "      <td>1.233201e-01</td>\n",
       "      <td>2.800368e+01</td>\n",
       "      <td>2.143460e+00</td>\n",
       "      <td>4.816164e+01</td>\n",
       "      <td>4.319702e+01</td>\n",
       "      <td>2.043334e+01</td>\n",
       "    </tr>\n",
       "    <tr>\n",
       "      <th>min</th>\n",
       "      <td>2015.0</td>\n",
       "      <td>1.000000e+00</td>\n",
       "      <td>1.000000e+00</td>\n",
       "      <td>1.000000e+00</td>\n",
       "      <td>1.000000e+00</td>\n",
       "      <td>1.000000e+00</td>\n",
       "      <td>1.000000e+00</td>\n",
       "      <td>-8.200000e+01</td>\n",
       "      <td>1.000000e+00</td>\n",
       "      <td>1.000000e+00</td>\n",
       "      <td>...</td>\n",
       "      <td>1.000000e+00</td>\n",
       "      <td>1.000000e+00</td>\n",
       "      <td>-8.700000e+01</td>\n",
       "      <td>0.000000e+00</td>\n",
       "      <td>0.000000e+00</td>\n",
       "      <td>0.000000e+00</td>\n",
       "      <td>0.000000e+00</td>\n",
       "      <td>0.000000e+00</td>\n",
       "      <td>0.000000e+00</td>\n",
       "      <td>0.000000e+00</td>\n",
       "    </tr>\n",
       "    <tr>\n",
       "      <th>25%</th>\n",
       "      <td>2015.0</td>\n",
       "      <td>4.000000e+00</td>\n",
       "      <td>8.000000e+00</td>\n",
       "      <td>2.000000e+00</td>\n",
       "      <td>7.300000e+02</td>\n",
       "      <td>9.170000e+02</td>\n",
       "      <td>9.210000e+02</td>\n",
       "      <td>-5.000000e+00</td>\n",
       "      <td>1.100000e+01</td>\n",
       "      <td>9.350000e+02</td>\n",
       "      <td>...</td>\n",
       "      <td>1.110000e+03</td>\n",
       "      <td>1.059000e+03</td>\n",
       "      <td>-1.300000e+01</td>\n",
       "      <td>0.000000e+00</td>\n",
       "      <td>0.000000e+00</td>\n",
       "      <td>0.000000e+00</td>\n",
       "      <td>0.000000e+00</td>\n",
       "      <td>0.000000e+00</td>\n",
       "      <td>0.000000e+00</td>\n",
       "      <td>0.000000e+00</td>\n",
       "    </tr>\n",
       "    <tr>\n",
       "      <th>50%</th>\n",
       "      <td>2015.0</td>\n",
       "      <td>7.000000e+00</td>\n",
       "      <td>1.600000e+01</td>\n",
       "      <td>4.000000e+00</td>\n",
       "      <td>1.690000e+03</td>\n",
       "      <td>1.325000e+03</td>\n",
       "      <td>1.330000e+03</td>\n",
       "      <td>-2.000000e+00</td>\n",
       "      <td>1.400000e+01</td>\n",
       "      <td>1.343000e+03</td>\n",
       "      <td>...</td>\n",
       "      <td>1.520000e+03</td>\n",
       "      <td>1.512000e+03</td>\n",
       "      <td>-5.000000e+00</td>\n",
       "      <td>0.000000e+00</td>\n",
       "      <td>0.000000e+00</td>\n",
       "      <td>2.000000e+00</td>\n",
       "      <td>0.000000e+00</td>\n",
       "      <td>2.000000e+00</td>\n",
       "      <td>3.000000e+00</td>\n",
       "      <td>0.000000e+00</td>\n",
       "    </tr>\n",
       "    <tr>\n",
       "      <th>75%</th>\n",
       "      <td>2015.0</td>\n",
       "      <td>9.000000e+00</td>\n",
       "      <td>2.300000e+01</td>\n",
       "      <td>6.000000e+00</td>\n",
       "      <td>3.230000e+03</td>\n",
       "      <td>1.730000e+03</td>\n",
       "      <td>1.740000e+03</td>\n",
       "      <td>7.000000e+00</td>\n",
       "      <td>1.900000e+01</td>\n",
       "      <td>1.754000e+03</td>\n",
       "      <td>...</td>\n",
       "      <td>1.918000e+03</td>\n",
       "      <td>1.917000e+03</td>\n",
       "      <td>8.000000e+00</td>\n",
       "      <td>0.000000e+00</td>\n",
       "      <td>0.000000e+00</td>\n",
       "      <td>1.800000e+01</td>\n",
       "      <td>0.000000e+00</td>\n",
       "      <td>1.900000e+01</td>\n",
       "      <td>2.900000e+01</td>\n",
       "      <td>0.000000e+00</td>\n",
       "    </tr>\n",
       "    <tr>\n",
       "      <th>max</th>\n",
       "      <td>2015.0</td>\n",
       "      <td>1.200000e+01</td>\n",
       "      <td>3.100000e+01</td>\n",
       "      <td>7.000000e+00</td>\n",
       "      <td>9.855000e+03</td>\n",
       "      <td>2.359000e+03</td>\n",
       "      <td>2.400000e+03</td>\n",
       "      <td>1.988000e+03</td>\n",
       "      <td>2.250000e+02</td>\n",
       "      <td>2.400000e+03</td>\n",
       "      <td>...</td>\n",
       "      <td>2.400000e+03</td>\n",
       "      <td>2.400000e+03</td>\n",
       "      <td>1.971000e+03</td>\n",
       "      <td>1.000000e+00</td>\n",
       "      <td>1.000000e+00</td>\n",
       "      <td>1.134000e+03</td>\n",
       "      <td>5.730000e+02</td>\n",
       "      <td>1.971000e+03</td>\n",
       "      <td>1.331000e+03</td>\n",
       "      <td>1.211000e+03</td>\n",
       "    </tr>\n",
       "  </tbody>\n",
       "</table>\n",
       "<p>8 rows × 26 columns</p>\n",
       "</div>"
      ],
      "text/plain": [
       "            YEAR         MONTH           DAY   DAY_OF_WEEK  FLIGHT_NUMBER  \\\n",
       "count  5819079.0  5.819079e+06  5.819079e+06  5.819079e+06   5.819079e+06   \n",
       "mean      2015.0  6.524085e+00  1.570459e+01  3.926941e+00   2.173093e+03   \n",
       "std          0.0  3.405137e+00  8.783425e+00  1.988845e+00   1.757064e+03   \n",
       "min       2015.0  1.000000e+00  1.000000e+00  1.000000e+00   1.000000e+00   \n",
       "25%       2015.0  4.000000e+00  8.000000e+00  2.000000e+00   7.300000e+02   \n",
       "50%       2015.0  7.000000e+00  1.600000e+01  4.000000e+00   1.690000e+03   \n",
       "75%       2015.0  9.000000e+00  2.300000e+01  6.000000e+00   3.230000e+03   \n",
       "max       2015.0  1.200000e+01  3.100000e+01  7.000000e+00   9.855000e+03   \n",
       "\n",
       "       SCHEDULED_DEPARTURE  DEPARTURE_TIME  DEPARTURE_DELAY      TAXI_OUT  \\\n",
       "count         5.819079e+06    5.732926e+06     5.732926e+06  5.730032e+06   \n",
       "mean          1.329602e+03    1.335204e+03     9.370158e+00  1.607166e+01   \n",
       "std           4.837518e+02    4.964233e+02     3.708094e+01  8.895574e+00   \n",
       "min           1.000000e+00    1.000000e+00    -8.200000e+01  1.000000e+00   \n",
       "25%           9.170000e+02    9.210000e+02    -5.000000e+00  1.100000e+01   \n",
       "50%           1.325000e+03    1.330000e+03    -2.000000e+00  1.400000e+01   \n",
       "75%           1.730000e+03    1.740000e+03     7.000000e+00  1.900000e+01   \n",
       "max           2.359000e+03    2.400000e+03     1.988000e+03  2.250000e+02   \n",
       "\n",
       "         WHEELS_OFF  ...  SCHEDULED_ARRIVAL  ARRIVAL_TIME  ARRIVAL_DELAY  \\\n",
       "count  5.730032e+06  ...       5.819079e+06  5.726566e+06   5.714008e+06   \n",
       "mean   1.357171e+03  ...       1.493808e+03  1.476491e+03   4.407057e+00   \n",
       "std    4.980094e+02  ...       5.071647e+02  5.263197e+02   3.927130e+01   \n",
       "min    1.000000e+00  ...       1.000000e+00  1.000000e+00  -8.700000e+01   \n",
       "25%    9.350000e+02  ...       1.110000e+03  1.059000e+03  -1.300000e+01   \n",
       "50%    1.343000e+03  ...       1.520000e+03  1.512000e+03  -5.000000e+00   \n",
       "75%    1.754000e+03  ...       1.918000e+03  1.917000e+03   8.000000e+00   \n",
       "max    2.400000e+03  ...       2.400000e+03  2.400000e+03   1.971000e+03   \n",
       "\n",
       "           DIVERTED     CANCELLED  AIR_SYSTEM_DELAY  SECURITY_DELAY  \\\n",
       "count  5.819079e+06  5.819079e+06      1.063439e+06    1.063439e+06   \n",
       "mean   2.609863e-03  1.544643e-02      1.348057e+01    7.615387e-02   \n",
       "std    5.102012e-02  1.233201e-01      2.800368e+01    2.143460e+00   \n",
       "min    0.000000e+00  0.000000e+00      0.000000e+00    0.000000e+00   \n",
       "25%    0.000000e+00  0.000000e+00      0.000000e+00    0.000000e+00   \n",
       "50%    0.000000e+00  0.000000e+00      2.000000e+00    0.000000e+00   \n",
       "75%    0.000000e+00  0.000000e+00      1.800000e+01    0.000000e+00   \n",
       "max    1.000000e+00  1.000000e+00      1.134000e+03    5.730000e+02   \n",
       "\n",
       "       AIRLINE_DELAY  LATE_AIRCRAFT_DELAY  WEATHER_DELAY  \n",
       "count   1.063439e+06         1.063439e+06   1.063439e+06  \n",
       "mean    1.896955e+01         2.347284e+01   2.915290e+00  \n",
       "std     4.816164e+01         4.319702e+01   2.043334e+01  \n",
       "min     0.000000e+00         0.000000e+00   0.000000e+00  \n",
       "25%     0.000000e+00         0.000000e+00   0.000000e+00  \n",
       "50%     2.000000e+00         3.000000e+00   0.000000e+00  \n",
       "75%     1.900000e+01         2.900000e+01   0.000000e+00  \n",
       "max     1.971000e+03         1.331000e+03   1.211000e+03  \n",
       "\n",
       "[8 rows x 26 columns]"
      ]
     },
     "execution_count": 5,
     "metadata": {},
     "output_type": "execute_result"
    }
   ],
   "source": [
    "data.describe()"
   ]
  },
  {
   "cell_type": "markdown",
   "metadata": {},
   "source": [
    "# Understanding variables"
   ]
  },
  {
   "cell_type": "markdown",
   "metadata": {},
   "source": [
    "* *YEAR*, *MONTH*, *DAY*, *DAY_OF_WEEK* - dates of the flight\n",
    "* AIRLINE  -An identification number assigned by US GOV to identify a unique airline\n",
    "* FLIGHT_NUMBER -The common unique flight number of the flight.\n",
    "* TAIL_NUMBER -  The unique aircraft number.\n",
    "* ORIGIN_AIRPORT, DESTINATION_AIRPORT - code attributed by IATA to identify the airports\n",
    "* SCHEDULED_DEPARTURE - scheduled time of departure\n",
    "* SCHEDULED_ARRIVAL - scheduled time of arrival\n",
    "* DEPARTURE_TIME, ARRIVAL_TIME - real times at which take-off and landing took place\n",
    "* DEPARTURE_DELAY, ARRIVAL_DELAY - difference (in minutes) between planned and real times\n",
    "* TAXI_OUT - elapsed time from gate to take-off\n",
    "* WHEELS_OFF - time of take off\n",
    "* SCHEDULED_TIME - scheduled duration of flight\n",
    "* ELAPSED_TIME - time elapsed from taxi out to taxi in\n",
    "* AIR_TIME - air time of flight\n",
    "* DISTANCE - distance of flight (in miles),\n",
    "* WHEELS_ON -  time of landing\n",
    "* TAXI_IN - time that elapsed from landing and docking in gate\n",
    "* DIVERTED - 1 if flight have been diverted and landed on another airport that scheduled\n",
    "* CANCELLED - 1 if flight have been canceleed\n",
    "* CANCELLATION_REASON - reson of flight cancellation\n",
    "* AIR_SYSTEM_DELAY, SECURITY_DELAY, AIRLINE_DELAY, LATE_AIRCRAFT_DELAY, WEATHER_DELAY - reasons of delay"
   ]
  },
  {
   "cell_type": "markdown",
   "metadata": {},
   "source": [
    "***\n",
    "# Feature engineering"
   ]
  },
  {
   "cell_type": "markdown",
   "metadata": {},
   "source": [
    "Whole process of data transformation has been implemented in [Flights_data_transformation notebook](Flight_data_transformation.ipynb#head_selection_3) and implemented in flight_data_transformer function in flight_data_transformation.py file."
   ]
  },
  {
   "cell_type": "code",
   "execution_count": 6,
   "metadata": {},
   "outputs": [],
   "source": [
    "import flight_data_transformation as fdf"
   ]
  },
  {
   "cell_type": "code",
   "execution_count": 7,
   "metadata": {},
   "outputs": [],
   "source": [
    "Flights_Delays_Combined = fdf.flight_data_transformer(data)"
   ]
  },
  {
   "cell_type": "code",
   "execution_count": 8,
   "metadata": {},
   "outputs": [
    {
     "data": {
      "text/html": [
       "<div>\n",
       "<style scoped>\n",
       "    .dataframe tbody tr th:only-of-type {\n",
       "        vertical-align: middle;\n",
       "    }\n",
       "\n",
       "    .dataframe tbody tr th {\n",
       "        vertical-align: top;\n",
       "    }\n",
       "\n",
       "    .dataframe thead th {\n",
       "        text-align: right;\n",
       "    }\n",
       "</style>\n",
       "<table border=\"1\" class=\"dataframe\">\n",
       "  <thead>\n",
       "    <tr style=\"text-align: right;\">\n",
       "      <th></th>\n",
       "      <th>AIRLINE</th>\n",
       "      <th>FLIGHT_NUMBER</th>\n",
       "      <th>TAIL_NUMBER</th>\n",
       "      <th>ORIGIN_AIRPORT</th>\n",
       "      <th>DESTINATION_AIRPORT</th>\n",
       "      <th>DEPARTURE_DELAY</th>\n",
       "      <th>TAXI_OUT</th>\n",
       "      <th>WHEELS_OFF</th>\n",
       "      <th>SCHEDULED_TIME</th>\n",
       "      <th>ELAPSED_TIME</th>\n",
       "      <th>...</th>\n",
       "      <th>WHEELS_ON</th>\n",
       "      <th>TAXI_IN</th>\n",
       "      <th>ARRIVAL_DELAY</th>\n",
       "      <th>DEP_TIME</th>\n",
       "      <th>SCH_ARR_TIME</th>\n",
       "      <th>SCH_DEP_TIME</th>\n",
       "      <th>ARR_TIME</th>\n",
       "      <th>DATE</th>\n",
       "      <th>DayOfWeek</th>\n",
       "      <th>Holidays</th>\n",
       "    </tr>\n",
       "  </thead>\n",
       "  <tbody>\n",
       "    <tr>\n",
       "      <th>0</th>\n",
       "      <td>AS</td>\n",
       "      <td>98</td>\n",
       "      <td>N407AS</td>\n",
       "      <td>ANC</td>\n",
       "      <td>SEA</td>\n",
       "      <td>-11.0</td>\n",
       "      <td>21.0</td>\n",
       "      <td>00:15:00</td>\n",
       "      <td>205.0</td>\n",
       "      <td>194.0</td>\n",
       "      <td>...</td>\n",
       "      <td>04:04:00</td>\n",
       "      <td>4.0</td>\n",
       "      <td>-22.0</td>\n",
       "      <td>23:54:00</td>\n",
       "      <td>04:30:00</td>\n",
       "      <td>00:05:00</td>\n",
       "      <td>04:08:00</td>\n",
       "      <td>2015-01-01</td>\n",
       "      <td>3</td>\n",
       "      <td>0</td>\n",
       "    </tr>\n",
       "    <tr>\n",
       "      <th>1</th>\n",
       "      <td>AA</td>\n",
       "      <td>2336</td>\n",
       "      <td>N3KUAA</td>\n",
       "      <td>LAX</td>\n",
       "      <td>PBI</td>\n",
       "      <td>-8.0</td>\n",
       "      <td>12.0</td>\n",
       "      <td>00:14:00</td>\n",
       "      <td>280.0</td>\n",
       "      <td>279.0</td>\n",
       "      <td>...</td>\n",
       "      <td>07:37:00</td>\n",
       "      <td>4.0</td>\n",
       "      <td>-9.0</td>\n",
       "      <td>00:02:00</td>\n",
       "      <td>07:50:00</td>\n",
       "      <td>00:10:00</td>\n",
       "      <td>07:41:00</td>\n",
       "      <td>2015-01-01</td>\n",
       "      <td>3</td>\n",
       "      <td>0</td>\n",
       "    </tr>\n",
       "    <tr>\n",
       "      <th>2</th>\n",
       "      <td>US</td>\n",
       "      <td>840</td>\n",
       "      <td>N171US</td>\n",
       "      <td>SFO</td>\n",
       "      <td>CLT</td>\n",
       "      <td>-2.0</td>\n",
       "      <td>16.0</td>\n",
       "      <td>00:34:00</td>\n",
       "      <td>286.0</td>\n",
       "      <td>293.0</td>\n",
       "      <td>...</td>\n",
       "      <td>08:00:00</td>\n",
       "      <td>11.0</td>\n",
       "      <td>5.0</td>\n",
       "      <td>00:18:00</td>\n",
       "      <td>08:06:00</td>\n",
       "      <td>00:20:00</td>\n",
       "      <td>08:11:00</td>\n",
       "      <td>2015-01-01</td>\n",
       "      <td>3</td>\n",
       "      <td>0</td>\n",
       "    </tr>\n",
       "    <tr>\n",
       "      <th>3</th>\n",
       "      <td>AA</td>\n",
       "      <td>258</td>\n",
       "      <td>N3HYAA</td>\n",
       "      <td>LAX</td>\n",
       "      <td>MIA</td>\n",
       "      <td>-5.0</td>\n",
       "      <td>15.0</td>\n",
       "      <td>00:30:00</td>\n",
       "      <td>285.0</td>\n",
       "      <td>281.0</td>\n",
       "      <td>...</td>\n",
       "      <td>07:48:00</td>\n",
       "      <td>8.0</td>\n",
       "      <td>-9.0</td>\n",
       "      <td>00:15:00</td>\n",
       "      <td>08:05:00</td>\n",
       "      <td>00:20:00</td>\n",
       "      <td>07:56:00</td>\n",
       "      <td>2015-01-01</td>\n",
       "      <td>3</td>\n",
       "      <td>0</td>\n",
       "    </tr>\n",
       "    <tr>\n",
       "      <th>4</th>\n",
       "      <td>AS</td>\n",
       "      <td>135</td>\n",
       "      <td>N527AS</td>\n",
       "      <td>SEA</td>\n",
       "      <td>ANC</td>\n",
       "      <td>-1.0</td>\n",
       "      <td>11.0</td>\n",
       "      <td>00:35:00</td>\n",
       "      <td>235.0</td>\n",
       "      <td>215.0</td>\n",
       "      <td>...</td>\n",
       "      <td>02:54:00</td>\n",
       "      <td>5.0</td>\n",
       "      <td>-21.0</td>\n",
       "      <td>00:24:00</td>\n",
       "      <td>03:20:00</td>\n",
       "      <td>00:25:00</td>\n",
       "      <td>02:59:00</td>\n",
       "      <td>2015-01-01</td>\n",
       "      <td>3</td>\n",
       "      <td>0</td>\n",
       "    </tr>\n",
       "  </tbody>\n",
       "</table>\n",
       "<p>5 rows × 22 columns</p>\n",
       "</div>"
      ],
      "text/plain": [
       "  AIRLINE  FLIGHT_NUMBER TAIL_NUMBER ORIGIN_AIRPORT DESTINATION_AIRPORT  \\\n",
       "0      AS             98      N407AS            ANC                 SEA   \n",
       "1      AA           2336      N3KUAA            LAX                 PBI   \n",
       "2      US            840      N171US            SFO                 CLT   \n",
       "3      AA            258      N3HYAA            LAX                 MIA   \n",
       "4      AS            135      N527AS            SEA                 ANC   \n",
       "\n",
       "   DEPARTURE_DELAY  TAXI_OUT WHEELS_OFF  SCHEDULED_TIME  ELAPSED_TIME  ...  \\\n",
       "0            -11.0      21.0   00:15:00           205.0         194.0  ...   \n",
       "1             -8.0      12.0   00:14:00           280.0         279.0  ...   \n",
       "2             -2.0      16.0   00:34:00           286.0         293.0  ...   \n",
       "3             -5.0      15.0   00:30:00           285.0         281.0  ...   \n",
       "4             -1.0      11.0   00:35:00           235.0         215.0  ...   \n",
       "\n",
       "   WHEELS_ON  TAXI_IN ARRIVAL_DELAY  DEP_TIME  SCH_ARR_TIME SCH_DEP_TIME  \\\n",
       "0   04:04:00      4.0         -22.0  23:54:00      04:30:00     00:05:00   \n",
       "1   07:37:00      4.0          -9.0  00:02:00      07:50:00     00:10:00   \n",
       "2   08:00:00     11.0           5.0  00:18:00      08:06:00     00:20:00   \n",
       "3   07:48:00      8.0          -9.0  00:15:00      08:05:00     00:20:00   \n",
       "4   02:54:00      5.0         -21.0  00:24:00      03:20:00     00:25:00   \n",
       "\n",
       "   ARR_TIME       DATE DayOfWeek Holidays  \n",
       "0  04:08:00 2015-01-01         3        0  \n",
       "1  07:41:00 2015-01-01         3        0  \n",
       "2  08:11:00 2015-01-01         3        0  \n",
       "3  07:56:00 2015-01-01         3        0  \n",
       "4  02:59:00 2015-01-01         3        0  \n",
       "\n",
       "[5 rows x 22 columns]"
      ]
     },
     "execution_count": 8,
     "metadata": {},
     "output_type": "execute_result"
    }
   ],
   "source": [
    "Flights_Delays_Combined.head()"
   ]
  },
  {
   "cell_type": "code",
   "execution_count": 9,
   "metadata": {},
   "outputs": [
    {
     "data": {
      "text/plain": [
       "(5231130, 22)"
      ]
     },
     "execution_count": 9,
     "metadata": {},
     "output_type": "execute_result"
    }
   ],
   "source": [
    "Flights_Delays_Combined.shape"
   ]
  },
  {
   "cell_type": "markdown",
   "metadata": {},
   "source": [
    "***"
   ]
  },
  {
   "cell_type": "code",
   "execution_count": 10,
   "metadata": {},
   "outputs": [
    {
     "data": {
      "text/plain": [
       "Index(['FLIGHT_NUMBER', 'DEPARTURE_DELAY', 'TAXI_OUT', 'SCHEDULED_TIME',\n",
       "       'ELAPSED_TIME', 'AIR_TIME', 'DISTANCE', 'TAXI_IN', 'ARRIVAL_DELAY',\n",
       "       'DayOfWeek', 'Holidays'],\n",
       "      dtype='object')"
      ]
     },
     "execution_count": 10,
     "metadata": {},
     "output_type": "execute_result"
    }
   ],
   "source": [
    "numeric_columns = Flights_Delays_Combined.select_dtypes(include=np.number).columns\n",
    "numeric_columns"
   ]
  },
  {
   "cell_type": "code",
   "execution_count": 11,
   "metadata": {},
   "outputs": [
    {
     "data": {
      "text/plain": [
       "Index(['AIRLINE', 'TAIL_NUMBER', 'ORIGIN_AIRPORT', 'DESTINATION_AIRPORT',\n",
       "       'WHEELS_OFF', 'WHEELS_ON', 'DEP_TIME', 'SCH_ARR_TIME', 'SCH_DEP_TIME',\n",
       "       'ARR_TIME', 'DATE'],\n",
       "      dtype='object')"
      ]
     },
     "execution_count": 11,
     "metadata": {},
     "output_type": "execute_result"
    }
   ],
   "source": [
    "non_numeric_columns = Flights_Delays_Combined.select_dtypes(exclude=np.number).columns\n",
    "non_numeric_columns"
   ]
  },
  {
   "cell_type": "markdown",
   "metadata": {},
   "source": [
    "## Correlation between numeric variables"
   ]
  },
  {
   "cell_type": "code",
   "execution_count": 12,
   "metadata": {},
   "outputs": [],
   "source": [
    "del_corr = Flights_Delays_Combined.corr()"
   ]
  },
  {
   "cell_type": "code",
   "execution_count": 22,
   "metadata": {},
   "outputs": [
    {
     "data": {
      "text/plain": [
       "<AxesSubplot:>"
      ]
     },
     "execution_count": 22,
     "metadata": {},
     "output_type": "execute_result"
    },
    {
     "data": {
      "image/png": "[encoded data removed]",
      "text/plain": [
       "<Figure size 1080x648 with 2 Axes>"
      ]
     },
     "metadata": {
      "needs_background": "light"
     },
     "output_type": "display_data"
    }
   ],
   "source": [
    "del_corr = Flights_Delays_Combined.corr()\n",
    "f, ax = plt.subplots(figsize=(15, 9))\n",
    "sns.heatmap(del_corr,annot=True,cmap='inferno')"
   ]
  },
  {
   "cell_type": "markdown",
   "metadata": {},
   "source": [
    "Correlation matrix shows, that Holidays have no significat numeric correlation between other variables."
   ]
  },
  {
   "cell_type": "markdown",
   "metadata": {},
   "source": [
    "Strongest correlation between ARRIVAL DELAY have:\n",
    "- SCHEDULED_DEPARTURE\n",
    "- DEPARTURE_TIME\n",
    "- DEPARTURE_DELAY\n",
    "- TAXI_OUT\n",
    "- WHEELS_OFF\n",
    "- TAXI_IN"
   ]
  },
  {
   "cell_type": "markdown",
   "metadata": {},
   "source": [
    "# Transforming delays to binary values"
   ]
  },
  {
   "cell_type": "markdown",
   "metadata": {},
   "source": [
    "Acording to project assumptions (4) I convert delay values to a binary value. The threshold I choose for the delay, according to FAA regulations, is 15 minutes"
   ]
  },
  {
   "cell_type": "code",
   "execution_count": 23,
   "metadata": {
    "id": "PbharWa7-mDI"
   },
   "outputs": [],
   "source": [
    "DELAY_TRESHOLD = 15"
   ]
  },
  {
   "cell_type": "code",
   "execution_count": 24,
   "metadata": {
    "colab": {
     "base_uri": "https://localhost:8080/",
     "height": 226
    },
    "id": "8nyti8Ve2HYX",
    "outputId": "391adbb1-8e96-4bd3-c523-84adc809559a"
   },
   "outputs": [
    {
     "data": {
      "text/html": [
       "<div>\n",
       "<style scoped>\n",
       "    .dataframe tbody tr th:only-of-type {\n",
       "        vertical-align: middle;\n",
       "    }\n",
       "\n",
       "    .dataframe tbody tr th {\n",
       "        vertical-align: top;\n",
       "    }\n",
       "\n",
       "    .dataframe thead th {\n",
       "        text-align: right;\n",
       "    }\n",
       "</style>\n",
       "<table border=\"1\" class=\"dataframe\">\n",
       "  <thead>\n",
       "    <tr style=\"text-align: right;\">\n",
       "      <th></th>\n",
       "      <th>AIRLINE</th>\n",
       "      <th>FLIGHT_NUMBER</th>\n",
       "      <th>TAIL_NUMBER</th>\n",
       "      <th>ORIGIN_AIRPORT</th>\n",
       "      <th>DESTINATION_AIRPORT</th>\n",
       "      <th>DEPARTURE_DELAY</th>\n",
       "      <th>TAXI_OUT</th>\n",
       "      <th>WHEELS_OFF</th>\n",
       "      <th>SCHEDULED_TIME</th>\n",
       "      <th>ELAPSED_TIME</th>\n",
       "      <th>...</th>\n",
       "      <th>TAXI_IN</th>\n",
       "      <th>ARRIVAL_DELAY</th>\n",
       "      <th>DEP_TIME</th>\n",
       "      <th>SCH_ARR_TIME</th>\n",
       "      <th>SCH_DEP_TIME</th>\n",
       "      <th>ARR_TIME</th>\n",
       "      <th>DATE</th>\n",
       "      <th>DayOfWeek</th>\n",
       "      <th>Holidays</th>\n",
       "      <th>Delayed</th>\n",
       "    </tr>\n",
       "  </thead>\n",
       "  <tbody>\n",
       "    <tr>\n",
       "      <th>0</th>\n",
       "      <td>AS</td>\n",
       "      <td>98</td>\n",
       "      <td>N407AS</td>\n",
       "      <td>ANC</td>\n",
       "      <td>SEA</td>\n",
       "      <td>-11.0</td>\n",
       "      <td>21.0</td>\n",
       "      <td>00:15:00</td>\n",
       "      <td>205.0</td>\n",
       "      <td>194.0</td>\n",
       "      <td>...</td>\n",
       "      <td>4.0</td>\n",
       "      <td>-22.0</td>\n",
       "      <td>23:54:00</td>\n",
       "      <td>04:30:00</td>\n",
       "      <td>00:05:00</td>\n",
       "      <td>04:08:00</td>\n",
       "      <td>2015-01-01</td>\n",
       "      <td>3</td>\n",
       "      <td>0</td>\n",
       "      <td>0</td>\n",
       "    </tr>\n",
       "    <tr>\n",
       "      <th>1</th>\n",
       "      <td>AA</td>\n",
       "      <td>2336</td>\n",
       "      <td>N3KUAA</td>\n",
       "      <td>LAX</td>\n",
       "      <td>PBI</td>\n",
       "      <td>-8.0</td>\n",
       "      <td>12.0</td>\n",
       "      <td>00:14:00</td>\n",
       "      <td>280.0</td>\n",
       "      <td>279.0</td>\n",
       "      <td>...</td>\n",
       "      <td>4.0</td>\n",
       "      <td>-9.0</td>\n",
       "      <td>00:02:00</td>\n",
       "      <td>07:50:00</td>\n",
       "      <td>00:10:00</td>\n",
       "      <td>07:41:00</td>\n",
       "      <td>2015-01-01</td>\n",
       "      <td>3</td>\n",
       "      <td>0</td>\n",
       "      <td>0</td>\n",
       "    </tr>\n",
       "    <tr>\n",
       "      <th>2</th>\n",
       "      <td>US</td>\n",
       "      <td>840</td>\n",
       "      <td>N171US</td>\n",
       "      <td>SFO</td>\n",
       "      <td>CLT</td>\n",
       "      <td>-2.0</td>\n",
       "      <td>16.0</td>\n",
       "      <td>00:34:00</td>\n",
       "      <td>286.0</td>\n",
       "      <td>293.0</td>\n",
       "      <td>...</td>\n",
       "      <td>11.0</td>\n",
       "      <td>5.0</td>\n",
       "      <td>00:18:00</td>\n",
       "      <td>08:06:00</td>\n",
       "      <td>00:20:00</td>\n",
       "      <td>08:11:00</td>\n",
       "      <td>2015-01-01</td>\n",
       "      <td>3</td>\n",
       "      <td>0</td>\n",
       "      <td>0</td>\n",
       "    </tr>\n",
       "    <tr>\n",
       "      <th>3</th>\n",
       "      <td>AA</td>\n",
       "      <td>258</td>\n",
       "      <td>N3HYAA</td>\n",
       "      <td>LAX</td>\n",
       "      <td>MIA</td>\n",
       "      <td>-5.0</td>\n",
       "      <td>15.0</td>\n",
       "      <td>00:30:00</td>\n",
       "      <td>285.0</td>\n",
       "      <td>281.0</td>\n",
       "      <td>...</td>\n",
       "      <td>8.0</td>\n",
       "      <td>-9.0</td>\n",
       "      <td>00:15:00</td>\n",
       "      <td>08:05:00</td>\n",
       "      <td>00:20:00</td>\n",
       "      <td>07:56:00</td>\n",
       "      <td>2015-01-01</td>\n",
       "      <td>3</td>\n",
       "      <td>0</td>\n",
       "      <td>0</td>\n",
       "    </tr>\n",
       "    <tr>\n",
       "      <th>4</th>\n",
       "      <td>AS</td>\n",
       "      <td>135</td>\n",
       "      <td>N527AS</td>\n",
       "      <td>SEA</td>\n",
       "      <td>ANC</td>\n",
       "      <td>-1.0</td>\n",
       "      <td>11.0</td>\n",
       "      <td>00:35:00</td>\n",
       "      <td>235.0</td>\n",
       "      <td>215.0</td>\n",
       "      <td>...</td>\n",
       "      <td>5.0</td>\n",
       "      <td>-21.0</td>\n",
       "      <td>00:24:00</td>\n",
       "      <td>03:20:00</td>\n",
       "      <td>00:25:00</td>\n",
       "      <td>02:59:00</td>\n",
       "      <td>2015-01-01</td>\n",
       "      <td>3</td>\n",
       "      <td>0</td>\n",
       "      <td>0</td>\n",
       "    </tr>\n",
       "  </tbody>\n",
       "</table>\n",
       "<p>5 rows × 23 columns</p>\n",
       "</div>"
      ],
      "text/plain": [
       "  AIRLINE  FLIGHT_NUMBER TAIL_NUMBER ORIGIN_AIRPORT DESTINATION_AIRPORT  \\\n",
       "0      AS             98      N407AS            ANC                 SEA   \n",
       "1      AA           2336      N3KUAA            LAX                 PBI   \n",
       "2      US            840      N171US            SFO                 CLT   \n",
       "3      AA            258      N3HYAA            LAX                 MIA   \n",
       "4      AS            135      N527AS            SEA                 ANC   \n",
       "\n",
       "   DEPARTURE_DELAY  TAXI_OUT WHEELS_OFF  SCHEDULED_TIME  ELAPSED_TIME  ...  \\\n",
       "0            -11.0      21.0   00:15:00           205.0         194.0  ...   \n",
       "1             -8.0      12.0   00:14:00           280.0         279.0  ...   \n",
       "2             -2.0      16.0   00:34:00           286.0         293.0  ...   \n",
       "3             -5.0      15.0   00:30:00           285.0         281.0  ...   \n",
       "4             -1.0      11.0   00:35:00           235.0         215.0  ...   \n",
       "\n",
       "   TAXI_IN  ARRIVAL_DELAY  DEP_TIME  SCH_ARR_TIME  SCH_DEP_TIME  ARR_TIME  \\\n",
       "0      4.0          -22.0  23:54:00      04:30:00      00:05:00  04:08:00   \n",
       "1      4.0           -9.0  00:02:00      07:50:00      00:10:00  07:41:00   \n",
       "2     11.0            5.0  00:18:00      08:06:00      00:20:00  08:11:00   \n",
       "3      8.0           -9.0  00:15:00      08:05:00      00:20:00  07:56:00   \n",
       "4      5.0          -21.0  00:24:00      03:20:00      00:25:00  02:59:00   \n",
       "\n",
       "        DATE DayOfWeek Holidays Delayed  \n",
       "0 2015-01-01         3        0       0  \n",
       "1 2015-01-01         3        0       0  \n",
       "2 2015-01-01         3        0       0  \n",
       "3 2015-01-01         3        0       0  \n",
       "4 2015-01-01         3        0       0  \n",
       "\n",
       "[5 rows x 23 columns]"
      ]
     },
     "execution_count": 24,
     "metadata": {},
     "output_type": "execute_result"
    }
   ],
   "source": [
    "Flights_Delays_Combined.head()"
   ]
  },
  {
   "cell_type": "code",
   "execution_count": 25,
   "metadata": {
    "id": "tFNnXehY1CQs"
   },
   "outputs": [],
   "source": [
    "def delation_transformation(delay):\n",
    "    return 1 if delay >= DELAY_TRESHOLD else 0"
   ]
  },
  {
   "cell_type": "code",
   "execution_count": 26,
   "metadata": {
    "id": "8s8PSQxH2FkC"
   },
   "outputs": [],
   "source": [
    "Flights_Delays_Combined['Delayed'] = Flights_Delays_Combined['ARRIVAL_DELAY'].apply(delation_transformation)"
   ]
  },
  {
   "cell_type": "code",
   "execution_count": 27,
   "metadata": {
    "id": "c5ZcK4s73QYu"
   },
   "outputs": [],
   "source": [
    "Flights_Delays_Binary = Flights_Delays_Combined.drop(['ARRIVAL_DELAY'], axis=1)"
   ]
  },
  {
   "cell_type": "code",
   "execution_count": 28,
   "metadata": {
    "colab": {
     "base_uri": "https://localhost:8080/",
     "height": 226
    },
    "id": "Wva5_aLuAmOA",
    "outputId": "f49b7fec-c9ab-482a-b9f2-4db193fd18b9"
   },
   "outputs": [
    {
     "data": {
      "text/html": [
       "<div>\n",
       "<style scoped>\n",
       "    .dataframe tbody tr th:only-of-type {\n",
       "        vertical-align: middle;\n",
       "    }\n",
       "\n",
       "    .dataframe tbody tr th {\n",
       "        vertical-align: top;\n",
       "    }\n",
       "\n",
       "    .dataframe thead th {\n",
       "        text-align: right;\n",
       "    }\n",
       "</style>\n",
       "<table border=\"1\" class=\"dataframe\">\n",
       "  <thead>\n",
       "    <tr style=\"text-align: right;\">\n",
       "      <th></th>\n",
       "      <th>AIRLINE</th>\n",
       "      <th>FLIGHT_NUMBER</th>\n",
       "      <th>TAIL_NUMBER</th>\n",
       "      <th>ORIGIN_AIRPORT</th>\n",
       "      <th>DESTINATION_AIRPORT</th>\n",
       "      <th>DEPARTURE_DELAY</th>\n",
       "      <th>TAXI_OUT</th>\n",
       "      <th>WHEELS_OFF</th>\n",
       "      <th>SCHEDULED_TIME</th>\n",
       "      <th>ELAPSED_TIME</th>\n",
       "      <th>...</th>\n",
       "      <th>WHEELS_ON</th>\n",
       "      <th>TAXI_IN</th>\n",
       "      <th>DEP_TIME</th>\n",
       "      <th>SCH_ARR_TIME</th>\n",
       "      <th>SCH_DEP_TIME</th>\n",
       "      <th>ARR_TIME</th>\n",
       "      <th>DATE</th>\n",
       "      <th>DayOfWeek</th>\n",
       "      <th>Holidays</th>\n",
       "      <th>Delayed</th>\n",
       "    </tr>\n",
       "  </thead>\n",
       "  <tbody>\n",
       "    <tr>\n",
       "      <th>0</th>\n",
       "      <td>AS</td>\n",
       "      <td>98</td>\n",
       "      <td>N407AS</td>\n",
       "      <td>ANC</td>\n",
       "      <td>SEA</td>\n",
       "      <td>-11.0</td>\n",
       "      <td>21.0</td>\n",
       "      <td>00:15:00</td>\n",
       "      <td>205.0</td>\n",
       "      <td>194.0</td>\n",
       "      <td>...</td>\n",
       "      <td>04:04:00</td>\n",
       "      <td>4.0</td>\n",
       "      <td>23:54:00</td>\n",
       "      <td>04:30:00</td>\n",
       "      <td>00:05:00</td>\n",
       "      <td>04:08:00</td>\n",
       "      <td>2015-01-01</td>\n",
       "      <td>3</td>\n",
       "      <td>0</td>\n",
       "      <td>0</td>\n",
       "    </tr>\n",
       "    <tr>\n",
       "      <th>1</th>\n",
       "      <td>AA</td>\n",
       "      <td>2336</td>\n",
       "      <td>N3KUAA</td>\n",
       "      <td>LAX</td>\n",
       "      <td>PBI</td>\n",
       "      <td>-8.0</td>\n",
       "      <td>12.0</td>\n",
       "      <td>00:14:00</td>\n",
       "      <td>280.0</td>\n",
       "      <td>279.0</td>\n",
       "      <td>...</td>\n",
       "      <td>07:37:00</td>\n",
       "      <td>4.0</td>\n",
       "      <td>00:02:00</td>\n",
       "      <td>07:50:00</td>\n",
       "      <td>00:10:00</td>\n",
       "      <td>07:41:00</td>\n",
       "      <td>2015-01-01</td>\n",
       "      <td>3</td>\n",
       "      <td>0</td>\n",
       "      <td>0</td>\n",
       "    </tr>\n",
       "    <tr>\n",
       "      <th>2</th>\n",
       "      <td>US</td>\n",
       "      <td>840</td>\n",
       "      <td>N171US</td>\n",
       "      <td>SFO</td>\n",
       "      <td>CLT</td>\n",
       "      <td>-2.0</td>\n",
       "      <td>16.0</td>\n",
       "      <td>00:34:00</td>\n",
       "      <td>286.0</td>\n",
       "      <td>293.0</td>\n",
       "      <td>...</td>\n",
       "      <td>08:00:00</td>\n",
       "      <td>11.0</td>\n",
       "      <td>00:18:00</td>\n",
       "      <td>08:06:00</td>\n",
       "      <td>00:20:00</td>\n",
       "      <td>08:11:00</td>\n",
       "      <td>2015-01-01</td>\n",
       "      <td>3</td>\n",
       "      <td>0</td>\n",
       "      <td>0</td>\n",
       "    </tr>\n",
       "    <tr>\n",
       "      <th>3</th>\n",
       "      <td>AA</td>\n",
       "      <td>258</td>\n",
       "      <td>N3HYAA</td>\n",
       "      <td>LAX</td>\n",
       "      <td>MIA</td>\n",
       "      <td>-5.0</td>\n",
       "      <td>15.0</td>\n",
       "      <td>00:30:00</td>\n",
       "      <td>285.0</td>\n",
       "      <td>281.0</td>\n",
       "      <td>...</td>\n",
       "      <td>07:48:00</td>\n",
       "      <td>8.0</td>\n",
       "      <td>00:15:00</td>\n",
       "      <td>08:05:00</td>\n",
       "      <td>00:20:00</td>\n",
       "      <td>07:56:00</td>\n",
       "      <td>2015-01-01</td>\n",
       "      <td>3</td>\n",
       "      <td>0</td>\n",
       "      <td>0</td>\n",
       "    </tr>\n",
       "    <tr>\n",
       "      <th>4</th>\n",
       "      <td>AS</td>\n",
       "      <td>135</td>\n",
       "      <td>N527AS</td>\n",
       "      <td>SEA</td>\n",
       "      <td>ANC</td>\n",
       "      <td>-1.0</td>\n",
       "      <td>11.0</td>\n",
       "      <td>00:35:00</td>\n",
       "      <td>235.0</td>\n",
       "      <td>215.0</td>\n",
       "      <td>...</td>\n",
       "      <td>02:54:00</td>\n",
       "      <td>5.0</td>\n",
       "      <td>00:24:00</td>\n",
       "      <td>03:20:00</td>\n",
       "      <td>00:25:00</td>\n",
       "      <td>02:59:00</td>\n",
       "      <td>2015-01-01</td>\n",
       "      <td>3</td>\n",
       "      <td>0</td>\n",
       "      <td>0</td>\n",
       "    </tr>\n",
       "    <tr>\n",
       "      <th>...</th>\n",
       "      <td>...</td>\n",
       "      <td>...</td>\n",
       "      <td>...</td>\n",
       "      <td>...</td>\n",
       "      <td>...</td>\n",
       "      <td>...</td>\n",
       "      <td>...</td>\n",
       "      <td>...</td>\n",
       "      <td>...</td>\n",
       "      <td>...</td>\n",
       "      <td>...</td>\n",
       "      <td>...</td>\n",
       "      <td>...</td>\n",
       "      <td>...</td>\n",
       "      <td>...</td>\n",
       "      <td>...</td>\n",
       "      <td>...</td>\n",
       "      <td>...</td>\n",
       "      <td>...</td>\n",
       "      <td>...</td>\n",
       "      <td>...</td>\n",
       "    </tr>\n",
       "    <tr>\n",
       "      <th>5819074</th>\n",
       "      <td>B6</td>\n",
       "      <td>688</td>\n",
       "      <td>N657JB</td>\n",
       "      <td>LAX</td>\n",
       "      <td>BOS</td>\n",
       "      <td>-4.0</td>\n",
       "      <td>22.0</td>\n",
       "      <td>00:17:00</td>\n",
       "      <td>320.0</td>\n",
       "      <td>298.0</td>\n",
       "      <td>...</td>\n",
       "      <td>07:49:00</td>\n",
       "      <td>4.0</td>\n",
       "      <td>23:55:00</td>\n",
       "      <td>08:19:00</td>\n",
       "      <td>23:59:00</td>\n",
       "      <td>07:53:00</td>\n",
       "      <td>2015-12-31</td>\n",
       "      <td>3</td>\n",
       "      <td>0</td>\n",
       "      <td>0</td>\n",
       "    </tr>\n",
       "    <tr>\n",
       "      <th>5819075</th>\n",
       "      <td>B6</td>\n",
       "      <td>745</td>\n",
       "      <td>N828JB</td>\n",
       "      <td>JFK</td>\n",
       "      <td>PSE</td>\n",
       "      <td>-4.0</td>\n",
       "      <td>17.0</td>\n",
       "      <td>00:12:00</td>\n",
       "      <td>227.0</td>\n",
       "      <td>215.0</td>\n",
       "      <td>...</td>\n",
       "      <td>04:27:00</td>\n",
       "      <td>3.0</td>\n",
       "      <td>23:55:00</td>\n",
       "      <td>04:46:00</td>\n",
       "      <td>23:59:00</td>\n",
       "      <td>04:30:00</td>\n",
       "      <td>2015-12-31</td>\n",
       "      <td>3</td>\n",
       "      <td>0</td>\n",
       "      <td>0</td>\n",
       "    </tr>\n",
       "    <tr>\n",
       "      <th>5819076</th>\n",
       "      <td>B6</td>\n",
       "      <td>1503</td>\n",
       "      <td>N913JB</td>\n",
       "      <td>JFK</td>\n",
       "      <td>SJU</td>\n",
       "      <td>-9.0</td>\n",
       "      <td>17.0</td>\n",
       "      <td>00:07:00</td>\n",
       "      <td>221.0</td>\n",
       "      <td>222.0</td>\n",
       "      <td>...</td>\n",
       "      <td>04:24:00</td>\n",
       "      <td>8.0</td>\n",
       "      <td>23:50:00</td>\n",
       "      <td>04:40:00</td>\n",
       "      <td>23:59:00</td>\n",
       "      <td>04:32:00</td>\n",
       "      <td>2015-12-31</td>\n",
       "      <td>3</td>\n",
       "      <td>0</td>\n",
       "      <td>0</td>\n",
       "    </tr>\n",
       "    <tr>\n",
       "      <th>5819077</th>\n",
       "      <td>B6</td>\n",
       "      <td>333</td>\n",
       "      <td>N527JB</td>\n",
       "      <td>MCO</td>\n",
       "      <td>SJU</td>\n",
       "      <td>-6.0</td>\n",
       "      <td>10.0</td>\n",
       "      <td>00:03:00</td>\n",
       "      <td>161.0</td>\n",
       "      <td>157.0</td>\n",
       "      <td>...</td>\n",
       "      <td>03:27:00</td>\n",
       "      <td>3.0</td>\n",
       "      <td>23:53:00</td>\n",
       "      <td>03:40:00</td>\n",
       "      <td>23:59:00</td>\n",
       "      <td>03:30:00</td>\n",
       "      <td>2015-12-31</td>\n",
       "      <td>3</td>\n",
       "      <td>0</td>\n",
       "      <td>0</td>\n",
       "    </tr>\n",
       "    <tr>\n",
       "      <th>5819078</th>\n",
       "      <td>B6</td>\n",
       "      <td>839</td>\n",
       "      <td>N534JB</td>\n",
       "      <td>JFK</td>\n",
       "      <td>BQN</td>\n",
       "      <td>15.0</td>\n",
       "      <td>14.0</td>\n",
       "      <td>00:28:00</td>\n",
       "      <td>221.0</td>\n",
       "      <td>208.0</td>\n",
       "      <td>...</td>\n",
       "      <td>04:37:00</td>\n",
       "      <td>5.0</td>\n",
       "      <td>00:14:00</td>\n",
       "      <td>04:40:00</td>\n",
       "      <td>23:59:00</td>\n",
       "      <td>04:42:00</td>\n",
       "      <td>2015-12-31</td>\n",
       "      <td>3</td>\n",
       "      <td>0</td>\n",
       "      <td>0</td>\n",
       "    </tr>\n",
       "  </tbody>\n",
       "</table>\n",
       "<p>5231130 rows × 22 columns</p>\n",
       "</div>"
      ],
      "text/plain": [
       "        AIRLINE  FLIGHT_NUMBER TAIL_NUMBER ORIGIN_AIRPORT DESTINATION_AIRPORT  \\\n",
       "0            AS             98      N407AS            ANC                 SEA   \n",
       "1            AA           2336      N3KUAA            LAX                 PBI   \n",
       "2            US            840      N171US            SFO                 CLT   \n",
       "3            AA            258      N3HYAA            LAX                 MIA   \n",
       "4            AS            135      N527AS            SEA                 ANC   \n",
       "...         ...            ...         ...            ...                 ...   \n",
       "5819074      B6            688      N657JB            LAX                 BOS   \n",
       "5819075      B6            745      N828JB            JFK                 PSE   \n",
       "5819076      B6           1503      N913JB            JFK                 SJU   \n",
       "5819077      B6            333      N527JB            MCO                 SJU   \n",
       "5819078      B6            839      N534JB            JFK                 BQN   \n",
       "\n",
       "         DEPARTURE_DELAY  TAXI_OUT WHEELS_OFF  SCHEDULED_TIME  ELAPSED_TIME  \\\n",
       "0                  -11.0      21.0   00:15:00           205.0         194.0   \n",
       "1                   -8.0      12.0   00:14:00           280.0         279.0   \n",
       "2                   -2.0      16.0   00:34:00           286.0         293.0   \n",
       "3                   -5.0      15.0   00:30:00           285.0         281.0   \n",
       "4                   -1.0      11.0   00:35:00           235.0         215.0   \n",
       "...                  ...       ...        ...             ...           ...   \n",
       "5819074             -4.0      22.0   00:17:00           320.0         298.0   \n",
       "5819075             -4.0      17.0   00:12:00           227.0         215.0   \n",
       "5819076             -9.0      17.0   00:07:00           221.0         222.0   \n",
       "5819077             -6.0      10.0   00:03:00           161.0         157.0   \n",
       "5819078             15.0      14.0   00:28:00           221.0         208.0   \n",
       "\n",
       "         ...  WHEELS_ON  TAXI_IN  DEP_TIME  SCH_ARR_TIME SCH_DEP_TIME  \\\n",
       "0        ...   04:04:00      4.0  23:54:00      04:30:00     00:05:00   \n",
       "1        ...   07:37:00      4.0  00:02:00      07:50:00     00:10:00   \n",
       "2        ...   08:00:00     11.0  00:18:00      08:06:00     00:20:00   \n",
       "3        ...   07:48:00      8.0  00:15:00      08:05:00     00:20:00   \n",
       "4        ...   02:54:00      5.0  00:24:00      03:20:00     00:25:00   \n",
       "...      ...        ...      ...       ...           ...          ...   \n",
       "5819074  ...   07:49:00      4.0  23:55:00      08:19:00     23:59:00   \n",
       "5819075  ...   04:27:00      3.0  23:55:00      04:46:00     23:59:00   \n",
       "5819076  ...   04:24:00      8.0  23:50:00      04:40:00     23:59:00   \n",
       "5819077  ...   03:27:00      3.0  23:53:00      03:40:00     23:59:00   \n",
       "5819078  ...   04:37:00      5.0  00:14:00      04:40:00     23:59:00   \n",
       "\n",
       "         ARR_TIME       DATE DayOfWeek Holidays  Delayed  \n",
       "0        04:08:00 2015-01-01         3        0        0  \n",
       "1        07:41:00 2015-01-01         3        0        0  \n",
       "2        08:11:00 2015-01-01         3        0        0  \n",
       "3        07:56:00 2015-01-01         3        0        0  \n",
       "4        02:59:00 2015-01-01         3        0        0  \n",
       "...           ...        ...       ...      ...      ...  \n",
       "5819074  07:53:00 2015-12-31         3        0        0  \n",
       "5819075  04:30:00 2015-12-31         3        0        0  \n",
       "5819076  04:32:00 2015-12-31         3        0        0  \n",
       "5819077  03:30:00 2015-12-31         3        0        0  \n",
       "5819078  04:42:00 2015-12-31         3        0        0  \n",
       "\n",
       "[5231130 rows x 22 columns]"
      ]
     },
     "execution_count": 28,
     "metadata": {},
     "output_type": "execute_result"
    }
   ],
   "source": [
    "Flights_Delays_Binary"
   ]
  },
  {
   "cell_type": "code",
   "execution_count": 29,
   "metadata": {},
   "outputs": [
    {
     "data": {
      "text/plain": [
       "AIRLINE                0\n",
       "FLIGHT_NUMBER          0\n",
       "TAIL_NUMBER            0\n",
       "ORIGIN_AIRPORT         0\n",
       "DESTINATION_AIRPORT    0\n",
       "DEPARTURE_DELAY        0\n",
       "TAXI_OUT               0\n",
       "WHEELS_OFF             0\n",
       "SCHEDULED_TIME         0\n",
       "ELAPSED_TIME           0\n",
       "AIR_TIME               0\n",
       "DISTANCE               0\n",
       "WHEELS_ON              0\n",
       "TAXI_IN                0\n",
       "DEP_TIME               0\n",
       "SCH_ARR_TIME           0\n",
       "SCH_DEP_TIME           0\n",
       "ARR_TIME               0\n",
       "DATE                   0\n",
       "DayOfWeek              0\n",
       "Holidays               0\n",
       "Delayed                0\n",
       "dtype: int64"
      ]
     },
     "execution_count": 29,
     "metadata": {},
     "output_type": "execute_result"
    }
   ],
   "source": [
    "Flights_Delays_Binary.isnull().sum()"
   ]
  },
  {
   "cell_type": "markdown",
   "metadata": {},
   "source": [
    "From above result it follows that the are no missing data in final DataFrame."
   ]
  },
  {
   "cell_type": "markdown",
   "metadata": {},
   "source": [
    "## Data reduction\n",
    "Because this dataset is large model will be trained only on sample. The sample is chosed by df.sample with 1% of random data."
   ]
  },
  {
   "cell_type": "code",
   "execution_count": 30,
   "metadata": {},
   "outputs": [
    {
     "data": {
      "text/plain": [
       "(52311, 22)"
      ]
     },
     "execution_count": 30,
     "metadata": {},
     "output_type": "execute_result"
    }
   ],
   "source": [
    "random.seed(0)\n",
    "Flights_Delays_Binary_small = Flights_Delays_Binary.sample(frac=0.01)\n",
    "Flights_Delays_Binary_small.shape"
   ]
  },
  {
   "cell_type": "markdown",
   "metadata": {},
   "source": [
    "***"
   ]
  },
  {
   "cell_type": "markdown",
   "metadata": {},
   "source": [
    "# Making model of flight delation"
   ]
  },
  {
   "cell_type": "markdown",
   "metadata": {},
   "source": [
    "According to project assumtion (3) there will be only used variables that are avaiable before start:\n",
    "\n",
    "'AIRLINE', 'FLIGHT_NUMBER', 'TAIL_NUMBER', ,'ORIGIN_AIRPORT','DESTINATION_AIRPORT', 'DEPARTURE_DELAY','TAXI_OUT', 'WHEELS_OFF', 'SCHEDULED_TIME','DISTANCE', 'DEP_TIME', 'SCH_ARR_TIME', 'SCH_DEP_TIME', 'DATE', 'DayOfWeek', 'Holidays', 'Delayed'\n",
    "\n",
    "In this project there are two models:\n",
    "\n",
    "* **Model 1** is making predictions of flight delation based on most correlated variables that are avaiable in moment of plane take-off,\n",
    "*  **Model 2** is making predictions of flight delation based on general information variables that are aviable long time before planned departure."
   ]
  },
  {
   "cell_type": "markdown",
   "metadata": {},
   "source": [
    "## Model 1"
   ]
  },
  {
   "cell_type": "markdown",
   "metadata": {},
   "source": [
    "For model I use variables that have strongest correlation between variables:\n",
    "* TAXI_IN,\n",
    "* DayOfWeek,\n",
    "* WHEELS_OFF,\n",
    "* AIRLINE,\n",
    "* ORIGIN_AIRPORT,\n",
    "* DESTINATION_AIRPORT,\n",
    "* DEP_TIME,\n",
    "* SCH_DEP_TIME,\n",
    "* SCH_ARR_TIME,\n",
    "* DEPARTURE_DELAY,\n",
    "* Delayed"
   ]
  },
  {
   "cell_type": "markdown",
   "metadata": {},
   "source": [
    "### Preparing data for modeling"
   ]
  },
  {
   "cell_type": "code",
   "execution_count": 31,
   "metadata": {},
   "outputs": [
    {
     "data": {
      "text/plain": [
       "Index(['AIRLINE', 'FLIGHT_NUMBER', 'TAIL_NUMBER', 'ORIGIN_AIRPORT',\n",
       "       'DESTINATION_AIRPORT', 'DEPARTURE_DELAY', 'TAXI_OUT', 'WHEELS_OFF',\n",
       "       'SCHEDULED_TIME', 'ELAPSED_TIME', 'AIR_TIME', 'DISTANCE', 'WHEELS_ON',\n",
       "       'TAXI_IN', 'DEP_TIME', 'SCH_ARR_TIME', 'SCH_DEP_TIME', 'ARR_TIME',\n",
       "       'DATE', 'DayOfWeek', 'Holidays', 'Delayed'],\n",
       "      dtype='object')"
      ]
     },
     "execution_count": 31,
     "metadata": {},
     "output_type": "execute_result"
    }
   ],
   "source": [
    "Flights_Delays_Binary_small.columns"
   ]
  },
  {
   "cell_type": "code",
   "execution_count": 32,
   "metadata": {},
   "outputs": [],
   "source": [
    "model_1_cols = ['TAXI_IN', 'DayOfWeek', 'WHEELS_OFF','AIRLINE', 'ORIGIN_AIRPORT', 'DESTINATION_AIRPORT','DEP_TIME','SCH_DEP_TIME','SCH_ARR_TIME','DEPARTURE_DELAY','Delayed']\n",
    "Flights_Delays_Binary_model_1 = Flights_Delays_Binary_small[model_1_cols]"
   ]
  },
  {
   "cell_type": "code",
   "execution_count": 33,
   "metadata": {},
   "outputs": [
    {
     "data": {
      "text/html": [
       "<div>\n",
       "<style scoped>\n",
       "    .dataframe tbody tr th:only-of-type {\n",
       "        vertical-align: middle;\n",
       "    }\n",
       "\n",
       "    .dataframe tbody tr th {\n",
       "        vertical-align: top;\n",
       "    }\n",
       "\n",
       "    .dataframe thead th {\n",
       "        text-align: right;\n",
       "    }\n",
       "</style>\n",
       "<table border=\"1\" class=\"dataframe\">\n",
       "  <thead>\n",
       "    <tr style=\"text-align: right;\">\n",
       "      <th></th>\n",
       "      <th>TAXI_IN</th>\n",
       "      <th>DayOfWeek</th>\n",
       "      <th>WHEELS_OFF</th>\n",
       "      <th>AIRLINE</th>\n",
       "      <th>ORIGIN_AIRPORT</th>\n",
       "      <th>DESTINATION_AIRPORT</th>\n",
       "      <th>DEP_TIME</th>\n",
       "      <th>SCH_DEP_TIME</th>\n",
       "      <th>SCH_ARR_TIME</th>\n",
       "      <th>DEPARTURE_DELAY</th>\n",
       "      <th>Delayed</th>\n",
       "    </tr>\n",
       "  </thead>\n",
       "  <tbody>\n",
       "    <tr>\n",
       "      <th>1959004</th>\n",
       "      <td>6.0</td>\n",
       "      <td>1</td>\n",
       "      <td>12:43:00</td>\n",
       "      <td>MQ</td>\n",
       "      <td>DFW</td>\n",
       "      <td>FWA</td>\n",
       "      <td>12:22:00</td>\n",
       "      <td>12:25:00</td>\n",
       "      <td>15:50:00</td>\n",
       "      <td>-3.0</td>\n",
       "      <td>0</td>\n",
       "    </tr>\n",
       "    <tr>\n",
       "      <th>2839828</th>\n",
       "      <td>15.0</td>\n",
       "      <td>6</td>\n",
       "      <td>06:07:00</td>\n",
       "      <td>WN</td>\n",
       "      <td>DAY</td>\n",
       "      <td>BWI</td>\n",
       "      <td>05:54:00</td>\n",
       "      <td>06:00:00</td>\n",
       "      <td>07:20:00</td>\n",
       "      <td>-6.0</td>\n",
       "      <td>0</td>\n",
       "    </tr>\n",
       "    <tr>\n",
       "      <th>3081046</th>\n",
       "      <td>7.0</td>\n",
       "      <td>6</td>\n",
       "      <td>17:38:00</td>\n",
       "      <td>OO</td>\n",
       "      <td>LAX</td>\n",
       "      <td>PHX</td>\n",
       "      <td>17:10:00</td>\n",
       "      <td>16:45:00</td>\n",
       "      <td>18:15:00</td>\n",
       "      <td>25.0</td>\n",
       "      <td>1</td>\n",
       "    </tr>\n",
       "    <tr>\n",
       "      <th>2490882</th>\n",
       "      <td>4.0</td>\n",
       "      <td>6</td>\n",
       "      <td>11:51:00</td>\n",
       "      <td>WN</td>\n",
       "      <td>DEN</td>\n",
       "      <td>PHX</td>\n",
       "      <td>11:43:00</td>\n",
       "      <td>11:25:00</td>\n",
       "      <td>12:15:00</td>\n",
       "      <td>18.0</td>\n",
       "      <td>1</td>\n",
       "    </tr>\n",
       "    <tr>\n",
       "      <th>312996</th>\n",
       "      <td>10.0</td>\n",
       "      <td>2</td>\n",
       "      <td>14:14:00</td>\n",
       "      <td>AA</td>\n",
       "      <td>PSP</td>\n",
       "      <td>DFW</td>\n",
       "      <td>14:02:00</td>\n",
       "      <td>13:54:00</td>\n",
       "      <td>18:40:00</td>\n",
       "      <td>8.0</td>\n",
       "      <td>0</td>\n",
       "    </tr>\n",
       "    <tr>\n",
       "      <th>...</th>\n",
       "      <td>...</td>\n",
       "      <td>...</td>\n",
       "      <td>...</td>\n",
       "      <td>...</td>\n",
       "      <td>...</td>\n",
       "      <td>...</td>\n",
       "      <td>...</td>\n",
       "      <td>...</td>\n",
       "      <td>...</td>\n",
       "      <td>...</td>\n",
       "      <td>...</td>\n",
       "    </tr>\n",
       "    <tr>\n",
       "      <th>2876796</th>\n",
       "      <td>4.0</td>\n",
       "      <td>1</td>\n",
       "      <td>09:19:00</td>\n",
       "      <td>AA</td>\n",
       "      <td>JFK</td>\n",
       "      <td>LAX</td>\n",
       "      <td>09:00:00</td>\n",
       "      <td>09:00:00</td>\n",
       "      <td>12:09:00</td>\n",
       "      <td>0.0</td>\n",
       "      <td>0</td>\n",
       "    </tr>\n",
       "    <tr>\n",
       "      <th>3270826</th>\n",
       "      <td>5.0</td>\n",
       "      <td>3</td>\n",
       "      <td>18:53:00</td>\n",
       "      <td>WN</td>\n",
       "      <td>FLL</td>\n",
       "      <td>BWI</td>\n",
       "      <td>18:41:00</td>\n",
       "      <td>18:35:00</td>\n",
       "      <td>21:25:00</td>\n",
       "      <td>6.0</td>\n",
       "      <td>0</td>\n",
       "    </tr>\n",
       "    <tr>\n",
       "      <th>5507914</th>\n",
       "      <td>12.0</td>\n",
       "      <td>4</td>\n",
       "      <td>18:25:00</td>\n",
       "      <td>OO</td>\n",
       "      <td>BNA</td>\n",
       "      <td>ORD</td>\n",
       "      <td>18:12:00</td>\n",
       "      <td>18:10:00</td>\n",
       "      <td>19:57:00</td>\n",
       "      <td>2.0</td>\n",
       "      <td>0</td>\n",
       "    </tr>\n",
       "    <tr>\n",
       "      <th>2990692</th>\n",
       "      <td>3.0</td>\n",
       "      <td>1</td>\n",
       "      <td>11:07:00</td>\n",
       "      <td>B6</td>\n",
       "      <td>CLT</td>\n",
       "      <td>JFK</td>\n",
       "      <td>10:50:00</td>\n",
       "      <td>10:11:00</td>\n",
       "      <td>12:03:00</td>\n",
       "      <td>39.0</td>\n",
       "      <td>1</td>\n",
       "    </tr>\n",
       "    <tr>\n",
       "      <th>1063054</th>\n",
       "      <td>10.0</td>\n",
       "      <td>2</td>\n",
       "      <td>08:32:00</td>\n",
       "      <td>OO</td>\n",
       "      <td>BNA</td>\n",
       "      <td>MSP</td>\n",
       "      <td>08:11:00</td>\n",
       "      <td>08:15:00</td>\n",
       "      <td>10:32:00</td>\n",
       "      <td>-4.0</td>\n",
       "      <td>0</td>\n",
       "    </tr>\n",
       "  </tbody>\n",
       "</table>\n",
       "<p>52311 rows × 11 columns</p>\n",
       "</div>"
      ],
      "text/plain": [
       "         TAXI_IN  DayOfWeek WHEELS_OFF AIRLINE ORIGIN_AIRPORT  \\\n",
       "1959004      6.0          1   12:43:00      MQ            DFW   \n",
       "2839828     15.0          6   06:07:00      WN            DAY   \n",
       "3081046      7.0          6   17:38:00      OO            LAX   \n",
       "2490882      4.0          6   11:51:00      WN            DEN   \n",
       "312996      10.0          2   14:14:00      AA            PSP   \n",
       "...          ...        ...        ...     ...            ...   \n",
       "2876796      4.0          1   09:19:00      AA            JFK   \n",
       "3270826      5.0          3   18:53:00      WN            FLL   \n",
       "5507914     12.0          4   18:25:00      OO            BNA   \n",
       "2990692      3.0          1   11:07:00      B6            CLT   \n",
       "1063054     10.0          2   08:32:00      OO            BNA   \n",
       "\n",
       "        DESTINATION_AIRPORT  DEP_TIME SCH_DEP_TIME SCH_ARR_TIME  \\\n",
       "1959004                 FWA  12:22:00     12:25:00     15:50:00   \n",
       "2839828                 BWI  05:54:00     06:00:00     07:20:00   \n",
       "3081046                 PHX  17:10:00     16:45:00     18:15:00   \n",
       "2490882                 PHX  11:43:00     11:25:00     12:15:00   \n",
       "312996                  DFW  14:02:00     13:54:00     18:40:00   \n",
       "...                     ...       ...          ...          ...   \n",
       "2876796                 LAX  09:00:00     09:00:00     12:09:00   \n",
       "3270826                 BWI  18:41:00     18:35:00     21:25:00   \n",
       "5507914                 ORD  18:12:00     18:10:00     19:57:00   \n",
       "2990692                 JFK  10:50:00     10:11:00     12:03:00   \n",
       "1063054                 MSP  08:11:00     08:15:00     10:32:00   \n",
       "\n",
       "         DEPARTURE_DELAY  Delayed  \n",
       "1959004             -3.0        0  \n",
       "2839828             -6.0        0  \n",
       "3081046             25.0        1  \n",
       "2490882             18.0        1  \n",
       "312996               8.0        0  \n",
       "...                  ...      ...  \n",
       "2876796              0.0        0  \n",
       "3270826              6.0        0  \n",
       "5507914              2.0        0  \n",
       "2990692             39.0        1  \n",
       "1063054             -4.0        0  \n",
       "\n",
       "[52311 rows x 11 columns]"
      ]
     },
     "execution_count": 33,
     "metadata": {},
     "output_type": "execute_result"
    }
   ],
   "source": [
    "Flights_Delays_Binary_model_1"
   ]
  },
  {
   "cell_type": "code",
   "execution_count": 34,
   "metadata": {},
   "outputs": [
    {
     "data": {
      "text/html": [
       "<div>\n",
       "<style scoped>\n",
       "    .dataframe tbody tr th:only-of-type {\n",
       "        vertical-align: middle;\n",
       "    }\n",
       "\n",
       "    .dataframe tbody tr th {\n",
       "        vertical-align: top;\n",
       "    }\n",
       "\n",
       "    .dataframe thead th {\n",
       "        text-align: right;\n",
       "    }\n",
       "</style>\n",
       "<table border=\"1\" class=\"dataframe\">\n",
       "  <thead>\n",
       "    <tr style=\"text-align: right;\">\n",
       "      <th></th>\n",
       "      <th>TAXI_IN</th>\n",
       "      <th>DayOfWeek</th>\n",
       "      <th>WHEELS_OFF</th>\n",
       "      <th>AIRLINE</th>\n",
       "      <th>ORIGIN_AIRPORT</th>\n",
       "      <th>DESTINATION_AIRPORT</th>\n",
       "      <th>DEP_TIME</th>\n",
       "      <th>SCH_DEP_TIME</th>\n",
       "      <th>SCH_ARR_TIME</th>\n",
       "      <th>DEPARTURE_DELAY</th>\n",
       "      <th>Delayed</th>\n",
       "    </tr>\n",
       "  </thead>\n",
       "  <tbody>\n",
       "    <tr>\n",
       "      <th>1959004</th>\n",
       "      <td>6.0</td>\n",
       "      <td>1</td>\n",
       "      <td>12:43:00</td>\n",
       "      <td>MQ</td>\n",
       "      <td>DFW</td>\n",
       "      <td>FWA</td>\n",
       "      <td>12:22:00</td>\n",
       "      <td>12:25:00</td>\n",
       "      <td>15:50:00</td>\n",
       "      <td>-3.0</td>\n",
       "      <td>0</td>\n",
       "    </tr>\n",
       "    <tr>\n",
       "      <th>2839828</th>\n",
       "      <td>15.0</td>\n",
       "      <td>6</td>\n",
       "      <td>06:07:00</td>\n",
       "      <td>WN</td>\n",
       "      <td>DAY</td>\n",
       "      <td>BWI</td>\n",
       "      <td>05:54:00</td>\n",
       "      <td>06:00:00</td>\n",
       "      <td>07:20:00</td>\n",
       "      <td>-6.0</td>\n",
       "      <td>0</td>\n",
       "    </tr>\n",
       "    <tr>\n",
       "      <th>3081046</th>\n",
       "      <td>7.0</td>\n",
       "      <td>6</td>\n",
       "      <td>17:38:00</td>\n",
       "      <td>OO</td>\n",
       "      <td>LAX</td>\n",
       "      <td>PHX</td>\n",
       "      <td>17:10:00</td>\n",
       "      <td>16:45:00</td>\n",
       "      <td>18:15:00</td>\n",
       "      <td>25.0</td>\n",
       "      <td>1</td>\n",
       "    </tr>\n",
       "    <tr>\n",
       "      <th>2490882</th>\n",
       "      <td>4.0</td>\n",
       "      <td>6</td>\n",
       "      <td>11:51:00</td>\n",
       "      <td>WN</td>\n",
       "      <td>DEN</td>\n",
       "      <td>PHX</td>\n",
       "      <td>11:43:00</td>\n",
       "      <td>11:25:00</td>\n",
       "      <td>12:15:00</td>\n",
       "      <td>18.0</td>\n",
       "      <td>1</td>\n",
       "    </tr>\n",
       "    <tr>\n",
       "      <th>312996</th>\n",
       "      <td>10.0</td>\n",
       "      <td>2</td>\n",
       "      <td>14:14:00</td>\n",
       "      <td>AA</td>\n",
       "      <td>PSP</td>\n",
       "      <td>DFW</td>\n",
       "      <td>14:02:00</td>\n",
       "      <td>13:54:00</td>\n",
       "      <td>18:40:00</td>\n",
       "      <td>8.0</td>\n",
       "      <td>0</td>\n",
       "    </tr>\n",
       "  </tbody>\n",
       "</table>\n",
       "</div>"
      ],
      "text/plain": [
       "         TAXI_IN  DayOfWeek WHEELS_OFF AIRLINE ORIGIN_AIRPORT  \\\n",
       "1959004      6.0          1   12:43:00      MQ            DFW   \n",
       "2839828     15.0          6   06:07:00      WN            DAY   \n",
       "3081046      7.0          6   17:38:00      OO            LAX   \n",
       "2490882      4.0          6   11:51:00      WN            DEN   \n",
       "312996      10.0          2   14:14:00      AA            PSP   \n",
       "\n",
       "        DESTINATION_AIRPORT  DEP_TIME SCH_DEP_TIME SCH_ARR_TIME  \\\n",
       "1959004                 FWA  12:22:00     12:25:00     15:50:00   \n",
       "2839828                 BWI  05:54:00     06:00:00     07:20:00   \n",
       "3081046                 PHX  17:10:00     16:45:00     18:15:00   \n",
       "2490882                 PHX  11:43:00     11:25:00     12:15:00   \n",
       "312996                  DFW  14:02:00     13:54:00     18:40:00   \n",
       "\n",
       "         DEPARTURE_DELAY  Delayed  \n",
       "1959004             -3.0        0  \n",
       "2839828             -6.0        0  \n",
       "3081046             25.0        1  \n",
       "2490882             18.0        1  \n",
       "312996               8.0        0  "
      ]
     },
     "execution_count": 34,
     "metadata": {},
     "output_type": "execute_result"
    }
   ],
   "source": [
    "Flights_Delays_Binary_model_1.head()"
   ]
  },
  {
   "cell_type": "code",
   "execution_count": 35,
   "metadata": {},
   "outputs": [
    {
     "data": {
      "text/html": [
       "<div>\n",
       "<style scoped>\n",
       "    .dataframe tbody tr th:only-of-type {\n",
       "        vertical-align: middle;\n",
       "    }\n",
       "\n",
       "    .dataframe tbody tr th {\n",
       "        vertical-align: top;\n",
       "    }\n",
       "\n",
       "    .dataframe thead th {\n",
       "        text-align: right;\n",
       "    }\n",
       "</style>\n",
       "<table border=\"1\" class=\"dataframe\">\n",
       "  <thead>\n",
       "    <tr style=\"text-align: right;\">\n",
       "      <th></th>\n",
       "      <th>TAXI_IN</th>\n",
       "      <th>DayOfWeek</th>\n",
       "      <th>DEPARTURE_DELAY</th>\n",
       "      <th>Delayed</th>\n",
       "    </tr>\n",
       "  </thead>\n",
       "  <tbody>\n",
       "    <tr>\n",
       "      <th>1959004</th>\n",
       "      <td>6.0</td>\n",
       "      <td>1</td>\n",
       "      <td>-3.0</td>\n",
       "      <td>0</td>\n",
       "    </tr>\n",
       "    <tr>\n",
       "      <th>2839828</th>\n",
       "      <td>15.0</td>\n",
       "      <td>6</td>\n",
       "      <td>-6.0</td>\n",
       "      <td>0</td>\n",
       "    </tr>\n",
       "    <tr>\n",
       "      <th>3081046</th>\n",
       "      <td>7.0</td>\n",
       "      <td>6</td>\n",
       "      <td>25.0</td>\n",
       "      <td>1</td>\n",
       "    </tr>\n",
       "    <tr>\n",
       "      <th>2490882</th>\n",
       "      <td>4.0</td>\n",
       "      <td>6</td>\n",
       "      <td>18.0</td>\n",
       "      <td>1</td>\n",
       "    </tr>\n",
       "    <tr>\n",
       "      <th>312996</th>\n",
       "      <td>10.0</td>\n",
       "      <td>2</td>\n",
       "      <td>8.0</td>\n",
       "      <td>0</td>\n",
       "    </tr>\n",
       "    <tr>\n",
       "      <th>...</th>\n",
       "      <td>...</td>\n",
       "      <td>...</td>\n",
       "      <td>...</td>\n",
       "      <td>...</td>\n",
       "    </tr>\n",
       "    <tr>\n",
       "      <th>2876796</th>\n",
       "      <td>4.0</td>\n",
       "      <td>1</td>\n",
       "      <td>0.0</td>\n",
       "      <td>0</td>\n",
       "    </tr>\n",
       "    <tr>\n",
       "      <th>3270826</th>\n",
       "      <td>5.0</td>\n",
       "      <td>3</td>\n",
       "      <td>6.0</td>\n",
       "      <td>0</td>\n",
       "    </tr>\n",
       "    <tr>\n",
       "      <th>5507914</th>\n",
       "      <td>12.0</td>\n",
       "      <td>4</td>\n",
       "      <td>2.0</td>\n",
       "      <td>0</td>\n",
       "    </tr>\n",
       "    <tr>\n",
       "      <th>2990692</th>\n",
       "      <td>3.0</td>\n",
       "      <td>1</td>\n",
       "      <td>39.0</td>\n",
       "      <td>1</td>\n",
       "    </tr>\n",
       "    <tr>\n",
       "      <th>1063054</th>\n",
       "      <td>10.0</td>\n",
       "      <td>2</td>\n",
       "      <td>-4.0</td>\n",
       "      <td>0</td>\n",
       "    </tr>\n",
       "  </tbody>\n",
       "</table>\n",
       "<p>52311 rows × 4 columns</p>\n",
       "</div>"
      ],
      "text/plain": [
       "         TAXI_IN  DayOfWeek  DEPARTURE_DELAY  Delayed\n",
       "1959004      6.0          1             -3.0        0\n",
       "2839828     15.0          6             -6.0        0\n",
       "3081046      7.0          6             25.0        1\n",
       "2490882      4.0          6             18.0        1\n",
       "312996      10.0          2              8.0        0\n",
       "...          ...        ...              ...      ...\n",
       "2876796      4.0          1              0.0        0\n",
       "3270826      5.0          3              6.0        0\n",
       "5507914     12.0          4              2.0        0\n",
       "2990692      3.0          1             39.0        1\n",
       "1063054     10.0          2             -4.0        0\n",
       "\n",
       "[52311 rows x 4 columns]"
      ]
     },
     "execution_count": 35,
     "metadata": {},
     "output_type": "execute_result"
    }
   ],
   "source": [
    "Flights_Delays_Binary_model_1._get_numeric_data()"
   ]
  },
  {
   "cell_type": "markdown",
   "metadata": {},
   "source": [
    "#### Separating numeric and categorical columns"
   ]
  },
  {
   "cell_type": "code",
   "execution_count": 36,
   "metadata": {},
   "outputs": [
    {
     "name": "stdout",
     "output_type": "stream",
     "text": [
      "Index(['TAXI_IN', 'DayOfWeek', 'DEPARTURE_DELAY'], dtype='object')\n",
      "Index(['WHEELS_OFF', 'AIRLINE', 'ORIGIN_AIRPORT', 'DESTINATION_AIRPORT',\n",
      "       'DEP_TIME', 'SCH_DEP_TIME', 'SCH_ARR_TIME'],\n",
      "      dtype='object')\n"
     ]
    }
   ],
   "source": [
    "numeric_columns_model_1 = Flights_Delays_Binary_model_1._get_numeric_data().select_dtypes(include=np.number).columns.drop(['Delayed'])\n",
    "cat_columns_model_1 = Flights_Delays_Binary_model_1.select_dtypes(exclude=np.number).columns\n",
    "print(numeric_columns_model_1)\n",
    "print(cat_columns_model_1)"
   ]
  },
  {
   "cell_type": "markdown",
   "metadata": {},
   "source": [
    "***"
   ]
  },
  {
   "cell_type": "markdown",
   "metadata": {},
   "source": [
    "#### Spliting to train and test"
   ]
  },
  {
   "cell_type": "markdown",
   "metadata": {},
   "source": [
    "To split data to train and test tables I use *train_test_split*. I set test_size for 20% of data."
   ]
  },
  {
   "cell_type": "code",
   "execution_count": 37,
   "metadata": {
    "id": "SfZEgu0K02TY"
   },
   "outputs": [],
   "source": [
    "X_train, X_test, y_train, y_test = train_test_split(Flights_Delays_Binary_model_1.drop('Delayed', axis=1),\n",
    "                                                   Flights_Delays_Binary_model_1['Delayed'],\n",
    "                                                   test_size=0.2,\n",
    "                                                   stratify=Flights_Delays_Binary_model_1['Delayed'])"
   ]
  },
  {
   "cell_type": "code",
   "execution_count": 38,
   "metadata": {},
   "outputs": [
    {
     "data": {
      "text/html": [
       "<div>\n",
       "<style scoped>\n",
       "    .dataframe tbody tr th:only-of-type {\n",
       "        vertical-align: middle;\n",
       "    }\n",
       "\n",
       "    .dataframe tbody tr th {\n",
       "        vertical-align: top;\n",
       "    }\n",
       "\n",
       "    .dataframe thead th {\n",
       "        text-align: right;\n",
       "    }\n",
       "</style>\n",
       "<table border=\"1\" class=\"dataframe\">\n",
       "  <thead>\n",
       "    <tr style=\"text-align: right;\">\n",
       "      <th></th>\n",
       "      <th>TAXI_IN</th>\n",
       "      <th>DayOfWeek</th>\n",
       "      <th>WHEELS_OFF</th>\n",
       "      <th>AIRLINE</th>\n",
       "      <th>ORIGIN_AIRPORT</th>\n",
       "      <th>DESTINATION_AIRPORT</th>\n",
       "      <th>DEP_TIME</th>\n",
       "      <th>SCH_DEP_TIME</th>\n",
       "      <th>SCH_ARR_TIME</th>\n",
       "      <th>DEPARTURE_DELAY</th>\n",
       "    </tr>\n",
       "  </thead>\n",
       "  <tbody>\n",
       "    <tr>\n",
       "      <th>1682841</th>\n",
       "      <td>8.0</td>\n",
       "      <td>5</td>\n",
       "      <td>09:06:00</td>\n",
       "      <td>WN</td>\n",
       "      <td>SAN</td>\n",
       "      <td>ATL</td>\n",
       "      <td>08:55:00</td>\n",
       "      <td>08:45:00</td>\n",
       "      <td>15:50:00</td>\n",
       "      <td>10.0</td>\n",
       "    </tr>\n",
       "    <tr>\n",
       "      <th>2005144</th>\n",
       "      <td>8.0</td>\n",
       "      <td>4</td>\n",
       "      <td>08:35:00</td>\n",
       "      <td>MQ</td>\n",
       "      <td>ROW</td>\n",
       "      <td>DFW</td>\n",
       "      <td>08:19:00</td>\n",
       "      <td>08:25:00</td>\n",
       "      <td>10:56:00</td>\n",
       "      <td>-6.0</td>\n",
       "    </tr>\n",
       "    <tr>\n",
       "      <th>1113187</th>\n",
       "      <td>5.0</td>\n",
       "      <td>5</td>\n",
       "      <td>08:06:00</td>\n",
       "      <td>WN</td>\n",
       "      <td>SAT</td>\n",
       "      <td>DAL</td>\n",
       "      <td>07:58:00</td>\n",
       "      <td>08:00:00</td>\n",
       "      <td>09:05:00</td>\n",
       "      <td>-2.0</td>\n",
       "    </tr>\n",
       "    <tr>\n",
       "      <th>3615888</th>\n",
       "      <td>6.0</td>\n",
       "      <td>3</td>\n",
       "      <td>09:17:00</td>\n",
       "      <td>HA</td>\n",
       "      <td>SEA</td>\n",
       "      <td>HNL</td>\n",
       "      <td>08:58:00</td>\n",
       "      <td>08:55:00</td>\n",
       "      <td>11:50:00</td>\n",
       "      <td>3.0</td>\n",
       "    </tr>\n",
       "    <tr>\n",
       "      <th>3958539</th>\n",
       "      <td>6.0</td>\n",
       "      <td>3</td>\n",
       "      <td>10:36:00</td>\n",
       "      <td>AA</td>\n",
       "      <td>BOS</td>\n",
       "      <td>PHX</td>\n",
       "      <td>10:11:00</td>\n",
       "      <td>10:10:00</td>\n",
       "      <td>12:40:00</td>\n",
       "      <td>1.0</td>\n",
       "    </tr>\n",
       "    <tr>\n",
       "      <th>...</th>\n",
       "      <td>...</td>\n",
       "      <td>...</td>\n",
       "      <td>...</td>\n",
       "      <td>...</td>\n",
       "      <td>...</td>\n",
       "      <td>...</td>\n",
       "      <td>...</td>\n",
       "      <td>...</td>\n",
       "      <td>...</td>\n",
       "      <td>...</td>\n",
       "    </tr>\n",
       "    <tr>\n",
       "      <th>1984183</th>\n",
       "      <td>19.0</td>\n",
       "      <td>2</td>\n",
       "      <td>22:01:00</td>\n",
       "      <td>DL</td>\n",
       "      <td>DTW</td>\n",
       "      <td>LGA</td>\n",
       "      <td>21:41:00</td>\n",
       "      <td>21:45:00</td>\n",
       "      <td>23:32:00</td>\n",
       "      <td>-4.0</td>\n",
       "    </tr>\n",
       "    <tr>\n",
       "      <th>1032258</th>\n",
       "      <td>2.0</td>\n",
       "      <td>0</td>\n",
       "      <td>10:45:00</td>\n",
       "      <td>WN</td>\n",
       "      <td>LAX</td>\n",
       "      <td>TUS</td>\n",
       "      <td>10:37:00</td>\n",
       "      <td>10:35:00</td>\n",
       "      <td>11:50:00</td>\n",
       "      <td>2.0</td>\n",
       "    </tr>\n",
       "    <tr>\n",
       "      <th>3212314</th>\n",
       "      <td>5.0</td>\n",
       "      <td>0</td>\n",
       "      <td>12:20:00</td>\n",
       "      <td>MQ</td>\n",
       "      <td>ORD</td>\n",
       "      <td>CHA</td>\n",
       "      <td>12:02:00</td>\n",
       "      <td>12:05:00</td>\n",
       "      <td>14:52:00</td>\n",
       "      <td>-3.0</td>\n",
       "    </tr>\n",
       "    <tr>\n",
       "      <th>3691594</th>\n",
       "      <td>13.0</td>\n",
       "      <td>0</td>\n",
       "      <td>19:09:00</td>\n",
       "      <td>WN</td>\n",
       "      <td>MSY</td>\n",
       "      <td>ATL</td>\n",
       "      <td>19:00:00</td>\n",
       "      <td>18:45:00</td>\n",
       "      <td>21:20:00</td>\n",
       "      <td>15.0</td>\n",
       "    </tr>\n",
       "    <tr>\n",
       "      <th>4968829</th>\n",
       "      <td>6.0</td>\n",
       "      <td>4</td>\n",
       "      <td>22:11:00</td>\n",
       "      <td>WN</td>\n",
       "      <td>LAX</td>\n",
       "      <td>ELP</td>\n",
       "      <td>21:59:00</td>\n",
       "      <td>21:30:00</td>\n",
       "      <td>00:15:00</td>\n",
       "      <td>29.0</td>\n",
       "    </tr>\n",
       "  </tbody>\n",
       "</table>\n",
       "<p>41848 rows × 10 columns</p>\n",
       "</div>"
      ],
      "text/plain": [
       "         TAXI_IN  DayOfWeek WHEELS_OFF AIRLINE ORIGIN_AIRPORT  \\\n",
       "1682841      8.0          5   09:06:00      WN            SAN   \n",
       "2005144      8.0          4   08:35:00      MQ            ROW   \n",
       "1113187      5.0          5   08:06:00      WN            SAT   \n",
       "3615888      6.0          3   09:17:00      HA            SEA   \n",
       "3958539      6.0          3   10:36:00      AA            BOS   \n",
       "...          ...        ...        ...     ...            ...   \n",
       "1984183     19.0          2   22:01:00      DL            DTW   \n",
       "1032258      2.0          0   10:45:00      WN            LAX   \n",
       "3212314      5.0          0   12:20:00      MQ            ORD   \n",
       "3691594     13.0          0   19:09:00      WN            MSY   \n",
       "4968829      6.0          4   22:11:00      WN            LAX   \n",
       "\n",
       "        DESTINATION_AIRPORT  DEP_TIME SCH_DEP_TIME SCH_ARR_TIME  \\\n",
       "1682841                 ATL  08:55:00     08:45:00     15:50:00   \n",
       "2005144                 DFW  08:19:00     08:25:00     10:56:00   \n",
       "1113187                 DAL  07:58:00     08:00:00     09:05:00   \n",
       "3615888                 HNL  08:58:00     08:55:00     11:50:00   \n",
       "3958539                 PHX  10:11:00     10:10:00     12:40:00   \n",
       "...                     ...       ...          ...          ...   \n",
       "1984183                 LGA  21:41:00     21:45:00     23:32:00   \n",
       "1032258                 TUS  10:37:00     10:35:00     11:50:00   \n",
       "3212314                 CHA  12:02:00     12:05:00     14:52:00   \n",
       "3691594                 ATL  19:00:00     18:45:00     21:20:00   \n",
       "4968829                 ELP  21:59:00     21:30:00     00:15:00   \n",
       "\n",
       "         DEPARTURE_DELAY  \n",
       "1682841             10.0  \n",
       "2005144             -6.0  \n",
       "1113187             -2.0  \n",
       "3615888              3.0  \n",
       "3958539              1.0  \n",
       "...                  ...  \n",
       "1984183             -4.0  \n",
       "1032258              2.0  \n",
       "3212314             -3.0  \n",
       "3691594             15.0  \n",
       "4968829             29.0  \n",
       "\n",
       "[41848 rows x 10 columns]"
      ]
     },
     "execution_count": 38,
     "metadata": {},
     "output_type": "execute_result"
    }
   ],
   "source": [
    "X_train"
   ]
  },
  {
   "cell_type": "code",
   "execution_count": 64,
   "metadata": {},
   "outputs": [
    {
     "name": "stdout",
     "output_type": "stream",
     "text": [
      "0.19100076467214683\n"
     ]
    }
   ],
   "source": [
    "print(sum(y_train[y_train>0])/y_train.count())"
   ]
  },
  {
   "cell_type": "markdown",
   "metadata": {},
   "source": [
    "Only 19% of flights are delayed. That means that data are not balanced. To handle it in proper way it's necesery to use Stratfied version of KFold."
   ]
  },
  {
   "cell_type": "code",
   "execution_count": 40,
   "metadata": {},
   "outputs": [],
   "source": [
    "from sklearn.model_selection import StratifiedKFold\n",
    "\n",
    "kfold = StratifiedKFold(n_splits=5)"
   ]
  },
  {
   "cell_type": "code",
   "execution_count": 41,
   "metadata": {},
   "outputs": [],
   "source": [
    "from sklearn.pipeline import FeatureUnion"
   ]
  },
  {
   "cell_type": "markdown",
   "metadata": {},
   "source": [
    "#### Transformer pipeline"
   ]
  },
  {
   "cell_type": "markdown",
   "metadata": {},
   "source": [
    "Data contains numeric and cathegorical variables. To interpret them properly I set two pipelines.\n",
    "* For numeric transformation there is used MinMaxScaler\n",
    "* For cathegorical varablies there is used OneHotEncoder"
   ]
  },
  {
   "cell_type": "code",
   "execution_count": 42,
   "metadata": {
    "id": "NILFq6nt-dsz"
   },
   "outputs": [],
   "source": [
    "# numeric pipeline\n",
    "numeric_transformer = Pipeline(steps=[\n",
    "    ('scale_data', MinMaxScaler())\n",
    "])\n",
    "# categorical pipeline\n",
    "categorical_transformer = Pipeline(steps=[\n",
    "    ('encoder', OneHotEncoder(handle_unknown='ignore'))\n",
    "])\n",
    "# transformer = numerical + categorical\n",
    "transformer = ColumnTransformer([\n",
    "    ('num', numeric_transformer, numeric_columns_model_1),\n",
    "    ('cat', categorical_transformer, cat_columns_model_1)\n",
    "])"
   ]
  },
  {
   "cell_type": "markdown",
   "metadata": {},
   "source": [
    "## Finding best algorithm"
   ]
  },
  {
   "cell_type": "markdown",
   "metadata": {},
   "source": [
    "### LogisticRegression"
   ]
  },
  {
   "cell_type": "code",
   "execution_count": 43,
   "metadata": {},
   "outputs": [],
   "source": [
    "param_grid = {\n",
    "            'classifier__C': [1, 10,25,30,35,45,50,100],\n",
    "}\n",
    "\n",
    "pipeline = Pipeline(steps=[('preprocessor', transformer),\n",
    "                      ('classifier', LogisticRegression(max_iter=10000, solver='saga'))])\n",
    "\n",
    "grid_1 = GridSearchCV(pipeline, param_grid, cv=kfold, return_train_score=True, verbose=5, n_jobs=3)\n",
    "\n"
   ]
  },
  {
   "cell_type": "code",
   "execution_count": 44,
   "metadata": {},
   "outputs": [
    {
     "name": "stdout",
     "output_type": "stream",
     "text": [
      "Fitting 5 folds for each of 8 candidates, totalling 40 fits\n"
     ]
    },
    {
     "name": "stderr",
     "output_type": "stream",
     "text": [
      "[Parallel(n_jobs=3)]: Using backend LokyBackend with 3 concurrent workers.\n",
      "[Parallel(n_jobs=3)]: Done  12 tasks      | elapsed:   10.7s\n",
      "[Parallel(n_jobs=3)]: Done  40 out of  40 | elapsed:   49.8s finished\n"
     ]
    },
    {
     "data": {
      "text/plain": [
       "GridSearchCV(cv=StratifiedKFold(n_splits=5, random_state=None, shuffle=False),\n",
       "             estimator=Pipeline(steps=[('preprocessor',\n",
       "                                        ColumnTransformer(transformers=[('num',\n",
       "                                                                         Pipeline(steps=[('scale_data',\n",
       "                                                                                          MinMaxScaler())]),\n",
       "                                                                         Index(['TAXI_IN', 'DayOfWeek', 'DEPARTURE_DELAY'], dtype='object')),\n",
       "                                                                        ('cat',\n",
       "                                                                         Pipeline(steps=[('encoder',\n",
       "                                                                                          OneHotEncoder(handle_unknown='ignore'))]),\n",
       "                                                                         Index(['WHEELS_OFF', 'AIRLINE', 'ORIGIN_AIRPORT', 'DESTINATION_AIRPORT',\n",
       "       'DEP_TIME', 'SCH_DEP_TIME', 'SCH_ARR_TIME'],\n",
       "      dtype='object'))])),\n",
       "                                       ('classifier',\n",
       "                                        LogisticRegression(max_iter=10000,\n",
       "                                                           solver='saga'))]),\n",
       "             n_jobs=3,\n",
       "             param_grid={'classifier__C': [1, 10, 25, 30, 35, 45, 50, 100]},\n",
       "             return_train_score=True, verbose=5)"
      ]
     },
     "execution_count": 44,
     "metadata": {},
     "output_type": "execute_result"
    }
   ],
   "source": [
    "grid_1.fit(X_train, y_train)\n"
   ]
  },
  {
   "cell_type": "code",
   "execution_count": 45,
   "metadata": {},
   "outputs": [
    {
     "data": {
      "text/plain": [
       "{'classifier__C': 10}"
      ]
     },
     "execution_count": 45,
     "metadata": {},
     "output_type": "execute_result"
    }
   ],
   "source": [
    "grid_1.best_params_"
   ]
  },
  {
   "cell_type": "code",
   "execution_count": 46,
   "metadata": {},
   "outputs": [
    {
     "name": "stdout",
     "output_type": "stream",
     "text": [
      "roc_auc_score: 0.9085522794478524\n"
     ]
    }
   ],
   "source": [
    " print(\"roc_auc_score: {}\".format( metrics.roc_auc_score(y_test , grid_1.decision_function(X_test)) ))      "
   ]
  },
  {
   "cell_type": "markdown",
   "metadata": {},
   "source": [
    "### LinearSVC"
   ]
  },
  {
   "cell_type": "code",
   "execution_count": 47,
   "metadata": {},
   "outputs": [],
   "source": [
    "pipe = Pipeline([('preprocessing', transformer), ('classifier', LinearSVC(C=1, max_iter=10000))])\n",
    "\n",
    "param_grid = {\n",
    "            'classifier__C': [0.1, 1, 10, 100,1000]\n",
    "}\n",
    "\n",
    "grid_2 = GridSearchCV(pipe, param_grid, cv=kfold, return_train_score=True, verbose=5, n_jobs=3)\n"
   ]
  },
  {
   "cell_type": "code",
   "execution_count": 48,
   "metadata": {},
   "outputs": [
    {
     "name": "stdout",
     "output_type": "stream",
     "text": [
      "Fitting 5 folds for each of 5 candidates, totalling 25 fits\n"
     ]
    },
    {
     "name": "stderr",
     "output_type": "stream",
     "text": [
      "[Parallel(n_jobs=3)]: Using backend LokyBackend with 3 concurrent workers.\n",
      "[Parallel(n_jobs=3)]: Done  12 tasks      | elapsed:   10.8s\n",
      "[Parallel(n_jobs=3)]: Done  25 out of  25 | elapsed:  1.4min finished\n"
     ]
    },
    {
     "data": {
      "text/plain": [
       "{'classifier__C': 1}"
      ]
     },
     "execution_count": 48,
     "metadata": {},
     "output_type": "execute_result"
    }
   ],
   "source": [
    "grid_2.fit(X_train, y_train)\n",
    "grid_2.best_params_"
   ]
  },
  {
   "cell_type": "code",
   "execution_count": 49,
   "metadata": {},
   "outputs": [
    {
     "name": "stdout",
     "output_type": "stream",
     "text": [
      "roc_auc_score: 0.9122233021047386\n"
     ]
    }
   ],
   "source": [
    " print(\"roc_auc_score: {}\".format( metrics.roc_auc_score(y_test , grid_2.decision_function(X_test)) ))      "
   ]
  },
  {
   "cell_type": "markdown",
   "metadata": {},
   "source": [
    "### RandomForestClassifier"
   ]
  },
  {
   "cell_type": "code",
   "execution_count": 50,
   "metadata": {},
   "outputs": [],
   "source": [
    "pipe = Pipeline([('preprocessing', transformer), ('classifier', RandomForestClassifier())])\n",
    "\n",
    "param_grid = {\n",
    "            'classifier__n_estimators': [20,45],\n",
    "            'classifier__max_features': [45,100],\n",
    "            'classifier__max_depth': [50,100]\n",
    "}\n",
    "\n",
    "grid_3 = GridSearchCV(pipe, param_grid, cv=kfold, return_train_score=True, verbose=5, n_jobs=3)\n",
    "\n"
   ]
  },
  {
   "cell_type": "code",
   "execution_count": 51,
   "metadata": {},
   "outputs": [
    {
     "name": "stdout",
     "output_type": "stream",
     "text": [
      "Fitting 5 folds for each of 8 candidates, totalling 40 fits\n"
     ]
    },
    {
     "name": "stderr",
     "output_type": "stream",
     "text": [
      "[Parallel(n_jobs=3)]: Using backend LokyBackend with 3 concurrent workers.\n",
      "[Parallel(n_jobs=3)]: Done  12 tasks      | elapsed:   10.1s\n",
      "[Parallel(n_jobs=3)]: Done  40 out of  40 | elapsed:   47.8s finished\n"
     ]
    },
    {
     "data": {
      "text/plain": [
       "GridSearchCV(cv=StratifiedKFold(n_splits=5, random_state=None, shuffle=False),\n",
       "             estimator=Pipeline(steps=[('preprocessing',\n",
       "                                        ColumnTransformer(transformers=[('num',\n",
       "                                                                         Pipeline(steps=[('scale_data',\n",
       "                                                                                          MinMaxScaler())]),\n",
       "                                                                         Index(['TAXI_IN', 'DayOfWeek', 'DEPARTURE_DELAY'], dtype='object')),\n",
       "                                                                        ('cat',\n",
       "                                                                         Pipeline(steps=[('encoder',\n",
       "                                                                                          OneHotEncoder(handle_unknown='ignore'))]),\n",
       "                                                                         Index(['WHEELS_OFF', 'AIRLINE', 'ORIGIN_AIRPORT', 'DESTINATION_AIRPORT',\n",
       "       'DEP_TIME', 'SCH_DEP_TIME', 'SCH_ARR_TIME'],\n",
       "      dtype='object'))])),\n",
       "                                       ('classifier',\n",
       "                                        RandomForestClassifier())]),\n",
       "             n_jobs=3,\n",
       "             param_grid={'classifier__max_depth': [50, 100],\n",
       "                         'classifier__max_features': [45, 100],\n",
       "                         'classifier__n_estimators': [20, 45]},\n",
       "             return_train_score=True, verbose=5)"
      ]
     },
     "execution_count": 51,
     "metadata": {},
     "output_type": "execute_result"
    }
   ],
   "source": [
    "grid_3.fit(X_train, y_train)"
   ]
  },
  {
   "cell_type": "code",
   "execution_count": 52,
   "metadata": {},
   "outputs": [
    {
     "data": {
      "text/plain": [
       "{'classifier__max_depth': 100,\n",
       " 'classifier__max_features': 100,\n",
       " 'classifier__n_estimators': 45}"
      ]
     },
     "execution_count": 52,
     "metadata": {},
     "output_type": "execute_result"
    }
   ],
   "source": [
    "grid_3.best_params_"
   ]
  },
  {
   "cell_type": "code",
   "execution_count": 53,
   "metadata": {},
   "outputs": [
    {
     "name": "stdout",
     "output_type": "stream",
     "text": [
      "Fitting 5 folds for each of 8 candidates, totalling 40 fits\n"
     ]
    },
    {
     "name": "stderr",
     "output_type": "stream",
     "text": [
      "[Parallel(n_jobs=3)]: Using backend LokyBackend with 3 concurrent workers.\n",
      "[Parallel(n_jobs=3)]: Done  12 tasks      | elapsed:    9.6s\n",
      "[Parallel(n_jobs=3)]: Done  40 out of  40 | elapsed:   46.8s finished\n"
     ]
    },
    {
     "data": {
      "text/plain": [
       "{'classifier__max_depth': 100,\n",
       " 'classifier__max_features': 100,\n",
       " 'classifier__n_estimators': 45}"
      ]
     },
     "execution_count": 53,
     "metadata": {},
     "output_type": "execute_result"
    }
   ],
   "source": [
    "grid_3.fit(X_train, y_train)\n",
    "grid_3.best_params_"
   ]
  },
  {
   "cell_type": "markdown",
   "metadata": {},
   "source": [
    "### DecisionTreeClassifier"
   ]
  },
  {
   "cell_type": "code",
   "execution_count": 54,
   "metadata": {},
   "outputs": [],
   "source": [
    "from sklearn.tree import DecisionTreeClassifier\n",
    "\n",
    "pipe_4 = Pipeline([('preprocessing', transformer), \n",
    "                   ('classifier', DecisionTreeClassifier())])\n",
    "\n",
    "param_grid_4 = {\n",
    "            'classifier__max_depth': [10,20,25,30],\n",
    "            'classifier__min_samples_split': [60,80,100],\n",
    "            'classifier__max_leaf_nodes': [60,85,100]\n",
    "}\n",
    "\n",
    "\n",
    "grid_4 = GridSearchCV(pipe_4, param_grid_4, cv=kfold, return_train_score=True, verbose=5, n_jobs=3)\n",
    "\n"
   ]
  },
  {
   "cell_type": "code",
   "execution_count": 65,
   "metadata": {},
   "outputs": [
    {
     "name": "stdout",
     "output_type": "stream",
     "text": [
      "Fitting 5 folds for each of 36 candidates, totalling 180 fits\n"
     ]
    },
    {
     "name": "stderr",
     "output_type": "stream",
     "text": [
      "[Parallel(n_jobs=3)]: Using backend LokyBackend with 3 concurrent workers.\n",
      "[Parallel(n_jobs=3)]: Done  12 tasks      | elapsed:    5.0s\n",
      "[Parallel(n_jobs=3)]: Done  66 tasks      | elapsed:   23.7s\n",
      "[Parallel(n_jobs=3)]: Done 156 tasks      | elapsed:   59.8s\n",
      "[Parallel(n_jobs=3)]: Done 180 out of 180 | elapsed:  1.2min finished\n"
     ]
    },
    {
     "data": {
      "text/plain": [
       "{'classifier__max_depth': 10,\n",
       " 'classifier__max_leaf_nodes': 100,\n",
       " 'classifier__min_samples_split': 60}"
      ]
     },
     "execution_count": 65,
     "metadata": {},
     "output_type": "execute_result"
    }
   ],
   "source": [
    "grid_4.fit(X_train, y_train)\n",
    "grid_4.best_params_"
   ]
  },
  {
   "cell_type": "code",
   "execution_count": 66,
   "metadata": {},
   "outputs": [
    {
     "name": "stdout",
     "output_type": "stream",
     "text": [
      "roc_auc_score: 0.93540032658106\n"
     ]
    }
   ],
   "source": [
    "print(\"roc_auc_score: {}\".format( metrics.roc_auc_score(y_test , grid_4.predict_proba(X_test)[:,1]) ))"
   ]
  },
  {
   "cell_type": "markdown",
   "metadata": {},
   "source": [
    "### BaggingClassifier"
   ]
  },
  {
   "cell_type": "code",
   "execution_count": 67,
   "metadata": {},
   "outputs": [],
   "source": [
    "from sklearn.ensemble import BaggingClassifier\n",
    "from sklearn.tree import DecisionTreeClassifier\n",
    "\n",
    "pipe_5 = Pipeline([('preprocessing', transformer), \n",
    "                   ('classifier', BaggingClassifier(\n",
    "                                    DecisionTreeClassifier(random_state=42), n_estimators=500,\n",
    "                                    max_samples=100, bootstrap=True, random_state=42))\n",
    "                  ])\n",
    "\n",
    "param_grid_5 = {'classifier__n_estimators': [10,50,100],\n",
    "              'classifier__max_samples': [20,40,60,100]\n",
    "             }\n",
    "\n",
    "grid_5 = GridSearchCV(pipe_5, param_grid_5, cv=kfold, return_train_score=True, verbose=5, n_jobs=3)\n",
    "\n",
    "\n"
   ]
  },
  {
   "cell_type": "code",
   "execution_count": 68,
   "metadata": {},
   "outputs": [
    {
     "name": "stdout",
     "output_type": "stream",
     "text": [
      "Fitting 5 folds for each of 12 candidates, totalling 60 fits\n"
     ]
    },
    {
     "name": "stderr",
     "output_type": "stream",
     "text": [
      "[Parallel(n_jobs=3)]: Using backend LokyBackend with 3 concurrent workers.\n",
      "[Parallel(n_jobs=3)]: Done  12 tasks      | elapsed:    9.4s\n",
      "[Parallel(n_jobs=3)]: Done  60 out of  60 | elapsed:   47.4s finished\n"
     ]
    },
    {
     "data": {
      "text/plain": [
       "{'classifier__max_samples': 100, 'classifier__n_estimators': 50}"
      ]
     },
     "execution_count": 68,
     "metadata": {},
     "output_type": "execute_result"
    }
   ],
   "source": [
    "grid_5.fit(X_train, y_train)\n",
    "grid_5.best_params_"
   ]
  },
  {
   "cell_type": "code",
   "execution_count": 69,
   "metadata": {},
   "outputs": [
    {
     "name": "stdout",
     "output_type": "stream",
     "text": [
      "roc_auc_score: 0.9218621007100904\n"
     ]
    }
   ],
   "source": [
    "print(\"roc_auc_score: {}\".format( metrics.roc_auc_score(y_test , grid_5.predict_proba(X_test)[:,1]) ))"
   ]
  },
  {
   "cell_type": "markdown",
   "metadata": {},
   "source": [
    "## Compering algorithms"
   ]
  },
  {
   "cell_type": "code",
   "execution_count": 153,
   "metadata": {},
   "outputs": [
    {
     "name": "stdout",
     "output_type": "stream",
     "text": [
      "roc_auc_score: 0.9085522794478524\n",
      "roc_auc_score: 0.9122233021047386\n",
      "roc_auc_score: 0.9175892589489452\n",
      "roc_auc_score: 0.93540032658106\n",
      "roc_auc_score: 0.9218621007100904\n"
     ]
    },
    {
     "data": {
      "text/html": [
       "<div>\n",
       "<style scoped>\n",
       "    .dataframe tbody tr th:only-of-type {\n",
       "        vertical-align: middle;\n",
       "    }\n",
       "\n",
       "    .dataframe tbody tr th {\n",
       "        vertical-align: top;\n",
       "    }\n",
       "\n",
       "    .dataframe thead th {\n",
       "        text-align: right;\n",
       "    }\n",
       "</style>\n",
       "<table border=\"1\" class=\"dataframe\">\n",
       "  <thead>\n",
       "    <tr style=\"text-align: right;\">\n",
       "      <th></th>\n",
       "      <th>LR</th>\n",
       "      <th>SVM linear</th>\n",
       "      <th>RandomForestClassifier</th>\n",
       "      <th>DecisionTreeClassifier</th>\n",
       "      <th>BaggingClassifier</th>\n",
       "    </tr>\n",
       "  </thead>\n",
       "  <tbody>\n",
       "    <tr>\n",
       "      <th>precision_score</th>\n",
       "      <td>0.841776</td>\n",
       "      <td>0.841878</td>\n",
       "      <td>0.891544</td>\n",
       "      <td>0.874630</td>\n",
       "      <td>0.879248</td>\n",
       "    </tr>\n",
       "    <tr>\n",
       "      <th>recall_score</th>\n",
       "      <td>0.673337</td>\n",
       "      <td>0.681841</td>\n",
       "      <td>0.727864</td>\n",
       "      <td>0.739870</td>\n",
       "      <td>0.724862</td>\n",
       "    </tr>\n",
       "    <tr>\n",
       "      <th>f1_score</th>\n",
       "      <td>0.748193</td>\n",
       "      <td>0.753455</td>\n",
       "      <td>0.801432</td>\n",
       "      <td>0.801626</td>\n",
       "      <td>0.794626</td>\n",
       "    </tr>\n",
       "    <tr>\n",
       "      <th>accuracy_score</th>\n",
       "      <td>0.913409</td>\n",
       "      <td>0.914747</td>\n",
       "      <td>0.931091</td>\n",
       "      <td>0.930039</td>\n",
       "      <td>0.928414</td>\n",
       "    </tr>\n",
       "    <tr>\n",
       "      <th>roc_auc_score</th>\n",
       "      <td>0.908552</td>\n",
       "      <td>0.912223</td>\n",
       "      <td>0.917589</td>\n",
       "      <td>0.935400</td>\n",
       "      <td>0.921862</td>\n",
       "    </tr>\n",
       "  </tbody>\n",
       "</table>\n",
       "</div>"
      ],
      "text/plain": [
       "                       LR  SVM linear  RandomForestClassifier  \\\n",
       "precision_score  0.841776    0.841878                0.891544   \n",
       "recall_score     0.673337    0.681841                0.727864   \n",
       "f1_score         0.748193    0.753455                0.801432   \n",
       "accuracy_score   0.913409    0.914747                0.931091   \n",
       "roc_auc_score    0.908552    0.912223                0.917589   \n",
       "\n",
       "                 DecisionTreeClassifier  BaggingClassifier  \n",
       "precision_score                0.874630           0.879248  \n",
       "recall_score                   0.739870           0.724862  \n",
       "f1_score                       0.801626           0.794626  \n",
       "accuracy_score                 0.930039           0.928414  \n",
       "roc_auc_score                  0.935400           0.921862  "
      ]
     },
     "execution_count": 153,
     "metadata": {},
     "output_type": "execute_result"
    },
    {
     "data": {
      "image/png": "[encoded data removed]",
      "text/plain": [
       "<Figure size 1080x720 with 1 Axes>"
      ]
     },
     "metadata": {
      "needs_background": "light"
     },
     "output_type": "display_data"
    }
   ],
   "source": [
    "\n",
    "from sklearn.datasets import make_classification\n",
    "from sklearn.linear_model import LogisticRegression\n",
    "from sklearn.model_selection import train_test_split\n",
    "from sklearn.metrics import roc_curve\n",
    "from sklearn.metrics import roc_auc_score\n",
    "from matplotlib import pyplot\n",
    "models = []\n",
    "models.append(('LR', grid_1.best_estimator_))\n",
    "models.append(('SVM linear', grid_2.best_estimator_))\n",
    "models.append(('RandomForestClassifier', grid_3.best_estimator_))\n",
    "models.append(('DecisionTreeClassifier', grid_4.best_estimator_))\n",
    "models.append(('BaggingClassifier', grid_5.best_estimator_))\n",
    "\n",
    "\n",
    "model_names = [name for name, *_ in models]\n",
    "parameters_names = ['precision_score', 'recall_score', 'f1_score', 'accuracy_score', 'roc_auc_score']\n",
    "precision_score = []\n",
    "recall_score = []\n",
    "f1_score = []\n",
    "accuracy_score = []\n",
    "roc_auc_score = []\n",
    "pyplot.figure(figsize=(15,10))\n",
    "for name, model in models:\n",
    "    if (name == 'SVM linear'):\n",
    "        print(\"roc_auc_score: {}\".format( metrics.roc_auc_score(y_test , model.decision_function(X_test)) ))            \n",
    "    else:\n",
    "        print(\"roc_auc_score: {}\".format( metrics.roc_auc_score(y_test , model.predict_proba(X_test)[:,1]) ))\n",
    "    \n",
    "    precision_score.append(metrics.precision_score(y_test , model.predict(X_test)))\n",
    "    recall_score.append(metrics.recall_score(y_test , model.predict(X_test)))\n",
    "    f1_score.append( metrics.f1_score(y_test , model.predict(X_test)))\n",
    "    accuracy_score.append(metrics.accuracy_score(y_test , model.predict(X_test)))\n",
    "    if (name == 'SVM linear'):\n",
    "        roc_auc_score.append(metrics.roc_auc_score(y_test , model.decision_function(X_test))) \n",
    "        #lr_probs = model.decision_function(X_test)\n",
    "        model_probs = model.decision_function(X_test)        \n",
    "        model_auc = metrics.roc_auc_score(y_test, model_probs)\n",
    "        model_fpr, model_tpr, _ = roc_curve(y_test, model_probs)\n",
    "        pyplot.plot(model_fpr, model_tpr, marker='.', label=name)\n",
    "    else:    \n",
    "        roc_auc_score.append(metrics.roc_auc_score(y_test , model.predict_proba(X_test)[:,1]))\n",
    "        model_probs = model.predict_proba(X_test)\n",
    "        model_probs = model_probs[:, 1]\n",
    "        model_auc = metrics.roc_auc_score(y_test, model_probs)\n",
    "        model_fpr, model_tpr, _ = roc_curve(y_test, model_probs)\n",
    "        pyplot.plot(model_fpr, model_tpr, marker='.', label=name)\n",
    "pyplot.xlabel('False Positive Rate')\n",
    "pyplot.ylabel('True Positive Rate')\n",
    "ns_probse = [0 for _ in range(len(X_test))]\n",
    "ns_auc = metrics.roc_auc_score(y_test, ns_probs)\n",
    "ns_fpr, ns_tpr, _ = roc_curve(y_test, ns_probs)\n",
    "pyplot.plot(ns_fpr, ns_tpr, linestyle='--', label='No Skill')\n",
    "pyplot.legend()\n",
    "pd.DataFrame([precision_score ,recall_score ,f1_score ,accuracy_score ,roc_auc_score], columns=model_names, index=parameters_names) "
   ]
  },
  {
   "cell_type": "markdown",
   "metadata": {},
   "source": [
    "For Model 1 Decission Tree is best ML algorithm. It has the highest ROC AUC Score."
   ]
  },
  {
   "cell_type": "markdown",
   "metadata": {},
   "source": [
    "## Model 2"
   ]
  },
  {
   "cell_type": "markdown",
   "metadata": {},
   "source": [
    "This model will contain only variables that are avaiable before few hours before plane take-off."
   ]
  },
  {
   "cell_type": "code",
   "execution_count": null,
   "metadata": {},
   "outputs": [],
   "source": [
    "Flights_Delays_Binary_small.columns"
   ]
  },
  {
   "cell_type": "markdown",
   "metadata": {},
   "source": [
    "Variables that are avaiable before start:\n",
    "\n",
    "'AIRLINE', 'FLIGHT_NUMBER', 'TAIL_NUMBER', ,'ORIGIN_AIRPORT_transformed','DESTINATION_AIRPORT_transformed', 'DEPARTURE_DELAY','TAXI_OUT', 'WHEELS_OFF', 'SCHEDULED_TIME','DISTANCE', 'DEP_TIME', 'SCH_ARR_TIME', 'SCH_DEP_TIME', 'DATE', 'DayOfWeek', 'Holidays', 'Delayed'\n"
   ]
  },
  {
   "cell_type": "code",
   "execution_count": 17,
   "metadata": {},
   "outputs": [],
   "source": [
    "model_2_cols = ['AIRLINE', 'FLIGHT_NUMBER','ORIGIN_AIRPORT','DESTINATION_AIRPORT', 'TAIL_NUMBER', 'SCHEDULED_TIME','DISTANCE', 'SCH_ARR_TIME', 'SCH_DEP_TIME', 'DayOfWeek', 'Holidays', 'Delayed']\n",
    "Flights_Delays_Binary_model_2 = Flights_Delays_Binary_small[model_2_cols]"
   ]
  },
  {
   "cell_type": "code",
   "execution_count": 18,
   "metadata": {},
   "outputs": [
    {
     "data": {
      "text/html": [
       "<div>\n",
       "<style scoped>\n",
       "    .dataframe tbody tr th:only-of-type {\n",
       "        vertical-align: middle;\n",
       "    }\n",
       "\n",
       "    .dataframe tbody tr th {\n",
       "        vertical-align: top;\n",
       "    }\n",
       "\n",
       "    .dataframe thead th {\n",
       "        text-align: right;\n",
       "    }\n",
       "</style>\n",
       "<table border=\"1\" class=\"dataframe\">\n",
       "  <thead>\n",
       "    <tr style=\"text-align: right;\">\n",
       "      <th></th>\n",
       "      <th>FLIGHT_NUMBER</th>\n",
       "      <th>SCHEDULED_TIME</th>\n",
       "      <th>DISTANCE</th>\n",
       "      <th>DayOfWeek</th>\n",
       "      <th>Holidays</th>\n",
       "      <th>Delayed</th>\n",
       "    </tr>\n",
       "  </thead>\n",
       "  <tbody>\n",
       "    <tr>\n",
       "      <th>2000009</th>\n",
       "      <td>1533</td>\n",
       "      <td>99.0</td>\n",
       "      <td>447</td>\n",
       "      <td>3</td>\n",
       "      <td>0</td>\n",
       "      <td>0</td>\n",
       "    </tr>\n",
       "    <tr>\n",
       "      <th>4879898</th>\n",
       "      <td>840</td>\n",
       "      <td>89.0</td>\n",
       "      <td>304</td>\n",
       "      <td>6</td>\n",
       "      <td>0</td>\n",
       "      <td>0</td>\n",
       "    </tr>\n",
       "    <tr>\n",
       "      <th>306622</th>\n",
       "      <td>1334</td>\n",
       "      <td>92.0</td>\n",
       "      <td>481</td>\n",
       "      <td>2</td>\n",
       "      <td>0</td>\n",
       "      <td>0</td>\n",
       "    </tr>\n",
       "    <tr>\n",
       "      <th>770745</th>\n",
       "      <td>3498</td>\n",
       "      <td>91.0</td>\n",
       "      <td>416</td>\n",
       "      <td>4</td>\n",
       "      <td>0</td>\n",
       "      <td>1</td>\n",
       "    </tr>\n",
       "    <tr>\n",
       "      <th>1997928</th>\n",
       "      <td>31</td>\n",
       "      <td>355.0</td>\n",
       "      <td>2378</td>\n",
       "      <td>3</td>\n",
       "      <td>0</td>\n",
       "      <td>0</td>\n",
       "    </tr>\n",
       "    <tr>\n",
       "      <th>...</th>\n",
       "      <td>...</td>\n",
       "      <td>...</td>\n",
       "      <td>...</td>\n",
       "      <td>...</td>\n",
       "      <td>...</td>\n",
       "      <td>...</td>\n",
       "    </tr>\n",
       "    <tr>\n",
       "      <th>2866868</th>\n",
       "      <td>1516</td>\n",
       "      <td>94.0</td>\n",
       "      <td>209</td>\n",
       "      <td>0</td>\n",
       "      <td>0</td>\n",
       "      <td>0</td>\n",
       "    </tr>\n",
       "    <tr>\n",
       "      <th>2679785</th>\n",
       "      <td>1218</td>\n",
       "      <td>189.0</td>\n",
       "      <td>1096</td>\n",
       "      <td>3</td>\n",
       "      <td>0</td>\n",
       "      <td>0</td>\n",
       "    </tr>\n",
       "    <tr>\n",
       "      <th>5521395</th>\n",
       "      <td>3562</td>\n",
       "      <td>130.0</td>\n",
       "      <td>879</td>\n",
       "      <td>5</td>\n",
       "      <td>0</td>\n",
       "      <td>0</td>\n",
       "    </tr>\n",
       "    <tr>\n",
       "      <th>1944079</th>\n",
       "      <td>2552</td>\n",
       "      <td>151.0</td>\n",
       "      <td>859</td>\n",
       "      <td>0</td>\n",
       "      <td>0</td>\n",
       "      <td>0</td>\n",
       "    </tr>\n",
       "    <tr>\n",
       "      <th>2506560</th>\n",
       "      <td>5338</td>\n",
       "      <td>100.0</td>\n",
       "      <td>292</td>\n",
       "      <td>0</td>\n",
       "      <td>0</td>\n",
       "      <td>0</td>\n",
       "    </tr>\n",
       "  </tbody>\n",
       "</table>\n",
       "<p>52311 rows × 6 columns</p>\n",
       "</div>"
      ],
      "text/plain": [
       "         FLIGHT_NUMBER  SCHEDULED_TIME  DISTANCE  DayOfWeek  Holidays  Delayed\n",
       "2000009           1533            99.0       447          3         0        0\n",
       "4879898            840            89.0       304          6         0        0\n",
       "306622            1334            92.0       481          2         0        0\n",
       "770745            3498            91.0       416          4         0        1\n",
       "1997928             31           355.0      2378          3         0        0\n",
       "...                ...             ...       ...        ...       ...      ...\n",
       "2866868           1516            94.0       209          0         0        0\n",
       "2679785           1218           189.0      1096          3         0        0\n",
       "5521395           3562           130.0       879          5         0        0\n",
       "1944079           2552           151.0       859          0         0        0\n",
       "2506560           5338           100.0       292          0         0        0\n",
       "\n",
       "[52311 rows x 6 columns]"
      ]
     },
     "execution_count": 18,
     "metadata": {},
     "output_type": "execute_result"
    }
   ],
   "source": [
    "Flights_Delays_Binary_model_2._get_numeric_data()"
   ]
  },
  {
   "cell_type": "code",
   "execution_count": 19,
   "metadata": {},
   "outputs": [
    {
     "name": "stdout",
     "output_type": "stream",
     "text": [
      "Index(['FLIGHT_NUMBER', 'SCHEDULED_TIME', 'DISTANCE', 'DayOfWeek', 'Holidays'], dtype='object')\n",
      "Index(['AIRLINE', 'ORIGIN_AIRPORT', 'DESTINATION_AIRPORT', 'TAIL_NUMBER',\n",
      "       'SCH_ARR_TIME', 'SCH_DEP_TIME'],\n",
      "      dtype='object')\n"
     ]
    }
   ],
   "source": [
    "numeric_columns_model_2 = Flights_Delays_Binary_model_2._get_numeric_data().select_dtypes(include=np.number).columns.drop(['Delayed'])\n",
    "cat_columns_model_2 = Flights_Delays_Binary_model_2.select_dtypes(exclude=np.number).columns\n",
    "print(numeric_columns_model_2)\n",
    "print(cat_columns_model_2)"
   ]
  },
  {
   "cell_type": "code",
   "execution_count": 20,
   "metadata": {},
   "outputs": [],
   "source": [
    "X_train, X_test, y_train, y_test = train_test_split(Flights_Delays_Binary_model_2.drop('Delayed', axis=1),\n",
    "                                                   Flights_Delays_Binary_model_2['Delayed'],\n",
    "                                                   test_size=0.2,\n",
    "                                                   stratify=Flights_Delays_Binary_model_2['Delayed'])"
   ]
  },
  {
   "cell_type": "code",
   "execution_count": 21,
   "metadata": {},
   "outputs": [
    {
     "data": {
      "text/html": [
       "<div>\n",
       "<style scoped>\n",
       "    .dataframe tbody tr th:only-of-type {\n",
       "        vertical-align: middle;\n",
       "    }\n",
       "\n",
       "    .dataframe tbody tr th {\n",
       "        vertical-align: top;\n",
       "    }\n",
       "\n",
       "    .dataframe thead th {\n",
       "        text-align: right;\n",
       "    }\n",
       "</style>\n",
       "<table border=\"1\" class=\"dataframe\">\n",
       "  <thead>\n",
       "    <tr style=\"text-align: right;\">\n",
       "      <th></th>\n",
       "      <th>AIRLINE</th>\n",
       "      <th>FLIGHT_NUMBER</th>\n",
       "      <th>ORIGIN_AIRPORT</th>\n",
       "      <th>DESTINATION_AIRPORT</th>\n",
       "      <th>TAIL_NUMBER</th>\n",
       "      <th>SCHEDULED_TIME</th>\n",
       "      <th>DISTANCE</th>\n",
       "      <th>SCH_ARR_TIME</th>\n",
       "      <th>SCH_DEP_TIME</th>\n",
       "      <th>DayOfWeek</th>\n",
       "      <th>Holidays</th>\n",
       "    </tr>\n",
       "  </thead>\n",
       "  <tbody>\n",
       "    <tr>\n",
       "      <th>1672929</th>\n",
       "      <td>MQ</td>\n",
       "      <td>3060</td>\n",
       "      <td>FAR</td>\n",
       "      <td>DFW</td>\n",
       "      <td>N619MQ</td>\n",
       "      <td>165.0</td>\n",
       "      <td>968</td>\n",
       "      <td>17:46:00</td>\n",
       "      <td>15:01:00</td>\n",
       "      <td>4</td>\n",
       "      <td>0</td>\n",
       "    </tr>\n",
       "    <tr>\n",
       "      <th>2099207</th>\n",
       "      <td>US</td>\n",
       "      <td>2016</td>\n",
       "      <td>JAX</td>\n",
       "      <td>PHL</td>\n",
       "      <td>N700UW</td>\n",
       "      <td>126.0</td>\n",
       "      <td>742</td>\n",
       "      <td>08:36:00</td>\n",
       "      <td>06:30:00</td>\n",
       "      <td>3</td>\n",
       "      <td>0</td>\n",
       "    </tr>\n",
       "    <tr>\n",
       "      <th>1863270</th>\n",
       "      <td>AA</td>\n",
       "      <td>368</td>\n",
       "      <td>ORD</td>\n",
       "      <td>LGA</td>\n",
       "      <td>N3LFAA</td>\n",
       "      <td>126.0</td>\n",
       "      <td>733</td>\n",
       "      <td>16:16:00</td>\n",
       "      <td>13:10:00</td>\n",
       "      <td>2</td>\n",
       "      <td>0</td>\n",
       "    </tr>\n",
       "    <tr>\n",
       "      <th>5654511</th>\n",
       "      <td>EV</td>\n",
       "      <td>4188</td>\n",
       "      <td>ORD</td>\n",
       "      <td>ICT</td>\n",
       "      <td>N11551</td>\n",
       "      <td>124.0</td>\n",
       "      <td>588</td>\n",
       "      <td>11:23:00</td>\n",
       "      <td>09:19:00</td>\n",
       "      <td>0</td>\n",
       "      <td>0</td>\n",
       "    </tr>\n",
       "    <tr>\n",
       "      <th>2684099</th>\n",
       "      <td>WN</td>\n",
       "      <td>4207</td>\n",
       "      <td>OAK</td>\n",
       "      <td>SNA</td>\n",
       "      <td>N285WN</td>\n",
       "      <td>80.0</td>\n",
       "      <td>371</td>\n",
       "      <td>18:55:00</td>\n",
       "      <td>17:35:00</td>\n",
       "      <td>3</td>\n",
       "      <td>0</td>\n",
       "    </tr>\n",
       "    <tr>\n",
       "      <th>...</th>\n",
       "      <td>...</td>\n",
       "      <td>...</td>\n",
       "      <td>...</td>\n",
       "      <td>...</td>\n",
       "      <td>...</td>\n",
       "      <td>...</td>\n",
       "      <td>...</td>\n",
       "      <td>...</td>\n",
       "      <td>...</td>\n",
       "      <td>...</td>\n",
       "      <td>...</td>\n",
       "    </tr>\n",
       "    <tr>\n",
       "      <th>1766310</th>\n",
       "      <td>DL</td>\n",
       "      <td>2475</td>\n",
       "      <td>MKE</td>\n",
       "      <td>ATL</td>\n",
       "      <td>N958DN</td>\n",
       "      <td>127.0</td>\n",
       "      <td>669</td>\n",
       "      <td>15:24:00</td>\n",
       "      <td>12:17:00</td>\n",
       "      <td>3</td>\n",
       "      <td>0</td>\n",
       "    </tr>\n",
       "    <tr>\n",
       "      <th>1705028</th>\n",
       "      <td>OO</td>\n",
       "      <td>4617</td>\n",
       "      <td>MCI</td>\n",
       "      <td>SLC</td>\n",
       "      <td>N548CA</td>\n",
       "      <td>162.0</td>\n",
       "      <td>920</td>\n",
       "      <td>19:25:00</td>\n",
       "      <td>17:43:00</td>\n",
       "      <td>6</td>\n",
       "      <td>0</td>\n",
       "    </tr>\n",
       "    <tr>\n",
       "      <th>396618</th>\n",
       "      <td>WN</td>\n",
       "      <td>4020</td>\n",
       "      <td>LAS</td>\n",
       "      <td>LAX</td>\n",
       "      <td>N455WN</td>\n",
       "      <td>65.0</td>\n",
       "      <td>236</td>\n",
       "      <td>08:05:00</td>\n",
       "      <td>07:00:00</td>\n",
       "      <td>1</td>\n",
       "      <td>0</td>\n",
       "    </tr>\n",
       "    <tr>\n",
       "      <th>696020</th>\n",
       "      <td>MQ</td>\n",
       "      <td>3372</td>\n",
       "      <td>COU</td>\n",
       "      <td>ORD</td>\n",
       "      <td>N514MQ</td>\n",
       "      <td>78.0</td>\n",
       "      <td>315</td>\n",
       "      <td>07:18:00</td>\n",
       "      <td>06:00:00</td>\n",
       "      <td>0</td>\n",
       "      <td>1</td>\n",
       "    </tr>\n",
       "    <tr>\n",
       "      <th>5751709</th>\n",
       "      <td>WN</td>\n",
       "      <td>1476</td>\n",
       "      <td>PDX</td>\n",
       "      <td>SNA</td>\n",
       "      <td>N7702A</td>\n",
       "      <td>140.0</td>\n",
       "      <td>859</td>\n",
       "      <td>19:05:00</td>\n",
       "      <td>16:45:00</td>\n",
       "      <td>6</td>\n",
       "      <td>0</td>\n",
       "    </tr>\n",
       "  </tbody>\n",
       "</table>\n",
       "<p>41848 rows × 11 columns</p>\n",
       "</div>"
      ],
      "text/plain": [
       "        AIRLINE  FLIGHT_NUMBER ORIGIN_AIRPORT DESTINATION_AIRPORT TAIL_NUMBER  \\\n",
       "1672929      MQ           3060            FAR                 DFW      N619MQ   \n",
       "2099207      US           2016            JAX                 PHL      N700UW   \n",
       "1863270      AA            368            ORD                 LGA      N3LFAA   \n",
       "5654511      EV           4188            ORD                 ICT      N11551   \n",
       "2684099      WN           4207            OAK                 SNA      N285WN   \n",
       "...         ...            ...            ...                 ...         ...   \n",
       "1766310      DL           2475            MKE                 ATL      N958DN   \n",
       "1705028      OO           4617            MCI                 SLC      N548CA   \n",
       "396618       WN           4020            LAS                 LAX      N455WN   \n",
       "696020       MQ           3372            COU                 ORD      N514MQ   \n",
       "5751709      WN           1476            PDX                 SNA      N7702A   \n",
       "\n",
       "         SCHEDULED_TIME  DISTANCE SCH_ARR_TIME SCH_DEP_TIME  DayOfWeek  \\\n",
       "1672929           165.0       968     17:46:00     15:01:00          4   \n",
       "2099207           126.0       742     08:36:00     06:30:00          3   \n",
       "1863270           126.0       733     16:16:00     13:10:00          2   \n",
       "5654511           124.0       588     11:23:00     09:19:00          0   \n",
       "2684099            80.0       371     18:55:00     17:35:00          3   \n",
       "...                 ...       ...          ...          ...        ...   \n",
       "1766310           127.0       669     15:24:00     12:17:00          3   \n",
       "1705028           162.0       920     19:25:00     17:43:00          6   \n",
       "396618             65.0       236     08:05:00     07:00:00          1   \n",
       "696020             78.0       315     07:18:00     06:00:00          0   \n",
       "5751709           140.0       859     19:05:00     16:45:00          6   \n",
       "\n",
       "         Holidays  \n",
       "1672929         0  \n",
       "2099207         0  \n",
       "1863270         0  \n",
       "5654511         0  \n",
       "2684099         0  \n",
       "...           ...  \n",
       "1766310         0  \n",
       "1705028         0  \n",
       "396618          0  \n",
       "696020          1  \n",
       "5751709         0  \n",
       "\n",
       "[41848 rows x 11 columns]"
      ]
     },
     "execution_count": 21,
     "metadata": {},
     "output_type": "execute_result"
    }
   ],
   "source": [
    "X_train"
   ]
  },
  {
   "cell_type": "code",
   "execution_count": 26,
   "metadata": {},
   "outputs": [
    {
     "ename": "NameError",
     "evalue": "name 'StratifiedKFold' is not defined",
     "output_type": "error",
     "traceback": [
      "\u001b[1;31m---------------------------------------------------------------------------\u001b[0m",
      "\u001b[1;31mNameError\u001b[0m                                 Traceback (most recent call last)",
      "\u001b[1;32m<ipython-input-26-a87572f508df>\u001b[0m in \u001b[0;36m<module>\u001b[1;34m\u001b[0m\n\u001b[1;32m----> 1\u001b[1;33m \u001b[0mkfold\u001b[0m \u001b[1;33m=\u001b[0m \u001b[0mStratifiedKFold\u001b[0m\u001b[1;33m(\u001b[0m\u001b[0mn_splits\u001b[0m\u001b[1;33m=\u001b[0m\u001b[1;36m5\u001b[0m\u001b[1;33m)\u001b[0m\u001b[1;33m\u001b[0m\u001b[1;33m\u001b[0m\u001b[0m\n\u001b[0m",
      "\u001b[1;31mNameError\u001b[0m: name 'StratifiedKFold' is not defined"
     ]
    }
   ],
   "source": [
    "kfold = StratifiedKFold(n_splits=5)"
   ]
  },
  {
   "cell_type": "code",
   "execution_count": 22,
   "metadata": {},
   "outputs": [],
   "source": [
    "# numeric pipeline\n",
    "numeric_transformer = Pipeline(steps=[\n",
    "    ('scale_data', MinMaxScaler())\n",
    "])\n",
    "# categorical pipeline\n",
    "categorical_transformer = Pipeline(steps=[\n",
    "    ('encoder', OneHotEncoder(handle_unknown='ignore'))\n",
    "])\n",
    "# transformer = numerical + categorical\n",
    "transformer = ColumnTransformer([\n",
    "    ('num', numeric_transformer, numeric_columns_model_2),\n",
    "    ('cat', categorical_transformer, cat_columns_model_2)\n",
    "])"
   ]
  },
  {
   "cell_type": "code",
   "execution_count": 41,
   "metadata": {},
   "outputs": [],
   "source": [
    "param_grid = {\n",
    "            'classifier__C': [1, 10, 100,1000],\n",
    "}\n",
    "\n",
    "pipeline = Pipeline(steps=[('preprocessor', transformer),\n",
    "                      ('classifier', LogisticRegression(max_iter=10000))])\n",
    "\n",
    "grid_1 = GridSearchCV(pipeline, param_grid, cv=kfold, return_train_score=True, verbose=5, n_jobs=3)\n",
    "\n"
   ]
  },
  {
   "cell_type": "code",
   "execution_count": 42,
   "metadata": {},
   "outputs": [
    {
     "name": "stdout",
     "output_type": "stream",
     "text": [
      "Fitting 5 folds for each of 4 candidates, totalling 20 fits\n"
     ]
    },
    {
     "name": "stderr",
     "output_type": "stream",
     "text": [
      "[Parallel(n_jobs=3)]: Using backend LokyBackend with 3 concurrent workers.\n",
      "[Parallel(n_jobs=3)]: Done  12 tasks      | elapsed:   13.7s\n",
      "[Parallel(n_jobs=3)]: Done  20 out of  20 | elapsed:   34.1s remaining:    0.0s\n",
      "[Parallel(n_jobs=3)]: Done  20 out of  20 | elapsed:   34.1s finished\n"
     ]
    },
    {
     "data": {
      "text/plain": [
       "GridSearchCV(cv=StratifiedKFold(n_splits=5, random_state=None, shuffle=False),\n",
       "             estimator=Pipeline(steps=[('preprocessor',\n",
       "                                        ColumnTransformer(transformers=[('num',\n",
       "                                                                         Pipeline(steps=[('scale_data',\n",
       "                                                                                          MinMaxScaler())]),\n",
       "                                                                         Index(['FLIGHT_NUMBER', 'SCHEDULED_TIME', 'DISTANCE', 'DayOfWeek', 'Holidays'], dtype='object')),\n",
       "                                                                        ('cat',\n",
       "                                                                         Pipeline(steps=[('encoder',\n",
       "                                                                                          OneHotEncoder(handle_unknown='ignore'))]),\n",
       "                                                                         Index(['AIRLINE', 'ORIGIN_AIRPORT', 'DESTINATION_AIRPORT', 'TAIL_NUMBER',\n",
       "       'SCH_ARR_TIME', 'SCH_DEP_TIME'],\n",
       "      dtype='object'))])),\n",
       "                                       ('classifier',\n",
       "                                        LogisticRegression(max_iter=10000))]),\n",
       "             n_jobs=3, param_grid={'classifier__C': [1, 10, 100, 1000]},\n",
       "             return_train_score=True, verbose=5)"
      ]
     },
     "execution_count": 42,
     "metadata": {},
     "output_type": "execute_result"
    }
   ],
   "source": [
    "grid_1.fit(X_train, y_train)\n"
   ]
  },
  {
   "cell_type": "code",
   "execution_count": 43,
   "metadata": {},
   "outputs": [
    {
     "name": "stdout",
     "output_type": "stream",
     "text": [
      "roc_auc_score: 0.5886328616594586\n"
     ]
    }
   ],
   "source": [
    "from sklearn import  metrics\n",
    "print(\"roc_auc_score: {}\".format( metrics.roc_auc_score(y_test , grid_1.decision_function(X_test)) ))      "
   ]
  },
  {
   "cell_type": "code",
   "execution_count": 44,
   "metadata": {},
   "outputs": [],
   "source": [
    "pipe = Pipeline([('preprocessing', transformer), ('classifier', LinearSVC(C=1, max_iter=10000))])\n",
    "\n",
    "param_grid = {\n",
    "            'classifier__C': [0.001, 0.1, 1, 10, 100,1000]\n",
    "}\n",
    "\n",
    "grid_2 = GridSearchCV(pipe, param_grid, cv=kfold, return_train_score=True, verbose=5, n_jobs=3)\n"
   ]
  },
  {
   "cell_type": "code",
   "execution_count": 45,
   "metadata": {},
   "outputs": [
    {
     "name": "stdout",
     "output_type": "stream",
     "text": [
      "Fitting 5 folds for each of 6 candidates, totalling 30 fits\n"
     ]
    },
    {
     "name": "stderr",
     "output_type": "stream",
     "text": [
      "[Parallel(n_jobs=3)]: Using backend LokyBackend with 3 concurrent workers.\n",
      "[Parallel(n_jobs=3)]: Done  12 tasks      | elapsed:    4.0s\n",
      "[Parallel(n_jobs=3)]: Done  30 out of  30 | elapsed:  4.8min finished\n"
     ]
    },
    {
     "data": {
      "text/plain": [
       "{'classifier__C': 0.001}"
      ]
     },
     "execution_count": 45,
     "metadata": {},
     "output_type": "execute_result"
    }
   ],
   "source": [
    "grid_2.fit(X_train, y_train)\n",
    "grid_2.best_params_"
   ]
  },
  {
   "cell_type": "code",
   "execution_count": 46,
   "metadata": {},
   "outputs": [
    {
     "name": "stdout",
     "output_type": "stream",
     "text": [
      "roc_auc_score: 0.617736604219045\n"
     ]
    }
   ],
   "source": [
    " print(\"roc_auc_score: {}\".format( metrics.roc_auc_score(y_test , grid_2.decision_function(X_test)) ))      "
   ]
  },
  {
   "cell_type": "code",
   "execution_count": 47,
   "metadata": {},
   "outputs": [],
   "source": [
    "from sklearn.ensemble import RandomForestClassifier \n",
    "\n",
    "pipe = Pipeline([('preprocessing', transformer), ('classifier', RandomForestClassifier())])\n",
    "\n",
    "param_grid = {\n",
    "            'classifier__n_estimators': [10, 20,45],\n",
    "            'classifier__max_features': [30, 45,100],\n",
    "            'classifier__max_depth': [40, 50,100]\n",
    "}\n",
    "\n",
    "grid_3 = GridSearchCV(pipe, param_grid, cv=kfold, return_train_score=True, verbose=5, n_jobs=3)\n",
    "\n"
   ]
  },
  {
   "cell_type": "code",
   "execution_count": 48,
   "metadata": {},
   "outputs": [
    {
     "name": "stdout",
     "output_type": "stream",
     "text": [
      "Fitting 5 folds for each of 27 candidates, totalling 135 fits\n"
     ]
    },
    {
     "name": "stderr",
     "output_type": "stream",
     "text": [
      "[Parallel(n_jobs=3)]: Using backend LokyBackend with 3 concurrent workers.\n",
      "[Parallel(n_jobs=3)]: Done  12 tasks      | elapsed:    6.1s\n",
      "[Parallel(n_jobs=3)]: Done  66 tasks      | elapsed:   35.0s\n",
      "[Parallel(n_jobs=3)]: Done 135 out of 135 | elapsed:  1.9min finished\n"
     ]
    },
    {
     "data": {
      "text/plain": [
       "GridSearchCV(cv=StratifiedKFold(n_splits=5, random_state=None, shuffle=False),\n",
       "             estimator=Pipeline(steps=[('preprocessing',\n",
       "                                        ColumnTransformer(transformers=[('num',\n",
       "                                                                         Pipeline(steps=[('scale_data',\n",
       "                                                                                          MinMaxScaler())]),\n",
       "                                                                         Index(['FLIGHT_NUMBER', 'SCHEDULED_TIME', 'DISTANCE', 'DayOfWeek', 'Holidays'], dtype='object')),\n",
       "                                                                        ('cat',\n",
       "                                                                         Pipeline(steps=[('encoder',\n",
       "                                                                                          OneHotEncoder(hand...nown='ignore'))]),\n",
       "                                                                         Index(['AIRLINE', 'ORIGIN_AIRPORT', 'DESTINATION_AIRPORT', 'TAIL_NUMBER',\n",
       "       'SCH_ARR_TIME', 'SCH_DEP_TIME'],\n",
       "      dtype='object'))])),\n",
       "                                       ('classifier',\n",
       "                                        RandomForestClassifier())]),\n",
       "             n_jobs=3,\n",
       "             param_grid={'classifier__max_depth': [40, 50, 100],\n",
       "                         'classifier__max_features': [30, 45, 100],\n",
       "                         'classifier__n_estimators': [10, 20, 45]},\n",
       "             return_train_score=True, verbose=5)"
      ]
     },
     "execution_count": 48,
     "metadata": {},
     "output_type": "execute_result"
    }
   ],
   "source": [
    "grid_3.fit(X_train, y_train)"
   ]
  },
  {
   "cell_type": "code",
   "execution_count": 49,
   "metadata": {},
   "outputs": [
    {
     "data": {
      "text/plain": [
       "{'classifier__max_depth': 40,\n",
       " 'classifier__max_features': 30,\n",
       " 'classifier__n_estimators': 10}"
      ]
     },
     "execution_count": 49,
     "metadata": {},
     "output_type": "execute_result"
    }
   ],
   "source": [
    "grid_3.best_params_"
   ]
  },
  {
   "cell_type": "code",
   "execution_count": 50,
   "metadata": {},
   "outputs": [
    {
     "name": "stdout",
     "output_type": "stream",
     "text": [
      "roc_auc_score: 0.5745655340327392\n"
     ]
    }
   ],
   "source": [
    "print(\"roc_auc_score: {}\".format( metrics.roc_auc_score(y_test , grid_3.predict_proba(X_test)[:,1]) ))"
   ]
  },
  {
   "cell_type": "code",
   "execution_count": 51,
   "metadata": {},
   "outputs": [],
   "source": [
    "from sklearn.tree import DecisionTreeClassifier\n",
    "\n",
    "pipe_4 = Pipeline([('preprocessing', transformer), \n",
    "                   ('classifier', DecisionTreeClassifier())])\n",
    "\n",
    "param_grid_4 = {\n",
    "            'classifier__max_depth': [10,20,25,30],\n",
    "            'classifier__min_samples_split': [60,80,100],\n",
    "            'classifier__max_leaf_nodes': [60,85,100]\n",
    "}\n",
    "\n",
    "\n",
    "grid_4 = GridSearchCV(pipe_4, param_grid_4, cv=kfold, return_train_score=True, verbose=5, n_jobs=3)\n",
    "\n"
   ]
  },
  {
   "cell_type": "code",
   "execution_count": 52,
   "metadata": {},
   "outputs": [
    {
     "name": "stdout",
     "output_type": "stream",
     "text": [
      "Fitting 5 folds for each of 36 candidates, totalling 180 fits\n"
     ]
    },
    {
     "name": "stderr",
     "output_type": "stream",
     "text": [
      "[Parallel(n_jobs=3)]: Using backend LokyBackend with 3 concurrent workers.\n",
      "[Parallel(n_jobs=3)]: Done  12 tasks      | elapsed:    3.4s\n",
      "[Parallel(n_jobs=3)]: Done  66 tasks      | elapsed:   17.2s\n",
      "[Parallel(n_jobs=3)]: Done 156 tasks      | elapsed:   46.5s\n",
      "[Parallel(n_jobs=3)]: Done 180 out of 180 | elapsed:   56.5s finished\n"
     ]
    },
    {
     "data": {
      "text/plain": [
       "{'classifier__max_depth': 10,\n",
       " 'classifier__max_leaf_nodes': 60,\n",
       " 'classifier__min_samples_split': 80}"
      ]
     },
     "execution_count": 52,
     "metadata": {},
     "output_type": "execute_result"
    }
   ],
   "source": [
    "grid_4.fit(X_train, y_train)\n",
    "grid_4.best_params_"
   ]
  },
  {
   "cell_type": "code",
   "execution_count": 53,
   "metadata": {},
   "outputs": [
    {
     "name": "stdout",
     "output_type": "stream",
     "text": [
      "roc_auc_score: 0.5576122870647282\n"
     ]
    }
   ],
   "source": [
    "print(\"roc_auc_score: {}\".format( metrics.roc_auc_score(y_test , grid_4.predict_proba(X_test)[:,1]) ))"
   ]
  },
  {
   "cell_type": "code",
   "execution_count": 55,
   "metadata": {},
   "outputs": [],
   "source": [
    "from sklearn.ensemble import BaggingClassifier\n",
    "from sklearn.tree import DecisionTreeClassifier\n",
    "\n",
    "pipe_5 = Pipeline([('preprocessing', transformer), \n",
    "                   ('classifier', BaggingClassifier(\n",
    "                                    DecisionTreeClassifier(random_state=42), n_estimators=500,\n",
    "                                    max_samples=100, bootstrap=True, random_state=42))\n",
    "                  ])\n",
    "\n",
    "param_grid_5 = {'classifier__n_estimators': [50,100],\n",
    "              'classifier__max_samples': [40,100]\n",
    "             }\n",
    "\n",
    "grid_5 = GridSearchCV(pipe_5, param_grid_5, cv=kfold, return_train_score=True, verbose=5, n_jobs=3)\n",
    "\n",
    "\n"
   ]
  },
  {
   "cell_type": "code",
   "execution_count": 56,
   "metadata": {},
   "outputs": [
    {
     "name": "stdout",
     "output_type": "stream",
     "text": [
      "Fitting 5 folds for each of 4 candidates, totalling 20 fits\n"
     ]
    },
    {
     "name": "stderr",
     "output_type": "stream",
     "text": [
      "[Parallel(n_jobs=3)]: Using backend LokyBackend with 3 concurrent workers.\n",
      "[Parallel(n_jobs=3)]: Done  12 tasks      | elapsed:   12.0s\n",
      "[Parallel(n_jobs=3)]: Done  20 out of  20 | elapsed:   24.2s remaining:    0.0s\n",
      "[Parallel(n_jobs=3)]: Done  20 out of  20 | elapsed:   24.2s finished\n"
     ]
    },
    {
     "data": {
      "text/plain": [
       "{'classifier__max_samples': 40, 'classifier__n_estimators': 50}"
      ]
     },
     "execution_count": 56,
     "metadata": {},
     "output_type": "execute_result"
    }
   ],
   "source": [
    "grid_5.fit(X_train, y_train)\n",
    "grid_5.best_params_"
   ]
  },
  {
   "cell_type": "code",
   "execution_count": 109,
   "metadata": {},
   "outputs": [
    {
     "name": "stdout",
     "output_type": "stream",
     "text": [
      "roc_auc_score: 0.5195900631579743\n"
     ]
    }
   ],
   "source": [
    "print(\"roc_auc_score: {}\".format( metrics.roc_auc_score(y_test , grid_5.predict_proba(X_test)[:,1]) ))"
   ]
  },
  {
   "cell_type": "markdown",
   "metadata": {},
   "source": [
    "## Randomized Search of hyper parameters for Random Forest Classifier"
   ]
  },
  {
   "cell_type": "code",
   "execution_count": 28,
   "metadata": {},
   "outputs": [
    {
     "name": "stdout",
     "output_type": "stream",
     "text": [
      "Fitting 5 folds for each of 100 candidates, totalling 500 fits\n"
     ]
    },
    {
     "name": "stderr",
     "output_type": "stream",
     "text": [
      "[Parallel(n_jobs=-1)]: Using backend LokyBackend with 4 concurrent workers.\n",
      "[Parallel(n_jobs=-1)]: Done  10 tasks      | elapsed:   41.6s\n",
      "[Parallel(n_jobs=-1)]: Done  64 tasks      | elapsed:  8.9min\n",
      "[Parallel(n_jobs=-1)]: Done 154 tasks      | elapsed: 39.4min\n",
      "[Parallel(n_jobs=-1)]: Done 280 tasks      | elapsed: 67.1min\n",
      "[Parallel(n_jobs=-1)]: Done 442 tasks      | elapsed: 120.6min\n",
      "[Parallel(n_jobs=-1)]: Done 500 out of 500 | elapsed: 129.3min finished\n"
     ]
    },
    {
     "data": {
      "text/plain": [
       "RandomizedSearchCV(cv=StratifiedKFold(n_splits=5, random_state=None, shuffle=False),\n",
       "                   estimator=Pipeline(steps=[('preprocessing',\n",
       "                                              ColumnTransformer(transformers=[('num',\n",
       "                                                                               Pipeline(steps=[('scale_data',\n",
       "                                                                                                MinMaxScaler())]),\n",
       "                                                                               Index(['FLIGHT_NUMBER', 'SCHEDULED_TIME', 'DISTANCE', 'DayOfWeek', 'Holidays'], dtype='object')),\n",
       "                                                                              ('cat',\n",
       "                                                                               Pipeline(steps=[('encoder',\n",
       "                                                                                                OneHotEncode...\n",
       "                   n_iter=100, n_jobs=-1,\n",
       "                   param_distributions={'classifier__bootstrap': [True, False],\n",
       "                                        'classifier__max_depth': [10, 20, 30,\n",
       "                                                                  40, 50, 60,\n",
       "                                                                  70, 80, 90,\n",
       "                                                                  100, 110,\n",
       "                                                                  None],\n",
       "                                        'classifier__max_features': ['auto',\n",
       "                                                                     'sqrt'],\n",
       "                                        'classifier__min_samples_leaf': [1, 2,\n",
       "                                                                         4],\n",
       "                                        'classifier__min_samples_split': [2, 5,\n",
       "                                                                          10],\n",
       "                                        'classifier__n_estimators': [200, 400,\n",
       "                                                                     600, 800,\n",
       "                                                                     1000, 1200,\n",
       "                                                                     1400, 1600,\n",
       "                                                                     1800,\n",
       "                                                                     2000]},\n",
       "                   random_state=42, verbose=5)"
      ]
     },
     "execution_count": 28,
     "metadata": {},
     "output_type": "execute_result"
    }
   ],
   "source": [
    "from sklearn.model_selection import RandomizedSearchCV# Number of trees in random forest\n",
    "n_estimators = [int(x) for x in np.linspace(start = 200, stop = 2000, num = 10)]\n",
    "# Number of features to consider at every split\n",
    "max_features = ['auto', 'sqrt']\n",
    "# Maximum number of levels in tree\n",
    "max_depth = [int(x) for x in np.linspace(10, 110, num = 11)]\n",
    "max_depth.append(None)\n",
    "# Minimum number of samples required to split a node\n",
    "min_samples_split = [2, 5, 10]\n",
    "# Minimum number of samples required at each leaf node\n",
    "min_samples_leaf = [1, 2, 4]\n",
    "# Method of selecting samples for training each tree\n",
    "bootstrap = [True, False]# Create the random grid\n",
    "random_grid = {'classifier__n_estimators': n_estimators,\n",
    "               'classifier__max_features': max_features,\n",
    "               'classifier__max_depth': max_depth,\n",
    "               'classifier__min_samples_split': min_samples_split,\n",
    "               'classifier__min_samples_leaf': min_samples_leaf,\n",
    "               'classifier__bootstrap': bootstrap}\n",
    "\n",
    "\n",
    "pipe = Pipeline([('preprocessing', transformer), ('classifier', RandomForestClassifier())])\n",
    "\n",
    "\n",
    "rnd_clsf = RandomizedSearchCV(pipe, param_distributions=random_grid, n_iter = 100, cv = kfold, verbose=5, random_state=42, n_jobs = -1)\n",
    "# Warning! It takes really long time to compute this about 2 days\n",
    "rnd_clsf.fit(X_train, y_train)\n",
    "\n",
    "\n",
    "#sorted(rnd_clsf.cv_results_.keys())\n",
    "#classifier = rnd_clsf.best_estimator_\n",
    "#params = rnd_clsf.best_params_\n",
    "#scores = rnd_clsf.cv_results_['mean_test_score'].reshape(len(C_range),\n",
    "#                                                     len(gamma_range))\n",
    "\n"
   ]
  },
  {
   "cell_type": "code",
   "execution_count": 39,
   "metadata": {},
   "outputs": [
    {
     "name": "stdout",
     "output_type": "stream",
     "text": [
      "roc_auc_score: 0.609085240209392\n"
     ]
    }
   ],
   "source": [
    "print(\"roc_auc_score: {}\".format( metrics.roc_auc_score(y_test , rnd_clsf.predict_proba(X_test)[:,1]) ))"
   ]
  },
  {
   "cell_type": "code",
   "execution_count": 31,
   "metadata": {},
   "outputs": [
    {
     "data": {
      "text/plain": [
       "['filename.pkl']"
      ]
     },
     "execution_count": 31,
     "metadata": {},
     "output_type": "execute_result"
    }
   ],
   "source": [
    "import joblib\n",
    "joblib.dump(rnd_clsf.best_estimator_, 'filename.pkl')"
   ]
  },
  {
   "cell_type": "code",
   "execution_count": 54,
   "metadata": {},
   "outputs": [
    {
     "ename": "NameError",
     "evalue": "name 'grid_5' is not defined",
     "output_type": "error",
     "traceback": [
      "\u001b[1;31m---------------------------------------------------------------------------\u001b[0m",
      "\u001b[1;31mNameError\u001b[0m                                 Traceback (most recent call last)",
      "\u001b[1;32m<ipython-input-54-ebf561293ecd>\u001b[0m in \u001b[0;36m<module>\u001b[1;34m\u001b[0m\n\u001b[0;32m      4\u001b[0m \u001b[0mmodels\u001b[0m\u001b[1;33m.\u001b[0m\u001b[0mappend\u001b[0m\u001b[1;33m(\u001b[0m\u001b[1;33m(\u001b[0m\u001b[1;34m'RandomForestClassifier'\u001b[0m\u001b[1;33m,\u001b[0m \u001b[0mgrid_3\u001b[0m\u001b[1;33m.\u001b[0m\u001b[0mbest_estimator_\u001b[0m\u001b[1;33m)\u001b[0m\u001b[1;33m)\u001b[0m\u001b[1;33m\u001b[0m\u001b[1;33m\u001b[0m\u001b[0m\n\u001b[0;32m      5\u001b[0m \u001b[0mmodels\u001b[0m\u001b[1;33m.\u001b[0m\u001b[0mappend\u001b[0m\u001b[1;33m(\u001b[0m\u001b[1;33m(\u001b[0m\u001b[1;34m'DecisionTreeClassifier'\u001b[0m\u001b[1;33m,\u001b[0m \u001b[0mgrid_4\u001b[0m\u001b[1;33m.\u001b[0m\u001b[0mbest_estimator_\u001b[0m\u001b[1;33m)\u001b[0m\u001b[1;33m)\u001b[0m\u001b[1;33m\u001b[0m\u001b[1;33m\u001b[0m\u001b[0m\n\u001b[1;32m----> 6\u001b[1;33m \u001b[0mmodels\u001b[0m\u001b[1;33m.\u001b[0m\u001b[0mappend\u001b[0m\u001b[1;33m(\u001b[0m\u001b[1;33m(\u001b[0m\u001b[1;34m'BaggingClassifier'\u001b[0m\u001b[1;33m,\u001b[0m \u001b[0mgrid_5\u001b[0m\u001b[1;33m.\u001b[0m\u001b[0mbest_estimator_\u001b[0m\u001b[1;33m)\u001b[0m\u001b[1;33m)\u001b[0m\u001b[1;33m\u001b[0m\u001b[1;33m\u001b[0m\u001b[0m\n\u001b[0m\u001b[0;32m      7\u001b[0m \u001b[0mmodels\u001b[0m\u001b[1;33m.\u001b[0m\u001b[0mappend\u001b[0m\u001b[1;33m(\u001b[0m\u001b[1;33m(\u001b[0m\u001b[1;34m'RandomForestClassifier_Random_Search'\u001b[0m\u001b[1;33m,\u001b[0m \u001b[0mrnd_clsf\u001b[0m\u001b[1;33m.\u001b[0m\u001b[0mbest_estimator_\u001b[0m\u001b[1;33m)\u001b[0m\u001b[1;33m)\u001b[0m\u001b[1;33m\u001b[0m\u001b[1;33m\u001b[0m\u001b[0m\n\u001b[0;32m      8\u001b[0m \u001b[1;33m\u001b[0m\u001b[0m\n",
      "\u001b[1;31mNameError\u001b[0m: name 'grid_5' is not defined"
     ]
    }
   ],
   "source": [
    "\n",
    "\n",
    "models = []\n",
    "models.append(('LR', grid_1.best_estimator_))\n",
    "models.append(('SVM linear', grid_2.best_estimator_))\n",
    "models.append(('RandomForestClassifier', grid_3.best_estimator_))\n",
    "models.append(('DecisionTreeClassifier', grid_4.best_estimator_))\n",
    "models.append(('BaggingClassifier', grid_5.best_estimator_))\n",
    "models.append(('RandomForestClassifier_Random_Search', rnd_clsf.best_estimator_))\n",
    "\n",
    "\n",
    "precision_score = []\n",
    "recall_score = []\n",
    "f1_score = []\n",
    "accuracy_score = []\n",
    "roc_auc_score = []\n",
    "for name, model in models:\n",
    "    print(name)\n",
    "    print(\"precision_score: {}\".format(metrics.precision_score(y_test , model.predict(X_test)) ))\n",
    "    print(\"recall_score: {}\".format( metrics.recall_score(y_test , model.predict(X_test)) ))\n",
    "    print(\"f1_score: {}\".format( metrics.f1_score(y_test , model.predict(X_test)) ))\n",
    "    print(\"accuracy_score: {}\".format( metrics.accuracy_score(y_test , model.predict(X_test)) ))\n",
    "    \n",
    "    if (name == 'SVM linear'):\n",
    "        print(\"roc_auc_score: {}\".format( metrics.roc_auc_score(y_test , model.decision_function(X_test)) ))            \n",
    "    else:\n",
    "        print(\"roc_auc_score: {}\".format( metrics.roc_auc_score(y_test , model.predict_proba(X_test)[:,1]) ))\n",
    "    \n",
    "    precision_score.append(metrics.precision_score(y_test , model.predict(X_test)))\n",
    "    recall_score.append(metrics.recall_score(y_test , model.predict(X_test)))\n",
    "    f1_score.append( metrics.f1_score(y_test , model.predict(X_test)))\n",
    "    accuracy_score.append(metrics.accuracy_score(y_test , model.predict(X_test)))\n",
    "    if (name == 'SVM linear'):\n",
    "        roc_auc_score.append(metrics.roc_auc_score(y_test , model.decision_function(X_test)))        \n",
    "    else:    \n",
    "        roc_auc_score.append(metrics.roc_auc_score(y_test , model.predict_proba(X_test)[:,1]))"
   ]
  },
  {
   "cell_type": "markdown",
   "metadata": {},
   "source": [
    "Best algorithm for model 2 classificaiton problem is Random Forest with Random HyperParameters Search. Unfortuatly this model is having only 60% score accuracy. It turned out that best model is model 1 with 91% of accuracy of flight delay problem."
   ]
  },
  {
   "cell_type": "code",
   "execution_count": null,
   "metadata": {},
   "outputs": [],
   "source": []
  }
 ],
 "metadata": {
  "colab": {
   "collapsed_sections": [],
   "name": "Flights_delays.ipynb",
   "provenance": []
  },
  "kernelspec": {
   "display_name": "Python 3",
   "language": "python",
   "name": "python3"
  },
  "language_info": {
   "codemirror_mode": {
    "name": "ipython",
    "version": 3
   },
   "file_extension": ".py",
   "mimetype": "text/x-python",
   "name": "python",
   "nbconvert_exporter": "python",
   "pygments_lexer": "ipython3",
   "version": "3.8.6"
  }
 },
 "nbformat": 4,
 "nbformat_minor": 4
}
